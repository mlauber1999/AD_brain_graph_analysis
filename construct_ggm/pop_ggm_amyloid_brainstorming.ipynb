{
 "cells": [
  {
   "cell_type": "code",
   "execution_count": 1,
   "metadata": {},
   "outputs": [],
   "source": [
    "import numpy as np\n",
    "import pandas as pd\n",
    "import matplotlib.pyplot as plt\n",
    "import glob \n",
    "import os\n",
    "import warnings\n",
    "import networkx as nx\n",
    "import matplotlib.colors as mcolors\n",
    "warnings.simplefilter(action='ignore', category=FutureWarning)\n",
    "from scipy.stats import pearsonr\n",
    "from sklearn.covariance import GraphicalLassoCV\n",
    "from networkx.generators.community import gaussian_random_partition_graph\n",
    "import scipy.stats as stats\n",
    "from scipy.stats import ttest_ind\n",
    "import nibabel as nib \n",
    "import seaborn as sns\n",
    "from sklearn.preprocessing import StandardScaler\n",
    "from tqdm import tqdm\n",
    "pd.options.display.max_rows = None\n",
    "pd.options.display.max_columns = None\n",
    "import glob as glob\n",
    "import math\n",
    "\n",
    "\n",
    "#set random generator outside loop \n",
    "#seed everytrhing once at begibning and dont touch it \n",
    "np.random.seed(3)"
   ]
  },
  {
   "attachments": {},
   "cell_type": "markdown",
   "metadata": {},
   "source": [
    "#### For tau graphs, just do these steps, but on Tau suvr, stratify by amyloid status\n",
    "\n",
    "- For stratifying by amyloid status,  Royse 2021 Validation of PET positivity thresholds in centiloids established that 21 (or 20) is about so use this"
   ]
  },
  {
   "attachments": {},
   "cell_type": "markdown",
   "metadata": {},
   "source": [
    "#### General steps \n",
    "#### 1. Read mri_pet/pet_prediciton_mldataframe.csv (which has info on gmv, amyloid centilod, and demographics)\n",
    "- these are ~ 800 ADNI patients \n",
    "-  df['CENTILOIDS'] has amyloid centiloid value for now can just 24 as the threshold for amyloid pos and neg patients\n",
    "- it also has freesurfer volumes by region \n",
    "\n",
    "- dx 1= nc, 2 = mci, 3 = AD "
   ]
  },
  {
   "cell_type": "code",
   "execution_count": 2,
   "metadata": {},
   "outputs": [],
   "source": [
    "df = pd.read_csv(\"/home/mlauber/mci_mri_graph/construct_ggm/ml_dataframe.csv\")"
   ]
  },
  {
   "cell_type": "code",
   "execution_count": 3,
   "metadata": {},
   "outputs": [],
   "source": [
    "#look for and load in the A4 dataset because I think it has more patients"
   ]
  },
  {
   "cell_type": "code",
   "execution_count": 4,
   "metadata": {},
   "outputs": [
    {
     "name": "stdout",
     "output_type": "stream",
     "text": [
      "793\n",
      "Index(['RID', 'PTGENDER', 'PTEDUCAT', 'PTTLANG', 'PTETHCAT', 'PTRACCAT',\n",
      "       'AGE_MRI', 'DIAGNOSIS', 'Q1SCORE', 'Q4SCORE',\n",
      "       ...\n",
      "       'MMSE3', 'MMSE4', 'MMSE5', 'MMSE6', 'MMSE7', 'META_TEMPORAL',\n",
      "       'MESIAL_TEMPORAL', 'TEMPO_PARIETAL', 'FRONTAL', 'NEOCORTICAL'],\n",
      "      dtype='object', length=202)\n"
     ]
    }
   ],
   "source": [
    "print(len(df))\n",
    "print(df.columns)"
   ]
  },
  {
   "attachments": {},
   "cell_type": "markdown",
   "metadata": {},
   "source": [
    "- out of 793 patients \n",
    "- if cut off is 24 then \n",
    "- 339 amy pos\n",
    "- 454 amy neg\n",
    "\n",
    "- if cut off is 40 then \n",
    "- 256 pos : if I do quartiles then this is 64 patients in each quartile, could be kinda small, maybe use this as the replication dataset if possible \n",
    "- 526 neg "
   ]
  },
  {
   "cell_type": "code",
   "execution_count": 11,
   "metadata": {},
   "outputs": [
    {
     "name": "stdout",
     "output_type": "stream",
     "text": [
      "371\n",
      "422\n"
     ]
    }
   ],
   "source": [
    "#separate into pos and neg \n",
    "amy_pos = df[df['CENTILOIDS']>= 18]\n",
    "amy_neg = df[df['CENTILOIDS']< 18]\n",
    "\n",
    "# #if I use a stricter cut off of 40\n",
    "# amy_pos = df[df['CENTILOIDS']>= 40]\n",
    "# amy_neg = df[df['CENTILOIDS']< 40]\n",
    "print(len(amy_pos))\n",
    "print(len(amy_neg))"
   ]
  },
  {
   "cell_type": "code",
   "execution_count": 12,
   "metadata": {},
   "outputs": [
    {
     "data": {
      "text/plain": [
       "92.75"
      ]
     },
     "execution_count": 12,
     "metadata": {},
     "output_type": "execute_result"
    }
   ],
   "source": [
    "371 / 4"
   ]
  },
  {
   "attachments": {},
   "cell_type": "markdown",
   "metadata": {},
   "source": [
    "#### 2. Run and train separate graphical models for amyloid+ and amyloid- populations"
   ]
  },
  {
   "attachments": {},
   "cell_type": "markdown",
   "metadata": {},
   "source": [
    "##### I. Prepare data steps:\n",
    "- a. need drop all non brain region vol cols - keep only brain regions \n",
    "- also drop the left and right ones "
   ]
  },
  {
   "cell_type": "code",
   "execution_count": 7,
   "metadata": {},
   "outputs": [
    {
     "name": "stdout",
     "output_type": "stream",
     "text": [
      "Index(['META_TEMPORAL_VOLUME', 'CTX_ENTORHINAL_VOLUME',\n",
      "       'INFERIOR_CEREBGM_VOLUME', 'HEMIWM_VOLUME', 'BRAIN_STEM_VOLUME',\n",
      "       'CHOROID_VOLUME', 'MIDDLEFR_VOLUME', 'ORBITOFR_VOLUME', 'PARSFR_VOLUME',\n",
      "       'CTX_BANKSSTS_VOLUME',\n",
      "       ...\n",
      "       'LEFT_CAUDATE_VOLUME', 'LEFT_PALLIDUM_VOLUME', 'LEFT_PUTAMEN_VOLUME',\n",
      "       'LEFT_THALAMUS_PROPER_VOLUME', 'RIGHT_ACCUMBENS_AREA_VOLUME',\n",
      "       'RIGHT_AMYGDALA_VOLUME', 'RIGHT_CAUDATE_VOLUME',\n",
      "       'RIGHT_PALLIDUM_VOLUME', 'RIGHT_PUTAMEN_VOLUME',\n",
      "       'RIGHT_THALAMUS_PROPER_VOLUME'],\n",
      "      dtype='object', length=110)\n"
     ]
    }
   ],
   "source": [
    "#do some reg ex search for _VOLUME\n",
    "def filter_regions(df):\n",
    "    filtered_df = df.filter(regex='_VOLUME$')\n",
    "    return filtered_df\n",
    "\n",
    "amy_pos_reg = filter_regions(amy_pos)\n",
    "amy_neg_reg = filter_regions(amy_neg)\n",
    "amy_pos_reg.to_csv('amy_pos_regions.csv')\n",
    "amy_neg_reg.to_csv('amy_neg_reg.csv')\n",
    "print(amy_neg_reg.columns)"
   ]
  },
  {
   "cell_type": "code",
   "execution_count": 8,
   "metadata": {},
   "outputs": [
    {
     "name": "stdout",
     "output_type": "stream",
     "text": [
      "202\n"
     ]
    }
   ],
   "source": [
    "print(len(amy_pos.columns))"
   ]
  },
  {
   "cell_type": "code",
   "execution_count": 9,
   "metadata": {},
   "outputs": [
    {
     "name": "stdout",
     "output_type": "stream",
     "text": [
      "Index(['META_TEMPORAL_VOLUME', 'INFERIOR_CEREBGM_VOLUME', 'HEMIWM_VOLUME',\n",
      "       'BRAIN_STEM_VOLUME', 'CHOROID_VOLUME', 'MIDDLEFR_VOLUME',\n",
      "       'ORBITOFR_VOLUME', 'PARSFR_VOLUME', 'CTX_BANKSSTS_VOLUME',\n",
      "       'CTX_CAUDALANTERIORCINGULATE_VOLUME', 'CTX_CUNEUS_VOLUME',\n",
      "       'CTX_FUSIFORM_VOLUME', 'CTX_INFERIORPARIETAL_VOLUME',\n",
      "       'CTX_INFERIORTEMPORAL_VOLUME', 'CTX_INSULA_VOLUME',\n",
      "       'CTX_ISTHMUSCINGULATE_VOLUME', 'CTX_LATERALOCCIPITAL_VOLUME',\n",
      "       'CTX_LINGUAL_VOLUME', 'CTX_MIDDLETEMPORAL_VOLUME',\n",
      "       'CTX_PARACENTRAL_VOLUME', 'CTX_PARAHIPPOCAMPAL_VOLUME',\n",
      "       'CTX_PERICALCARINE_VOLUME', 'CTX_POSTCENTRAL_VOLUME',\n",
      "       'CTX_POSTERIORCINGULATE_VOLUME', 'CTX_PRECENTRAL_VOLUME',\n",
      "       'CTX_PRECUNEUS_VOLUME', 'CTX_ROSTRALANTERIORCINGULATE_VOLUME',\n",
      "       'CTX_SUPERIORFRONTAL_VOLUME', 'CTX_SUPERIORPARIETAL_VOLUME',\n",
      "       'CTX_SUPERIORTEMPORAL_VOLUME', 'CTX_SUPRAMARGINAL_VOLUME',\n",
      "       'CTX_TEMPORALPOLE_VOLUME', 'CTX_TRANSVERSETEMPORAL_VOLUME',\n",
      "       'ACCUMBENS_AREA_VOLUME', 'AMYGDALA_VOLUME', 'CAUDATE_VOLUME',\n",
      "       'PALLIDUM_VOLUME', 'PUTAMEN_VOLUME', 'THALAMUS_PROPER_VOLUME'],\n",
      "      dtype='object')\n",
      "39\n"
     ]
    }
   ],
   "source": [
    "#drop left and right because some are redudant \n",
    "#something like if LEFT_ RIGHT_ or LH or RH\n",
    "def filter_left_right(df):\n",
    "    columns_to_keep = [col for col in df.columns if 'LEFT' not in col and 'RIGHT' not in col and 'LH' not in col and 'RH' not in col]\n",
    "    return df[columns_to_keep]\n",
    "\n",
    "# Assuming you have data in amy_pos_reg and amy_neg_reg\n",
    "amy_pos_reg_comb = filter_left_right(amy_pos_reg)\n",
    "amy_neg_reg_comb = filter_left_right(amy_neg_reg)\n",
    "\n",
    "amy_pos_reg_comb.to_csv('amy_pos_reg_dropleftright.csv')\n",
    "amy_neg_reg_comb.to_csv('amy_neg_reg_dropleftright.csv')\n",
    "\n",
    "print(amy_pos_reg_comb.columns)\n",
    "print(len(amy_pos_reg_comb.columns))\n",
    "\n"
   ]
  },
  {
   "attachments": {},
   "cell_type": "markdown",
   "metadata": {},
   "source": [
    "- b. find out if there are any regions which have 0 volume or rows where there is no entry "
   ]
  },
  {
   "cell_type": "code",
   "execution_count": null,
   "metadata": {},
   "outputs": [],
   "source": []
  },
  {
   "attachments": {},
   "cell_type": "markdown",
   "metadata": {},
   "source": [
    "- c. normalize the data "
   ]
  },
  {
   "attachments": {},
   "cell_type": "markdown",
   "metadata": {},
   "source": [
    "- d. check that there are no null values "
   ]
  },
  {
   "attachments": {},
   "cell_type": "markdown",
   "metadata": {},
   "source": [
    "##### II. Create bootstrap samples and run model for amy pos"
   ]
  },
  {
   "attachments": {},
   "cell_type": "markdown",
   "metadata": {},
   "source": [
    "- a. create boot strap samples "
   ]
  },
  {
   "attachments": {},
   "cell_type": "markdown",
   "metadata": {},
   "source": [
    "- b. run model "
   ]
  },
  {
   "attachments": {},
   "cell_type": "markdown",
   "metadata": {},
   "source": [
    "- c. calc metrics "
   ]
  },
  {
   "attachments": {},
   "cell_type": "markdown",
   "metadata": {},
   "source": [
    "##### III. Create bootstrap samples and run model for amy neg"
   ]
  },
  {
   "attachments": {},
   "cell_type": "markdown",
   "metadata": {},
   "source": [
    "- a. create boot strap samples "
   ]
  },
  {
   "attachments": {},
   "cell_type": "markdown",
   "metadata": {},
   "source": [
    "- b. run model "
   ]
  },
  {
   "attachments": {},
   "cell_type": "markdown",
   "metadata": {},
   "source": [
    "- c. calc metrics "
   ]
  },
  {
   "attachments": {},
   "cell_type": "markdown",
   "metadata": {},
   "source": [
    "##### IV. Compare graph metrics using t test "
   ]
  },
  {
   "attachments": {},
   "cell_type": "markdown",
   "metadata": {},
   "source": [
    "##### Later can Use GMM (2 components) to stratify patients into amyloid pos and neg \n",
    "- example code in mri_pet/pet_predicition_mldataframe.csv\n",
    "- do thresholding on normal cognition "
   ]
  }
 ],
 "metadata": {
  "kernelspec": {
   "display_name": "graph_env",
   "language": "python",
   "name": "python3"
  },
  "language_info": {
   "codemirror_mode": {
    "name": "ipython",
    "version": 3
   },
   "file_extension": ".py",
   "mimetype": "text/x-python",
   "name": "python",
   "nbconvert_exporter": "python",
   "pygments_lexer": "ipython3",
   "version": "3.8.10"
  },
  "orig_nbformat": 4
 },
 "nbformat": 4,
 "nbformat_minor": 2
}
