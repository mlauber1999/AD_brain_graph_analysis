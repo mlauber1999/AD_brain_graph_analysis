{
 "cells": [
  {
   "cell_type": "code",
   "execution_count": 84,
   "metadata": {},
   "outputs": [],
   "source": [
    "import numpy as np\n",
    "import pandas as pd\n",
    "import matplotlib.pyplot as plt\n",
    "import os\n",
    "import warnings\n",
    "import networkx as nx\n",
    "import matplotlib.colors as mcolors\n",
    "# warnings.simplefilter(action='ignore', category=FutureWarning)\n",
    "# pd.options.display.max_rows = None\n",
    "# pd.options.display.max_columns = None\n",
    "import glob as glob\n",
    "import math"
   ]
  },
  {
   "attachments": {},
   "cell_type": "markdown",
   "metadata": {},
   "source": [
    "#### Task 1: \n",
    "##### Merge adni data - specifically the 'AMYLOID_STATUS' and \"CENTILOIDS\" columns, maybe also 'TRACER' would be helpful to the tau SUVR csv UCBERKLEYAV1451_PVC_8mm_02_17_23_03Aug2023.csv\n",
    "* Need to merge tau SUVR csv UCBERKLEYAV1451_PVC_8mm_02_17_23_03Aug2023.csv with amyloid csv UCBERKLEY_AMY_6MM_03Aug2023.csv which has amy and centiloid status on rid and visit number because I think each patient will have multiple visits? "
   ]
  },
  {
   "attachments": {},
   "cell_type": "markdown",
   "metadata": {},
   "source": [
    "#### For ADNI data: \n",
    "* UCBERKLEY_AMY_6MM_03Aug2023.csv which has amy SUVR on rid and visit number because each patient has multiple visits \n",
    "* the PVC tau one also has multiple visits \n",
    "* For multiple visits, take the most recent?"
   ]
  },
  {
   "cell_type": "code",
   "execution_count": 85,
   "metadata": {},
   "outputs": [],
   "source": [
    "adni_tau = pd.read_csv(\"./adni/UCBERKELEYAV1451_PVC_8mm_02_17_23_03Aug2023.csv\")\n",
    "adni_amy = pd.read_csv(\"./adni/UCBERKELEY_AMY_6MM_05Oct2023.csv\")\n",
    "\n",
    "#merge these on RID \n",
    "\n"
   ]
  },
  {
   "cell_type": "code",
   "execution_count": 86,
   "metadata": {},
   "outputs": [
    {
     "name": "stdout",
     "output_type": "stream",
     "text": [
      "   RID VISCODE VISCODE2    EXAMDATE  META_TEMPORAL_SUVR  META_TEMPORAL_VOLUME  \\\n",
      "0   21    init     m144  2018-02-02               1.609               54073.0   \n",
      "1   31    init     m150  2018-04-24               1.576               55897.0   \n",
      "2   31      y1     m162  2019-04-23               1.508               53519.0   \n",
      "3   56    init     m144  2018-02-20               1.630               52891.0   \n",
      "4   56      y1     m156  2019-01-10               1.584               53341.0   \n",
      "5   56      y2     m168  2019-12-03               1.565               52625.0   \n",
      "6   59    init     m144  2017-12-12               1.599               49946.0   \n",
      "7   69    init     m144  2018-04-03               1.888               66055.0   \n",
      "8   69      y1     m156  2019-01-23               1.862               65950.0   \n",
      "9   69      y2     m168  2020-02-05               1.883               66520.0   \n",
      "\n",
      "   CTX_ENTORHINAL_SUVR  CTX_ENTORHINAL_VOLUME  INFERIOR_CEREBGM_SUVR  \\\n",
      "0                1.767                 2869.0                    1.0   \n",
      "1                2.333                 2558.0                    1.0   \n",
      "2                2.388                 2508.0                    1.0   \n",
      "3                2.102                 3809.0                    1.0   \n",
      "4                1.999                 3666.0                    1.0   \n",
      "5                2.004                 4053.0                    1.0   \n",
      "6                1.989                 2701.0                    1.0   \n",
      "7                2.008                 3495.0                    1.0   \n",
      "8                1.955                 3677.0                    1.0   \n",
      "9                1.836                 3587.0                    1.0   \n",
      "\n",
      "   INFERIOR_CEREBGM_VOLUME  ...  RIGHT_AMYGDALA_VOLUME  RIGHT_CAUDATE_SUVR  \\\n",
      "0                  55285.0  ...                 1462.0               1.608   \n",
      "1                  62344.0  ...                 1121.0               1.258   \n",
      "2                  61510.0  ...                 1093.0               1.172   \n",
      "3                  64415.0  ...                 1400.0               1.644   \n",
      "4                  63302.0  ...                 1454.0               1.624   \n",
      "5                  64094.0  ...                 1479.0               1.569   \n",
      "6                  65591.0  ...                 1485.0               1.373   \n",
      "7                  66076.0  ...                 1862.0               1.786   \n",
      "8                  63925.0  ...                 1932.0               1.719   \n",
      "9                  64048.0  ...                 1891.0               1.753   \n",
      "\n",
      "   RIGHT_CAUDATE_VOLUME  RIGHT_PALLIDUM_SUVR  RIGHT_PALLIDUM_VOLUME  \\\n",
      "0                2957.0                1.702                 1686.0   \n",
      "1                4931.0                1.708                 2189.0   \n",
      "2                4324.0                1.581                 2159.0   \n",
      "3                3206.0                1.831                 1558.0   \n",
      "4                3166.0                1.989                 1633.0   \n",
      "5                3150.0                1.804                 1756.0   \n",
      "6                2897.0                1.630                 1568.0   \n",
      "7                4159.0                1.985                 2339.0   \n",
      "8                3852.0                1.884                 2357.0   \n",
      "9                4088.0                1.867                 2170.0   \n",
      "\n",
      "   RIGHT_PUTAMEN_SUVR  RIGHT_PUTAMEN_VOLUME  RIGHT_THALAMUS_PROPER_SUVR  \\\n",
      "0               1.376                4169.0                       1.161   \n",
      "1               1.359                5766.0                       1.083   \n",
      "2               1.293                5537.0                       1.066   \n",
      "3               1.749                4026.0                       1.276   \n",
      "4               1.659                4145.0                       1.313   \n",
      "5               1.639                4141.0                       1.235   \n",
      "6               1.670                3726.0                       1.332   \n",
      "7               1.800                4709.0                       1.373   \n",
      "8               1.680                5089.0                       1.338   \n",
      "9               1.725                5341.0                       1.317   \n",
      "\n",
      "   RIGHT_THALAMUS_PROPER_VOLUME           update_stamp  \n",
      "0                        5874.0  2023-02-23 10:05:14.0  \n",
      "1                        6016.0  2023-02-23 10:05:14.0  \n",
      "2                        5865.0  2023-02-23 10:05:14.0  \n",
      "3                        6601.0  2023-02-23 10:05:14.0  \n",
      "4                        6349.0  2023-02-23 10:05:14.0  \n",
      "5                        6442.0  2023-02-23 10:05:14.0  \n",
      "6                        5890.0  2023-02-23 10:05:14.0  \n",
      "7                        6643.0  2023-02-23 10:05:14.0  \n",
      "8                        6790.0  2023-02-23 10:05:14.0  \n",
      "9                        7114.0  2023-02-23 10:05:14.0  \n",
      "\n",
      "[10 rows x 225 columns]\n"
     ]
    }
   ],
   "source": [
    "print(adni_tau.head(10))"
   ]
  },
  {
   "cell_type": "code",
   "execution_count": 87,
   "metadata": {},
   "outputs": [],
   "source": [
    "# #select last occurence of that RID to get most recent scan/centloid value \n",
    "# adni_amy_filtered = adni_amy.groupby('RID').tail(1)\n",
    "# adni_amy_filtered = adni_amy_filtered.reset_index(drop=True)\n",
    "# cols_to_keep = ['RID','SCANDATE','TRACER','CENTILOIDS']\n",
    "# adni_amy_filtered = adni_amy_filtered[cols_to_keep]\n",
    "# print(adni_amy_filtered)"
   ]
  },
  {
   "cell_type": "code",
   "execution_count": 88,
   "metadata": {},
   "outputs": [],
   "source": [
    "#function to filter the latest visit of a df \n",
    "def filter_latest_visit(df):\n",
    "    last_visit_df = df.groupby('RID').tail(1) #get the last occurance of that RID value \n",
    "    last_visit_df = last_visit_df.reset_index(drop=True)\n",
    "    return last_visit_df\n",
    "    "
   ]
  },
  {
   "cell_type": "code",
   "execution_count": 89,
   "metadata": {},
   "outputs": [],
   "source": [
    "adni_amy_filtered = filter_latest_visit(adni_amy)\n",
    "adni_tau_filtered = filter_latest_visit(adni_tau)"
   ]
  },
  {
   "cell_type": "code",
   "execution_count": 90,
   "metadata": {},
   "outputs": [
    {
     "name": "stdout",
     "output_type": "stream",
     "text": [
      "       RID    SCANDATE TRACER  CENTILOIDS\n",
      "0       21  2017-11-28    FBP         2.0\n",
      "1       23  2012-12-27    FBP        21.0\n",
      "2       31  2018-04-18    FBP        97.0\n",
      "3       35  2010-12-08    FBP        93.0\n",
      "4       42  2013-01-23    FBP        -4.0\n",
      "...    ...         ...    ...         ...\n",
      "1734  7083  2022-09-13    FBB        13.0\n",
      "1735  7089  2022-10-20    FBP         NaN\n",
      "1736  7100  2022-09-28    FBB        50.0\n",
      "1737  7105  2022-11-15    FBP       112.0\n",
      "1738  7114  2022-11-23    FBB        13.0\n",
      "\n",
      "[1739 rows x 4 columns]\n"
     ]
    }
   ],
   "source": [
    "#filter cols for adni amy filtered \n",
    "cols_to_keep = ['RID','SCANDATE','TRACER','CENTILOIDS']\n",
    "adni_amy_filtered = adni_amy_filtered[cols_to_keep]\n",
    "print(adni_amy_filtered)"
   ]
  },
  {
   "cell_type": "code",
   "execution_count": 91,
   "metadata": {},
   "outputs": [
    {
     "name": "stdout",
     "output_type": "stream",
     "text": [
      "      RID VISCODE VISCODE2    EXAMDATE  META_TEMPORAL_SUVR  \\\n",
      "0      21    init     m144  2018-02-02               1.609   \n",
      "1      31      y1     m162  2019-04-23               1.508   \n",
      "2      56      y2     m168  2019-12-03               1.565   \n",
      "3      59    init     m144  2017-12-12               1.599   \n",
      "4      69      y2     m168  2020-02-05               1.883   \n",
      "..    ...     ...      ...         ...                 ...   \n",
      "926  7074      bl       bl  2022-07-26               1.541   \n",
      "927  7079      bl       bl  2022-06-30               1.639   \n",
      "928  7083      bl       bl  2022-08-16               1.756   \n",
      "929  7088      bl       bl  2022-07-28               2.170   \n",
      "930  7092      bl       bl  2022-07-12               1.387   \n",
      "\n",
      "     META_TEMPORAL_VOLUME  CTX_ENTORHINAL_SUVR  CTX_ENTORHINAL_VOLUME  \\\n",
      "0                 54073.0                1.767                 2869.0   \n",
      "1                 53519.0                2.388                 2508.0   \n",
      "2                 52625.0                2.004                 4053.0   \n",
      "3                 49946.0                1.989                 2701.0   \n",
      "4                 66520.0                1.836                 3587.0   \n",
      "..                    ...                  ...                    ...   \n",
      "926               68337.0                1.653                 5614.0   \n",
      "927               61196.0                1.875                 2843.0   \n",
      "928               54032.0                3.445                 2579.0   \n",
      "929               63332.0                2.323                 3643.0   \n",
      "930               63243.0                1.589                 2983.0   \n",
      "\n",
      "     INFERIOR_CEREBGM_SUVR  INFERIOR_CEREBGM_VOLUME  ...  \\\n",
      "0                      1.0                  55285.0  ...   \n",
      "1                      1.0                  61510.0  ...   \n",
      "2                      1.0                  64094.0  ...   \n",
      "3                      1.0                  65591.0  ...   \n",
      "4                      1.0                  64048.0  ...   \n",
      "..                     ...                      ...  ...   \n",
      "926                    1.0                  66218.0  ...   \n",
      "927                    1.0                  57167.0  ...   \n",
      "928                    1.0                  74953.0  ...   \n",
      "929                    1.0                  69754.0  ...   \n",
      "930                    1.0                  65111.0  ...   \n",
      "\n",
      "     RIGHT_AMYGDALA_VOLUME  RIGHT_CAUDATE_SUVR  RIGHT_CAUDATE_VOLUME  \\\n",
      "0                   1462.0               1.608                2957.0   \n",
      "1                   1093.0               1.172                4324.0   \n",
      "2                   1479.0               1.569                3150.0   \n",
      "3                   1485.0               1.373                2897.0   \n",
      "4                   1891.0               1.753                4088.0   \n",
      "..                     ...                 ...                   ...   \n",
      "926                 1723.0               1.748                3233.0   \n",
      "927                 1411.0               1.640                2723.0   \n",
      "928                 1407.0               1.590                2551.0   \n",
      "929                 1403.0               1.334                2879.0   \n",
      "930                 1613.0               1.313                3673.0   \n",
      "\n",
      "     RIGHT_PALLIDUM_SUVR  RIGHT_PALLIDUM_VOLUME  RIGHT_PUTAMEN_SUVR  \\\n",
      "0                  1.702                 1686.0               1.376   \n",
      "1                  1.581                 2159.0               1.293   \n",
      "2                  1.804                 1756.0               1.639   \n",
      "3                  1.630                 1568.0               1.670   \n",
      "4                  1.867                 2170.0               1.725   \n",
      "..                   ...                    ...                 ...   \n",
      "926                1.795                 1765.0               1.786   \n",
      "927                1.670                 1616.0               1.706   \n",
      "928                2.013                 2202.0               1.806   \n",
      "929                1.425                 1829.0               1.297   \n",
      "930                1.292                 2045.0               1.262   \n",
      "\n",
      "     RIGHT_PUTAMEN_VOLUME  RIGHT_THALAMUS_PROPER_SUVR  \\\n",
      "0                  4169.0                       1.161   \n",
      "1                  5537.0                       1.066   \n",
      "2                  4141.0                       1.235   \n",
      "3                  3726.0                       1.332   \n",
      "4                  5341.0                       1.317   \n",
      "..                    ...                         ...   \n",
      "926                4293.0                       1.324   \n",
      "927                3840.0                       1.178   \n",
      "928                4182.0                       1.194   \n",
      "929                4273.0                       1.040   \n",
      "930                4129.0                       1.067   \n",
      "\n",
      "     RIGHT_THALAMUS_PROPER_VOLUME           update_stamp  \n",
      "0                          5874.0  2023-02-23 10:05:14.0  \n",
      "1                          5865.0  2023-02-23 10:05:14.0  \n",
      "2                          6442.0  2023-02-23 10:05:14.0  \n",
      "3                          5890.0  2023-02-23 10:05:14.0  \n",
      "4                          7114.0  2023-02-23 10:05:14.0  \n",
      "..                            ...                    ...  \n",
      "926                        6790.0  2023-02-23 10:05:18.0  \n",
      "927                        6231.0  2023-02-23 10:05:18.0  \n",
      "928                        6601.0  2023-02-23 10:05:18.0  \n",
      "929                        6894.0  2023-02-23 10:05:18.0  \n",
      "930                        6844.0  2023-02-23 10:05:18.0  \n",
      "\n",
      "[931 rows x 225 columns]\n"
     ]
    }
   ],
   "source": [
    "print(adni_tau_filtered)"
   ]
  },
  {
   "cell_type": "code",
   "execution_count": 92,
   "metadata": {},
   "outputs": [],
   "source": [
    "#define function to make sure there are no nans \n",
    "def drop_rows_with_any_nan(df):\n",
    "    \"\"\"\n",
    "    Drop rows with NaN values in any of the columns of a DataFrame.\n",
    "\n",
    "    Args:\n",
    "    df (pandas.DataFrame): The DataFrame to clean.\n",
    "\n",
    "    Returns:\n",
    "    pandas.DataFrame: The cleaned DataFrame with rows containing NaN values removed.\n",
    "    \"\"\"\n",
    "    cleaned_df = df.dropna()\n",
    "    return cleaned_df\n"
   ]
  },
  {
   "cell_type": "code",
   "execution_count": 93,
   "metadata": {},
   "outputs": [
    {
     "name": "stdout",
     "output_type": "stream",
     "text": [
      "      RID VISCODE VISCODE2    EXAMDATE  META_TEMPORAL_SUVR  \\\n",
      "0      21    init     m144  2018-02-02               1.609   \n",
      "1      31      y1     m162  2019-04-23               1.508   \n",
      "2      56      y2     m168  2019-12-03               1.565   \n",
      "3      59    init     m144  2017-12-12               1.599   \n",
      "4      69      y2     m168  2020-02-05               1.883   \n",
      "..    ...     ...      ...         ...                 ...   \n",
      "926  7074      bl       bl  2022-07-26               1.541   \n",
      "927  7079      bl       bl  2022-06-30               1.639   \n",
      "928  7083      bl       bl  2022-08-16               1.756   \n",
      "929  7088      bl       bl  2022-07-28               2.170   \n",
      "930  7092      bl       bl  2022-07-12               1.387   \n",
      "\n",
      "     META_TEMPORAL_VOLUME  CTX_ENTORHINAL_SUVR  CTX_ENTORHINAL_VOLUME  \\\n",
      "0                 54073.0                1.767                 2869.0   \n",
      "1                 53519.0                2.388                 2508.0   \n",
      "2                 52625.0                2.004                 4053.0   \n",
      "3                 49946.0                1.989                 2701.0   \n",
      "4                 66520.0                1.836                 3587.0   \n",
      "..                    ...                  ...                    ...   \n",
      "926               68337.0                1.653                 5614.0   \n",
      "927               61196.0                1.875                 2843.0   \n",
      "928               54032.0                3.445                 2579.0   \n",
      "929               63332.0                2.323                 3643.0   \n",
      "930               63243.0                1.589                 2983.0   \n",
      "\n",
      "     INFERIOR_CEREBGM_SUVR  INFERIOR_CEREBGM_VOLUME  ...  \\\n",
      "0                      1.0                  55285.0  ...   \n",
      "1                      1.0                  61510.0  ...   \n",
      "2                      1.0                  64094.0  ...   \n",
      "3                      1.0                  65591.0  ...   \n",
      "4                      1.0                  64048.0  ...   \n",
      "..                     ...                      ...  ...   \n",
      "926                    1.0                  66218.0  ...   \n",
      "927                    1.0                  57167.0  ...   \n",
      "928                    1.0                  74953.0  ...   \n",
      "929                    1.0                  69754.0  ...   \n",
      "930                    1.0                  65111.0  ...   \n",
      "\n",
      "     RIGHT_AMYGDALA_VOLUME  RIGHT_CAUDATE_SUVR  RIGHT_CAUDATE_VOLUME  \\\n",
      "0                   1462.0               1.608                2957.0   \n",
      "1                   1093.0               1.172                4324.0   \n",
      "2                   1479.0               1.569                3150.0   \n",
      "3                   1485.0               1.373                2897.0   \n",
      "4                   1891.0               1.753                4088.0   \n",
      "..                     ...                 ...                   ...   \n",
      "926                 1723.0               1.748                3233.0   \n",
      "927                 1411.0               1.640                2723.0   \n",
      "928                 1407.0               1.590                2551.0   \n",
      "929                 1403.0               1.334                2879.0   \n",
      "930                 1613.0               1.313                3673.0   \n",
      "\n",
      "     RIGHT_PALLIDUM_SUVR  RIGHT_PALLIDUM_VOLUME  RIGHT_PUTAMEN_SUVR  \\\n",
      "0                  1.702                 1686.0               1.376   \n",
      "1                  1.581                 2159.0               1.293   \n",
      "2                  1.804                 1756.0               1.639   \n",
      "3                  1.630                 1568.0               1.670   \n",
      "4                  1.867                 2170.0               1.725   \n",
      "..                   ...                    ...                 ...   \n",
      "926                1.795                 1765.0               1.786   \n",
      "927                1.670                 1616.0               1.706   \n",
      "928                2.013                 2202.0               1.806   \n",
      "929                1.425                 1829.0               1.297   \n",
      "930                1.292                 2045.0               1.262   \n",
      "\n",
      "     RIGHT_PUTAMEN_VOLUME  RIGHT_THALAMUS_PROPER_SUVR  \\\n",
      "0                  4169.0                       1.161   \n",
      "1                  5537.0                       1.066   \n",
      "2                  4141.0                       1.235   \n",
      "3                  3726.0                       1.332   \n",
      "4                  5341.0                       1.317   \n",
      "..                    ...                         ...   \n",
      "926                4293.0                       1.324   \n",
      "927                3840.0                       1.178   \n",
      "928                4182.0                       1.194   \n",
      "929                4273.0                       1.040   \n",
      "930                4129.0                       1.067   \n",
      "\n",
      "     RIGHT_THALAMUS_PROPER_VOLUME           update_stamp  \n",
      "0                          5874.0  2023-02-23 10:05:14.0  \n",
      "1                          5865.0  2023-02-23 10:05:14.0  \n",
      "2                          6442.0  2023-02-23 10:05:14.0  \n",
      "3                          5890.0  2023-02-23 10:05:14.0  \n",
      "4                          7114.0  2023-02-23 10:05:14.0  \n",
      "..                            ...                    ...  \n",
      "926                        6790.0  2023-02-23 10:05:18.0  \n",
      "927                        6231.0  2023-02-23 10:05:18.0  \n",
      "928                        6601.0  2023-02-23 10:05:18.0  \n",
      "929                        6894.0  2023-02-23 10:05:18.0  \n",
      "930                        6844.0  2023-02-23 10:05:18.0  \n",
      "\n",
      "[921 rows x 225 columns]\n"
     ]
    }
   ],
   "source": [
    "adni_amy_filtered = drop_rows_with_any_nan(adni_amy_filtered)\n",
    "adni_tau_filtered = drop_rows_with_any_nan(adni_tau_filtered)\n",
    "print(adni_tau_filtered)"
   ]
  },
  {
   "cell_type": "code",
   "execution_count": 94,
   "metadata": {},
   "outputs": [
    {
     "name": "stdout",
     "output_type": "stream",
     "text": [
      "[]\n"
     ]
    }
   ],
   "source": [
    "#check for nan values to double check the code worked \n",
    "nan_cols = adni_tau_filtered.isna().any()\n",
    "cols_with_nans = nan_cols[nan_cols].index.tolist()\n",
    "print(cols_with_nans)"
   ]
  },
  {
   "cell_type": "code",
   "execution_count": 95,
   "metadata": {},
   "outputs": [
    {
     "name": "stdout",
     "output_type": "stream",
     "text": [
      "      RID    SCANDATE TRACER  CENTILOIDS VISCODE VISCODE2    EXAMDATE  \\\n",
      "0      21  2017-11-28    FBP         2.0    init     m144  2018-02-02   \n",
      "1      31  2018-04-18    FBP        97.0      y1     m162  2019-04-23   \n",
      "2      56  2019-12-04    FBP       -12.0      y2     m168  2019-12-03   \n",
      "3      59  2019-12-20    FBP        -1.0    init     m144  2017-12-12   \n",
      "4      69  2020-01-23    FBP        -2.0      y2     m168  2020-02-05   \n",
      "..    ...         ...    ...         ...     ...      ...         ...   \n",
      "898  6580  2022-10-13    FBB       142.0      y2      m24  2020-10-09   \n",
      "899  6581  2022-12-07    FBB        28.0      bl       bl  2018-09-21   \n",
      "900  6586  2022-10-25    FBB        40.0      y2      m24  2020-10-15   \n",
      "901  6889  2022-10-26    FBB        -5.0      bl       bl  2020-10-16   \n",
      "902  7083  2022-09-13    FBB        13.0      bl       bl  2022-08-16   \n",
      "\n",
      "     META_TEMPORAL_SUVR  META_TEMPORAL_VOLUME  CTX_ENTORHINAL_SUVR  ...  \\\n",
      "0                 1.609               54073.0                1.767  ...   \n",
      "1                 1.508               53519.0                2.388  ...   \n",
      "2                 1.565               52625.0                2.004  ...   \n",
      "3                 1.599               49946.0                1.989  ...   \n",
      "4                 1.883               66520.0                1.836  ...   \n",
      "..                  ...                   ...                  ...  ...   \n",
      "898               1.739               55950.0                2.305  ...   \n",
      "899               1.484               69235.0                1.779  ...   \n",
      "900               1.337               68753.0                1.373  ...   \n",
      "901               1.577               71830.0                1.906  ...   \n",
      "902               1.756               54032.0                3.445  ...   \n",
      "\n",
      "     RIGHT_AMYGDALA_VOLUME  RIGHT_CAUDATE_SUVR  RIGHT_CAUDATE_VOLUME  \\\n",
      "0                   1462.0               1.608                2957.0   \n",
      "1                   1093.0               1.172                4324.0   \n",
      "2                   1479.0               1.569                3150.0   \n",
      "3                   1485.0               1.373                2897.0   \n",
      "4                   1891.0               1.753                4088.0   \n",
      "..                     ...                 ...                   ...   \n",
      "898                 1522.0               1.366                3841.0   \n",
      "899                 1909.0               1.307                3826.0   \n",
      "900                 1840.0               1.321                4512.0   \n",
      "901                 2231.0               1.366                3957.0   \n",
      "902                 1407.0               1.590                2551.0   \n",
      "\n",
      "     RIGHT_PALLIDUM_SUVR  RIGHT_PALLIDUM_VOLUME  RIGHT_PUTAMEN_SUVR  \\\n",
      "0                  1.702                 1686.0               1.376   \n",
      "1                  1.581                 2159.0               1.293   \n",
      "2                  1.804                 1756.0               1.639   \n",
      "3                  1.630                 1568.0               1.670   \n",
      "4                  1.867                 2170.0               1.725   \n",
      "..                   ...                    ...                 ...   \n",
      "898                1.623                 1753.0               1.590   \n",
      "899                1.687                 1780.0               1.427   \n",
      "900                1.851                 1888.0               1.618   \n",
      "901                1.426                 2114.0               1.352   \n",
      "902                2.013                 2202.0               1.806   \n",
      "\n",
      "     RIGHT_PUTAMEN_VOLUME  RIGHT_THALAMUS_PROPER_SUVR  \\\n",
      "0                  4169.0                       1.161   \n",
      "1                  5537.0                       1.066   \n",
      "2                  4141.0                       1.235   \n",
      "3                  3726.0                       1.332   \n",
      "4                  5341.0                       1.317   \n",
      "..                    ...                         ...   \n",
      "898                4055.0                       1.233   \n",
      "899                4718.0                       1.058   \n",
      "900                4156.0                       0.932   \n",
      "901                5548.0                       1.329   \n",
      "902                4182.0                       1.194   \n",
      "\n",
      "     RIGHT_THALAMUS_PROPER_VOLUME           update_stamp  \n",
      "0                          5874.0  2023-02-23 10:05:14.0  \n",
      "1                          5865.0  2023-02-23 10:05:14.0  \n",
      "2                          6442.0  2023-02-23 10:05:14.0  \n",
      "3                          5890.0  2023-02-23 10:05:14.0  \n",
      "4                          7114.0  2023-02-23 10:05:14.0  \n",
      "..                            ...                    ...  \n",
      "898                        6444.0  2023-02-23 10:05:17.0  \n",
      "899                        8301.0  2023-02-23 10:05:17.0  \n",
      "900                        5919.0  2023-02-23 10:05:17.0  \n",
      "901                        9422.0  2023-02-23 10:05:18.0  \n",
      "902                        6601.0  2023-02-23 10:05:18.0  \n",
      "\n",
      "[903 rows x 228 columns]\n"
     ]
    }
   ],
   "source": [
    "#now merge the two dfs on RID only keeping rows where that RID is present in both data frames \n",
    "merged_adni_at = pd.merge(adni_amy_filtered,adni_tau_filtered, on=\"RID\")\n",
    "print(merged_adni_at)\n",
    "#903 patients with both amy and tau pathology \n",
    "\n"
   ]
  },
  {
   "cell_type": "code",
   "execution_count": 96,
   "metadata": {},
   "outputs": [
    {
     "name": "stdout",
     "output_type": "stream",
     "text": [
      "      RID    SCANDATE TRACER  CENTILOIDS VISCODE VISCODE2    EXAMDATE  \\\n",
      "1      31  2018-04-18    FBP        97.0      y1     m162  2019-04-23   \n",
      "7     112  2017-07-07    FBP        89.0      y1     m150  2018-08-13   \n",
      "8     120  2017-09-26    FBP        32.0    init     m132  2017-09-13   \n",
      "10    142  2015-02-04    FBP       107.0     v41     m120  2016-04-14   \n",
      "13    210  2018-03-07    FBP        54.0    init     m138  2018-03-13   \n",
      "..    ...         ...    ...         ...     ...      ...         ...   \n",
      "896  6572  2022-10-26    FBB       115.0      y2      m24  2020-09-30   \n",
      "897  6575  2022-11-30    FBB        89.0      y2      m24  2021-01-20   \n",
      "898  6580  2022-10-13    FBB       142.0      y2      m24  2020-10-09   \n",
      "899  6581  2022-12-07    FBB        28.0      bl       bl  2018-09-21   \n",
      "900  6586  2022-10-25    FBB        40.0      y2      m24  2020-10-15   \n",
      "\n",
      "     META_TEMPORAL_SUVR  META_TEMPORAL_VOLUME  CTX_ENTORHINAL_SUVR  ...  \\\n",
      "1                 1.508               53519.0                2.388  ...   \n",
      "7                 2.223               67012.0                2.546  ...   \n",
      "8                 1.671               68181.0                1.894  ...   \n",
      "10                1.920               43362.0                2.308  ...   \n",
      "13                1.842               54013.0                1.888  ...   \n",
      "..                  ...                   ...                  ...  ...   \n",
      "896               2.185               63183.0                2.314  ...   \n",
      "897               1.551               84748.0                2.029  ...   \n",
      "898               1.739               55950.0                2.305  ...   \n",
      "899               1.484               69235.0                1.779  ...   \n",
      "900               1.337               68753.0                1.373  ...   \n",
      "\n",
      "     RIGHT_AMYGDALA_VOLUME  RIGHT_CAUDATE_SUVR  RIGHT_CAUDATE_VOLUME  \\\n",
      "1                   1093.0               1.172                4324.0   \n",
      "7                   1310.0               1.224                4322.0   \n",
      "8                   1942.0               1.381                3835.0   \n",
      "10                   826.0               1.312                2791.0   \n",
      "13                  1416.0               1.166                3403.0   \n",
      "..                     ...                 ...                   ...   \n",
      "896                 1461.0               1.549                4959.0   \n",
      "897                 1853.0               1.287                3813.0   \n",
      "898                 1522.0               1.366                3841.0   \n",
      "899                 1909.0               1.307                3826.0   \n",
      "900                 1840.0               1.321                4512.0   \n",
      "\n",
      "     RIGHT_PALLIDUM_SUVR  RIGHT_PALLIDUM_VOLUME  RIGHT_PUTAMEN_SUVR  \\\n",
      "1                  1.581                 2159.0               1.293   \n",
      "7                  1.631                 2377.0               1.821   \n",
      "8                  1.282                 1998.0               1.376   \n",
      "10                 1.553                 1412.0               1.423   \n",
      "13                 1.488                 1621.0               1.353   \n",
      "..                   ...                    ...                 ...   \n",
      "896                1.623                 2036.0               1.239   \n",
      "897                1.516                 2121.0               1.369   \n",
      "898                1.623                 1753.0               1.590   \n",
      "899                1.687                 1780.0               1.427   \n",
      "900                1.851                 1888.0               1.618   \n",
      "\n",
      "     RIGHT_PUTAMEN_VOLUME  RIGHT_THALAMUS_PROPER_SUVR  \\\n",
      "1                  5537.0                       1.066   \n",
      "7                  4793.0                       1.310   \n",
      "8                  4502.0                       1.136   \n",
      "10                 2098.0                       1.071   \n",
      "13                 4787.0                       1.133   \n",
      "..                    ...                         ...   \n",
      "896                5069.0                       1.172   \n",
      "897                4485.0                       1.077   \n",
      "898                4055.0                       1.233   \n",
      "899                4718.0                       1.058   \n",
      "900                4156.0                       0.932   \n",
      "\n",
      "     RIGHT_THALAMUS_PROPER_VOLUME           update_stamp  \n",
      "1                          5865.0  2023-02-23 10:05:14.0  \n",
      "7                          7635.0  2023-02-23 10:05:14.0  \n",
      "8                          6424.0  2023-02-23 10:05:14.0  \n",
      "10                         5104.0  2023-02-23 10:05:14.0  \n",
      "13                         6694.0  2023-02-23 10:05:14.0  \n",
      "..                            ...                    ...  \n",
      "896                        7276.0  2023-02-23 10:05:17.0  \n",
      "897                        8000.0  2023-02-23 10:05:17.0  \n",
      "898                        6444.0  2023-02-23 10:05:17.0  \n",
      "899                        8301.0  2023-02-23 10:05:17.0  \n",
      "900                        5919.0  2023-02-23 10:05:17.0  \n",
      "\n",
      "[411 rows x 228 columns]\n"
     ]
    }
   ],
   "source": [
    "#now stratify using amyloid positivty to see how many are there (cut off of 21 based on royse paper)\n",
    "merged_adni_at_amypos = merged_adni_at[merged_adni_at['CENTILOIDS']>= 21]\n",
    "print(merged_adni_at_amypos)"
   ]
  },
  {
   "cell_type": "code",
   "execution_count": 97,
   "metadata": {},
   "outputs": [],
   "source": [
    "merged_adni_at_amypos.to_csv(\"./adni/merged_adni_at_amy_pos.csv\", index = False)"
   ]
  },
  {
   "attachments": {},
   "cell_type": "markdown",
   "metadata": {},
   "source": [
    "### sort the data into quartiles based on centiloid value"
   ]
  },
  {
   "cell_type": "code",
   "execution_count": 98,
   "metadata": {},
   "outputs": [
    {
     "name": "stderr",
     "output_type": "stream",
     "text": [
      "/tmp/ipykernel_697982/533944236.py:2: SettingWithCopyWarning: \n",
      "A value is trying to be set on a copy of a slice from a DataFrame.\n",
      "Try using .loc[row_indexer,col_indexer] = value instead\n",
      "\n",
      "See the caveats in the documentation: https://pandas.pydata.org/pandas-docs/stable/user_guide/indexing.html#returning-a-view-versus-a-copy\n",
      "  merged_adni_at_amypos['QUARTILE'] = pd.qcut(merged_adni_at_amypos['CENTILOIDS'], q=4, labels=False)\n",
      "/tmp/ipykernel_697982/533944236.py:10: FutureWarning: The frame.append method is deprecated and will be removed from pandas in a future version. Use pandas.concat instead.\n",
      "  quartile_dfs[quartile_num] = quartile_dfs[quartile_num].append(row, ignore_index=True)\n"
     ]
    }
   ],
   "source": [
    "# Calculate quartiles for each patient's 'CENTILOIDS' values\n",
    "merged_adni_at_amypos['QUARTILE'] = pd.qcut(merged_adni_at_amypos['CENTILOIDS'], q=4, labels=False)\n",
    "\n",
    "# Initialize empty DataFrames for each quartile\n",
    "quartile_dfs = [pd.DataFrame(columns=merged_adni_at_amypos.columns) for _ in range(4)]\n",
    "\n",
    "# Sort patients into quartile DataFrames\n",
    "for index, row in merged_adni_at_amypos.iterrows():\n",
    "    quartile_num = row['QUARTILE']\n",
    "    quartile_dfs[quartile_num] = quartile_dfs[quartile_num].append(row, ignore_index=True)\n",
    "\n",
    "# Remove the 'QUARTILE' column from each quartile DataFrame\n",
    "for i in range(4):\n",
    "    quartile_dfs[i] = quartile_dfs[i].drop(columns=['QUARTILE'])\n",
    "\n",
    "\n"
   ]
  },
  {
   "attachments": {},
   "cell_type": "markdown",
   "metadata": {},
   "source": [
    "#### further cleaning adni data (only bilateral (l/r hemi regions combined))\n",
    "- has col names _VOLUME for the volume so drop these \n",
    "- they also have _SUVR so maybe could only keep these as a quality control check \n",
    "- the naming conventions are stuff like CTX_LH_SUPERIORFRONTAL_SUVR (there's a CTX_LH_SUPERIORFRONTAL_SUVR and CTX_RH_SUPERIORFRONTAL_SUVR for each) \n",
    "- looks like there's a CTX_SUPERIORFRONTAL_SUVR and then a CTX_LH_SUPERIORFRONTAL_SUVR and a CTX_RH_SUPERIORFRONTAL_SUVR\n",
    "- so need to only keep the CTX_SUPERIORFRONTAL_SUVR ones (something like search start with CTX**) if only looking at bilateral brain regions (this correponds to the A4 naming convention \"bi_* columns\" )\n",
    "\n",
    "\n",
    "### drop volume before doing anything else"
   ]
  },
  {
   "cell_type": "code",
   "execution_count": 99,
   "metadata": {},
   "outputs": [
    {
     "name": "stdout",
     "output_type": "stream",
     "text": [
      "156\n"
     ]
    }
   ],
   "source": [
    "#check how many l/r hemi combined or bilateral regions there are \n",
    "#check how many cols have bi_ prefix \n",
    "adni_bi_reg_count = sum(col.startswith('CTX_') for col in merged_adni_at_amypos.columns)\n",
    "print(adni_bi_reg_count)\n",
    "#how are there 156 bilateral/combined LR hemi regions for adni and then only 50 for a4 \n",
    "#because the LR ones are CTX_LR etc so need to eclide "
   ]
  },
  {
   "attachments": {},
   "cell_type": "markdown",
   "metadata": {},
   "source": [
    "##### create separate data frames based on the new quartiles"
   ]
  },
  {
   "cell_type": "code",
   "execution_count": 100,
   "metadata": {},
   "outputs": [],
   "source": [
    "#divide into quartiles based on centiloids column \n",
    "#the thing is 903 total patients but I want to divide them into quartiles \n",
    "\n",
    "cent_low = quartile_dfs[0]\n",
    "cent_med_low = quartile_dfs[1]\n",
    "cent_med_high = quartile_dfs[2]\n",
    "cent_high = quartile_dfs[3]\n"
   ]
  },
  {
   "cell_type": "code",
   "execution_count": 101,
   "metadata": {},
   "outputs": [
    {
     "data": {
      "text/html": [
       "<div>\n",
       "<style scoped>\n",
       "    .dataframe tbody tr th:only-of-type {\n",
       "        vertical-align: middle;\n",
       "    }\n",
       "\n",
       "    .dataframe tbody tr th {\n",
       "        vertical-align: top;\n",
       "    }\n",
       "\n",
       "    .dataframe thead th {\n",
       "        text-align: right;\n",
       "    }\n",
       "</style>\n",
       "<table border=\"1\" class=\"dataframe\">\n",
       "  <thead>\n",
       "    <tr style=\"text-align: right;\">\n",
       "      <th></th>\n",
       "      <th>CENTILOIDS</th>\n",
       "      <th>QUARTILE</th>\n",
       "    </tr>\n",
       "  </thead>\n",
       "  <tbody>\n",
       "    <tr>\n",
       "      <th>1</th>\n",
       "      <td>97.0</td>\n",
       "      <td>2</td>\n",
       "    </tr>\n",
       "    <tr>\n",
       "      <th>7</th>\n",
       "      <td>89.0</td>\n",
       "      <td>2</td>\n",
       "    </tr>\n",
       "    <tr>\n",
       "      <th>8</th>\n",
       "      <td>32.0</td>\n",
       "      <td>0</td>\n",
       "    </tr>\n",
       "    <tr>\n",
       "      <th>10</th>\n",
       "      <td>107.0</td>\n",
       "      <td>3</td>\n",
       "    </tr>\n",
       "    <tr>\n",
       "      <th>13</th>\n",
       "      <td>54.0</td>\n",
       "      <td>1</td>\n",
       "    </tr>\n",
       "    <tr>\n",
       "      <th>...</th>\n",
       "      <td>...</td>\n",
       "      <td>...</td>\n",
       "    </tr>\n",
       "    <tr>\n",
       "      <th>896</th>\n",
       "      <td>115.0</td>\n",
       "      <td>3</td>\n",
       "    </tr>\n",
       "    <tr>\n",
       "      <th>897</th>\n",
       "      <td>89.0</td>\n",
       "      <td>2</td>\n",
       "    </tr>\n",
       "    <tr>\n",
       "      <th>898</th>\n",
       "      <td>142.0</td>\n",
       "      <td>3</td>\n",
       "    </tr>\n",
       "    <tr>\n",
       "      <th>899</th>\n",
       "      <td>28.0</td>\n",
       "      <td>0</td>\n",
       "    </tr>\n",
       "    <tr>\n",
       "      <th>900</th>\n",
       "      <td>40.0</td>\n",
       "      <td>0</td>\n",
       "    </tr>\n",
       "  </tbody>\n",
       "</table>\n",
       "<p>411 rows × 2 columns</p>\n",
       "</div>"
      ],
      "text/plain": [
       "     CENTILOIDS  QUARTILE\n",
       "1          97.0         2\n",
       "7          89.0         2\n",
       "8          32.0         0\n",
       "10        107.0         3\n",
       "13         54.0         1\n",
       "..          ...       ...\n",
       "896       115.0         3\n",
       "897        89.0         2\n",
       "898       142.0         3\n",
       "899        28.0         0\n",
       "900        40.0         0\n",
       "\n",
       "[411 rows x 2 columns]"
      ]
     },
     "execution_count": 101,
     "metadata": {},
     "output_type": "execute_result"
    }
   ],
   "source": [
    "merged_adni_at_amypos[['CENTILOIDS','QUARTILE']]"
   ]
  },
  {
   "attachments": {},
   "cell_type": "markdown",
   "metadata": {},
   "source": [
    "#### Quartiles seem reasonably well aligned with AD pathology \n",
    "- centiloids are scaled such that 0 is no pathology and 100 is advanced pathology, so plotting thr quartiles seem to be reasonably well aligned based on the histrogram plotted \n",
    "- classes are also numerically balanced"
   ]
  },
  {
   "cell_type": "code",
   "execution_count": 102,
   "metadata": {},
   "outputs": [
    {
     "data": {
      "text/plain": [
       "<AxesSubplot: >"
      ]
     },
     "execution_count": 102,
     "metadata": {},
     "output_type": "execute_result"
    },
    {
     "data": {
      "image/png": "[encoded data removed]",
      "text/plain": [
       "<Figure size 640x480 with 1 Axes>"
      ]
     },
     "metadata": {},
     "output_type": "display_data"
    }
   ],
   "source": [
    "merged_adni_at_amypos['CENTILOIDS'].hist()"
   ]
  },
  {
   "cell_type": "code",
   "execution_count": 103,
   "metadata": {},
   "outputs": [
    {
     "name": "stdout",
     "output_type": "stream",
     "text": [
      "(103, 228)\n",
      "(107, 228)\n",
      "(100, 228)\n",
      "(101, 228)\n"
     ]
    }
   ],
   "source": [
    "#classes are reasonably well balanced \n",
    "print(cent_low.shape)\n",
    "print(cent_med_low.shape)\n",
    "print(cent_med_high.shape)\n",
    "print(cent_high.shape)\n"
   ]
  },
  {
   "attachments": {},
   "cell_type": "markdown",
   "metadata": {},
   "source": [
    "#### also check the centiloid ranges for each quartiles\n",
    "##### it makes sense that the highest quartile would have the largest range because most of the data is cented 20-100 ish abased on the histogram "
   ]
  },
  {
   "cell_type": "code",
   "execution_count": 104,
   "metadata": {},
   "outputs": [
    {
     "name": "stdout",
     "output_type": "stream",
     "text": [
      "centiloid range low amy pos quartile [21.0, 45.0]\n",
      "centiloid range med low amy pos quartile [46.0, 75.0]\n",
      "centiloid range med high amy pos quartile [76.0, 103.0]\n",
      "centiloid range high amy pos quartile [104.0, 264.0]\n"
     ]
    }
   ],
   "source": [
    "low_range= [cent_low['CENTILOIDS'].min(),cent_low['CENTILOIDS'].max()]\n",
    "med_low_range = [cent_med_low['CENTILOIDS'].min(),cent_med_low['CENTILOIDS'].max()]\n",
    "med_high_range = [cent_med_high['CENTILOIDS'].min(),cent_med_high['CENTILOIDS'].max()]\n",
    "high_range = [cent_high['CENTILOIDS'].min(),cent_high['CENTILOIDS'].max()]\n",
    "print(f\"centiloid range low amy pos quartile {low_range}\")\n",
    "print(f\"centiloid range med low amy pos quartile {med_low_range}\")\n",
    "print(f\"centiloid range med high amy pos quartile {med_high_range}\")\n",
    "print(f\"centiloid range high amy pos quartile {high_range}\")\n"
   ]
  },
  {
   "attachments": {},
   "cell_type": "markdown",
   "metadata": {},
   "source": [
    "##### save the adni centiloid quartiles csvs to use for graph construction"
   ]
  },
  {
   "cell_type": "code",
   "execution_count": 105,
   "metadata": {},
   "outputs": [],
   "source": [
    "#save the quartile csvs \n",
    "\n",
    "cent_low.to_csv('./adni/adni_amy_tau_merged_cent_low_quartile.csv', index=False)\n",
    "cent_med_low.to_csv('./adni/adni_amy_tau_merged_cent_med_low_quartile.csv', index=False)\n",
    "cent_med_high.to_csv('./adni/adni_amy_tau_merged_cent_med_high_quartile.csv',index=False)\n",
    "cent_high.to_csv('./adni/adni_amy_tau_merged_cent_high_quartile.csv',index=False)"
   ]
  },
  {
   "attachments": {},
   "cell_type": "markdown",
   "metadata": {},
   "source": [
    "- Only keep patients rows from most recent scan \n"
   ]
  },
  {
   "cell_type": "code",
   "execution_count": 106,
   "metadata": {},
   "outputs": [],
   "source": [
    "# #drop duplicate rows so that only the last visit row is still there \n",
    "# adni_amy_filtered = adni_amy.drop_duplicates(subset='RID',keep='last')\n",
    "# #now it only has rows with the last visit \n",
    "# adni_amy_filtered = adni_amy.reset_index(drop=True)\n",
    "\n",
    "\n",
    "\n",
    "# adni_amy['SCANDATE']= pd.to_datetime(adni_amy['SCANDATE'])\n",
    "# #find most recent scan \n",
    "# most_recent_scan_date = adni_amy['SCANDATE'].max()\n",
    "# #filter df to only include rows with most recent scan date \n",
    "# most_recent_scan = adni_amy[adni_amy['SCANDATE']==most_recent_scan_date]\n",
    "# #select cols to keep \n",
    "# cols_to_keep = ['RID','SCANDATE','TRACER','CENTILOIDS']\n",
    "# adni_amy_filtered = most_recent_scan[cols_to_keep]\n",
    "# print(adni_amy_filtered)"
   ]
  },
  {
   "cell_type": "code",
   "execution_count": 107,
   "metadata": {},
   "outputs": [
    {
     "name": "stdout",
     "output_type": "stream",
     "text": [
      "    LONIUID  RID  SITEID        PTID    SCANDATE PROCESSDATE IMAGE_RESOLUTION  \\\n",
      "0  I1594517   21      11  011-S-0021  2010-10-08  2022-09-06              6mm   \n",
      "1  I1594530   21      11  011-S-0021  2012-10-03  2022-09-06              6mm   \n",
      "2  I1594602   21      11  011-S-0021  2015-11-05  2022-09-06              6mm   \n",
      "3  I1594546   21      11  011-S-0021  2017-11-28  2022-09-06              6mm   \n",
      "4  I1594569   23      11  011-S-0023  2010-12-21  2022-09-06              6mm   \n",
      "5  I1594566   23      11  011-S-0023  2012-12-27  2022-09-06              6mm   \n",
      "6  I1596213   31      23  023-S-0031  2010-12-01  2022-09-06              6mm   \n",
      "7  I1596225   31      23  023-S-0031  2012-09-20  2022-09-06              6mm   \n",
      "8  I1596160   31      23  023-S-0031  2016-01-26  2023-04-13              6mm   \n",
      "9  I1596222   31      23  023-S-0031  2018-04-18  2022-09-06              6mm   \n",
      "\n",
      "   qc_flag TRACER  AMYLOID_STATUS  ...  RIGHT_PALLIDUM_VOLUME  \\\n",
      "0        2    FBP             0.0  ...                 1648.0   \n",
      "1        2    FBP             0.0  ...                 1798.0   \n",
      "2        2    FBP             0.0  ...                 1556.0   \n",
      "3        2    FBP             0.0  ...                 1623.0   \n",
      "4        2    FBP             1.0  ...                 1760.0   \n",
      "5        2    FBP             1.0  ...                 1645.0   \n",
      "6        2    FBP             1.0  ...                 1655.0   \n",
      "7        2    FBP             1.0  ...                 1838.0   \n",
      "8       -1    FBP             1.0  ...                 1896.0   \n",
      "9        2    FBP             1.0  ...                 2126.0   \n",
      "\n",
      "   RIGHT_PUTAMEN_SUVR  RIGHT_PUTAMEN_VOLUME  RIGHT_THALAMUS_PROPER_SUVR  \\\n",
      "0               1.167                4536.0                       1.169   \n",
      "1               1.218                4232.0                       1.107   \n",
      "2               1.190                4187.0                       1.163   \n",
      "3               1.254                4225.0                       1.181   \n",
      "4               1.345                3865.0                       1.296   \n",
      "5               1.291                3931.0                       1.153   \n",
      "6               1.280                5178.0                       1.149   \n",
      "7               1.337                5448.0                       1.129   \n",
      "8               1.374                5310.0                       1.196   \n",
      "9               1.440                5712.0                       1.259   \n",
      "\n",
      "   RIGHT_THALAMUS_PROPER_VOLUME  RIGHT_VENTRALDC_SUVR  RIGHT_VENTRALDC_VOLUME  \\\n",
      "0                        5778.0                 1.326                  3365.0   \n",
      "1                        5555.0                 1.395                  3137.0   \n",
      "2                        5671.0                 1.374                  3210.0   \n",
      "3                        5781.0                 1.436                  3422.0   \n",
      "4                        6536.0                 1.515                  4188.0   \n",
      "5                        6079.0                 1.509                  4036.0   \n",
      "6                        5556.0                 1.298                  2882.0   \n",
      "7                        5761.0                 1.381                  2831.0   \n",
      "8                        5540.0                 1.350                  2726.0   \n",
      "9                        6261.0                 1.380                  2959.0   \n",
      "\n",
      "   RIGHT_VESSEL_SUVR  RIGHT_VESSEL_VOLUME           update_stamp  \n",
      "0              1.247                  5.0  2023-07-25 09:27:46.0  \n",
      "1              1.012                 15.0  2023-07-25 09:27:46.0  \n",
      "2              1.215                 14.0  2023-07-25 09:27:46.0  \n",
      "3              1.219                 14.0  2023-07-25 09:27:46.0  \n",
      "4              1.434                  1.0  2023-07-25 09:27:46.0  \n",
      "5              1.403                  1.0  2023-07-25 09:27:46.0  \n",
      "6              1.130                  7.0  2023-07-25 09:27:46.0  \n",
      "7              1.212                  4.0  2023-07-25 09:27:46.0  \n",
      "8              1.248                  3.0  2023-07-25 09:27:46.0  \n",
      "9              1.194                  6.0  2023-07-25 09:27:46.0  \n",
      "\n",
      "[10 rows x 341 columns]\n"
     ]
    }
   ],
   "source": [
    "\n",
    "print(adni_amy.head(10))"
   ]
  },
  {
   "attachments": {},
   "cell_type": "markdown",
   "metadata": {},
   "source": [
    "* Task 1: \n",
    "* clean A4 data \n",
    "* I think that the A4_processed.csv has both amyloid and tau, but also includes patients with amyloid and no tau so just drop rows where the tau col is empty \n",
    "* A4_PETSUVR_PRV2_15_Aug2023 has id, visit code, and composite centiloid so use this for centiloid \n",
    "\n",
    "* TAUSUVR_15Aug2023 has the regional survs \n"
   ]
  },
  {
   "cell_type": "code",
   "execution_count": 108,
   "metadata": {},
   "outputs": [
    {
     "name": "stdout",
     "output_type": "stream",
     "text": [
      "             BID  VISCODE protocol  scan_number visit_code       ligand  \\\n",
      "0      B10021023        3       A4            1       SCV2  Florbetapir   \n",
      "1      B10021023        3       A4            1       SCV2  Florbetapir   \n",
      "2      B10021023        3       A4            1       SCV2  Florbetapir   \n",
      "3      B10021023        3       A4            1       SCV2  Florbetapir   \n",
      "4      B10021023        3       A4            1       SCV2  Florbetapir   \n",
      "...          ...      ...      ...          ...        ...          ...   \n",
      "35931  B99987993        3       A4            1       SCV2  Florbetapir   \n",
      "35932  B99987993        3       A4            1       SCV2  Florbetapir   \n",
      "35933  B99987993        3       A4            1       SCV2  Florbetapir   \n",
      "35934  B99987993        3       A4            1       SCV2  Florbetapir   \n",
      "35935  B99987993        3       A4            1       SCV2  Florbetapir   \n",
      "\n",
      "      scan_analyzed  other_specify             brain_region  suvr_cer  \\\n",
      "0               Yes            NaN               blcere_all      1.00   \n",
      "1               Yes            NaN        Composite_Summary      1.02   \n",
      "2               Yes            NaN    lanterior_cingulate_2      1.04   \n",
      "3               Yes            NaN  llposterior_cingulate_2      1.01   \n",
      "4               Yes            NaN            lnew_parietal      1.00   \n",
      "...             ...            ...                      ...       ...   \n",
      "35931           Yes            NaN  llposterior_cingulate_2      1.16   \n",
      "35932           Yes            NaN            lnew_parietal      0.99   \n",
      "35933           Yes            NaN            lprecuneus_gm      1.10   \n",
      "35934           Yes            NaN           new_temporal_2      1.00   \n",
      "35935           Yes            NaN    xlaal_frontal_med_orb      0.85   \n",
      "\n",
      "       centiloid           update_stamp  \n",
      "0            NaN  2018-12-06 00:00:00.0  \n",
      "1         9.4714  2018-12-06 00:00:00.0  \n",
      "2            NaN  2018-12-06 00:00:00.0  \n",
      "3            NaN  2018-12-06 00:00:00.0  \n",
      "4            NaN  2018-12-06 00:00:00.0  \n",
      "...          ...                    ...  \n",
      "35931        NaN  2019-04-19 00:00:00.0  \n",
      "35932        NaN  2019-04-19 00:00:00.0  \n",
      "35933        NaN  2019-04-19 00:00:00.0  \n",
      "35934        NaN  2019-04-19 00:00:00.0  \n",
      "35935        NaN  2019-04-19 00:00:00.0  \n",
      "\n",
      "[35936 rows x 12 columns]\n"
     ]
    }
   ],
   "source": [
    "a4_amy = pd.read_csv(\"./a4/A4_PETSUVR_PRV2_15Aug2023.csv\")\n",
    "a4_tau_suvr = pd.read_csv(\"./a4/TAUSUVR_15Aug2023.csv\")\n",
    "print(a4_amy) #has overall amyloid score "
   ]
  },
  {
   "cell_type": "code",
   "execution_count": 109,
   "metadata": {},
   "outputs": [
    {
     "name": "stdout",
     "output_type": "stream",
     "text": [
      "            ID  Mean_3rd_Ventricle  Mean_4th_Ventricle  Mean_Brain_Stem  \\\n",
      "0    B10423472            0.845577            0.864285         0.911925   \n",
      "1    B10662415            0.758578            0.790144         0.827216   \n",
      "2    B10693248            1.110908            0.963089         1.000662   \n",
      "3    B10709603            1.041388            0.869095         1.007361   \n",
      "4    B10795731            0.864528            0.885948         1.070901   \n",
      "..         ...                 ...                 ...              ...   \n",
      "442  B99525373            0.926468            0.933808         0.911147   \n",
      "443  B99649691            0.889383            0.920347         0.951339   \n",
      "444  B99696480            0.977545            0.815751         0.914736   \n",
      "445  B99860801            0.842499            0.860196         0.924592   \n",
      "446  B99870985            0.912576            0.822100         1.025361   \n",
      "\n",
      "     Mean_CC_Anterior  Mean_CC_Central  Mean_CC_Mid_Anterior  \\\n",
      "0            0.857168         0.733042              0.748900   \n",
      "1            0.642706         0.733208              0.716588   \n",
      "2            0.908223         0.862122              0.873952   \n",
      "3            0.853996         0.872356              0.826985   \n",
      "4            0.830142         1.097901              0.999561   \n",
      "..                ...              ...                   ...   \n",
      "442          0.875141         0.820740              0.862510   \n",
      "443          0.794013         0.797202              0.793276   \n",
      "444          0.845206         0.817350              0.873376   \n",
      "445          0.844704         0.925383              0.809274   \n",
      "446          1.019212         0.958269              0.989630   \n",
      "\n",
      "     Mean_CC_Mid_Posterior  Mean_CC_Posterior  Mean_CSF  ...  \\\n",
      "0                 0.663917           0.866686  0.825799  ...   \n",
      "1                 0.639921           0.731936  0.712597  ...   \n",
      "2                 0.837348           0.964523  1.032912  ...   \n",
      "3                 0.782240           0.966260  1.205540  ...   \n",
      "4                 0.886408           0.966576  0.660902  ...   \n",
      "..                     ...                ...       ...  ...   \n",
      "442               0.803465           0.899970  0.963006  ...   \n",
      "443               0.779339           0.914591  0.997582  ...   \n",
      "444               0.843217           0.948268  1.053533  ...   \n",
      "445               0.864723           0.885088  0.911395  ...   \n",
      "446               0.877001           1.051864  0.858320  ...   \n",
      "\n",
      "     bi_rostralanteriorcingulate  bi_rostralmiddlefrontal  bi_superiorfrontal  \\\n",
      "0                       1.170967                 1.084401            1.046561   \n",
      "1                       0.929332                 0.842941            0.830935   \n",
      "2                       1.062407                 1.174429            0.979405   \n",
      "3                       1.029535                 0.987615            0.897984   \n",
      "4                       1.107248                 1.436578            1.141984   \n",
      "..                           ...                      ...                 ...   \n",
      "442                     1.001542                 1.010479            0.891133   \n",
      "443                     0.964849                 1.092356            0.949831   \n",
      "444                     1.020502                 1.080541            0.903097   \n",
      "445                     0.909094                 0.843470            0.889596   \n",
      "446                     1.168148                 1.125575            1.255877   \n",
      "\n",
      "     bi_superiorparietal  bi_superiortemporal  bi_supramarginal  \\\n",
      "0               0.904519             1.056903          0.986939   \n",
      "1               0.840767             0.861778          0.872608   \n",
      "2               0.958415             1.093653          1.146316   \n",
      "3               0.900524             1.055535          1.035770   \n",
      "4               1.322576             1.136933          1.353986   \n",
      "..                   ...                  ...               ...   \n",
      "442             0.999128             1.045032          1.076961   \n",
      "443             1.256707             1.127293          1.238293   \n",
      "444             0.983309             1.079328          1.103381   \n",
      "445             0.875090             0.927802          0.936068   \n",
      "446             1.028980             1.235562          1.267343   \n",
      "\n",
      "     bi_temporalpole  bi_transversetemporal  bi_totalWM           update_stamp  \n",
      "0           1.098317               0.949163    1.136982  2023-05-23 15:08:14.0  \n",
      "1           0.874273               0.868072    0.994691  2023-05-23 15:08:14.0  \n",
      "2           1.118879               1.065898    1.164280  2023-05-23 15:08:14.0  \n",
      "3           1.069306               0.981632    1.180320  2023-05-23 15:08:14.0  \n",
      "4           1.159126               0.951685    1.331234  2023-05-23 15:08:14.0  \n",
      "..               ...                    ...         ...                    ...  \n",
      "442         1.043640               1.018140    1.041635  2023-05-23 15:08:14.0  \n",
      "443         1.144285               1.005883    1.111893  2023-05-23 15:08:14.0  \n",
      "444         1.077177               1.122180    1.159712  2023-05-23 15:08:14.0  \n",
      "445         0.962584               0.929429    0.949232  2023-05-23 15:08:14.0  \n",
      "446         1.288718               1.100817    1.332821  2023-05-23 15:08:14.0  \n",
      "\n",
      "[447 rows x 274 columns]\n"
     ]
    }
   ],
   "source": [
    "print(a4_tau_suvr) #tau region specific SUVRS"
   ]
  },
  {
   "attachments": {},
   "cell_type": "markdown",
   "metadata": {},
   "source": [
    "##### IDs for A4 have the format B********* and are in a col named ['BID']"
   ]
  },
  {
   "cell_type": "code",
   "execution_count": 110,
   "metadata": {},
   "outputs": [],
   "source": [
    "# #check to make sure that there is only one centiloid per patient \n",
    "# a4_amy_nonan = a4_amy.dropna(subset=['centiloid']) #filter out rows where centiloid is not nan \n",
    "# #group filtered df by bid and count number of non nan centiloid values for each bid \n",
    "# bid_counts = a4_amy_nonan.groupby('BID')['centiloid'].count()\n",
    "# bids_with_muliple_cent = bid_counts[bid_counts>1].index\n",
    "# print(bids_with_muliple_cent) #Index([], dtype='object', name='BID') means that each unique BID only has one centilold value\n"
   ]
  },
  {
   "attachments": {},
   "cell_type": "markdown",
   "metadata": {},
   "source": [
    "###### Structure of a4 amy csv:\n",
    "- multiple rows for same BID, filter it by which has a non nan value in 'centiloid' col \n",
    "- "
   ]
  },
  {
   "cell_type": "code",
   "execution_count": 111,
   "metadata": {},
   "outputs": [
    {
     "name": "stdout",
     "output_type": "stream",
     "text": [
      "[1]\n"
     ]
    }
   ],
   "source": [
    "a4_amy_nonan = a4_amy.dropna(subset=['centiloid'])\n",
    "print(a4_amy_nonan['scan_number'].unique()) #make sure they only have 1 scan"
   ]
  },
  {
   "cell_type": "code",
   "execution_count": 112,
   "metadata": {},
   "outputs": [
    {
     "name": "stdout",
     "output_type": "stream",
     "text": [
      "             BID           update_stamp       ligand  centiloid\n",
      "1      B10021023  2018-12-06 00:00:00.0  Florbetapir     9.4714\n",
      "9      B10081264  2018-12-06 00:00:00.0  Florbetapir    36.9319\n",
      "17     B10102783  2018-12-06 00:00:00.0  Florbetapir   108.3290\n",
      "25     B10106934  2018-12-06 00:00:00.0  Florbetapir    11.3021\n",
      "33     B10108368  2018-12-06 00:00:00.0  Florbetapir    58.9003\n",
      "...          ...                    ...          ...        ...\n",
      "35897  B99702303  2019-04-19 00:00:00.0  Florbetapir    11.3021\n",
      "35905  B99742660  2019-04-19 00:00:00.0  Florbetapir    -5.1742\n",
      "35913  B99822982  2019-04-19 00:00:00.0  Florbetapir     5.8100\n",
      "35921  B99860801  2019-04-19 00:00:00.0  Florbetapir    35.1012\n",
      "35929  B99987993  2019-04-19 00:00:00.0  Florbetapir     9.4714\n",
      "\n",
      "[4492 rows x 4 columns]\n"
     ]
    }
   ],
   "source": [
    "#only keep amy cols we wnat \n",
    "a4_cols_to_keep = ['BID','update_stamp','ligand','centiloid']\n",
    "a4_amy_filtered = a4_amy_nonan[a4_cols_to_keep]\n",
    "print(a4_amy_filtered)"
   ]
  },
  {
   "cell_type": "code",
   "execution_count": 113,
   "metadata": {},
   "outputs": [
    {
     "name": "stdout",
     "output_type": "stream",
     "text": [
      "           BID  Mean_3rd_Ventricle  Mean_4th_Ventricle  Mean_Brain_Stem  \\\n",
      "0    B10423472            0.845577            0.864285         0.911925   \n",
      "1    B10662415            0.758578            0.790144         0.827216   \n",
      "2    B10693248            1.110908            0.963089         1.000662   \n",
      "3    B10709603            1.041388            0.869095         1.007361   \n",
      "4    B10795731            0.864528            0.885948         1.070901   \n",
      "..         ...                 ...                 ...              ...   \n",
      "442  B99525373            0.926468            0.933808         0.911147   \n",
      "443  B99649691            0.889383            0.920347         0.951339   \n",
      "444  B99696480            0.977545            0.815751         0.914736   \n",
      "445  B99860801            0.842499            0.860196         0.924592   \n",
      "446  B99870985            0.912576            0.822100         1.025361   \n",
      "\n",
      "     Mean_CC_Anterior  Mean_CC_Central  Mean_CC_Mid_Anterior  \\\n",
      "0            0.857168         0.733042              0.748900   \n",
      "1            0.642706         0.733208              0.716588   \n",
      "2            0.908223         0.862122              0.873952   \n",
      "3            0.853996         0.872356              0.826985   \n",
      "4            0.830142         1.097901              0.999561   \n",
      "..                ...              ...                   ...   \n",
      "442          0.875141         0.820740              0.862510   \n",
      "443          0.794013         0.797202              0.793276   \n",
      "444          0.845206         0.817350              0.873376   \n",
      "445          0.844704         0.925383              0.809274   \n",
      "446          1.019212         0.958269              0.989630   \n",
      "\n",
      "     Mean_CC_Mid_Posterior  Mean_CC_Posterior  Mean_CSF  ...  \\\n",
      "0                 0.663917           0.866686  0.825799  ...   \n",
      "1                 0.639921           0.731936  0.712597  ...   \n",
      "2                 0.837348           0.964523  1.032912  ...   \n",
      "3                 0.782240           0.966260  1.205540  ...   \n",
      "4                 0.886408           0.966576  0.660902  ...   \n",
      "..                     ...                ...       ...  ...   \n",
      "442               0.803465           0.899970  0.963006  ...   \n",
      "443               0.779339           0.914591  0.997582  ...   \n",
      "444               0.843217           0.948268  1.053533  ...   \n",
      "445               0.864723           0.885088  0.911395  ...   \n",
      "446               0.877001           1.051864  0.858320  ...   \n",
      "\n",
      "     bi_rostralanteriorcingulate  bi_rostralmiddlefrontal  bi_superiorfrontal  \\\n",
      "0                       1.170967                 1.084401            1.046561   \n",
      "1                       0.929332                 0.842941            0.830935   \n",
      "2                       1.062407                 1.174429            0.979405   \n",
      "3                       1.029535                 0.987615            0.897984   \n",
      "4                       1.107248                 1.436578            1.141984   \n",
      "..                           ...                      ...                 ...   \n",
      "442                     1.001542                 1.010479            0.891133   \n",
      "443                     0.964849                 1.092356            0.949831   \n",
      "444                     1.020502                 1.080541            0.903097   \n",
      "445                     0.909094                 0.843470            0.889596   \n",
      "446                     1.168148                 1.125575            1.255877   \n",
      "\n",
      "     bi_superiorparietal  bi_superiortemporal  bi_supramarginal  \\\n",
      "0               0.904519             1.056903          0.986939   \n",
      "1               0.840767             0.861778          0.872608   \n",
      "2               0.958415             1.093653          1.146316   \n",
      "3               0.900524             1.055535          1.035770   \n",
      "4               1.322576             1.136933          1.353986   \n",
      "..                   ...                  ...               ...   \n",
      "442             0.999128             1.045032          1.076961   \n",
      "443             1.256707             1.127293          1.238293   \n",
      "444             0.983309             1.079328          1.103381   \n",
      "445             0.875090             0.927802          0.936068   \n",
      "446             1.028980             1.235562          1.267343   \n",
      "\n",
      "     bi_temporalpole  bi_transversetemporal  bi_totalWM           update_stamp  \n",
      "0           1.098317               0.949163    1.136982  2023-05-23 15:08:14.0  \n",
      "1           0.874273               0.868072    0.994691  2023-05-23 15:08:14.0  \n",
      "2           1.118879               1.065898    1.164280  2023-05-23 15:08:14.0  \n",
      "3           1.069306               0.981632    1.180320  2023-05-23 15:08:14.0  \n",
      "4           1.159126               0.951685    1.331234  2023-05-23 15:08:14.0  \n",
      "..               ...                    ...         ...                    ...  \n",
      "442         1.043640               1.018140    1.041635  2023-05-23 15:08:14.0  \n",
      "443         1.144285               1.005883    1.111893  2023-05-23 15:08:14.0  \n",
      "444         1.077177               1.122180    1.159712  2023-05-23 15:08:14.0  \n",
      "445         0.962584               0.929429    0.949232  2023-05-23 15:08:14.0  \n",
      "446         1.288718               1.100817    1.332821  2023-05-23 15:08:14.0  \n",
      "\n",
      "[447 rows x 274 columns]\n"
     ]
    }
   ],
   "source": [
    "#the tau csv has 'ID' instead of BID so rename it before merging \n",
    "a4_tau_suvr.rename(columns={'ID':'BID'},inplace=True)\n",
    "print(a4_tau_suvr)"
   ]
  },
  {
   "cell_type": "code",
   "execution_count": 114,
   "metadata": {},
   "outputs": [
    {
     "name": "stdout",
     "output_type": "stream",
     "text": [
      "4492\n",
      "447\n"
     ]
    }
   ],
   "source": [
    "print(a4_amy_nonan['BID'].nunique()) #check that each BID is a unique value now (should be 4492), it's good \n",
    "#check that each ID in tau suvr is unqiue (no duplicate scans) number should be 447 rows\n",
    "print(a4_tau_suvr['BID'].nunique()) #it's gppd "
   ]
  },
  {
   "attachments": {},
   "cell_type": "markdown",
   "metadata": {},
   "source": [
    "#### merge the tau suvr with centiloid col "
   ]
  },
  {
   "cell_type": "code",
   "execution_count": 115,
   "metadata": {},
   "outputs": [
    {
     "name": "stdout",
     "output_type": "stream",
     "text": [
      "           BID         update_stamp_x       ligand  centiloid  \\\n",
      "0    B10423472  2018-12-06 00:00:00.0  Florbetapir    80.8687   \n",
      "1    B10662415  2018-12-06 00:00:00.0  Florbetapir    -5.1742   \n",
      "2    B10693248  2018-12-06 00:00:00.0  Florbetapir   113.8210   \n",
      "3    B10709603  2018-12-06 00:00:00.0  Florbetapir    40.5933   \n",
      "4    B10904689  2018-12-06 00:00:00.0  Florbetapir   126.6360   \n",
      "..         ...                    ...          ...        ...   \n",
      "442  B92372599  2019-04-19 00:00:00.0  Florbetapir    40.5933   \n",
      "443  B97841288  2019-04-19 00:00:00.0  Florbetapir    71.7152   \n",
      "444  B98032541  2019-04-19 00:00:00.0  Florbetapir    55.2389   \n",
      "445  B99033399  2019-04-19 00:00:00.0  Florbetapir    53.4082   \n",
      "446  B99860801  2019-04-19 00:00:00.0  Florbetapir    35.1012   \n",
      "\n",
      "     Mean_3rd_Ventricle  Mean_4th_Ventricle  Mean_Brain_Stem  \\\n",
      "0              0.845577            0.864285         0.911925   \n",
      "1              0.758578            0.790144         0.827216   \n",
      "2              1.110908            0.963089         1.000662   \n",
      "3              1.041388            0.869095         1.007361   \n",
      "4              0.917584            0.845176         0.920387   \n",
      "..                  ...                 ...              ...   \n",
      "442            0.885410            0.842769         0.919593   \n",
      "443            0.736917            0.712659         0.837669   \n",
      "444            0.619954            0.811742         1.046703   \n",
      "445            0.867028            0.954539         0.940477   \n",
      "446            0.842499            0.860196         0.924592   \n",
      "\n",
      "     Mean_CC_Anterior  Mean_CC_Central  Mean_CC_Mid_Anterior  ...  \\\n",
      "0            0.857168         0.733042              0.748900  ...   \n",
      "1            0.642706         0.733208              0.716588  ...   \n",
      "2            0.908223         0.862122              0.873952  ...   \n",
      "3            0.853996         0.872356              0.826985  ...   \n",
      "4            0.971428         0.823842              0.924871  ...   \n",
      "..                ...              ...                   ...  ...   \n",
      "442          0.696205         0.754464              0.687262  ...   \n",
      "443          0.714328         0.892816              0.857996  ...   \n",
      "444          0.694822         0.912663              0.761793  ...   \n",
      "445          0.921984         0.862013              0.859376  ...   \n",
      "446          0.844704         0.925383              0.809274  ...   \n",
      "\n",
      "     bi_rostralanteriorcingulate  bi_rostralmiddlefrontal  bi_superiorfrontal  \\\n",
      "0                       1.170967                 1.084401            1.046561   \n",
      "1                       0.929332                 0.842941            0.830935   \n",
      "2                       1.062407                 1.174429            0.979405   \n",
      "3                       1.029535                 0.987615            0.897984   \n",
      "4                       1.065679                 0.993498            1.011460   \n",
      "..                           ...                      ...                 ...   \n",
      "442                     0.928695                 1.095746            0.997771   \n",
      "443                     1.060927                 1.168246            1.151136   \n",
      "444                     1.041259                 1.635588            1.237379   \n",
      "445                     1.063435                 0.921026            0.994262   \n",
      "446                     0.909094                 0.843470            0.889596   \n",
      "\n",
      "     bi_superiorparietal  bi_superiortemporal  bi_supramarginal  \\\n",
      "0               0.904519             1.056903          0.986939   \n",
      "1               0.840767             0.861778          0.872608   \n",
      "2               0.958415             1.093653          1.146316   \n",
      "3               0.900524             1.055535          1.035770   \n",
      "4               1.141170             1.077074          1.141837   \n",
      "..                   ...                  ...               ...   \n",
      "442             1.130347             1.037639          1.122645   \n",
      "443             1.190718             1.055261          1.113416   \n",
      "444             1.178553             1.106055          1.319375   \n",
      "445             0.962612             1.016614          1.041210   \n",
      "446             0.875090             0.927802          0.936068   \n",
      "\n",
      "     bi_temporalpole  bi_transversetemporal  bi_totalWM         update_stamp_y  \n",
      "0           1.098317               0.949163    1.136982  2023-05-23 15:08:14.0  \n",
      "1           0.874273               0.868072    0.994691  2023-05-23 15:08:14.0  \n",
      "2           1.118879               1.065898    1.164280  2023-05-23 15:08:14.0  \n",
      "3           1.069306               0.981632    1.180320  2023-05-23 15:08:14.0  \n",
      "4           1.087700               0.963342    1.142480  2023-05-23 15:08:14.0  \n",
      "..               ...                    ...         ...                    ...  \n",
      "442         1.031807               0.859354    1.116266  2023-05-23 15:08:14.0  \n",
      "443         1.074650               0.891608    1.196047  2023-05-23 15:08:14.0  \n",
      "444         1.063425               0.829076    1.218950  2023-05-23 15:08:14.0  \n",
      "445         1.010308               1.067383    1.059244  2023-05-23 15:08:14.0  \n",
      "446         0.962584               0.929429    0.949232  2023-05-23 15:08:14.0  \n",
      "\n",
      "[447 rows x 277 columns]\n"
     ]
    }
   ],
   "source": [
    "merged_a4_at = pd.merge(a4_amy_filtered,a4_tau_suvr,on='BID')\n",
    "print(merged_a4_at) #447 patients "
   ]
  },
  {
   "attachments": {},
   "cell_type": "markdown",
   "metadata": {},
   "source": [
    "#### sratify into amy pos \n"
   ]
  },
  {
   "attachments": {},
   "cell_type": "markdown",
   "metadata": {},
   "source": [
    "##### stratify a4 into quartiles "
   ]
  },
  {
   "cell_type": "code",
   "execution_count": 116,
   "metadata": {},
   "outputs": [],
   "source": [
    "#now stratify using amyloid positivty to see how many are there (cut off of 21 based on royse paper)\n",
    "merged_a4_at_amypos = merged_a4_at[merged_a4_at['centiloid']>= 21]\n",
    "# print(merged_a4_at_amypos)"
   ]
  },
  {
   "cell_type": "code",
   "execution_count": 117,
   "metadata": {},
   "outputs": [],
   "source": [
    "merged_a4_at_amypos.to_csv(\"./a4/merged_a4_at_amy_pos.csv\", index = False)"
   ]
  },
  {
   "attachments": {},
   "cell_type": "markdown",
   "metadata": {},
   "source": [
    "#### Further cleaning: \n",
    "##### The a4 data has columns with Volume_ prefix so need to drop those \n",
    "- there's also a mean unknown col need to see if that's also present in the adni one \n",
    "- also with left right from stanford coumentation \"We additionally created bilateral regions taking a volume weighted average across hemispheres. These are provided for in the bi_* columns\" so maybe just use these\n",
    "- need to drop stuff like Mean_non_WM_hypointensities"
   ]
  },
  {
   "cell_type": "code",
   "execution_count": 118,
   "metadata": {},
   "outputs": [
    {
     "name": "stdout",
     "output_type": "stream",
     "text": [
      "50\n"
     ]
    }
   ],
   "source": [
    "#check how many cols have bi_ prefix \n",
    "bi_reg_count = sum(col.startswith('bi_') for col in merged_a4_at_amypos.columns)\n",
    "print(bi_reg_count)\n",
    "#50 bilateral regions "
   ]
  },
  {
   "cell_type": "code",
   "execution_count": 119,
   "metadata": {},
   "outputs": [
    {
     "name": "stderr",
     "output_type": "stream",
     "text": [
      "/tmp/ipykernel_697982/451221244.py:2: SettingWithCopyWarning: \n",
      "A value is trying to be set on a copy of a slice from a DataFrame.\n",
      "Try using .loc[row_indexer,col_indexer] = value instead\n",
      "\n",
      "See the caveats in the documentation: https://pandas.pydata.org/pandas-docs/stable/user_guide/indexing.html#returning-a-view-versus-a-copy\n",
      "  merged_a4_at_amypos['quartile'] = pd.qcut(merged_a4_at_amypos['centiloid'], q=4, labels=False)\n",
      "/tmp/ipykernel_697982/451221244.py:10: FutureWarning: The frame.append method is deprecated and will be removed from pandas in a future version. Use pandas.concat instead.\n",
      "  quartile_dfs[quartile_num] = quartile_dfs[quartile_num].append(row, ignore_index=True)\n"
     ]
    }
   ],
   "source": [
    "# Calculate quartiles for each patient's 'CENTILOIDS' values\n",
    "merged_a4_at_amypos['quartile'] = pd.qcut(merged_a4_at_amypos['centiloid'], q=4, labels=False)\n",
    "\n",
    "# Initialize empty DataFrames for each quartile\n",
    "quartile_dfs = [pd.DataFrame(columns=merged_a4_at_amypos.columns) for _ in range(4)]\n",
    "\n",
    "# Sort patients into quartile DataFrames\n",
    "for index, row in merged_a4_at_amypos.iterrows():\n",
    "    quartile_num = row['quartile']\n",
    "    quartile_dfs[quartile_num] = quartile_dfs[quartile_num].append(row, ignore_index=True)\n",
    "\n",
    "# Remove the 'QUARTILE' column from each quartile DataFrame\n",
    "for i in range(4):\n",
    "    quartile_dfs[i] = quartile_dfs[i].drop(columns=['quartile'])\n"
   ]
  },
  {
   "cell_type": "code",
   "execution_count": 120,
   "metadata": {},
   "outputs": [
    {
     "data": {
      "text/plain": [
       "<AxesSubplot: >"
      ]
     },
     "execution_count": 120,
     "metadata": {},
     "output_type": "execute_result"
    },
    {
     "data": {
      "image/png": "[encoded data removed]",
      "text/plain": [
       "<Figure size 640x480 with 1 Axes>"
      ]
     },
     "metadata": {},
     "output_type": "display_data"
    }
   ],
   "source": [
    "merged_a4_at_amypos['centiloid'].hist()"
   ]
  },
  {
   "cell_type": "code",
   "execution_count": 121,
   "metadata": {},
   "outputs": [],
   "source": [
    "a4_cent_low = quartile_dfs[0]\n",
    "a4_cent_med_low = quartile_dfs[1]\n",
    "a4_cent_med_high = quartile_dfs[2]\n",
    "a4_cent_high = quartile_dfs[3]"
   ]
  },
  {
   "cell_type": "code",
   "execution_count": 122,
   "metadata": {},
   "outputs": [
    {
     "name": "stdout",
     "output_type": "stream",
     "text": [
      "(101, 277)\n",
      "(86, 277)\n",
      "(94, 277)\n",
      "(92, 277)\n"
     ]
    }
   ],
   "source": [
    "#classes are reasonably well balanced \n",
    "print(a4_cent_low.shape)\n",
    "print(a4_cent_med_low.shape)\n",
    "print(a4_cent_med_high.shape)\n",
    "print(a4_cent_high.shape)"
   ]
  },
  {
   "cell_type": "code",
   "execution_count": 123,
   "metadata": {},
   "outputs": [
    {
     "name": "stdout",
     "output_type": "stream",
     "text": [
      "centiloid range low amy pos quartile [22.2863, 42.424]\n",
      "centiloid range med low amy pos quartile [44.2547, 60.731]\n",
      "centiloid range med high amy pos quartile [62.5617, 82.6994]\n",
      "centiloid range high amy pos quartile [84.5301, 192.541]\n"
     ]
    }
   ],
   "source": [
    "a4_low_range= [a4_cent_low['centiloid'].min(),a4_cent_low['centiloid'].max()]\n",
    "a4_med_low_range = [a4_cent_med_low['centiloid'].min(),a4_cent_med_low['centiloid'].max()]\n",
    "a4_med_high_range = [a4_cent_med_high['centiloid'].min(),a4_cent_med_high['centiloid'].max()]\n",
    "a4_high_range = [a4_cent_high['centiloid'].min(),a4_cent_high['centiloid'].max()]\n",
    "print(f\"centiloid range low amy pos quartile {a4_low_range}\")\n",
    "print(f\"centiloid range med low amy pos quartile {a4_med_low_range}\")\n",
    "print(f\"centiloid range med high amy pos quartile {a4_med_high_range}\")\n",
    "print(f\"centiloid range high amy pos quartile {a4_high_range}\")"
   ]
  },
  {
   "attachments": {},
   "cell_type": "markdown",
   "metadata": {},
   "source": [
    "##### save a4 quartiles for graph construction \n"
   ]
  },
  {
   "cell_type": "code",
   "execution_count": 124,
   "metadata": {},
   "outputs": [],
   "source": [
    "#save the quartile csvs \n",
    "\n",
    "a4_cent_low.to_csv('./a4/a4_amy_tau_merged_cent_low_quartile.csv',index=False)\n",
    "a4_cent_med_low.to_csv('./a4/a4_amy_tau_merged_cent_med_low_quartile.csv',index=False)\n",
    "a4_cent_med_high.to_csv('./a4/a4_amy_tau_merged_cent_med_high_quartile.csv',index=False)\n",
    "a4_cent_high.to_csv('./a4/a4_adni_amy_tau_merged_cent_high_quartile.csv',index=False)"
   ]
  }
 ],
 "metadata": {
  "kernelspec": {
   "display_name": "graph_env",
   "language": "python",
   "name": "python3"
  },
  "language_info": {
   "codemirror_mode": {
    "name": "ipython",
    "version": 3
   },
   "file_extension": ".py",
   "mimetype": "text/x-python",
   "name": "python",
   "nbconvert_exporter": "python",
   "pygments_lexer": "ipython3",
   "version": "3.8.10"
  },
  "orig_nbformat": 4
 },
 "nbformat": 4,
 "nbformat_minor": 2
}
