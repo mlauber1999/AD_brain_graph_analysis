{
 "cells": [
  {
   "cell_type": "code",
   "execution_count": 2,
   "metadata": {},
   "outputs": [],
   "source": [
    "import numpy as np\n",
    "import pandas as pd\n",
    "import matplotlib.pyplot as plt\n",
    "import os\n",
    "import warnings\n",
    "import networkx as nx\n",
    "import matplotlib.colors as mcolors\n",
    "# warnings.simplefilter(action='ignore', category=FutureWarning)\n",
    "# pd.options.display.max_rows = None\n",
    "# pd.options.display.max_columns = None\n",
    "import glob as glob\n",
    "import math"
   ]
  },
  {
   "attachments": {},
   "cell_type": "markdown",
   "metadata": {},
   "source": [
    "#### read in csv amyloid pos and negative for adni and a4 \n"
   ]
  },
  {
   "attachments": {},
   "cell_type": "markdown",
   "metadata": {},
   "source": [
    "### sort the data into quartiles based on centiloid value"
   ]
  },
  {
   "cell_type": "code",
   "execution_count": 15,
   "metadata": {},
   "outputs": [],
   "source": [
    "merged_adni_at_amypos_bi_harm = pd.read_csv('./adni/merged_adni_at_amy_pos_bi_harm.csv')\n",
    "merged_a4_at_amypos_bi_harm = pd.read_csv('./a4/merged_a4_at_amy_pos_bi_harm.csv')"
   ]
  },
  {
   "cell_type": "code",
   "execution_count": 16,
   "metadata": {},
   "outputs": [
    {
     "data": {
      "text/html": [
       "<div>\n",
       "<style scoped>\n",
       "    .dataframe tbody tr th:only-of-type {\n",
       "        vertical-align: middle;\n",
       "    }\n",
       "\n",
       "    .dataframe tbody tr th {\n",
       "        vertical-align: top;\n",
       "    }\n",
       "\n",
       "    .dataframe thead th {\n",
       "        text-align: right;\n",
       "    }\n",
       "</style>\n",
       "<table border=\"1\" class=\"dataframe\">\n",
       "  <thead>\n",
       "    <tr style=\"text-align: right;\">\n",
       "      <th></th>\n",
       "      <th>RID</th>\n",
       "      <th>TRANSVERSETEMPORAL</th>\n",
       "      <th>SUPERIORTEMPORAL</th>\n",
       "      <th>INFERIORTEMPORAL</th>\n",
       "      <th>FUSIFORM</th>\n",
       "      <th>POSTERIORCINGULATE</th>\n",
       "      <th>INSULA</th>\n",
       "      <th>PERICALCARINE</th>\n",
       "      <th>PUTAMEN</th>\n",
       "      <th>PARAHIPPOCAMPAL</th>\n",
       "      <th>...</th>\n",
       "      <th>ACCUMBENS_AREA</th>\n",
       "      <th>LINGUAL</th>\n",
       "      <th>PALLIDUM</th>\n",
       "      <th>AMYGDALA</th>\n",
       "      <th>ROSTRALANTERIORCINGULATE</th>\n",
       "      <th>BANKSSTS</th>\n",
       "      <th>CUNEUS</th>\n",
       "      <th>MIDDLETEMPORAL</th>\n",
       "      <th>SUPERIORFRONTAL</th>\n",
       "      <th>PRECUNEUS</th>\n",
       "    </tr>\n",
       "  </thead>\n",
       "  <tbody>\n",
       "    <tr>\n",
       "      <th>0</th>\n",
       "      <td>31</td>\n",
       "      <td>1.484</td>\n",
       "      <td>1.502</td>\n",
       "      <td>1.532</td>\n",
       "      <td>1.295</td>\n",
       "      <td>1.397</td>\n",
       "      <td>1.206</td>\n",
       "      <td>1.103</td>\n",
       "      <td>1.262</td>\n",
       "      <td>1.548</td>\n",
       "      <td>...</td>\n",
       "      <td>1.476</td>\n",
       "      <td>1.338</td>\n",
       "      <td>1.572</td>\n",
       "      <td>1.708</td>\n",
       "      <td>1.200</td>\n",
       "      <td>1.394</td>\n",
       "      <td>1.571</td>\n",
       "      <td>1.505</td>\n",
       "      <td>1.491</td>\n",
       "      <td>1.529</td>\n",
       "    </tr>\n",
       "    <tr>\n",
       "      <th>1</th>\n",
       "      <td>112</td>\n",
       "      <td>1.746</td>\n",
       "      <td>2.003</td>\n",
       "      <td>2.480</td>\n",
       "      <td>2.015</td>\n",
       "      <td>1.803</td>\n",
       "      <td>1.905</td>\n",
       "      <td>1.644</td>\n",
       "      <td>1.822</td>\n",
       "      <td>2.137</td>\n",
       "      <td>...</td>\n",
       "      <td>1.428</td>\n",
       "      <td>1.597</td>\n",
       "      <td>1.673</td>\n",
       "      <td>2.563</td>\n",
       "      <td>1.762</td>\n",
       "      <td>2.009</td>\n",
       "      <td>1.713</td>\n",
       "      <td>2.057</td>\n",
       "      <td>2.215</td>\n",
       "      <td>2.140</td>\n",
       "    </tr>\n",
       "    <tr>\n",
       "      <th>2</th>\n",
       "      <td>120</td>\n",
       "      <td>1.209</td>\n",
       "      <td>1.575</td>\n",
       "      <td>1.733</td>\n",
       "      <td>1.494</td>\n",
       "      <td>1.564</td>\n",
       "      <td>1.314</td>\n",
       "      <td>1.500</td>\n",
       "      <td>1.372</td>\n",
       "      <td>1.518</td>\n",
       "      <td>...</td>\n",
       "      <td>0.962</td>\n",
       "      <td>1.407</td>\n",
       "      <td>1.335</td>\n",
       "      <td>1.236</td>\n",
       "      <td>1.274</td>\n",
       "      <td>1.539</td>\n",
       "      <td>1.773</td>\n",
       "      <td>1.795</td>\n",
       "      <td>1.651</td>\n",
       "      <td>1.576</td>\n",
       "    </tr>\n",
       "    <tr>\n",
       "      <th>3</th>\n",
       "      <td>142</td>\n",
       "      <td>1.136</td>\n",
       "      <td>1.726</td>\n",
       "      <td>1.960</td>\n",
       "      <td>1.446</td>\n",
       "      <td>1.447</td>\n",
       "      <td>1.557</td>\n",
       "      <td>1.638</td>\n",
       "      <td>1.402</td>\n",
       "      <td>1.582</td>\n",
       "      <td>...</td>\n",
       "      <td>2.485</td>\n",
       "      <td>1.314</td>\n",
       "      <td>1.548</td>\n",
       "      <td>2.119</td>\n",
       "      <td>1.574</td>\n",
       "      <td>1.539</td>\n",
       "      <td>1.426</td>\n",
       "      <td>2.280</td>\n",
       "      <td>1.466</td>\n",
       "      <td>1.474</td>\n",
       "    </tr>\n",
       "    <tr>\n",
       "      <th>4</th>\n",
       "      <td>210</td>\n",
       "      <td>1.298</td>\n",
       "      <td>1.661</td>\n",
       "      <td>1.977</td>\n",
       "      <td>1.606</td>\n",
       "      <td>1.533</td>\n",
       "      <td>1.288</td>\n",
       "      <td>1.419</td>\n",
       "      <td>1.390</td>\n",
       "      <td>1.527</td>\n",
       "      <td>...</td>\n",
       "      <td>1.160</td>\n",
       "      <td>1.593</td>\n",
       "      <td>1.536</td>\n",
       "      <td>1.203</td>\n",
       "      <td>1.340</td>\n",
       "      <td>1.671</td>\n",
       "      <td>1.721</td>\n",
       "      <td>1.998</td>\n",
       "      <td>1.493</td>\n",
       "      <td>1.619</td>\n",
       "    </tr>\n",
       "    <tr>\n",
       "      <th>...</th>\n",
       "      <td>...</td>\n",
       "      <td>...</td>\n",
       "      <td>...</td>\n",
       "      <td>...</td>\n",
       "      <td>...</td>\n",
       "      <td>...</td>\n",
       "      <td>...</td>\n",
       "      <td>...</td>\n",
       "      <td>...</td>\n",
       "      <td>...</td>\n",
       "      <td>...</td>\n",
       "      <td>...</td>\n",
       "      <td>...</td>\n",
       "      <td>...</td>\n",
       "      <td>...</td>\n",
       "      <td>...</td>\n",
       "      <td>...</td>\n",
       "      <td>...</td>\n",
       "      <td>...</td>\n",
       "      <td>...</td>\n",
       "      <td>...</td>\n",
       "    </tr>\n",
       "    <tr>\n",
       "      <th>406</th>\n",
       "      <td>6572</td>\n",
       "      <td>0.808</td>\n",
       "      <td>1.926</td>\n",
       "      <td>2.434</td>\n",
       "      <td>1.792</td>\n",
       "      <td>1.548</td>\n",
       "      <td>1.157</td>\n",
       "      <td>1.108</td>\n",
       "      <td>1.268</td>\n",
       "      <td>1.946</td>\n",
       "      <td>...</td>\n",
       "      <td>1.935</td>\n",
       "      <td>1.220</td>\n",
       "      <td>1.692</td>\n",
       "      <td>1.257</td>\n",
       "      <td>1.311</td>\n",
       "      <td>2.044</td>\n",
       "      <td>1.606</td>\n",
       "      <td>2.427</td>\n",
       "      <td>1.537</td>\n",
       "      <td>1.659</td>\n",
       "    </tr>\n",
       "    <tr>\n",
       "      <th>407</th>\n",
       "      <td>6575</td>\n",
       "      <td>1.215</td>\n",
       "      <td>1.400</td>\n",
       "      <td>1.574</td>\n",
       "      <td>1.400</td>\n",
       "      <td>1.323</td>\n",
       "      <td>1.333</td>\n",
       "      <td>1.066</td>\n",
       "      <td>1.394</td>\n",
       "      <td>1.673</td>\n",
       "      <td>...</td>\n",
       "      <td>1.613</td>\n",
       "      <td>1.303</td>\n",
       "      <td>1.533</td>\n",
       "      <td>1.797</td>\n",
       "      <td>1.348</td>\n",
       "      <td>1.304</td>\n",
       "      <td>1.494</td>\n",
       "      <td>1.552</td>\n",
       "      <td>1.420</td>\n",
       "      <td>1.360</td>\n",
       "    </tr>\n",
       "    <tr>\n",
       "      <th>408</th>\n",
       "      <td>6580</td>\n",
       "      <td>1.230</td>\n",
       "      <td>1.636</td>\n",
       "      <td>1.857</td>\n",
       "      <td>1.494</td>\n",
       "      <td>1.384</td>\n",
       "      <td>1.281</td>\n",
       "      <td>1.408</td>\n",
       "      <td>1.604</td>\n",
       "      <td>1.336</td>\n",
       "      <td>...</td>\n",
       "      <td>1.519</td>\n",
       "      <td>1.457</td>\n",
       "      <td>1.612</td>\n",
       "      <td>1.914</td>\n",
       "      <td>1.376</td>\n",
       "      <td>1.535</td>\n",
       "      <td>1.663</td>\n",
       "      <td>1.688</td>\n",
       "      <td>1.629</td>\n",
       "      <td>1.552</td>\n",
       "    </tr>\n",
       "    <tr>\n",
       "      <th>409</th>\n",
       "      <td>6581</td>\n",
       "      <td>0.997</td>\n",
       "      <td>1.378</td>\n",
       "      <td>1.613</td>\n",
       "      <td>1.284</td>\n",
       "      <td>1.183</td>\n",
       "      <td>1.121</td>\n",
       "      <td>0.995</td>\n",
       "      <td>1.440</td>\n",
       "      <td>1.372</td>\n",
       "      <td>...</td>\n",
       "      <td>1.366</td>\n",
       "      <td>1.191</td>\n",
       "      <td>1.632</td>\n",
       "      <td>1.054</td>\n",
       "      <td>1.253</td>\n",
       "      <td>1.198</td>\n",
       "      <td>1.274</td>\n",
       "      <td>1.574</td>\n",
       "      <td>1.343</td>\n",
       "      <td>1.186</td>\n",
       "    </tr>\n",
       "    <tr>\n",
       "      <th>410</th>\n",
       "      <td>6586</td>\n",
       "      <td>1.028</td>\n",
       "      <td>1.208</td>\n",
       "      <td>1.399</td>\n",
       "      <td>1.225</td>\n",
       "      <td>1.152</td>\n",
       "      <td>1.022</td>\n",
       "      <td>1.172</td>\n",
       "      <td>1.601</td>\n",
       "      <td>1.233</td>\n",
       "      <td>...</td>\n",
       "      <td>1.360</td>\n",
       "      <td>1.158</td>\n",
       "      <td>1.899</td>\n",
       "      <td>1.245</td>\n",
       "      <td>1.134</td>\n",
       "      <td>1.276</td>\n",
       "      <td>1.480</td>\n",
       "      <td>1.376</td>\n",
       "      <td>1.264</td>\n",
       "      <td>1.278</td>\n",
       "    </tr>\n",
       "  </tbody>\n",
       "</table>\n",
       "<p>411 rows × 33 columns</p>\n",
       "</div>"
      ],
      "text/plain": [
       "      RID  TRANSVERSETEMPORAL  SUPERIORTEMPORAL  INFERIORTEMPORAL  FUSIFORM  \\\n",
       "0      31               1.484             1.502             1.532     1.295   \n",
       "1     112               1.746             2.003             2.480     2.015   \n",
       "2     120               1.209             1.575             1.733     1.494   \n",
       "3     142               1.136             1.726             1.960     1.446   \n",
       "4     210               1.298             1.661             1.977     1.606   \n",
       "..    ...                 ...               ...               ...       ...   \n",
       "406  6572               0.808             1.926             2.434     1.792   \n",
       "407  6575               1.215             1.400             1.574     1.400   \n",
       "408  6580               1.230             1.636             1.857     1.494   \n",
       "409  6581               0.997             1.378             1.613     1.284   \n",
       "410  6586               1.028             1.208             1.399     1.225   \n",
       "\n",
       "     POSTERIORCINGULATE  INSULA  PERICALCARINE  PUTAMEN  PARAHIPPOCAMPAL  ...  \\\n",
       "0                 1.397   1.206          1.103    1.262            1.548  ...   \n",
       "1                 1.803   1.905          1.644    1.822            2.137  ...   \n",
       "2                 1.564   1.314          1.500    1.372            1.518  ...   \n",
       "3                 1.447   1.557          1.638    1.402            1.582  ...   \n",
       "4                 1.533   1.288          1.419    1.390            1.527  ...   \n",
       "..                  ...     ...            ...      ...              ...  ...   \n",
       "406               1.548   1.157          1.108    1.268            1.946  ...   \n",
       "407               1.323   1.333          1.066    1.394            1.673  ...   \n",
       "408               1.384   1.281          1.408    1.604            1.336  ...   \n",
       "409               1.183   1.121          0.995    1.440            1.372  ...   \n",
       "410               1.152   1.022          1.172    1.601            1.233  ...   \n",
       "\n",
       "     ACCUMBENS_AREA  LINGUAL  PALLIDUM  AMYGDALA  ROSTRALANTERIORCINGULATE  \\\n",
       "0             1.476    1.338     1.572     1.708                     1.200   \n",
       "1             1.428    1.597     1.673     2.563                     1.762   \n",
       "2             0.962    1.407     1.335     1.236                     1.274   \n",
       "3             2.485    1.314     1.548     2.119                     1.574   \n",
       "4             1.160    1.593     1.536     1.203                     1.340   \n",
       "..              ...      ...       ...       ...                       ...   \n",
       "406           1.935    1.220     1.692     1.257                     1.311   \n",
       "407           1.613    1.303     1.533     1.797                     1.348   \n",
       "408           1.519    1.457     1.612     1.914                     1.376   \n",
       "409           1.366    1.191     1.632     1.054                     1.253   \n",
       "410           1.360    1.158     1.899     1.245                     1.134   \n",
       "\n",
       "     BANKSSTS  CUNEUS  MIDDLETEMPORAL  SUPERIORFRONTAL  PRECUNEUS  \n",
       "0       1.394   1.571           1.505            1.491      1.529  \n",
       "1       2.009   1.713           2.057            2.215      2.140  \n",
       "2       1.539   1.773           1.795            1.651      1.576  \n",
       "3       1.539   1.426           2.280            1.466      1.474  \n",
       "4       1.671   1.721           1.998            1.493      1.619  \n",
       "..        ...     ...             ...              ...        ...  \n",
       "406     2.044   1.606           2.427            1.537      1.659  \n",
       "407     1.304   1.494           1.552            1.420      1.360  \n",
       "408     1.535   1.663           1.688            1.629      1.552  \n",
       "409     1.198   1.274           1.574            1.343      1.186  \n",
       "410     1.276   1.480           1.376            1.264      1.278  \n",
       "\n",
       "[411 rows x 33 columns]"
      ]
     },
     "execution_count": 16,
     "metadata": {},
     "output_type": "execute_result"
    }
   ],
   "source": [
    "merged_adni_at_amypos_bi_harm"
   ]
  },
  {
   "attachments": {},
   "cell_type": "markdown",
   "metadata": {},
   "source": [
    "#### sort adni data into centiloid "
   ]
  },
  {
   "cell_type": "code",
   "execution_count": 17,
   "metadata": {},
   "outputs": [
    {
     "name": "stderr",
     "output_type": "stream",
     "text": [
      "/tmp/ipykernel_1152479/667071555.py:10: FutureWarning: The frame.append method is deprecated and will be removed from pandas in a future version. Use pandas.concat instead.\n",
      "  quartile_dfs[quartile_num] = quartile_dfs[quartile_num].append(row, ignore_index=True)\n"
     ]
    }
   ],
   "source": [
    "# Calculate quartiles for each patient's 'CENTILOIDS' values\n",
    "merged_adni_at_amypos_bi_harm['QUARTILE'] = pd.qcut(merged_adni_at_amypos_bi_harm['CENTILOIDS'], q=4, labels=False)\n",
    "\n",
    "# Initialize empty DataFrames for each quartile\n",
    "quartile_dfs = [pd.DataFrame(columns=merged_adni_at_amypos_bi_harm.columns) for _ in range(4)]\n",
    "\n",
    "# Sort patients into quartile DataFrames\n",
    "for index, row in merged_adni_at_amypos_bi_harm.iterrows():\n",
    "    quartile_num = row['QUARTILE']\n",
    "    quartile_dfs[quartile_num] = quartile_dfs[quartile_num].append(row, ignore_index=True)\n",
    "\n",
    "# Remove the 'QUARTILE' column from each quartile DataFrame\n",
    "for i in range(4):\n",
    "    quartile_dfs[i] = quartile_dfs[i].drop(columns=['QUARTILE'])\n",
    "\n",
    "\n"
   ]
  },
  {
   "attachments": {},
   "cell_type": "markdown",
   "metadata": {},
   "source": [
    "#### further cleaning adni data (only bilateral (l/r hemi regions combined))\n",
    "- has col names _VOLUME for the volume so drop these \n",
    "- they also have _SUVR so maybe could only keep these as a quality control check \n",
    "- the naming conventions are stuff like CTX_LH_SUPERIORFRONTAL_SUVR (there's a CTX_LH_SUPERIORFRONTAL_SUVR and CTX_RH_SUPERIORFRONTAL_SUVR for each) \n",
    "- looks like there's a CTX_SUPERIORFRONTAL_SUVR and then a CTX_LH_SUPERIORFRONTAL_SUVR and a CTX_RH_SUPERIORFRONTAL_SUVR\n",
    "- so need to only keep the CTX_SUPERIORFRONTAL_SUVR ones (something like search start with CTX**) if only looking at bilateral brain regions (this correponds to the A4 naming convention \"bi_* columns\" )\n",
    "\n",
    "\n",
    "### drop volume before doing anything else"
   ]
  },
  {
   "attachments": {},
   "cell_type": "markdown",
   "metadata": {},
   "source": [
    "##### create separate data frames based on the new quartiles"
   ]
  },
  {
   "cell_type": "code",
   "execution_count": 19,
   "metadata": {},
   "outputs": [],
   "source": [
    "#divide into quartiles based on centiloids column \n",
    "#the thing is 903 total patients but I want to divide them into quartiles \n",
    "\n",
    "cent_low = quartile_dfs[0]\n",
    "cent_med_low = quartile_dfs[1]\n",
    "cent_med_high = quartile_dfs[2]\n",
    "cent_high = quartile_dfs[3]\n"
   ]
  },
  {
   "cell_type": "code",
   "execution_count": 21,
   "metadata": {},
   "outputs": [
    {
     "data": {
      "text/html": [
       "<div>\n",
       "<style scoped>\n",
       "    .dataframe tbody tr th:only-of-type {\n",
       "        vertical-align: middle;\n",
       "    }\n",
       "\n",
       "    .dataframe tbody tr th {\n",
       "        vertical-align: top;\n",
       "    }\n",
       "\n",
       "    .dataframe thead th {\n",
       "        text-align: right;\n",
       "    }\n",
       "</style>\n",
       "<table border=\"1\" class=\"dataframe\">\n",
       "  <thead>\n",
       "    <tr style=\"text-align: right;\">\n",
       "      <th></th>\n",
       "      <th>CENTILOIDS</th>\n",
       "      <th>QUARTILE</th>\n",
       "    </tr>\n",
       "  </thead>\n",
       "  <tbody>\n",
       "    <tr>\n",
       "      <th>0</th>\n",
       "      <td>97.0</td>\n",
       "      <td>2</td>\n",
       "    </tr>\n",
       "    <tr>\n",
       "      <th>1</th>\n",
       "      <td>89.0</td>\n",
       "      <td>2</td>\n",
       "    </tr>\n",
       "    <tr>\n",
       "      <th>2</th>\n",
       "      <td>32.0</td>\n",
       "      <td>0</td>\n",
       "    </tr>\n",
       "    <tr>\n",
       "      <th>3</th>\n",
       "      <td>107.0</td>\n",
       "      <td>3</td>\n",
       "    </tr>\n",
       "    <tr>\n",
       "      <th>4</th>\n",
       "      <td>54.0</td>\n",
       "      <td>1</td>\n",
       "    </tr>\n",
       "    <tr>\n",
       "      <th>...</th>\n",
       "      <td>...</td>\n",
       "      <td>...</td>\n",
       "    </tr>\n",
       "    <tr>\n",
       "      <th>406</th>\n",
       "      <td>115.0</td>\n",
       "      <td>3</td>\n",
       "    </tr>\n",
       "    <tr>\n",
       "      <th>407</th>\n",
       "      <td>89.0</td>\n",
       "      <td>2</td>\n",
       "    </tr>\n",
       "    <tr>\n",
       "      <th>408</th>\n",
       "      <td>142.0</td>\n",
       "      <td>3</td>\n",
       "    </tr>\n",
       "    <tr>\n",
       "      <th>409</th>\n",
       "      <td>28.0</td>\n",
       "      <td>0</td>\n",
       "    </tr>\n",
       "    <tr>\n",
       "      <th>410</th>\n",
       "      <td>40.0</td>\n",
       "      <td>0</td>\n",
       "    </tr>\n",
       "  </tbody>\n",
       "</table>\n",
       "<p>411 rows × 2 columns</p>\n",
       "</div>"
      ],
      "text/plain": [
       "     CENTILOIDS  QUARTILE\n",
       "0          97.0         2\n",
       "1          89.0         2\n",
       "2          32.0         0\n",
       "3         107.0         3\n",
       "4          54.0         1\n",
       "..          ...       ...\n",
       "406       115.0         3\n",
       "407        89.0         2\n",
       "408       142.0         3\n",
       "409        28.0         0\n",
       "410        40.0         0\n",
       "\n",
       "[411 rows x 2 columns]"
      ]
     },
     "execution_count": 21,
     "metadata": {},
     "output_type": "execute_result"
    }
   ],
   "source": [
    "merged_adni_at_amypos_bi_harm[['CENTILOIDS','QUARTILE']]"
   ]
  },
  {
   "attachments": {},
   "cell_type": "markdown",
   "metadata": {},
   "source": [
    "#### Quartiles seem reasonably well aligned with AD pathology \n",
    "- centiloids are scaled such that 0 is no pathology and 100 is advanced pathology, so plotting thr quartiles seem to be reasonably well aligned based on the histrogram plotted \n",
    "- classes are also numerically balanced"
   ]
  },
  {
   "cell_type": "code",
   "execution_count": 22,
   "metadata": {},
   "outputs": [
    {
     "data": {
      "text/plain": [
       "<AxesSubplot: >"
      ]
     },
     "execution_count": 22,
     "metadata": {},
     "output_type": "execute_result"
    },
    {
     "data": {
      "image/png": "[encoded data removed]",
      "text/plain": [
       "<Figure size 640x480 with 1 Axes>"
      ]
     },
     "metadata": {},
     "output_type": "display_data"
    }
   ],
   "source": [
    "merged_adni_at_amypos_bi_harm['CENTILOIDS'].hist()"
   ]
  },
  {
   "cell_type": "code",
   "execution_count": 20,
   "metadata": {},
   "outputs": [
    {
     "name": "stdout",
     "output_type": "stream",
     "text": [
      "(103, 227)\n",
      "(107, 227)\n",
      "(100, 227)\n",
      "(101, 227)\n"
     ]
    }
   ],
   "source": [
    "#classes are reasonably well balanced \n",
    "print(cent_low.shape)\n",
    "print(cent_med_low.shape)\n",
    "print(cent_med_high.shape)\n",
    "print(cent_high.shape)\n"
   ]
  },
  {
   "attachments": {},
   "cell_type": "markdown",
   "metadata": {},
   "source": [
    "#### also check the centiloid ranges for each quartiles\n",
    "##### it makes sense that the highest quartile would have the largest range because most of the data is cented 20-100 ish abased on the histogram "
   ]
  },
  {
   "cell_type": "code",
   "execution_count": 23,
   "metadata": {},
   "outputs": [
    {
     "name": "stdout",
     "output_type": "stream",
     "text": [
      "centiloid range low amy pos quartile [21.0, 45.0]\n",
      "centiloid range med low amy pos quartile [46.0, 75.0]\n",
      "centiloid range med high amy pos quartile [76.0, 103.0]\n",
      "centiloid range high amy pos quartile [104.0, 264.0]\n"
     ]
    }
   ],
   "source": [
    "low_range= [cent_low['CENTILOIDS'].min(),cent_low['CENTILOIDS'].max()]\n",
    "med_low_range = [cent_med_low['CENTILOIDS'].min(),cent_med_low['CENTILOIDS'].max()]\n",
    "med_high_range = [cent_med_high['CENTILOIDS'].min(),cent_med_high['CENTILOIDS'].max()]\n",
    "high_range = [cent_high['CENTILOIDS'].min(),cent_high['CENTILOIDS'].max()]\n",
    "print(f\"centiloid range low amy pos quartile {low_range}\")\n",
    "print(f\"centiloid range med low amy pos quartile {med_low_range}\")\n",
    "print(f\"centiloid range med high amy pos quartile {med_high_range}\")\n",
    "print(f\"centiloid range high amy pos quartile {high_range}\")\n"
   ]
  },
  {
   "attachments": {},
   "cell_type": "markdown",
   "metadata": {},
   "source": [
    "##### save the adni centiloid quartiles csvs to use for graph construction"
   ]
  },
  {
   "cell_type": "code",
   "execution_count": 24,
   "metadata": {},
   "outputs": [],
   "source": [
    "#save the quartile csvs \n",
    "\n",
    "cent_low.to_csv('./adni/adni_amy_tau_merged_cent_low_quartile.csv', index=False)\n",
    "cent_med_low.to_csv('./adni/adni_amy_tau_merged_cent_med_low_quartile.csv', index=False)\n",
    "cent_med_high.to_csv('./adni/adni_amy_tau_merged_cent_med_high_quartile.csv',index=False)\n",
    "cent_high.to_csv('./adni/adni_amy_tau_merged_cent_high_quartile.csv',index=False)"
   ]
  },
  {
   "attachments": {},
   "cell_type": "markdown",
   "metadata": {},
   "source": [
    "- Only keep patients rows from most recent scan \n"
   ]
  },
  {
   "cell_type": "code",
   "execution_count": 23,
   "metadata": {},
   "outputs": [],
   "source": [
    "# #drop duplicate rows so that only the last visit row is still there \n",
    "# adni_amy_filtered = adni_amy.drop_duplicates(subset='RID',keep='last')\n",
    "# #now it only has rows with the last visit \n",
    "# adni_amy_filtered = adni_amy.reset_index(drop=True)\n",
    "\n",
    "\n",
    "\n",
    "# adni_amy['SCANDATE']= pd.to_datetime(adni_amy['SCANDATE'])\n",
    "# #find most recent scan \n",
    "# most_recent_scan_date = adni_amy['SCANDATE'].max()\n",
    "# #filter df to only include rows with most recent scan date \n",
    "# most_recent_scan = adni_amy[adni_amy['SCANDATE']==most_recent_scan_date]\n",
    "# #select cols to keep \n",
    "# cols_to_keep = ['RID','SCANDATE','TRACER','CENTILOIDS']\n",
    "# adni_amy_filtered = most_recent_scan[cols_to_keep]\n",
    "# print(adni_amy_filtered)"
   ]
  },
  {
   "attachments": {},
   "cell_type": "markdown",
   "metadata": {},
   "source": [
    "* Task 1: \n",
    "* clean A4 data \n",
    "* I think that the A4_processed.csv has both amyloid and tau, but also includes patients with amyloid and no tau so just drop rows where the tau col is empty \n",
    "* A4_PETSUVR_PRV2_15_Aug2023 has id, visit code, and composite centiloid so use this for centiloid \n",
    "\n",
    "* TAUSUVR_15Aug2023 has the regional survs \n"
   ]
  },
  {
   "cell_type": "code",
   "execution_count": null,
   "metadata": {},
   "outputs": [],
   "source": [
    "#Now repeat the quartiles on a4"
   ]
  },
  {
   "cell_type": "code",
   "execution_count": 26,
   "metadata": {},
   "outputs": [
    {
     "name": "stderr",
     "output_type": "stream",
     "text": [
      "/tmp/ipykernel_1152479/2932986344.py:10: FutureWarning: The frame.append method is deprecated and will be removed from pandas in a future version. Use pandas.concat instead.\n",
      "  quartile_dfs[quartile_num] = quartile_dfs[quartile_num].append(row, ignore_index=True)\n"
     ]
    }
   ],
   "source": [
    "# Calculate quartiles for each patient's 'CENTILOIDS' values\n",
    "merged_a4_at_amypos_bi_harm['quartile'] = pd.qcut(merged_a4_at_amypos_bi_harm['CENTILOIDS'], q=4, labels=False)\n",
    "\n",
    "# Initialize empty DataFrames for each quartile\n",
    "quartile_dfs = [pd.DataFrame(columns=merged_a4_at_amypos_bi_harm.columns) for _ in range(4)]\n",
    "\n",
    "# Sort patients into quartile DataFrames\n",
    "for index, row in merged_a4_at_amypos_bi_harm.iterrows():\n",
    "    quartile_num = row['quartile']\n",
    "    quartile_dfs[quartile_num] = quartile_dfs[quartile_num].append(row, ignore_index=True)\n",
    "\n",
    "# Remove the 'QUARTILE' column from each quartile DataFrame\n",
    "for i in range(4):\n",
    "    quartile_dfs[i] = quartile_dfs[i].drop(columns=['quartile'])\n"
   ]
  },
  {
   "cell_type": "code",
   "execution_count": 27,
   "metadata": {},
   "outputs": [
    {
     "data": {
      "text/plain": [
       "<AxesSubplot: >"
      ]
     },
     "execution_count": 27,
     "metadata": {},
     "output_type": "execute_result"
    },
    {
     "data": {
      "image/png": "[encoded data removed]",
      "text/plain": [
       "<Figure size 640x480 with 1 Axes>"
      ]
     },
     "metadata": {},
     "output_type": "display_data"
    }
   ],
   "source": [
    "merged_a4_at_amypos_bi_harm['CENTILOIDS'].hist()"
   ]
  },
  {
   "cell_type": "code",
   "execution_count": 28,
   "metadata": {},
   "outputs": [],
   "source": [
    "a4_cent_low = quartile_dfs[0]\n",
    "a4_cent_med_low = quartile_dfs[1]\n",
    "a4_cent_med_high = quartile_dfs[2]\n",
    "a4_cent_high = quartile_dfs[3]"
   ]
  },
  {
   "cell_type": "code",
   "execution_count": 29,
   "metadata": {},
   "outputs": [
    {
     "name": "stdout",
     "output_type": "stream",
     "text": [
      "(101, 33)\n",
      "(86, 33)\n",
      "(94, 33)\n",
      "(92, 33)\n"
     ]
    }
   ],
   "source": [
    "#classes are reasonably well balanced \n",
    "print(a4_cent_low.shape)\n",
    "print(a4_cent_med_low.shape)\n",
    "print(a4_cent_med_high.shape)\n",
    "print(a4_cent_high.shape)"
   ]
  },
  {
   "cell_type": "code",
   "execution_count": 31,
   "metadata": {},
   "outputs": [
    {
     "name": "stdout",
     "output_type": "stream",
     "text": [
      "centiloid range low amy pos quartile [22.286, 42.424]\n",
      "centiloid range med low amy pos quartile [44.255, 60.731]\n",
      "centiloid range med high amy pos quartile [62.562, 82.699]\n",
      "centiloid range high amy pos quartile [84.53, 192.541]\n"
     ]
    }
   ],
   "source": [
    "a4_low_range= [a4_cent_low['CENTILOIDS'].min(),a4_cent_low['CENTILOIDS'].max()]\n",
    "a4_med_low_range = [a4_cent_med_low['CENTILOIDS'].min(),a4_cent_med_low['CENTILOIDS'].max()]\n",
    "a4_med_high_range = [a4_cent_med_high['CENTILOIDS'].min(),a4_cent_med_high['CENTILOIDS'].max()]\n",
    "a4_high_range = [a4_cent_high['CENTILOIDS'].min(),a4_cent_high['CENTILOIDS'].max()]\n",
    "print(f\"centiloid range low amy pos quartile {a4_low_range}\")\n",
    "print(f\"centiloid range med low amy pos quartile {a4_med_low_range}\")\n",
    "print(f\"centiloid range med high amy pos quartile {a4_med_high_range}\")\n",
    "print(f\"centiloid range high amy pos quartile {a4_high_range}\")"
   ]
  },
  {
   "attachments": {},
   "cell_type": "markdown",
   "metadata": {},
   "source": [
    "##### save a4 quartiles for graph construction \n"
   ]
  },
  {
   "cell_type": "code",
   "execution_count": 32,
   "metadata": {},
   "outputs": [],
   "source": [
    "#save the quartile csvs \n",
    "a4_cent_low.to_csv('./a4/a4_amy_tau_merged_cent_low_quartile.csv',index=False)\n",
    "a4_cent_med_low.to_csv('./a4/a4_amy_tau_merged_cent_med_low_quartile.csv',index=False)\n",
    "a4_cent_med_high.to_csv('./a4/a4_amy_tau_merged_cent_med_high_quartile.csv',index=False)\n",
    "a4_cent_high.to_csv('./a4/a4_adni_amy_tau_merged_cent_high_quartile.csv',index=False)"
   ]
  }
 ],
 "metadata": {
  "kernelspec": {
   "display_name": "graph_env",
   "language": "python",
   "name": "python3"
  },
  "language_info": {
   "codemirror_mode": {
    "name": "ipython",
    "version": 3
   },
   "file_extension": ".py",
   "mimetype": "text/x-python",
   "name": "python",
   "nbconvert_exporter": "python",
   "pygments_lexer": "ipython3",
   "version": "3.8.10"
  },
  "orig_nbformat": 4
 },
 "nbformat": 4,
 "nbformat_minor": 2
}
