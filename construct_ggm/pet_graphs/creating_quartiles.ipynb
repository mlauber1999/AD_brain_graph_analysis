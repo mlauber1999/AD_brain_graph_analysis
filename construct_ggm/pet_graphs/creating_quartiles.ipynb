{
 "cells": [
  {
   "cell_type": "code",
   "execution_count": 1,
   "metadata": {},
   "outputs": [],
   "source": [
    "import numpy as np\n",
    "import pandas as pd\n",
    "import matplotlib.pyplot as plt\n",
    "import os\n",
    "import warnings\n",
    "import networkx as nx\n",
    "import matplotlib.colors as mcolors\n",
    "# warnings.simplefilter(action='ignore', category=FutureWarning)\n",
    "# pd.options.display.max_rows = None\n",
    "# pd.options.display.max_columns = None\n",
    "import glob as glob\n",
    "import math\n"
   ]
  },
  {
   "cell_type": "code",
   "execution_count": 2,
   "metadata": {},
   "outputs": [
    {
     "name": "stdout",
     "output_type": "stream",
     "text": [
      "1.5.2\n"
     ]
    }
   ],
   "source": [
    "print(pd.__version__)"
   ]
  },
  {
   "attachments": {},
   "cell_type": "markdown",
   "metadata": {},
   "source": [
    "#### read in csv amyloid pos and negative for adni and a4 \n",
    "- this code runs with the graph_env environment which uses pandas 1.5.2 instead of 2.1 that matteo made for mci_mri_graph env\n"
   ]
  },
  {
   "attachments": {},
   "cell_type": "markdown",
   "metadata": {},
   "source": [
    "### sort the data into quartiles based on centiloid value"
   ]
  },
  {
   "cell_type": "code",
   "execution_count": 3,
   "metadata": {},
   "outputs": [],
   "source": [
    "merged_adni_at_amypos_bi_harm = pd.read_csv('./adni/merged_adni_at_amy_pos_bi_harm.csv')\n",
    "merged_a4_at_amypos_bi_harm = pd.read_csv('./a4/merged_a4_at_amy_pos_bi_harm.csv')"
   ]
  },
  {
   "cell_type": "code",
   "execution_count": 4,
   "metadata": {},
   "outputs": [
    {
     "data": {
      "text/html": [
       "<div>\n",
       "<style scoped>\n",
       "    .dataframe tbody tr th:only-of-type {\n",
       "        vertical-align: middle;\n",
       "    }\n",
       "\n",
       "    .dataframe tbody tr th {\n",
       "        vertical-align: top;\n",
       "    }\n",
       "\n",
       "    .dataframe thead th {\n",
       "        text-align: right;\n",
       "    }\n",
       "</style>\n",
       "<table border=\"1\" class=\"dataframe\">\n",
       "  <thead>\n",
       "    <tr style=\"text-align: right;\">\n",
       "      <th></th>\n",
       "      <th>RID</th>\n",
       "      <th>PUTAMEN</th>\n",
       "      <th>PRECUNEUS</th>\n",
       "      <th>CAUDATE</th>\n",
       "      <th>SUPERIORFRONTAL</th>\n",
       "      <th>BANKSSTS</th>\n",
       "      <th>FUSIFORM</th>\n",
       "      <th>INSULA</th>\n",
       "      <th>SUPRAMARGINAL</th>\n",
       "      <th>POSTCENTRAL</th>\n",
       "      <th>...</th>\n",
       "      <th>TRANSVERSETEMPORAL</th>\n",
       "      <th>PALLIDUM</th>\n",
       "      <th>INFERIORPARIETAL</th>\n",
       "      <th>TRACER</th>\n",
       "      <th>LATERALOCCIPITAL</th>\n",
       "      <th>MIDDLETEMPORAL</th>\n",
       "      <th>PERICALCARINE</th>\n",
       "      <th>PARACENTRAL</th>\n",
       "      <th>INFERIORTEMPORAL</th>\n",
       "      <th>ACCUMBENS_AREA</th>\n",
       "    </tr>\n",
       "  </thead>\n",
       "  <tbody>\n",
       "    <tr>\n",
       "      <th>0</th>\n",
       "      <td>31</td>\n",
       "      <td>1.262</td>\n",
       "      <td>1.529</td>\n",
       "      <td>1.172</td>\n",
       "      <td>1.491</td>\n",
       "      <td>1.394</td>\n",
       "      <td>1.295</td>\n",
       "      <td>1.206</td>\n",
       "      <td>1.458</td>\n",
       "      <td>1.541</td>\n",
       "      <td>...</td>\n",
       "      <td>1.484</td>\n",
       "      <td>1.572</td>\n",
       "      <td>1.575</td>\n",
       "      <td>FBP</td>\n",
       "      <td>1.587</td>\n",
       "      <td>1.505</td>\n",
       "      <td>1.103</td>\n",
       "      <td>1.406</td>\n",
       "      <td>1.532</td>\n",
       "      <td>1.476</td>\n",
       "    </tr>\n",
       "    <tr>\n",
       "      <th>1</th>\n",
       "      <td>112</td>\n",
       "      <td>1.822</td>\n",
       "      <td>2.140</td>\n",
       "      <td>1.118</td>\n",
       "      <td>2.215</td>\n",
       "      <td>2.009</td>\n",
       "      <td>2.015</td>\n",
       "      <td>1.905</td>\n",
       "      <td>1.947</td>\n",
       "      <td>1.606</td>\n",
       "      <td>...</td>\n",
       "      <td>1.746</td>\n",
       "      <td>1.673</td>\n",
       "      <td>1.948</td>\n",
       "      <td>FBP</td>\n",
       "      <td>1.529</td>\n",
       "      <td>2.057</td>\n",
       "      <td>1.644</td>\n",
       "      <td>1.759</td>\n",
       "      <td>2.480</td>\n",
       "      <td>1.428</td>\n",
       "    </tr>\n",
       "    <tr>\n",
       "      <th>2</th>\n",
       "      <td>120</td>\n",
       "      <td>1.372</td>\n",
       "      <td>1.576</td>\n",
       "      <td>1.338</td>\n",
       "      <td>1.651</td>\n",
       "      <td>1.539</td>\n",
       "      <td>1.494</td>\n",
       "      <td>1.314</td>\n",
       "      <td>1.731</td>\n",
       "      <td>1.675</td>\n",
       "      <td>...</td>\n",
       "      <td>1.209</td>\n",
       "      <td>1.335</td>\n",
       "      <td>1.820</td>\n",
       "      <td>FBP</td>\n",
       "      <td>1.845</td>\n",
       "      <td>1.795</td>\n",
       "      <td>1.500</td>\n",
       "      <td>1.584</td>\n",
       "      <td>1.733</td>\n",
       "      <td>0.962</td>\n",
       "    </tr>\n",
       "    <tr>\n",
       "      <th>3</th>\n",
       "      <td>142</td>\n",
       "      <td>1.402</td>\n",
       "      <td>1.474</td>\n",
       "      <td>1.298</td>\n",
       "      <td>1.466</td>\n",
       "      <td>1.539</td>\n",
       "      <td>1.446</td>\n",
       "      <td>1.557</td>\n",
       "      <td>1.540</td>\n",
       "      <td>1.467</td>\n",
       "      <td>...</td>\n",
       "      <td>1.136</td>\n",
       "      <td>1.548</td>\n",
       "      <td>1.692</td>\n",
       "      <td>FBP</td>\n",
       "      <td>1.598</td>\n",
       "      <td>2.280</td>\n",
       "      <td>1.638</td>\n",
       "      <td>1.387</td>\n",
       "      <td>1.960</td>\n",
       "      <td>2.485</td>\n",
       "    </tr>\n",
       "    <tr>\n",
       "      <th>4</th>\n",
       "      <td>210</td>\n",
       "      <td>1.390</td>\n",
       "      <td>1.619</td>\n",
       "      <td>1.283</td>\n",
       "      <td>1.493</td>\n",
       "      <td>1.671</td>\n",
       "      <td>1.606</td>\n",
       "      <td>1.288</td>\n",
       "      <td>1.779</td>\n",
       "      <td>1.656</td>\n",
       "      <td>...</td>\n",
       "      <td>1.298</td>\n",
       "      <td>1.536</td>\n",
       "      <td>1.882</td>\n",
       "      <td>FBP</td>\n",
       "      <td>2.025</td>\n",
       "      <td>1.998</td>\n",
       "      <td>1.419</td>\n",
       "      <td>1.568</td>\n",
       "      <td>1.977</td>\n",
       "      <td>1.160</td>\n",
       "    </tr>\n",
       "    <tr>\n",
       "      <th>...</th>\n",
       "      <td>...</td>\n",
       "      <td>...</td>\n",
       "      <td>...</td>\n",
       "      <td>...</td>\n",
       "      <td>...</td>\n",
       "      <td>...</td>\n",
       "      <td>...</td>\n",
       "      <td>...</td>\n",
       "      <td>...</td>\n",
       "      <td>...</td>\n",
       "      <td>...</td>\n",
       "      <td>...</td>\n",
       "      <td>...</td>\n",
       "      <td>...</td>\n",
       "      <td>...</td>\n",
       "      <td>...</td>\n",
       "      <td>...</td>\n",
       "      <td>...</td>\n",
       "      <td>...</td>\n",
       "      <td>...</td>\n",
       "      <td>...</td>\n",
       "    </tr>\n",
       "    <tr>\n",
       "      <th>406</th>\n",
       "      <td>6572</td>\n",
       "      <td>1.268</td>\n",
       "      <td>1.659</td>\n",
       "      <td>1.493</td>\n",
       "      <td>1.537</td>\n",
       "      <td>2.044</td>\n",
       "      <td>1.792</td>\n",
       "      <td>1.157</td>\n",
       "      <td>1.971</td>\n",
       "      <td>1.824</td>\n",
       "      <td>...</td>\n",
       "      <td>0.808</td>\n",
       "      <td>1.692</td>\n",
       "      <td>2.571</td>\n",
       "      <td>FBB</td>\n",
       "      <td>2.041</td>\n",
       "      <td>2.427</td>\n",
       "      <td>1.108</td>\n",
       "      <td>1.350</td>\n",
       "      <td>2.434</td>\n",
       "      <td>1.935</td>\n",
       "    </tr>\n",
       "    <tr>\n",
       "      <th>407</th>\n",
       "      <td>6575</td>\n",
       "      <td>1.394</td>\n",
       "      <td>1.360</td>\n",
       "      <td>1.264</td>\n",
       "      <td>1.420</td>\n",
       "      <td>1.304</td>\n",
       "      <td>1.400</td>\n",
       "      <td>1.333</td>\n",
       "      <td>1.507</td>\n",
       "      <td>1.372</td>\n",
       "      <td>...</td>\n",
       "      <td>1.215</td>\n",
       "      <td>1.533</td>\n",
       "      <td>1.583</td>\n",
       "      <td>FBB</td>\n",
       "      <td>1.528</td>\n",
       "      <td>1.552</td>\n",
       "      <td>1.066</td>\n",
       "      <td>1.494</td>\n",
       "      <td>1.574</td>\n",
       "      <td>1.613</td>\n",
       "    </tr>\n",
       "    <tr>\n",
       "      <th>408</th>\n",
       "      <td>6580</td>\n",
       "      <td>1.604</td>\n",
       "      <td>1.552</td>\n",
       "      <td>1.344</td>\n",
       "      <td>1.629</td>\n",
       "      <td>1.535</td>\n",
       "      <td>1.494</td>\n",
       "      <td>1.281</td>\n",
       "      <td>1.727</td>\n",
       "      <td>1.649</td>\n",
       "      <td>...</td>\n",
       "      <td>1.230</td>\n",
       "      <td>1.612</td>\n",
       "      <td>1.743</td>\n",
       "      <td>FBB</td>\n",
       "      <td>1.766</td>\n",
       "      <td>1.688</td>\n",
       "      <td>1.408</td>\n",
       "      <td>1.625</td>\n",
       "      <td>1.857</td>\n",
       "      <td>1.519</td>\n",
       "    </tr>\n",
       "    <tr>\n",
       "      <th>409</th>\n",
       "      <td>6581</td>\n",
       "      <td>1.440</td>\n",
       "      <td>1.186</td>\n",
       "      <td>1.335</td>\n",
       "      <td>1.343</td>\n",
       "      <td>1.198</td>\n",
       "      <td>1.284</td>\n",
       "      <td>1.121</td>\n",
       "      <td>1.414</td>\n",
       "      <td>1.401</td>\n",
       "      <td>...</td>\n",
       "      <td>0.997</td>\n",
       "      <td>1.632</td>\n",
       "      <td>1.484</td>\n",
       "      <td>FBB</td>\n",
       "      <td>1.618</td>\n",
       "      <td>1.574</td>\n",
       "      <td>0.995</td>\n",
       "      <td>1.305</td>\n",
       "      <td>1.613</td>\n",
       "      <td>1.366</td>\n",
       "    </tr>\n",
       "    <tr>\n",
       "      <th>410</th>\n",
       "      <td>6586</td>\n",
       "      <td>1.601</td>\n",
       "      <td>1.278</td>\n",
       "      <td>1.313</td>\n",
       "      <td>1.264</td>\n",
       "      <td>1.276</td>\n",
       "      <td>1.225</td>\n",
       "      <td>1.022</td>\n",
       "      <td>1.310</td>\n",
       "      <td>1.218</td>\n",
       "      <td>...</td>\n",
       "      <td>1.028</td>\n",
       "      <td>1.899</td>\n",
       "      <td>1.357</td>\n",
       "      <td>FBB</td>\n",
       "      <td>1.386</td>\n",
       "      <td>1.376</td>\n",
       "      <td>1.172</td>\n",
       "      <td>1.186</td>\n",
       "      <td>1.399</td>\n",
       "      <td>1.360</td>\n",
       "    </tr>\n",
       "  </tbody>\n",
       "</table>\n",
       "<p>411 rows × 35 columns</p>\n",
       "</div>"
      ],
      "text/plain": [
       "      RID  PUTAMEN  PRECUNEUS  CAUDATE  SUPERIORFRONTAL  BANKSSTS  FUSIFORM  \\\n",
       "0      31    1.262      1.529    1.172            1.491     1.394     1.295   \n",
       "1     112    1.822      2.140    1.118            2.215     2.009     2.015   \n",
       "2     120    1.372      1.576    1.338            1.651     1.539     1.494   \n",
       "3     142    1.402      1.474    1.298            1.466     1.539     1.446   \n",
       "4     210    1.390      1.619    1.283            1.493     1.671     1.606   \n",
       "..    ...      ...        ...      ...              ...       ...       ...   \n",
       "406  6572    1.268      1.659    1.493            1.537     2.044     1.792   \n",
       "407  6575    1.394      1.360    1.264            1.420     1.304     1.400   \n",
       "408  6580    1.604      1.552    1.344            1.629     1.535     1.494   \n",
       "409  6581    1.440      1.186    1.335            1.343     1.198     1.284   \n",
       "410  6586    1.601      1.278    1.313            1.264     1.276     1.225   \n",
       "\n",
       "     INSULA  SUPRAMARGINAL  POSTCENTRAL  ...  TRANSVERSETEMPORAL  PALLIDUM  \\\n",
       "0     1.206          1.458        1.541  ...               1.484     1.572   \n",
       "1     1.905          1.947        1.606  ...               1.746     1.673   \n",
       "2     1.314          1.731        1.675  ...               1.209     1.335   \n",
       "3     1.557          1.540        1.467  ...               1.136     1.548   \n",
       "4     1.288          1.779        1.656  ...               1.298     1.536   \n",
       "..      ...            ...          ...  ...                 ...       ...   \n",
       "406   1.157          1.971        1.824  ...               0.808     1.692   \n",
       "407   1.333          1.507        1.372  ...               1.215     1.533   \n",
       "408   1.281          1.727        1.649  ...               1.230     1.612   \n",
       "409   1.121          1.414        1.401  ...               0.997     1.632   \n",
       "410   1.022          1.310        1.218  ...               1.028     1.899   \n",
       "\n",
       "     INFERIORPARIETAL  TRACER  LATERALOCCIPITAL  MIDDLETEMPORAL  \\\n",
       "0               1.575     FBP             1.587           1.505   \n",
       "1               1.948     FBP             1.529           2.057   \n",
       "2               1.820     FBP             1.845           1.795   \n",
       "3               1.692     FBP             1.598           2.280   \n",
       "4               1.882     FBP             2.025           1.998   \n",
       "..                ...     ...               ...             ...   \n",
       "406             2.571     FBB             2.041           2.427   \n",
       "407             1.583     FBB             1.528           1.552   \n",
       "408             1.743     FBB             1.766           1.688   \n",
       "409             1.484     FBB             1.618           1.574   \n",
       "410             1.357     FBB             1.386           1.376   \n",
       "\n",
       "     PERICALCARINE  PARACENTRAL  INFERIORTEMPORAL  ACCUMBENS_AREA  \n",
       "0            1.103        1.406             1.532           1.476  \n",
       "1            1.644        1.759             2.480           1.428  \n",
       "2            1.500        1.584             1.733           0.962  \n",
       "3            1.638        1.387             1.960           2.485  \n",
       "4            1.419        1.568             1.977           1.160  \n",
       "..             ...          ...               ...             ...  \n",
       "406          1.108        1.350             2.434           1.935  \n",
       "407          1.066        1.494             1.574           1.613  \n",
       "408          1.408        1.625             1.857           1.519  \n",
       "409          0.995        1.305             1.613           1.366  \n",
       "410          1.172        1.186             1.399           1.360  \n",
       "\n",
       "[411 rows x 35 columns]"
      ]
     },
     "execution_count": 4,
     "metadata": {},
     "output_type": "execute_result"
    }
   ],
   "source": [
    "merged_adni_at_amypos_bi_harm"
   ]
  },
  {
   "cell_type": "code",
   "execution_count": 23,
   "metadata": {},
   "outputs": [
    {
     "name": "stdout",
     "output_type": "stream",
     "text": [
      "66.58628418230562\n",
      "78.08515815085158\n"
     ]
    }
   ],
   "source": [
    "mean_a4 = merged_a4_at_amypos_bi_harm['CENTILOIDS'].mean()\n",
    "mean_adni = merged_adni_at_amypos_bi_harm['CENTILOIDS'].mean()\n",
    "print(mean_a4)\n",
    "print(mean_adni)"
   ]
  },
  {
   "attachments": {},
   "cell_type": "markdown",
   "metadata": {},
   "source": [
    "#### do histogram of centiloid values across adni and a4 \n",
    "- adni has higher centiloid values because a4 is anti-amyloid treatment in asymptomatic ad \n",
    "- makes sense that a4 has slightly lower centiloids than adni because it's selected by being asymptomatic \n",
    "- this probably means that the tau is also lower in a4 patients \n"
   ]
  },
  {
   "cell_type": "code",
   "execution_count": 28,
   "metadata": {},
   "outputs": [
    {
     "data": {
      "image/png": "[encoded data removed]",
      "text/plain": [
       "<Figure size 640x480 with 1 Axes>"
      ]
     },
     "metadata": {},
     "output_type": "display_data"
    }
   ],
   "source": [
    "fig,ax = plt.subplots()\n",
    "ax.hist(merged_a4_at_amypos_bi_harm['CENTILOIDS'],bins=20,label=\"A4 Centiloids\",alpha=.7)\n",
    "ax.hist(merged_adni_at_amypos_bi_harm['CENTILOIDS'],bins=20,label=\"ADNI Centiloids\",alpha=.4)\n",
    "ax.set_xlabel(\"Centiloid distribution\")\n",
    "ax.set_ylabel(\"Patient Count\")\n",
    "ax.axvline(x=21, color='red', linestyle='--', label='Amyloid Positive Cut Off')\n",
    "ax.axvline(x=mean_a4, color='blue', linestyle='-', label='A4 Mean Centiloid')\n",
    "ax.axvline(x=mean_adni, color='orange', linestyle='-', label='ADNI Mean Centiloid')\n",
    "ax.legend()\n",
    "plt.title(\"Distribution of Amyloid Positive Centiloids in ADNI and A4\")\n",
    "plt.show()\n"
   ]
  },
  {
   "attachments": {},
   "cell_type": "markdown",
   "metadata": {},
   "source": [
    "#### sort adni data into centiloid "
   ]
  },
  {
   "cell_type": "code",
   "execution_count": 6,
   "metadata": {},
   "outputs": [
    {
     "name": "stderr",
     "output_type": "stream",
     "text": [
      "/tmp/ipykernel_3002692/667071555.py:10: FutureWarning: The frame.append method is deprecated and will be removed from pandas in a future version. Use pandas.concat instead.\n",
      "  quartile_dfs[quartile_num] = quartile_dfs[quartile_num].append(row, ignore_index=True)\n"
     ]
    }
   ],
   "source": [
    "# Calculate quartiles for each patient's 'CENTILOIDS' values\n",
    "merged_adni_at_amypos_bi_harm['QUARTILE'] = pd.qcut(merged_adni_at_amypos_bi_harm['CENTILOIDS'], q=4, labels=False)\n",
    "\n",
    "# Initialize empty DataFrames for each quartile\n",
    "quartile_dfs = [pd.DataFrame(columns=merged_adni_at_amypos_bi_harm.columns) for _ in range(4)]\n",
    "\n",
    "# Sort patients into quartile DataFrames\n",
    "for index, row in merged_adni_at_amypos_bi_harm.iterrows():\n",
    "    quartile_num = row['QUARTILE']\n",
    "    quartile_dfs[quartile_num] = quartile_dfs[quartile_num].append(row, ignore_index=True)\n",
    "\n",
    "# Remove the 'QUARTILE' column from each quartile DataFrame\n",
    "for i in range(4):\n",
    "    quartile_dfs[i] = quartile_dfs[i].drop(columns=['QUARTILE'])\n",
    "\n",
    "\n"
   ]
  },
  {
   "cell_type": "code",
   "execution_count": 7,
   "metadata": {},
   "outputs": [
    {
     "name": "stdout",
     "output_type": "stream",
     "text": [
      "           RID  PUTAMEN  PRECUNEUS  CAUDATE  SUPERIORFRONTAL  BANKSSTS  \\\n",
      "0    B10423472    1.341      1.079    1.036            1.047     1.223   \n",
      "1    B10693248    1.419      1.114    1.030            0.979     1.273   \n",
      "2    B10709603    1.583      1.040    1.133            0.898     1.184   \n",
      "3    B10904689    1.214      1.218    0.991            1.011     1.173   \n",
      "4    B11089276    1.679      1.160    1.269            1.049     1.268   \n",
      "..         ...      ...        ...      ...              ...       ...   \n",
      "368  B92372599    1.453      1.072    0.965            0.998     1.173   \n",
      "369  B97841288    1.651      1.321    0.946            1.151     1.237   \n",
      "370  B98032541    1.308      1.384    0.894            1.237     1.670   \n",
      "371  B99033399    1.315      1.110    1.015            0.994     1.138   \n",
      "372  B99860801    1.331      0.976    0.976            0.890     1.014   \n",
      "\n",
      "     FUSIFORM  INSULA  SUPRAMARGINAL  POSTCENTRAL  ...  TRANSVERSETEMPORAL  \\\n",
      "0       1.188   1.113          0.987        0.882  ...               0.949   \n",
      "1       1.242   1.128          1.146        0.929  ...               1.066   \n",
      "2       1.235   1.091          1.036        0.880  ...               0.982   \n",
      "3       1.244   1.051          1.142        0.897  ...               0.963   \n",
      "4       1.182   1.220          1.098        0.995  ...               1.066   \n",
      "..        ...     ...            ...          ...  ...                 ...   \n",
      "368     1.142   0.987          1.123        1.022  ...               0.859   \n",
      "369     1.256   1.210          1.113        0.986  ...               0.892   \n",
      "370     1.202   1.117          1.319        0.982  ...               0.829   \n",
      "371     1.057   1.120          1.041        0.955  ...               1.067   \n",
      "372     1.082   0.975          0.936        0.844  ...               0.929   \n",
      "\n",
      "     PALLIDUM  INFERIORPARIETAL       TRACER  LATERALOCCIPITAL  \\\n",
      "0       1.444             1.018  Florbetapir             0.896   \n",
      "1       1.495             1.415  Florbetapir             1.105   \n",
      "2       1.719             1.090  Florbetapir             1.054   \n",
      "3       1.316             1.310  Florbetapir             1.195   \n",
      "4       1.741             1.134  Florbetapir             1.066   \n",
      "..        ...               ...          ...               ...   \n",
      "368     1.452             1.207  Florbetapir             1.237   \n",
      "369     1.632             1.309  Florbetapir             1.200   \n",
      "370     1.341             1.362  Florbetapir             1.041   \n",
      "371     1.377             1.063  Florbetapir             1.016   \n",
      "372     1.409             0.947  Florbetapir             0.938   \n",
      "\n",
      "     MIDDLETEMPORAL  PERICALCARINE  PARACENTRAL  INFERIORTEMPORAL  \\\n",
      "0             1.118          0.976        1.031             1.226   \n",
      "1             1.298          1.040        0.944             1.300   \n",
      "2             1.118          1.034        0.912             1.184   \n",
      "3             1.198          1.109        0.940             1.349   \n",
      "4             1.161          1.135        1.054             1.158   \n",
      "..              ...            ...          ...               ...   \n",
      "368           1.212          1.064        1.073             1.249   \n",
      "369           1.234          1.155        1.260             1.405   \n",
      "370           1.322          1.033        1.105             1.346   \n",
      "371           1.049          1.051        1.099             1.037   \n",
      "372           0.994          0.944        0.941             1.031   \n",
      "\n",
      "     ACCUMBENS_AREA  \n",
      "0             1.252  \n",
      "1             1.306  \n",
      "2             1.395  \n",
      "3             1.221  \n",
      "4             1.426  \n",
      "..              ...  \n",
      "368           1.325  \n",
      "369           1.240  \n",
      "370           1.046  \n",
      "371           1.189  \n",
      "372           1.143  \n",
      "\n",
      "[373 rows x 35 columns]\n"
     ]
    }
   ],
   "source": [
    "print(merged_a4_at_amypos_bi_harm)"
   ]
  },
  {
   "attachments": {},
   "cell_type": "markdown",
   "metadata": {},
   "source": [
    "##### create separate data frames based on the new quartiles"
   ]
  },
  {
   "cell_type": "code",
   "execution_count": 8,
   "metadata": {},
   "outputs": [],
   "source": [
    "#divide into quartiles based on centiloids column \n",
    "#the thing is 903 total patients but I want to divide them into quartiles \n",
    "\n",
    "cent_low = quartile_dfs[0]\n",
    "cent_med_low = quartile_dfs[1]\n",
    "cent_med_high = quartile_dfs[2]\n",
    "cent_high = quartile_dfs[3]\n"
   ]
  },
  {
   "cell_type": "code",
   "execution_count": 9,
   "metadata": {},
   "outputs": [
    {
     "data": {
      "text/html": [
       "<div>\n",
       "<style scoped>\n",
       "    .dataframe tbody tr th:only-of-type {\n",
       "        vertical-align: middle;\n",
       "    }\n",
       "\n",
       "    .dataframe tbody tr th {\n",
       "        vertical-align: top;\n",
       "    }\n",
       "\n",
       "    .dataframe thead th {\n",
       "        text-align: right;\n",
       "    }\n",
       "</style>\n",
       "<table border=\"1\" class=\"dataframe\">\n",
       "  <thead>\n",
       "    <tr style=\"text-align: right;\">\n",
       "      <th></th>\n",
       "      <th>CENTILOIDS</th>\n",
       "      <th>QUARTILE</th>\n",
       "    </tr>\n",
       "  </thead>\n",
       "  <tbody>\n",
       "    <tr>\n",
       "      <th>0</th>\n",
       "      <td>97.0</td>\n",
       "      <td>2</td>\n",
       "    </tr>\n",
       "    <tr>\n",
       "      <th>1</th>\n",
       "      <td>89.0</td>\n",
       "      <td>2</td>\n",
       "    </tr>\n",
       "    <tr>\n",
       "      <th>2</th>\n",
       "      <td>32.0</td>\n",
       "      <td>0</td>\n",
       "    </tr>\n",
       "    <tr>\n",
       "      <th>3</th>\n",
       "      <td>107.0</td>\n",
       "      <td>3</td>\n",
       "    </tr>\n",
       "    <tr>\n",
       "      <th>4</th>\n",
       "      <td>54.0</td>\n",
       "      <td>1</td>\n",
       "    </tr>\n",
       "    <tr>\n",
       "      <th>...</th>\n",
       "      <td>...</td>\n",
       "      <td>...</td>\n",
       "    </tr>\n",
       "    <tr>\n",
       "      <th>406</th>\n",
       "      <td>115.0</td>\n",
       "      <td>3</td>\n",
       "    </tr>\n",
       "    <tr>\n",
       "      <th>407</th>\n",
       "      <td>89.0</td>\n",
       "      <td>2</td>\n",
       "    </tr>\n",
       "    <tr>\n",
       "      <th>408</th>\n",
       "      <td>142.0</td>\n",
       "      <td>3</td>\n",
       "    </tr>\n",
       "    <tr>\n",
       "      <th>409</th>\n",
       "      <td>28.0</td>\n",
       "      <td>0</td>\n",
       "    </tr>\n",
       "    <tr>\n",
       "      <th>410</th>\n",
       "      <td>40.0</td>\n",
       "      <td>0</td>\n",
       "    </tr>\n",
       "  </tbody>\n",
       "</table>\n",
       "<p>411 rows × 2 columns</p>\n",
       "</div>"
      ],
      "text/plain": [
       "     CENTILOIDS  QUARTILE\n",
       "0          97.0         2\n",
       "1          89.0         2\n",
       "2          32.0         0\n",
       "3         107.0         3\n",
       "4          54.0         1\n",
       "..          ...       ...\n",
       "406       115.0         3\n",
       "407        89.0         2\n",
       "408       142.0         3\n",
       "409        28.0         0\n",
       "410        40.0         0\n",
       "\n",
       "[411 rows x 2 columns]"
      ]
     },
     "execution_count": 9,
     "metadata": {},
     "output_type": "execute_result"
    }
   ],
   "source": [
    "merged_adni_at_amypos_bi_harm[['CENTILOIDS','QUARTILE']]"
   ]
  },
  {
   "attachments": {},
   "cell_type": "markdown",
   "metadata": {},
   "source": [
    "#### Quartiles seem reasonably well aligned with AD pathology \n",
    "- centiloids are scaled such that 0 is no pathology and 100 is advanced pathology, so plotting thr quartiles seem to be reasonably well aligned based on the histrogram plotted \n",
    "- classes are also numerically balanced"
   ]
  },
  {
   "cell_type": "code",
   "execution_count": 10,
   "metadata": {},
   "outputs": [
    {
     "data": {
      "text/plain": [
       "<AxesSubplot: >"
      ]
     },
     "execution_count": 10,
     "metadata": {},
     "output_type": "execute_result"
    },
    {
     "data": {
      "image/png": "[encoded data removed]",
      "text/plain": [
       "<Figure size 640x480 with 1 Axes>"
      ]
     },
     "metadata": {},
     "output_type": "display_data"
    }
   ],
   "source": [
    "merged_adni_at_amypos_bi_harm['CENTILOIDS'].hist()"
   ]
  },
  {
   "cell_type": "code",
   "execution_count": 11,
   "metadata": {},
   "outputs": [
    {
     "name": "stdout",
     "output_type": "stream",
     "text": [
      "(103, 35)\n",
      "(107, 35)\n",
      "(100, 35)\n",
      "(101, 35)\n"
     ]
    }
   ],
   "source": [
    "#classes are reasonably well balanced \n",
    "print(cent_low.shape)\n",
    "print(cent_med_low.shape)\n",
    "print(cent_med_high.shape)\n",
    "print(cent_high.shape)\n"
   ]
  },
  {
   "attachments": {},
   "cell_type": "markdown",
   "metadata": {},
   "source": [
    "#### also check the centiloid ranges for each quartiles\n",
    "##### it makes sense that the highest quartile would have the largest range because most of the data is cented 20-100 ish abased on the histogram "
   ]
  },
  {
   "cell_type": "code",
   "execution_count": 12,
   "metadata": {},
   "outputs": [
    {
     "name": "stdout",
     "output_type": "stream",
     "text": [
      "centiloid range low amy pos quartile [21.0, 45.0]\n",
      "centiloid range med low amy pos quartile [46.0, 75.0]\n",
      "centiloid range med high amy pos quartile [76.0, 103.0]\n",
      "centiloid range high amy pos quartile [104.0, 264.0]\n"
     ]
    }
   ],
   "source": [
    "low_range= [cent_low['CENTILOIDS'].min(),cent_low['CENTILOIDS'].max()]\n",
    "med_low_range = [cent_med_low['CENTILOIDS'].min(),cent_med_low['CENTILOIDS'].max()]\n",
    "med_high_range = [cent_med_high['CENTILOIDS'].min(),cent_med_high['CENTILOIDS'].max()]\n",
    "high_range = [cent_high['CENTILOIDS'].min(),cent_high['CENTILOIDS'].max()]\n",
    "print(f\"centiloid range low amy pos quartile {low_range}\")\n",
    "print(f\"centiloid range med low amy pos quartile {med_low_range}\")\n",
    "print(f\"centiloid range med high amy pos quartile {med_high_range}\")\n",
    "print(f\"centiloid range high amy pos quartile {high_range}\")\n"
   ]
  },
  {
   "attachments": {},
   "cell_type": "markdown",
   "metadata": {},
   "source": [
    "##### save the adni centiloid quartiles csvs to use for graph construction"
   ]
  },
  {
   "cell_type": "code",
   "execution_count": 13,
   "metadata": {},
   "outputs": [],
   "source": [
    "#save the quartile csvs \n",
    "\n",
    "cent_low.to_csv('./adni/adni_amy_tau_merged_cent_low_quartile.csv', index=False)\n",
    "cent_med_low.to_csv('./adni/adni_amy_tau_merged_cent_med_low_quartile.csv', index=False)\n",
    "cent_med_high.to_csv('./adni/adni_amy_tau_merged_cent_med_high_quartile.csv',index=False)\n",
    "cent_high.to_csv('./adni/adni_amy_tau_merged_cent_high_quartile.csv',index=False)"
   ]
  },
  {
   "attachments": {},
   "cell_type": "markdown",
   "metadata": {},
   "source": [
    "- Only keep patients rows from most recent scan \n"
   ]
  },
  {
   "cell_type": "code",
   "execution_count": 14,
   "metadata": {},
   "outputs": [],
   "source": [
    "# #drop duplicate rows so that only the last visit row is still there \n",
    "# adni_amy_filtered = adni_amy.drop_duplicates(subset='RID',keep='last')\n",
    "# #now it only has rows with the last visit \n",
    "# adni_amy_filtered = adni_amy.reset_index(drop=True)\n",
    "\n",
    "\n",
    "\n",
    "# adni_amy['SCANDATE']= pd.to_datetime(adni_amy['SCANDATE'])\n",
    "# #find most recent scan \n",
    "# most_recent_scan_date = adni_amy['SCANDATE'].max()\n",
    "# #filter df to only include rows with most recent scan date \n",
    "# most_recent_scan = adni_amy[adni_amy['SCANDATE']==most_recent_scan_date]\n",
    "# #select cols to keep \n",
    "# cols_to_keep = ['RID','SCANDATE','TRACER','CENTILOIDS']\n",
    "# adni_amy_filtered = most_recent_scan[cols_to_keep]\n",
    "# print(adni_amy_filtered)"
   ]
  },
  {
   "attachments": {},
   "cell_type": "markdown",
   "metadata": {},
   "source": [
    "* Task 1: \n",
    "* clean A4 data \n",
    "* I think that the A4_processed.csv has both amyloid and tau, but also includes patients with amyloid and no tau so just drop rows where the tau col is empty \n",
    "* A4_PETSUVR_PRV2_15_Aug2023 has id, visit code, and composite centiloid so use this for centiloid \n",
    "\n",
    "* TAUSUVR_15Aug2023 has the regional survs \n"
   ]
  },
  {
   "cell_type": "code",
   "execution_count": 15,
   "metadata": {},
   "outputs": [
    {
     "name": "stderr",
     "output_type": "stream",
     "text": [
      "/tmp/ipykernel_3002692/2932986344.py:10: FutureWarning: The frame.append method is deprecated and will be removed from pandas in a future version. Use pandas.concat instead.\n",
      "  quartile_dfs[quartile_num] = quartile_dfs[quartile_num].append(row, ignore_index=True)\n"
     ]
    }
   ],
   "source": [
    "# Calculate quartiles for each patient's 'CENTILOIDS' values\n",
    "merged_a4_at_amypos_bi_harm['quartile'] = pd.qcut(merged_a4_at_amypos_bi_harm['CENTILOIDS'], q=4, labels=False)\n",
    "\n",
    "# Initialize empty DataFrames for each quartile\n",
    "quartile_dfs = [pd.DataFrame(columns=merged_a4_at_amypos_bi_harm.columns) for _ in range(4)]\n",
    "\n",
    "# Sort patients into quartile DataFrames\n",
    "for index, row in merged_a4_at_amypos_bi_harm.iterrows():\n",
    "    quartile_num = row['quartile']\n",
    "    quartile_dfs[quartile_num] = quartile_dfs[quartile_num].append(row, ignore_index=True)\n",
    "\n",
    "# Remove the 'QUARTILE' column from each quartile DataFrame\n",
    "for i in range(4):\n",
    "    quartile_dfs[i] = quartile_dfs[i].drop(columns=['quartile'])\n"
   ]
  },
  {
   "cell_type": "code",
   "execution_count": 16,
   "metadata": {},
   "outputs": [
    {
     "data": {
      "text/plain": [
       "<AxesSubplot: >"
      ]
     },
     "execution_count": 16,
     "metadata": {},
     "output_type": "execute_result"
    },
    {
     "data": {
      "image/png": "[encoded data removed]",
      "text/plain": [
       "<Figure size 640x480 with 1 Axes>"
      ]
     },
     "metadata": {},
     "output_type": "display_data"
    }
   ],
   "source": [
    "merged_a4_at_amypos_bi_harm['CENTILOIDS'].hist()"
   ]
  },
  {
   "cell_type": "code",
   "execution_count": 17,
   "metadata": {},
   "outputs": [],
   "source": [
    "a4_cent_low = quartile_dfs[0]\n",
    "a4_cent_med_low = quartile_dfs[1]\n",
    "a4_cent_med_high = quartile_dfs[2]\n",
    "a4_cent_high = quartile_dfs[3]"
   ]
  },
  {
   "cell_type": "code",
   "execution_count": 18,
   "metadata": {},
   "outputs": [
    {
     "name": "stdout",
     "output_type": "stream",
     "text": [
      "(101, 35)\n",
      "(86, 35)\n",
      "(94, 35)\n",
      "(92, 35)\n"
     ]
    }
   ],
   "source": [
    "#classes are reasonably well balanced \n",
    "print(a4_cent_low.shape)\n",
    "print(a4_cent_med_low.shape)\n",
    "print(a4_cent_med_high.shape)\n",
    "print(a4_cent_high.shape)"
   ]
  },
  {
   "cell_type": "code",
   "execution_count": 19,
   "metadata": {},
   "outputs": [
    {
     "name": "stdout",
     "output_type": "stream",
     "text": [
      "centiloid range low amy pos quartile [22.286, 42.424]\n",
      "centiloid range med low amy pos quartile [44.255, 60.731]\n",
      "centiloid range med high amy pos quartile [62.562, 82.699]\n",
      "centiloid range high amy pos quartile [84.53, 192.541]\n"
     ]
    }
   ],
   "source": [
    "a4_low_range= [a4_cent_low['CENTILOIDS'].min(),a4_cent_low['CENTILOIDS'].max()]\n",
    "a4_med_low_range = [a4_cent_med_low['CENTILOIDS'].min(),a4_cent_med_low['CENTILOIDS'].max()]\n",
    "a4_med_high_range = [a4_cent_med_high['CENTILOIDS'].min(),a4_cent_med_high['CENTILOIDS'].max()]\n",
    "a4_high_range = [a4_cent_high['CENTILOIDS'].min(),a4_cent_high['CENTILOIDS'].max()]\n",
    "print(f\"centiloid range low amy pos quartile {a4_low_range}\")\n",
    "print(f\"centiloid range med low amy pos quartile {a4_med_low_range}\")\n",
    "print(f\"centiloid range med high amy pos quartile {a4_med_high_range}\")\n",
    "print(f\"centiloid range high amy pos quartile {a4_high_range}\")"
   ]
  },
  {
   "attachments": {},
   "cell_type": "markdown",
   "metadata": {},
   "source": [
    "##### save a4 quartiles for graph construction \n"
   ]
  },
  {
   "cell_type": "code",
   "execution_count": 20,
   "metadata": {},
   "outputs": [],
   "source": [
    "#save the quartile csvs \n",
    "a4_cent_low.to_csv('./a4/a4_amy_tau_merged_cent_low_quartile.csv',index=False)\n",
    "a4_cent_med_low.to_csv('./a4/a4_amy_tau_merged_cent_med_low_quartile.csv',index=False)\n",
    "a4_cent_med_high.to_csv('./a4/a4_amy_tau_merged_cent_med_high_quartile.csv',index=False)\n",
    "a4_cent_high.to_csv('./a4/a4_adni_amy_tau_merged_cent_high_quartile.csv',index=False)"
   ]
  }
 ],
 "metadata": {
  "kernelspec": {
   "display_name": "graph_env",
   "language": "python",
   "name": "python3"
  },
  "language_info": {
   "codemirror_mode": {
    "name": "ipython",
    "version": 3
   },
   "file_extension": ".py",
   "mimetype": "text/x-python",
   "name": "python",
   "nbconvert_exporter": "python",
   "pygments_lexer": "ipython3",
   "version": "3.8.10"
  },
  "orig_nbformat": 4
 },
 "nbformat": 4,
 "nbformat_minor": 2
}
