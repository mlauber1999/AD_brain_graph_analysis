{
 "cells": [
  {
   "cell_type": "code",
   "execution_count": 2,
   "metadata": {},
   "outputs": [],
   "source": [
    "import numpy as np\n",
    "import pandas as pd\n",
    "import matplotlib.pyplot as plt\n",
    "import os\n",
    "import warnings\n",
    "import networkx as nx\n",
    "import matplotlib.colors as mcolors\n",
    "# warnings.simplefilter(action='ignore', category=FutureWarning)\n",
    "# pd.options.display.max_rows = None\n",
    "# pd.options.display.max_columns = None\n",
    "import glob as glob\n",
    "import math"
   ]
  },
  {
   "attachments": {},
   "cell_type": "markdown",
   "metadata": {},
   "source": [
    "#### read in csv amyloid pos and negative for adni and a4 \n",
    "- this code runs with the graph_env environment which uses pandas 1.5.2 instead of 2.1 that matteo made for mci_mri_graph env\n"
   ]
  },
  {
   "attachments": {},
   "cell_type": "markdown",
   "metadata": {},
   "source": [
    "### sort the data into quartiles based on centiloid value"
   ]
  },
  {
   "cell_type": "code",
   "execution_count": 3,
   "metadata": {},
   "outputs": [],
   "source": [
    "merged_adni_at_amypos_bi_harm = pd.read_csv('../../data_paths_and_cleaning/data/intermediate_data/adni/merged_adni_at_amy_pos_bi_harm.csv')\n",
    "merged_a4_at_amypos_bi_harm = pd.read_csv('../../data_paths_and_cleaning/data/intermediate_data/adni/merged_adni_at_amy_pos_bi_harm.csv')"
   ]
  },
  {
   "cell_type": "code",
   "execution_count": 91,
   "metadata": {},
   "outputs": [
    {
     "data": {
      "text/html": [
       "<div>\n",
       "<style scoped>\n",
       "    .dataframe tbody tr th:only-of-type {\n",
       "        vertical-align: middle;\n",
       "    }\n",
       "\n",
       "    .dataframe tbody tr th {\n",
       "        vertical-align: top;\n",
       "    }\n",
       "\n",
       "    .dataframe thead th {\n",
       "        text-align: right;\n",
       "    }\n",
       "</style>\n",
       "<table border=\"1\" class=\"dataframe\">\n",
       "  <thead>\n",
       "    <tr style=\"text-align: right;\">\n",
       "      <th></th>\n",
       "      <th>RID</th>\n",
       "      <th>SUPRAMARGINAL</th>\n",
       "      <th>AMYGDALA</th>\n",
       "      <th>MIDDLETEMPORAL</th>\n",
       "      <th>PARSOPERCULARIS</th>\n",
       "      <th>CAUDALANTERIORCINGULATE</th>\n",
       "      <th>INSULA</th>\n",
       "      <th>MEDIALORBITOFRONTAL</th>\n",
       "      <th>ENTORHINAL</th>\n",
       "      <th>PUTAMEN</th>\n",
       "      <th>...</th>\n",
       "      <th>POSTERIORCINGULATE</th>\n",
       "      <th>SUPERIORTEMPORAL</th>\n",
       "      <th>FUSIFORM</th>\n",
       "      <th>PARACENTRAL</th>\n",
       "      <th>CEREBELLUM_CORTEX</th>\n",
       "      <th>PARAHIPPOCAMPAL</th>\n",
       "      <th>BANKSSTS</th>\n",
       "      <th>POSTCENTRAL</th>\n",
       "      <th>HIPPOCAMPUS</th>\n",
       "      <th>SUPERIORFRONTAL</th>\n",
       "    </tr>\n",
       "  </thead>\n",
       "  <tbody>\n",
       "    <tr>\n",
       "      <th>0</th>\n",
       "      <td>31</td>\n",
       "      <td>1.259</td>\n",
       "      <td>1.479</td>\n",
       "      <td>1.256</td>\n",
       "      <td>1.158</td>\n",
       "      <td>1.151</td>\n",
       "      <td>1.160</td>\n",
       "      <td>1.256</td>\n",
       "      <td>1.409</td>\n",
       "      <td>1.461</td>\n",
       "      <td>...</td>\n",
       "      <td>1.303</td>\n",
       "      <td>1.246</td>\n",
       "      <td>1.252</td>\n",
       "      <td>1.148</td>\n",
       "      <td>1.056</td>\n",
       "      <td>1.367</td>\n",
       "      <td>1.232</td>\n",
       "      <td>1.180</td>\n",
       "      <td>1.596</td>\n",
       "      <td>1.318</td>\n",
       "    </tr>\n",
       "    <tr>\n",
       "      <th>1</th>\n",
       "      <td>112</td>\n",
       "      <td>1.538</td>\n",
       "      <td>2.350</td>\n",
       "      <td>1.690</td>\n",
       "      <td>1.687</td>\n",
       "      <td>1.170</td>\n",
       "      <td>1.537</td>\n",
       "      <td>1.506</td>\n",
       "      <td>2.164</td>\n",
       "      <td>1.951</td>\n",
       "      <td>...</td>\n",
       "      <td>1.363</td>\n",
       "      <td>1.528</td>\n",
       "      <td>1.760</td>\n",
       "      <td>1.283</td>\n",
       "      <td>1.042</td>\n",
       "      <td>1.791</td>\n",
       "      <td>1.672</td>\n",
       "      <td>1.116</td>\n",
       "      <td>1.562</td>\n",
       "      <td>1.799</td>\n",
       "    </tr>\n",
       "    <tr>\n",
       "      <th>2</th>\n",
       "      <td>120</td>\n",
       "      <td>1.205</td>\n",
       "      <td>1.213</td>\n",
       "      <td>1.241</td>\n",
       "      <td>1.088</td>\n",
       "      <td>0.867</td>\n",
       "      <td>1.097</td>\n",
       "      <td>1.022</td>\n",
       "      <td>1.173</td>\n",
       "      <td>1.524</td>\n",
       "      <td>...</td>\n",
       "      <td>1.107</td>\n",
       "      <td>1.088</td>\n",
       "      <td>1.147</td>\n",
       "      <td>0.962</td>\n",
       "      <td>1.005</td>\n",
       "      <td>1.190</td>\n",
       "      <td>1.131</td>\n",
       "      <td>1.070</td>\n",
       "      <td>1.169</td>\n",
       "      <td>1.163</td>\n",
       "    </tr>\n",
       "    <tr>\n",
       "      <th>3</th>\n",
       "      <td>210</td>\n",
       "      <td>1.513</td>\n",
       "      <td>1.134</td>\n",
       "      <td>1.475</td>\n",
       "      <td>1.381</td>\n",
       "      <td>1.091</td>\n",
       "      <td>1.124</td>\n",
       "      <td>1.218</td>\n",
       "      <td>1.501</td>\n",
       "      <td>1.482</td>\n",
       "      <td>...</td>\n",
       "      <td>1.267</td>\n",
       "      <td>1.327</td>\n",
       "      <td>1.484</td>\n",
       "      <td>1.169</td>\n",
       "      <td>0.980</td>\n",
       "      <td>1.293</td>\n",
       "      <td>1.610</td>\n",
       "      <td>1.306</td>\n",
       "      <td>1.145</td>\n",
       "      <td>1.254</td>\n",
       "    </tr>\n",
       "    <tr>\n",
       "      <th>4</th>\n",
       "      <td>377</td>\n",
       "      <td>1.603</td>\n",
       "      <td>1.515</td>\n",
       "      <td>1.767</td>\n",
       "      <td>1.456</td>\n",
       "      <td>1.331</td>\n",
       "      <td>1.388</td>\n",
       "      <td>1.445</td>\n",
       "      <td>1.655</td>\n",
       "      <td>2.034</td>\n",
       "      <td>...</td>\n",
       "      <td>1.485</td>\n",
       "      <td>1.560</td>\n",
       "      <td>1.776</td>\n",
       "      <td>1.406</td>\n",
       "      <td>1.030</td>\n",
       "      <td>1.710</td>\n",
       "      <td>1.705</td>\n",
       "      <td>1.390</td>\n",
       "      <td>1.328</td>\n",
       "      <td>1.517</td>\n",
       "    </tr>\n",
       "    <tr>\n",
       "      <th>...</th>\n",
       "      <td>...</td>\n",
       "      <td>...</td>\n",
       "      <td>...</td>\n",
       "      <td>...</td>\n",
       "      <td>...</td>\n",
       "      <td>...</td>\n",
       "      <td>...</td>\n",
       "      <td>...</td>\n",
       "      <td>...</td>\n",
       "      <td>...</td>\n",
       "      <td>...</td>\n",
       "      <td>...</td>\n",
       "      <td>...</td>\n",
       "      <td>...</td>\n",
       "      <td>...</td>\n",
       "      <td>...</td>\n",
       "      <td>...</td>\n",
       "      <td>...</td>\n",
       "      <td>...</td>\n",
       "      <td>...</td>\n",
       "      <td>...</td>\n",
       "    </tr>\n",
       "    <tr>\n",
       "      <th>393</th>\n",
       "      <td>6580</td>\n",
       "      <td>1.363</td>\n",
       "      <td>1.599</td>\n",
       "      <td>1.407</td>\n",
       "      <td>1.244</td>\n",
       "      <td>1.101</td>\n",
       "      <td>1.140</td>\n",
       "      <td>1.252</td>\n",
       "      <td>1.565</td>\n",
       "      <td>1.669</td>\n",
       "      <td>...</td>\n",
       "      <td>1.135</td>\n",
       "      <td>1.224</td>\n",
       "      <td>1.347</td>\n",
       "      <td>1.239</td>\n",
       "      <td>0.978</td>\n",
       "      <td>1.173</td>\n",
       "      <td>1.298</td>\n",
       "      <td>1.212</td>\n",
       "      <td>1.296</td>\n",
       "      <td>1.283</td>\n",
       "    </tr>\n",
       "    <tr>\n",
       "      <th>394</th>\n",
       "      <td>6581</td>\n",
       "      <td>1.135</td>\n",
       "      <td>1.057</td>\n",
       "      <td>1.182</td>\n",
       "      <td>1.145</td>\n",
       "      <td>0.947</td>\n",
       "      <td>1.022</td>\n",
       "      <td>1.038</td>\n",
       "      <td>1.212</td>\n",
       "      <td>1.648</td>\n",
       "      <td>...</td>\n",
       "      <td>1.049</td>\n",
       "      <td>1.136</td>\n",
       "      <td>1.152</td>\n",
       "      <td>1.008</td>\n",
       "      <td>0.990</td>\n",
       "      <td>1.070</td>\n",
       "      <td>1.092</td>\n",
       "      <td>1.024</td>\n",
       "      <td>1.338</td>\n",
       "      <td>1.081</td>\n",
       "    </tr>\n",
       "    <tr>\n",
       "      <th>395</th>\n",
       "      <td>6586</td>\n",
       "      <td>1.062</td>\n",
       "      <td>1.040</td>\n",
       "      <td>1.176</td>\n",
       "      <td>1.108</td>\n",
       "      <td>0.961</td>\n",
       "      <td>1.013</td>\n",
       "      <td>1.071</td>\n",
       "      <td>1.175</td>\n",
       "      <td>1.876</td>\n",
       "      <td>...</td>\n",
       "      <td>0.969</td>\n",
       "      <td>1.071</td>\n",
       "      <td>1.100</td>\n",
       "      <td>0.823</td>\n",
       "      <td>1.018</td>\n",
       "      <td>0.941</td>\n",
       "      <td>1.126</td>\n",
       "      <td>0.845</td>\n",
       "      <td>0.971</td>\n",
       "      <td>1.053</td>\n",
       "    </tr>\n",
       "    <tr>\n",
       "      <th>396</th>\n",
       "      <td>7100</td>\n",
       "      <td>1.118</td>\n",
       "      <td>1.101</td>\n",
       "      <td>1.136</td>\n",
       "      <td>1.015</td>\n",
       "      <td>1.035</td>\n",
       "      <td>1.022</td>\n",
       "      <td>1.088</td>\n",
       "      <td>1.252</td>\n",
       "      <td>1.211</td>\n",
       "      <td>...</td>\n",
       "      <td>1.032</td>\n",
       "      <td>1.104</td>\n",
       "      <td>1.074</td>\n",
       "      <td>1.053</td>\n",
       "      <td>1.030</td>\n",
       "      <td>1.137</td>\n",
       "      <td>1.132</td>\n",
       "      <td>0.938</td>\n",
       "      <td>1.311</td>\n",
       "      <td>1.027</td>\n",
       "    </tr>\n",
       "    <tr>\n",
       "      <th>397</th>\n",
       "      <td>7105</td>\n",
       "      <td>1.336</td>\n",
       "      <td>1.274</td>\n",
       "      <td>1.730</td>\n",
       "      <td>1.163</td>\n",
       "      <td>1.165</td>\n",
       "      <td>1.129</td>\n",
       "      <td>1.141</td>\n",
       "      <td>1.980</td>\n",
       "      <td>1.805</td>\n",
       "      <td>...</td>\n",
       "      <td>1.385</td>\n",
       "      <td>1.226</td>\n",
       "      <td>3.120</td>\n",
       "      <td>1.153</td>\n",
       "      <td>1.039</td>\n",
       "      <td>1.862</td>\n",
       "      <td>1.397</td>\n",
       "      <td>1.146</td>\n",
       "      <td>1.042</td>\n",
       "      <td>1.205</td>\n",
       "    </tr>\n",
       "  </tbody>\n",
       "</table>\n",
       "<p>398 rows × 45 columns</p>\n",
       "</div>"
      ],
      "text/plain": [
       "      RID  SUPRAMARGINAL  AMYGDALA  MIDDLETEMPORAL  PARSOPERCULARIS  \\\n",
       "0      31          1.259     1.479           1.256            1.158   \n",
       "1     112          1.538     2.350           1.690            1.687   \n",
       "2     120          1.205     1.213           1.241            1.088   \n",
       "3     210          1.513     1.134           1.475            1.381   \n",
       "4     377          1.603     1.515           1.767            1.456   \n",
       "..    ...            ...       ...             ...              ...   \n",
       "393  6580          1.363     1.599           1.407            1.244   \n",
       "394  6581          1.135     1.057           1.182            1.145   \n",
       "395  6586          1.062     1.040           1.176            1.108   \n",
       "396  7100          1.118     1.101           1.136            1.015   \n",
       "397  7105          1.336     1.274           1.730            1.163   \n",
       "\n",
       "     CAUDALANTERIORCINGULATE  INSULA  MEDIALORBITOFRONTAL  ENTORHINAL  \\\n",
       "0                      1.151   1.160                1.256       1.409   \n",
       "1                      1.170   1.537                1.506       2.164   \n",
       "2                      0.867   1.097                1.022       1.173   \n",
       "3                      1.091   1.124                1.218       1.501   \n",
       "4                      1.331   1.388                1.445       1.655   \n",
       "..                       ...     ...                  ...         ...   \n",
       "393                    1.101   1.140                1.252       1.565   \n",
       "394                    0.947   1.022                1.038       1.212   \n",
       "395                    0.961   1.013                1.071       1.175   \n",
       "396                    1.035   1.022                1.088       1.252   \n",
       "397                    1.165   1.129                1.141       1.980   \n",
       "\n",
       "     PUTAMEN  ...  POSTERIORCINGULATE  SUPERIORTEMPORAL  FUSIFORM  \\\n",
       "0      1.461  ...               1.303             1.246     1.252   \n",
       "1      1.951  ...               1.363             1.528     1.760   \n",
       "2      1.524  ...               1.107             1.088     1.147   \n",
       "3      1.482  ...               1.267             1.327     1.484   \n",
       "4      2.034  ...               1.485             1.560     1.776   \n",
       "..       ...  ...                 ...               ...       ...   \n",
       "393    1.669  ...               1.135             1.224     1.347   \n",
       "394    1.648  ...               1.049             1.136     1.152   \n",
       "395    1.876  ...               0.969             1.071     1.100   \n",
       "396    1.211  ...               1.032             1.104     1.074   \n",
       "397    1.805  ...               1.385             1.226     3.120   \n",
       "\n",
       "     PARACENTRAL  CEREBELLUM_CORTEX  PARAHIPPOCAMPAL  BANKSSTS  POSTCENTRAL  \\\n",
       "0          1.148              1.056            1.367     1.232        1.180   \n",
       "1          1.283              1.042            1.791     1.672        1.116   \n",
       "2          0.962              1.005            1.190     1.131        1.070   \n",
       "3          1.169              0.980            1.293     1.610        1.306   \n",
       "4          1.406              1.030            1.710     1.705        1.390   \n",
       "..           ...                ...              ...       ...          ...   \n",
       "393        1.239              0.978            1.173     1.298        1.212   \n",
       "394        1.008              0.990            1.070     1.092        1.024   \n",
       "395        0.823              1.018            0.941     1.126        0.845   \n",
       "396        1.053              1.030            1.137     1.132        0.938   \n",
       "397        1.153              1.039            1.862     1.397        1.146   \n",
       "\n",
       "     HIPPOCAMPUS  SUPERIORFRONTAL  \n",
       "0          1.596            1.318  \n",
       "1          1.562            1.799  \n",
       "2          1.169            1.163  \n",
       "3          1.145            1.254  \n",
       "4          1.328            1.517  \n",
       "..           ...              ...  \n",
       "393        1.296            1.283  \n",
       "394        1.338            1.081  \n",
       "395        0.971            1.053  \n",
       "396        1.311            1.027  \n",
       "397        1.042            1.205  \n",
       "\n",
       "[398 rows x 45 columns]"
      ]
     },
     "execution_count": 91,
     "metadata": {},
     "output_type": "execute_result"
    }
   ],
   "source": [
    "merged_adni_at_amypos_bi_harm"
   ]
  },
  {
   "cell_type": "code",
   "execution_count": 92,
   "metadata": {},
   "outputs": [
    {
     "name": "stdout",
     "output_type": "stream",
     "text": [
      "66.58628418230562\n",
      "78.41959798994975\n"
     ]
    }
   ],
   "source": [
    "mean_a4 = merged_a4_at_amypos_bi_harm['CENTILOIDS'].mean()\n",
    "mean_adni = merged_adni_at_amypos_bi_harm['CENTILOIDS'].mean()\n",
    "print(mean_a4)\n",
    "print(mean_adni)"
   ]
  },
  {
   "attachments": {},
   "cell_type": "markdown",
   "metadata": {},
   "source": [
    "#### do histogram of centiloid values across adni and a4 \n",
    "- adni has higher centiloid values because a4 is anti-amyloid treatment in asymptomatic ad \n",
    "- makes sense that a4 has slightly lower centiloids than adni because it's selected by being asymptomatic \n",
    "- this probably means that the tau is also lower in a4 patients \n"
   ]
  },
  {
   "cell_type": "code",
   "execution_count": 93,
   "metadata": {},
   "outputs": [
    {
     "data": {
      "image/png": "[encoded data removed]",
      "text/plain": [
       "<Figure size 640x480 with 1 Axes>"
      ]
     },
     "metadata": {},
     "output_type": "display_data"
    }
   ],
   "source": [
    "fig,ax = plt.subplots()\n",
    "ax.hist(merged_a4_at_amypos_bi_harm['CENTILOIDS'],bins=20,label=\"A4 Centiloids\",alpha=.7)\n",
    "ax.hist(merged_adni_at_amypos_bi_harm['CENTILOIDS'],bins=20,label=\"ADNI Centiloids\",alpha=.4)\n",
    "ax.set_xlabel(\"Centiloid distribution\")\n",
    "ax.set_ylabel(\"Patient Count\")\n",
    "ax.axvline(x=21, color='red', linestyle='--', label='Amyloid Positive Cut Off')\n",
    "ax.axvline(x=mean_a4, color='blue', linestyle='-', label='A4 Mean Centiloid')\n",
    "ax.axvline(x=mean_adni, color='orange', linestyle='-', label='ADNI Mean Centiloid')\n",
    "ax.legend()\n",
    "plt.title(\"Distribution of Amyloid Positive Centiloids in ADNI and A4\")\n",
    "plt.show()\n"
   ]
  },
  {
   "attachments": {},
   "cell_type": "markdown",
   "metadata": {},
   "source": [
    "#### sort adni data into centiloid \n",
    "- throwing errors because the datatype is numpy.float64\n",
    "-  think I fixed it "
   ]
  },
  {
   "cell_type": "code",
   "execution_count": 94,
   "metadata": {},
   "outputs": [
    {
     "name": "stdout",
     "output_type": "stream",
     "text": [
      "float64\n"
     ]
    }
   ],
   "source": [
    "print(merged_a4_at_amypos_bi_harm['CENTILOIDS'].dtype)"
   ]
  },
  {
   "cell_type": "code",
   "execution_count": 95,
   "metadata": {},
   "outputs": [],
   "source": [
    "# Calculate quartiles for each patient's 'CENTILOIDS' values\n",
    "merged_adni_at_amypos_bi_harm['QUARTILE'] = pd.qcut(merged_adni_at_amypos_bi_harm['CENTILOIDS'], q=4, labels=False)\n",
    "\n",
    "# Convert 'QUARTILE' column to integers and handle NaN values\n",
    "merged_adni_at_amypos_bi_harm['QUARTILE'] = merged_adni_at_amypos_bi_harm['QUARTILE'].astype('Int64')\n",
    "\n",
    "# Initialize empty DataFrames for each quartile\n",
    "quartile_dfs = [pd.DataFrame(columns=merged_adni_at_amypos_bi_harm.columns) for _ in range(4)]\n",
    "\n",
    "# Sort patients into quartile DataFrames\n",
    "for index, row in merged_adni_at_amypos_bi_harm.iterrows():\n",
    "    quartile_num = row['QUARTILE']\n",
    "    quartile_dfs[quartile_num] = pd.concat([quartile_dfs[quartile_num], row.to_frame().T], ignore_index=True)\n",
    "\n",
    "# Remove the 'QUARTILE' column from each quartile DataFrame\n",
    "for i in range(4):\n",
    "    quartile_dfs[i] = quartile_dfs[i].drop(columns=['QUARTILE'])"
   ]
  },
  {
   "cell_type": "code",
   "execution_count": 96,
   "metadata": {},
   "outputs": [],
   "source": [
    "# # Calculate quartiles for each patient's 'CENTILOIDS' values\n",
    "# merged_adni_at_amypos_bi_harm['QUARTILE'] = pd.qcut(merged_adni_at_amypos_bi_harm['CENTILOIDS'], q=4, labels=False)\n",
    "\n",
    "# # # Convert 'QUARTILE' column to integers\n",
    "# # merged_adni_at_amypos_bi_harm['QUARTILE'] = merged_adni_at_amypos_bi_harm['QUARTILE'].astype(int)\n",
    "\n",
    "# # Initialize empty DataFrames for each quartile\n",
    "# quartile_dfs = [pd.DataFrame(columns=merged_adni_at_amypos_bi_harm.columns) for _ in range(4)]\n",
    "\n",
    "# # Sort patients into quartile DataFrames\n",
    "# for index, row in merged_adni_at_amypos_bi_harm.iterrows():\n",
    "#     quartile_num = row['QUARTILE']\n",
    "#     quartile_dfs[quartile_num] = quartile_dfs[quartile_num].append(row, ignore_index=True)\n",
    "\n",
    "# # Remove the 'QUARTILE' column from each quartile DataFrame\n",
    "# for i in range(4):\n",
    "#     quartile_dfs[i] = quartile_dfs[i].drop(columns=['QUARTILE'])\n",
    "\n",
    "\n"
   ]
  },
  {
   "attachments": {},
   "cell_type": "markdown",
   "metadata": {},
   "source": [
    "##### create separate data frames based on the new quartiles"
   ]
  },
  {
   "cell_type": "code",
   "execution_count": 97,
   "metadata": {},
   "outputs": [],
   "source": [
    "#divide into quartiles based on centiloids column \n",
    "#the thing is 903 total patients but I want to divide them into quartiles \n",
    "\n",
    "cent_low = quartile_dfs[0]\n",
    "cent_med_low = quartile_dfs[1]\n",
    "cent_med_high = quartile_dfs[2]\n",
    "cent_high = quartile_dfs[3]\n"
   ]
  },
  {
   "cell_type": "code",
   "execution_count": 98,
   "metadata": {},
   "outputs": [
    {
     "data": {
      "text/html": [
       "<div>\n",
       "<style scoped>\n",
       "    .dataframe tbody tr th:only-of-type {\n",
       "        vertical-align: middle;\n",
       "    }\n",
       "\n",
       "    .dataframe tbody tr th {\n",
       "        vertical-align: top;\n",
       "    }\n",
       "\n",
       "    .dataframe thead th {\n",
       "        text-align: right;\n",
       "    }\n",
       "</style>\n",
       "<table border=\"1\" class=\"dataframe\">\n",
       "  <thead>\n",
       "    <tr style=\"text-align: right;\">\n",
       "      <th></th>\n",
       "      <th>CENTILOIDS</th>\n",
       "      <th>QUARTILE</th>\n",
       "    </tr>\n",
       "  </thead>\n",
       "  <tbody>\n",
       "    <tr>\n",
       "      <th>0</th>\n",
       "      <td>97.0</td>\n",
       "      <td>2</td>\n",
       "    </tr>\n",
       "    <tr>\n",
       "      <th>1</th>\n",
       "      <td>89.0</td>\n",
       "      <td>2</td>\n",
       "    </tr>\n",
       "    <tr>\n",
       "      <th>2</th>\n",
       "      <td>32.0</td>\n",
       "      <td>0</td>\n",
       "    </tr>\n",
       "    <tr>\n",
       "      <th>3</th>\n",
       "      <td>54.0</td>\n",
       "      <td>1</td>\n",
       "    </tr>\n",
       "    <tr>\n",
       "      <th>4</th>\n",
       "      <td>85.0</td>\n",
       "      <td>2</td>\n",
       "    </tr>\n",
       "    <tr>\n",
       "      <th>...</th>\n",
       "      <td>...</td>\n",
       "      <td>...</td>\n",
       "    </tr>\n",
       "    <tr>\n",
       "      <th>393</th>\n",
       "      <td>142.0</td>\n",
       "      <td>3</td>\n",
       "    </tr>\n",
       "    <tr>\n",
       "      <th>394</th>\n",
       "      <td>28.0</td>\n",
       "      <td>0</td>\n",
       "    </tr>\n",
       "    <tr>\n",
       "      <th>395</th>\n",
       "      <td>40.0</td>\n",
       "      <td>0</td>\n",
       "    </tr>\n",
       "    <tr>\n",
       "      <th>396</th>\n",
       "      <td>50.0</td>\n",
       "      <td>1</td>\n",
       "    </tr>\n",
       "    <tr>\n",
       "      <th>397</th>\n",
       "      <td>112.0</td>\n",
       "      <td>3</td>\n",
       "    </tr>\n",
       "  </tbody>\n",
       "</table>\n",
       "<p>398 rows × 2 columns</p>\n",
       "</div>"
      ],
      "text/plain": [
       "     CENTILOIDS  QUARTILE\n",
       "0          97.0         2\n",
       "1          89.0         2\n",
       "2          32.0         0\n",
       "3          54.0         1\n",
       "4          85.0         2\n",
       "..          ...       ...\n",
       "393       142.0         3\n",
       "394        28.0         0\n",
       "395        40.0         0\n",
       "396        50.0         1\n",
       "397       112.0         3\n",
       "\n",
       "[398 rows x 2 columns]"
      ]
     },
     "execution_count": 98,
     "metadata": {},
     "output_type": "execute_result"
    }
   ],
   "source": [
    "merged_adni_at_amypos_bi_harm[['CENTILOIDS','QUARTILE']]"
   ]
  },
  {
   "attachments": {},
   "cell_type": "markdown",
   "metadata": {},
   "source": [
    "#### Quartiles seem reasonably well aligned with AD pathology \n",
    "- centiloids are scaled such that 0 is no pathology and 100 is advanced pathology, so plotting thr quartiles seem to be reasonably well aligned based on the histrogram plotted \n",
    "- classes are also numerically balanced"
   ]
  },
  {
   "cell_type": "code",
   "execution_count": 99,
   "metadata": {},
   "outputs": [
    {
     "data": {
      "text/plain": [
       "<Axes: >"
      ]
     },
     "execution_count": 99,
     "metadata": {},
     "output_type": "execute_result"
    },
    {
     "data": {
      "image/png": "[encoded data removed]",
      "text/plain": [
       "<Figure size 640x480 with 1 Axes>"
      ]
     },
     "metadata": {},
     "output_type": "display_data"
    }
   ],
   "source": [
    "merged_adni_at_amypos_bi_harm['CENTILOIDS'].hist()"
   ]
  },
  {
   "cell_type": "code",
   "execution_count": 100,
   "metadata": {},
   "outputs": [
    {
     "name": "stdout",
     "output_type": "stream",
     "text": [
      "(104, 45)\n",
      "(97, 45)\n",
      "(98, 45)\n",
      "(99, 45)\n"
     ]
    }
   ],
   "source": [
    "#classes are reasonably well balanced \n",
    "print(cent_low.shape)\n",
    "print(cent_med_low.shape)\n",
    "print(cent_med_high.shape)\n",
    "print(cent_high.shape)\n"
   ]
  },
  {
   "attachments": {},
   "cell_type": "markdown",
   "metadata": {},
   "source": [
    "#### also check the centiloid ranges for each quartiles\n",
    "##### it makes sense that the highest quartile would have the largest range because most of the data is cented 20-100 ish abased on the histogram "
   ]
  },
  {
   "cell_type": "code",
   "execution_count": 101,
   "metadata": {},
   "outputs": [
    {
     "name": "stdout",
     "output_type": "stream",
     "text": [
      "centiloid range low amy pos quartile [21.0, 46.0]\n",
      "centiloid range med low amy pos quartile [47.0, 75.0]\n",
      "centiloid range med high amy pos quartile [76.0, 103.0]\n",
      "centiloid range high amy pos quartile [104.0, 264.0]\n"
     ]
    }
   ],
   "source": [
    "low_range= [cent_low['CENTILOIDS'].min(),cent_low['CENTILOIDS'].max()]\n",
    "med_low_range = [cent_med_low['CENTILOIDS'].min(),cent_med_low['CENTILOIDS'].max()]\n",
    "med_high_range = [cent_med_high['CENTILOIDS'].min(),cent_med_high['CENTILOIDS'].max()]\n",
    "high_range = [cent_high['CENTILOIDS'].min(),cent_high['CENTILOIDS'].max()]\n",
    "print(f\"centiloid range low amy pos quartile {low_range}\")\n",
    "print(f\"centiloid range med low amy pos quartile {med_low_range}\")\n",
    "print(f\"centiloid range med high amy pos quartile {med_high_range}\")\n",
    "print(f\"centiloid range high amy pos quartile {high_range}\")\n"
   ]
  },
  {
   "attachments": {},
   "cell_type": "markdown",
   "metadata": {},
   "source": [
    "##### save the adni centiloid quartiles csvs to use for graph construction"
   ]
  },
  {
   "cell_type": "code",
   "execution_count": 102,
   "metadata": {},
   "outputs": [],
   "source": [
    "#save the quartile csvs \n",
    "\n",
    "cent_low.to_csv('../../data_paths_and_cleaning/data/final_cleaned_quartiles/adni_quartiles/adni_amy_tau_merged_cent_low_quartile.csv', index=False)\n",
    "cent_med_low.to_csv('../../data_paths_and_cleaning/data/final_cleaned_quartiles/adni_quartiles/adni_amy_tau_merged_cent_med_low_quartile.csv', index=False)\n",
    "cent_med_high.to_csv('../../data_paths_and_cleaning/data/final_cleaned_quartiles/adni_quartiles/adni_amy_tau_merged_cent_med_high_quartile.csv',index=False)\n",
    "cent_high.to_csv('../../data_paths_and_cleaning/data/final_cleaned_quartiles/adni_quartiles/adni_amy_tau_merged_cent_high_quartile.csv',index=False)"
   ]
  },
  {
   "attachments": {},
   "cell_type": "markdown",
   "metadata": {},
   "source": [
    "- Only keep patients rows from most recent scan \n"
   ]
  },
  {
   "cell_type": "code",
   "execution_count": 103,
   "metadata": {},
   "outputs": [],
   "source": [
    "# #drop duplicate rows so that only the last visit row is still there \n",
    "# adni_amy_filtered = adni_amy.drop_duplicates(subset='RID',keep='last')\n",
    "# #now it only has rows with the last visit \n",
    "# adni_amy_filtered = adni_amy.reset_index(drop=True)\n",
    "\n",
    "\n",
    "\n",
    "# adni_amy['SCANDATE']= pd.to_datetime(adni_amy['SCANDATE'])\n",
    "# #find most recent scan \n",
    "# most_recent_scan_date = adni_amy['SCANDATE'].max()\n",
    "# #filter df to only include rows with most recent scan date \n",
    "# most_recent_scan = adni_amy[adni_amy['SCANDATE']==most_recent_scan_date]\n",
    "# #select cols to keep \n",
    "# cols_to_keep = ['RID','SCANDATE','TRACER','CENTILOIDS']\n",
    "# adni_amy_filtered = most_recent_scan[cols_to_keep]\n",
    "# print(adni_amy_filtered)"
   ]
  },
  {
   "attachments": {},
   "cell_type": "markdown",
   "metadata": {},
   "source": [
    "* Task 1: \n",
    "* clean A4 data \n",
    "* I think that the A4_processed.csv has both amyloid and tau, but also includes patients with amyloid and no tau so just drop rows where the tau col is empty \n",
    "* A4_PETSUVR_PRV2_15_Aug2023 has id, visit code, and composite centiloid so use this for centiloid \n",
    "\n",
    "* TAUSUVR_15Aug2023 has the regional survs \n"
   ]
  },
  {
   "cell_type": "code",
   "execution_count": 104,
   "metadata": {},
   "outputs": [],
   "source": [
    "#fixed append error \n",
    "# Calculate quartiles for each patient's 'CENTILOIDS' values\n",
    "merged_a4_at_amypos_bi_harm['quartile'] = pd.qcut(merged_a4_at_amypos_bi_harm['CENTILOIDS'], q=4, labels=False)\n",
    "\n",
    "# Initialize empty DataFrames for each quartile\n",
    "quartile_dfs = [pd.DataFrame(columns=merged_a4_at_amypos_bi_harm.columns) for _ in range(4)]\n",
    "\n",
    "# Sort patients into quartile DataFrames\n",
    "for index, row in merged_a4_at_amypos_bi_harm.iterrows():\n",
    "    quartile_num = row['quartile']\n",
    "    quartile_dfs[quartile_num] = pd.concat([quartile_dfs[quartile_num], row.to_frame().T], ignore_index=True)\n",
    "\n",
    "# Remove the 'QUARTILE' column from each quartile DataFrame\n",
    "for i in range(4):\n",
    "    quartile_dfs[i] = quartile_dfs[i].drop(columns=['quartile'])\n"
   ]
  },
  {
   "cell_type": "code",
   "execution_count": 105,
   "metadata": {},
   "outputs": [],
   "source": [
    "# # Calculate quartiles for each patient's 'CENTILOIDS' values\n",
    "# merged_a4_at_amypos_bi_harm['quartile'] = pd.qcut(merged_a4_at_amypos_bi_harm['CENTILOIDS'], q=4, labels=False)\n",
    "\n",
    "# # Initialize empty DataFrames for each quartile\n",
    "# quartile_dfs = [pd.DataFrame(columns=merged_a4_at_amypos_bi_harm.columns) for _ in range(4)]\n",
    "\n",
    "# # Sort patients into quartile DataFrames\n",
    "# for index, row in merged_a4_at_amypos_bi_harm.iterrows():\n",
    "#     quartile_num = row['quartile']\n",
    "#     quartile_dfs[quartile_num] = quartile_dfs[quartile_num].append(row, ignore_index=True)\n",
    "\n",
    "# # Remove the 'QUARTILE' column from each quartile DataFrame\n",
    "# for i in range(4):\n",
    "#     quartile_dfs[i] = quartile_dfs[i].drop(columns=['quartile'])\n"
   ]
  },
  {
   "cell_type": "code",
   "execution_count": 106,
   "metadata": {},
   "outputs": [
    {
     "data": {
      "text/plain": [
       "<Axes: >"
      ]
     },
     "execution_count": 106,
     "metadata": {},
     "output_type": "execute_result"
    },
    {
     "data": {
      "image/png": "[encoded data removed]",
      "text/plain": [
       "<Figure size 640x480 with 1 Axes>"
      ]
     },
     "metadata": {},
     "output_type": "display_data"
    }
   ],
   "source": [
    "merged_a4_at_amypos_bi_harm['CENTILOIDS'].hist()"
   ]
  },
  {
   "cell_type": "code",
   "execution_count": 107,
   "metadata": {},
   "outputs": [],
   "source": [
    "a4_cent_low = quartile_dfs[0]\n",
    "a4_cent_med_low = quartile_dfs[1]\n",
    "a4_cent_med_high = quartile_dfs[2]\n",
    "a4_cent_high = quartile_dfs[3]"
   ]
  },
  {
   "cell_type": "code",
   "execution_count": 108,
   "metadata": {},
   "outputs": [
    {
     "name": "stdout",
     "output_type": "stream",
     "text": [
      "(101, 45)\n",
      "(86, 45)\n",
      "(94, 45)\n",
      "(92, 45)\n"
     ]
    }
   ],
   "source": [
    "#classes are reasonably well balanced \n",
    "print(a4_cent_low.shape)\n",
    "print(a4_cent_med_low.shape)\n",
    "print(a4_cent_med_high.shape)\n",
    "print(a4_cent_high.shape)"
   ]
  },
  {
   "cell_type": "code",
   "execution_count": 109,
   "metadata": {},
   "outputs": [
    {
     "name": "stdout",
     "output_type": "stream",
     "text": [
      "centiloid range low amy pos quartile [22.286, 42.424]\n",
      "centiloid range med low amy pos quartile [44.255, 60.731]\n",
      "centiloid range med high amy pos quartile [62.562, 82.699]\n",
      "centiloid range high amy pos quartile [84.53, 192.541]\n"
     ]
    }
   ],
   "source": [
    "a4_low_range= [a4_cent_low['CENTILOIDS'].min(),a4_cent_low['CENTILOIDS'].max()]\n",
    "a4_med_low_range = [a4_cent_med_low['CENTILOIDS'].min(),a4_cent_med_low['CENTILOIDS'].max()]\n",
    "a4_med_high_range = [a4_cent_med_high['CENTILOIDS'].min(),a4_cent_med_high['CENTILOIDS'].max()]\n",
    "a4_high_range = [a4_cent_high['CENTILOIDS'].min(),a4_cent_high['CENTILOIDS'].max()]\n",
    "print(f\"centiloid range low amy pos quartile {a4_low_range}\")\n",
    "print(f\"centiloid range med low amy pos quartile {a4_med_low_range}\")\n",
    "print(f\"centiloid range med high amy pos quartile {a4_med_high_range}\")\n",
    "print(f\"centiloid range high amy pos quartile {a4_high_range}\")"
   ]
  },
  {
   "attachments": {},
   "cell_type": "markdown",
   "metadata": {},
   "source": [
    "##### save a4 quartiles for graph construction \n"
   ]
  },
  {
   "cell_type": "code",
   "execution_count": 110,
   "metadata": {},
   "outputs": [],
   "source": [
    "#save the quartile csvs \n",
    "a4_cent_low.to_csv('../../data_paths_and_cleaning/data/final_cleaned_quartiles/a4_quartiles/a4_amy_tau_merged_cent_low_quartile.csv',index=False)\n",
    "a4_cent_med_low.to_csv('../../data_paths_and_cleaning/data/final_cleaned_quartiles/a4_quartiles/a4_amy_tau_merged_cent_med_low_quartile.csv',index=False)\n",
    "a4_cent_med_high.to_csv('../../data_paths_and_cleaning/data/final_cleaned_quartiles/a4_quartiles/a4_amy_tau_merged_cent_med_high_quartile.csv',index=False)\n",
    "a4_cent_high.to_csv('../../data_paths_and_cleaning/data/final_cleaned_quartiles/a4_quartiles/a4_adni_amy_tau_merged_cent_high_quartile.csv',index=False)"
   ]
  }
 ],
 "metadata": {
  "kernelspec": {
   "display_name": "graph_env",
   "language": "python",
   "name": "python3"
  },
  "language_info": {
   "codemirror_mode": {
    "name": "ipython",
    "version": 3
   },
   "file_extension": ".py",
   "mimetype": "text/x-python",
   "name": "python",
   "nbconvert_exporter": "python",
   "pygments_lexer": "ipython3",
   "version": "3.10.13"
  },
  "orig_nbformat": 4
 },
 "nbformat": 4,
 "nbformat_minor": 2
}
