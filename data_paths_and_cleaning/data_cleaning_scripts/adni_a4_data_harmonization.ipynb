{
 "cells": [
  {
   "cell_type": "code",
   "execution_count": 53,
   "metadata": {},
   "outputs": [],
   "source": [
    "import numpy as np\n",
    "import pandas as pd\n",
    "import matplotlib.pyplot as plt\n",
    "import os\n",
    "import glob as glob\n",
    "import math"
   ]
  },
  {
   "attachments": {},
   "cell_type": "markdown",
   "metadata": {},
   "source": [
    "# This script is to have create new dataframes with 44 matching harmonized bilateral region suvrs for both adni and a4"
   ]
  },
  {
   "attachments": {},
   "cell_type": "markdown",
   "metadata": {},
   "source": [
    "* Note in the path for calling the data, replace the /home/mlauber with home/yourfolder"
   ]
  },
  {
   "cell_type": "code",
   "execution_count": 54,
   "metadata": {},
   "outputs": [],
   "source": [
    "#load and analyze amyloid positive a4 data \n",
    "merged_a4_at_amypos = pd.read_csv(\"/home/mlauber/jad2024/data_paths_and_cleaning/data/intermediate_data/a4/merged_a4_at_amy_pos.csv\")"
   ]
  },
  {
   "cell_type": "code",
   "execution_count": 55,
   "metadata": {},
   "outputs": [
    {
     "name": "stdout",
     "output_type": "stream",
     "text": [
      "           BID         update_stamp_x       ligand  centiloid  \\\n",
      "0    B10423472  2018-12-06 00:00:00.0  Florbetapir    80.8687   \n",
      "1    B10693248  2018-12-06 00:00:00.0  Florbetapir   113.8210   \n",
      "2    B10709603  2018-12-06 00:00:00.0  Florbetapir    40.5933   \n",
      "3    B10904689  2018-12-06 00:00:00.0  Florbetapir   126.6360   \n",
      "4    B11089276  2018-12-06 00:00:00.0  Florbetapir    35.1012   \n",
      "..         ...                    ...          ...        ...   \n",
      "368  B92372599  2019-04-19 00:00:00.0  Florbetapir    40.5933   \n",
      "369  B97841288  2019-04-19 00:00:00.0  Florbetapir    71.7152   \n",
      "370  B98032541  2019-04-19 00:00:00.0  Florbetapir    55.2389   \n",
      "371  B99033399  2019-04-19 00:00:00.0  Florbetapir    53.4082   \n",
      "372  B99860801  2019-04-19 00:00:00.0  Florbetapir    35.1012   \n",
      "\n",
      "     Mean_3rd_Ventricle  Mean_4th_Ventricle  Mean_Brain_Stem  \\\n",
      "0              0.845577            0.864285         0.911925   \n",
      "1              1.110908            0.963089         1.000662   \n",
      "2              1.041388            0.869095         1.007361   \n",
      "3              0.917584            0.845176         0.920387   \n",
      "4              0.960801            1.035359         1.035534   \n",
      "..                  ...                 ...              ...   \n",
      "368            0.885410            0.842769         0.919593   \n",
      "369            0.736917            0.712659         0.837669   \n",
      "370            0.619954            0.811742         1.046703   \n",
      "371            0.867028            0.954539         0.940477   \n",
      "372            0.842499            0.860196         0.924592   \n",
      "\n",
      "     Mean_CC_Anterior  Mean_CC_Central  Mean_CC_Mid_Anterior  ...  \\\n",
      "0            0.857168         0.733042              0.748900  ...   \n",
      "1            0.908223         0.862122              0.873952  ...   \n",
      "2            0.853996         0.872356              0.826985  ...   \n",
      "3            0.971428         0.823842              0.924871  ...   \n",
      "4            0.875824         0.751278              0.736648  ...   \n",
      "..                ...              ...                   ...  ...   \n",
      "368          0.696205         0.754464              0.687262  ...   \n",
      "369          0.714328         0.892816              0.857996  ...   \n",
      "370          0.694822         0.912663              0.761793  ...   \n",
      "371          0.921984         0.862013              0.859376  ...   \n",
      "372          0.844704         0.925383              0.809274  ...   \n",
      "\n",
      "     bi_rostralanteriorcingulate  bi_rostralmiddlefrontal  bi_superiorfrontal  \\\n",
      "0                       1.170967                 1.084401            1.046561   \n",
      "1                       1.062407                 1.174429            0.979405   \n",
      "2                       1.029535                 0.987615            0.897984   \n",
      "3                       1.065679                 0.993498            1.011460   \n",
      "4                       1.158528                 1.085493            1.048737   \n",
      "..                           ...                      ...                 ...   \n",
      "368                     0.928695                 1.095746            0.997771   \n",
      "369                     1.060927                 1.168246            1.151136   \n",
      "370                     1.041259                 1.635588            1.237379   \n",
      "371                     1.063435                 0.921026            0.994262   \n",
      "372                     0.909094                 0.843470            0.889596   \n",
      "\n",
      "     bi_superiorparietal  bi_superiortemporal  bi_supramarginal  \\\n",
      "0               0.904519             1.056903          0.986939   \n",
      "1               0.958415             1.093653          1.146316   \n",
      "2               0.900524             1.055535          1.035770   \n",
      "3               1.141170             1.077074          1.141837   \n",
      "4               1.015478             1.092743          1.098332   \n",
      "..                   ...                  ...               ...   \n",
      "368             1.130347             1.037639          1.122645   \n",
      "369             1.190718             1.055261          1.113416   \n",
      "370             1.178553             1.106055          1.319375   \n",
      "371             0.962612             1.016614          1.041210   \n",
      "372             0.875090             0.927802          0.936068   \n",
      "\n",
      "     bi_temporalpole  bi_transversetemporal  bi_totalWM         update_stamp_y  \n",
      "0           1.098317               0.949163    1.136982  2023-05-23 15:08:14.0  \n",
      "1           1.118879               1.065898    1.164280  2023-05-23 15:08:14.0  \n",
      "2           1.069306               0.981632    1.180320  2023-05-23 15:08:14.0  \n",
      "3           1.087700               0.963342    1.142480  2023-05-23 15:08:14.0  \n",
      "4           1.040324               1.066399    1.195765  2023-05-23 15:08:14.0  \n",
      "..               ...                    ...         ...                    ...  \n",
      "368         1.031807               0.859354    1.116266  2023-05-23 15:08:14.0  \n",
      "369         1.074650               0.891608    1.196047  2023-05-23 15:08:14.0  \n",
      "370         1.063425               0.829076    1.218950  2023-05-23 15:08:14.0  \n",
      "371         1.010308               1.067383    1.059244  2023-05-23 15:08:14.0  \n",
      "372         0.962584               0.929429    0.949232  2023-05-23 15:08:14.0  \n",
      "\n",
      "[373 rows x 277 columns]\n"
     ]
    }
   ],
   "source": [
    "print(merged_a4_at_amypos)"
   ]
  },
  {
   "attachments": {},
   "cell_type": "markdown",
   "metadata": {},
   "source": [
    "#### notes from a4 doumentation (stanford pipeline)\n",
    "- created using freesurfer recon- all \n",
    "- seems like a4 ones all start with Mean_"
   ]
  },
  {
   "cell_type": "code",
   "execution_count": 56,
   "metadata": {},
   "outputs": [
    {
     "name": "stdout",
     "output_type": "stream",
     "text": [
      "50\n"
     ]
    }
   ],
   "source": [
    "#check how many cols have bi_ prefix \n",
    "bi_reg_count = sum(col.startswith('bi_') for col in merged_a4_at_amypos.columns)\n",
    "print(bi_reg_count)\n",
    "#50 bilateral regions "
   ]
  },
  {
   "cell_type": "code",
   "execution_count": 57,
   "metadata": {},
   "outputs": [],
   "source": [
    "filtered_columns = [col for col in merged_a4_at_amypos.columns if col.startswith('bi_')]\n",
    "column_list = list(filtered_columns)\n",
    "a4_col_list = pd.DataFrame({'Column Names': column_list})\n",
    "# a4_col_list.to_csv(\"../a4/a4_bi_columns.csv\", index=False)"
   ]
  },
  {
   "cell_type": "code",
   "execution_count": 58,
   "metadata": {},
   "outputs": [],
   "source": [
    "#load and analyze adni data\n",
    "merged_adni_at_amypos = pd.read_csv(\"/home/mlauber/jad2024/data_paths_and_cleaning/data/intermediate_data/adni/merged_adni_at_amy_pos.csv\")"
   ]
  },
  {
   "cell_type": "code",
   "execution_count": 59,
   "metadata": {},
   "outputs": [
    {
     "name": "stdout",
     "output_type": "stream",
     "text": [
      "0      1.596\n",
      "1      1.562\n",
      "2      1.169\n",
      "3      1.145\n",
      "4      1.328\n",
      "       ...  \n",
      "393    1.296\n",
      "394    1.338\n",
      "395    0.971\n",
      "396    1.311\n",
      "397    1.042\n",
      "Name: HIPPOCAMPUS_SUVR, Length: 398, dtype: float64\n"
     ]
    }
   ],
   "source": [
    "print(merged_adni_at_amypos['HIPPOCAMPUS_SUVR'])"
   ]
  },
  {
   "cell_type": "code",
   "execution_count": 60,
   "metadata": {},
   "outputs": [],
   "source": [
    "#volume columns are named like ******_VOLUME so drop these \n",
    "drop_cols = [col for col in merged_adni_at_amypos.columns if col.endswith('_VOLUME')]\n",
    "merged_adni_at_amypos = merged_adni_at_amypos.drop(columns=drop_cols)"
   ]
  },
  {
   "cell_type": "code",
   "execution_count": 61,
   "metadata": {},
   "outputs": [],
   "source": [
    "#also drop choroid \n",
    "#drop adni startswith(\"CHOROID\")\n",
    "adni_drop_cols = [col for col in merged_adni_at_amypos.columns if col.startswith('CHOROID')]\n",
    "merged_adni_at_amypos = merged_adni_at_amypos.drop(columns=adni_drop_cols)"
   ]
  },
  {
   "cell_type": "code",
   "execution_count": 62,
   "metadata": {},
   "outputs": [
    {
     "name": "stdout",
     "output_type": "stream",
     "text": [
      "Index(['RID', 'TRACER_x', 'CENTILOIDS', 'LONIUID', 'SITEID', 'PTID',\n",
      "       'SCANDATE', 'PROCESSDATE', 'TRACER_y', 'META_TEMPORAL_SUVR',\n",
      "       ...\n",
      "       'RIGHT_CEREBELLUM_CORTEX_SUVR', 'RIGHT_CEREBELLUM_WHITE_MATTER_SUVR',\n",
      "       'RIGHT_CEREBRAL_WHITE_MATTER_SUVR', 'RIGHT_CHOROID_PLEXUS_SUVR',\n",
      "       'RIGHT_HIPPOCAMPUS_SUVR', 'RIGHT_PALLIDUM_SUVR', 'RIGHT_PUTAMEN_SUVR',\n",
      "       'RIGHT_THALAMUS_PROPER_SUVR', 'RIGHT_VENTRALDC_SUVR', 'update_stamp'],\n",
      "      dtype='object', length=158)\n"
     ]
    }
   ],
   "source": [
    "#this is without the volume \n",
    "print(merged_adni_at_amypos.columns)"
   ]
  },
  {
   "cell_type": "code",
   "execution_count": 63,
   "metadata": {},
   "outputs": [],
   "source": [
    "suffixes_to_drop = ['_Ventricle', '_plexus','_vessel','_Chiasm','_hypointensities','WM','CSF','Unknown','_y','_x',\"Matter\",\"Vent\"]\n",
    "for suffix in suffixes_to_drop:\n",
    "    a4_drop_cols = [col for col in merged_a4_at_amypos.columns if col.endswith(suffix)]\n",
    "    merged_a4_at_amypos = merged_a4_at_amypos.drop(columns=a4_drop_cols)"
   ]
  },
  {
   "cell_type": "code",
   "execution_count": 64,
   "metadata": {},
   "outputs": [],
   "source": [
    "#seems like the volume columns are named like Volume_**** so drop these columns \n",
    "a4_drop_cols = [col for col in merged_a4_at_amypos.columns if col.startswith('Volume_')]\n",
    "merged_a4_at_amypos = merged_a4_at_amypos.drop(columns=a4_drop_cols)"
   ]
  },
  {
   "cell_type": "code",
   "execution_count": 65,
   "metadata": {},
   "outputs": [
    {
     "data": {
      "text/html": [
       "<div>\n",
       "<style scoped>\n",
       "    .dataframe tbody tr th:only-of-type {\n",
       "        vertical-align: middle;\n",
       "    }\n",
       "\n",
       "    .dataframe tbody tr th {\n",
       "        vertical-align: top;\n",
       "    }\n",
       "\n",
       "    .dataframe thead th {\n",
       "        text-align: right;\n",
       "    }\n",
       "</style>\n",
       "<table border=\"1\" class=\"dataframe\">\n",
       "  <thead>\n",
       "    <tr style=\"text-align: right;\">\n",
       "      <th></th>\n",
       "      <th>BID</th>\n",
       "      <th>ligand</th>\n",
       "      <th>centiloid</th>\n",
       "      <th>Mean_Brain_Stem</th>\n",
       "      <th>Mean_CC_Anterior</th>\n",
       "      <th>Mean_CC_Central</th>\n",
       "      <th>Mean_CC_Mid_Anterior</th>\n",
       "      <th>Mean_CC_Mid_Posterior</th>\n",
       "      <th>Mean_CC_Posterior</th>\n",
       "      <th>Mean_Left_Accumbens_area</th>\n",
       "      <th>...</th>\n",
       "      <th>bi_precentral</th>\n",
       "      <th>bi_precuneus</th>\n",
       "      <th>bi_rostralanteriorcingulate</th>\n",
       "      <th>bi_rostralmiddlefrontal</th>\n",
       "      <th>bi_superiorfrontal</th>\n",
       "      <th>bi_superiorparietal</th>\n",
       "      <th>bi_superiortemporal</th>\n",
       "      <th>bi_supramarginal</th>\n",
       "      <th>bi_temporalpole</th>\n",
       "      <th>bi_transversetemporal</th>\n",
       "    </tr>\n",
       "  </thead>\n",
       "  <tbody>\n",
       "    <tr>\n",
       "      <th>0</th>\n",
       "      <td>B10423472</td>\n",
       "      <td>Florbetapir</td>\n",
       "      <td>80.8687</td>\n",
       "      <td>0.911925</td>\n",
       "      <td>0.857168</td>\n",
       "      <td>0.733042</td>\n",
       "      <td>0.748900</td>\n",
       "      <td>0.663917</td>\n",
       "      <td>0.866686</td>\n",
       "      <td>1.199217</td>\n",
       "      <td>...</td>\n",
       "      <td>0.955041</td>\n",
       "      <td>1.079061</td>\n",
       "      <td>1.170967</td>\n",
       "      <td>1.084401</td>\n",
       "      <td>1.046561</td>\n",
       "      <td>0.904519</td>\n",
       "      <td>1.056903</td>\n",
       "      <td>0.986939</td>\n",
       "      <td>1.098317</td>\n",
       "      <td>0.949163</td>\n",
       "    </tr>\n",
       "    <tr>\n",
       "      <th>1</th>\n",
       "      <td>B10693248</td>\n",
       "      <td>Florbetapir</td>\n",
       "      <td>113.8210</td>\n",
       "      <td>1.000662</td>\n",
       "      <td>0.908223</td>\n",
       "      <td>0.862122</td>\n",
       "      <td>0.873952</td>\n",
       "      <td>0.837348</td>\n",
       "      <td>0.964523</td>\n",
       "      <td>1.289822</td>\n",
       "      <td>...</td>\n",
       "      <td>0.958097</td>\n",
       "      <td>1.114343</td>\n",
       "      <td>1.062407</td>\n",
       "      <td>1.174429</td>\n",
       "      <td>0.979405</td>\n",
       "      <td>0.958415</td>\n",
       "      <td>1.093653</td>\n",
       "      <td>1.146316</td>\n",
       "      <td>1.118879</td>\n",
       "      <td>1.065898</td>\n",
       "    </tr>\n",
       "    <tr>\n",
       "      <th>2</th>\n",
       "      <td>B10709603</td>\n",
       "      <td>Florbetapir</td>\n",
       "      <td>40.5933</td>\n",
       "      <td>1.007361</td>\n",
       "      <td>0.853996</td>\n",
       "      <td>0.872356</td>\n",
       "      <td>0.826985</td>\n",
       "      <td>0.782240</td>\n",
       "      <td>0.966260</td>\n",
       "      <td>1.433114</td>\n",
       "      <td>...</td>\n",
       "      <td>0.920471</td>\n",
       "      <td>1.039841</td>\n",
       "      <td>1.029535</td>\n",
       "      <td>0.987615</td>\n",
       "      <td>0.897984</td>\n",
       "      <td>0.900524</td>\n",
       "      <td>1.055535</td>\n",
       "      <td>1.035770</td>\n",
       "      <td>1.069306</td>\n",
       "      <td>0.981632</td>\n",
       "    </tr>\n",
       "    <tr>\n",
       "      <th>3</th>\n",
       "      <td>B10904689</td>\n",
       "      <td>Florbetapir</td>\n",
       "      <td>126.6360</td>\n",
       "      <td>0.920387</td>\n",
       "      <td>0.971428</td>\n",
       "      <td>0.823842</td>\n",
       "      <td>0.924871</td>\n",
       "      <td>0.792009</td>\n",
       "      <td>0.918345</td>\n",
       "      <td>1.227138</td>\n",
       "      <td>...</td>\n",
       "      <td>0.912223</td>\n",
       "      <td>1.217753</td>\n",
       "      <td>1.065679</td>\n",
       "      <td>0.993498</td>\n",
       "      <td>1.011460</td>\n",
       "      <td>1.141170</td>\n",
       "      <td>1.077074</td>\n",
       "      <td>1.141837</td>\n",
       "      <td>1.087700</td>\n",
       "      <td>0.963342</td>\n",
       "    </tr>\n",
       "    <tr>\n",
       "      <th>4</th>\n",
       "      <td>B11089276</td>\n",
       "      <td>Florbetapir</td>\n",
       "      <td>35.1012</td>\n",
       "      <td>1.035534</td>\n",
       "      <td>0.875824</td>\n",
       "      <td>0.751278</td>\n",
       "      <td>0.736648</td>\n",
       "      <td>0.804294</td>\n",
       "      <td>0.880089</td>\n",
       "      <td>1.459700</td>\n",
       "      <td>...</td>\n",
       "      <td>1.049212</td>\n",
       "      <td>1.160123</td>\n",
       "      <td>1.158528</td>\n",
       "      <td>1.085493</td>\n",
       "      <td>1.048737</td>\n",
       "      <td>1.015478</td>\n",
       "      <td>1.092743</td>\n",
       "      <td>1.098332</td>\n",
       "      <td>1.040324</td>\n",
       "      <td>1.066399</td>\n",
       "    </tr>\n",
       "  </tbody>\n",
       "</table>\n",
       "<p>5 rows × 138 columns</p>\n",
       "</div>"
      ],
      "text/plain": [
       "         BID       ligand  centiloid  Mean_Brain_Stem  Mean_CC_Anterior  \\\n",
       "0  B10423472  Florbetapir    80.8687         0.911925          0.857168   \n",
       "1  B10693248  Florbetapir   113.8210         1.000662          0.908223   \n",
       "2  B10709603  Florbetapir    40.5933         1.007361          0.853996   \n",
       "3  B10904689  Florbetapir   126.6360         0.920387          0.971428   \n",
       "4  B11089276  Florbetapir    35.1012         1.035534          0.875824   \n",
       "\n",
       "   Mean_CC_Central  Mean_CC_Mid_Anterior  Mean_CC_Mid_Posterior  \\\n",
       "0         0.733042              0.748900               0.663917   \n",
       "1         0.862122              0.873952               0.837348   \n",
       "2         0.872356              0.826985               0.782240   \n",
       "3         0.823842              0.924871               0.792009   \n",
       "4         0.751278              0.736648               0.804294   \n",
       "\n",
       "   Mean_CC_Posterior  Mean_Left_Accumbens_area  ...  bi_precentral  \\\n",
       "0           0.866686                  1.199217  ...       0.955041   \n",
       "1           0.964523                  1.289822  ...       0.958097   \n",
       "2           0.966260                  1.433114  ...       0.920471   \n",
       "3           0.918345                  1.227138  ...       0.912223   \n",
       "4           0.880089                  1.459700  ...       1.049212   \n",
       "\n",
       "   bi_precuneus  bi_rostralanteriorcingulate  bi_rostralmiddlefrontal  \\\n",
       "0      1.079061                     1.170967                 1.084401   \n",
       "1      1.114343                     1.062407                 1.174429   \n",
       "2      1.039841                     1.029535                 0.987615   \n",
       "3      1.217753                     1.065679                 0.993498   \n",
       "4      1.160123                     1.158528                 1.085493   \n",
       "\n",
       "   bi_superiorfrontal  bi_superiorparietal  bi_superiortemporal  \\\n",
       "0            1.046561             0.904519             1.056903   \n",
       "1            0.979405             0.958415             1.093653   \n",
       "2            0.897984             0.900524             1.055535   \n",
       "3            1.011460             1.141170             1.077074   \n",
       "4            1.048737             1.015478             1.092743   \n",
       "\n",
       "   bi_supramarginal  bi_temporalpole  bi_transversetemporal  \n",
       "0          0.986939         1.098317               0.949163  \n",
       "1          1.146316         1.118879               1.065898  \n",
       "2          1.035770         1.069306               0.981632  \n",
       "3          1.141837         1.087700               0.963342  \n",
       "4          1.098332         1.040324               1.066399  \n",
       "\n",
       "[5 rows x 138 columns]"
      ]
     },
     "execution_count": 65,
     "metadata": {},
     "output_type": "execute_result"
    }
   ],
   "source": [
    "merged_a4_at_amypos.head(5)"
   ]
  },
  {
   "attachments": {},
   "cell_type": "markdown",
   "metadata": {},
   "source": [
    "#### now drop the left and right duplicates \n",
    "- also with left right from a4 stanford doumentation \"We additionally created bilateral regions taking a volume weighted average across hemispheres. These are provided for in the bi_* columns\" so maybe just use these\n",
    "- in adni data it's going to be \"RIGHT_**\" OR \"LEFT_*\" OR \"CTX_RH\" OR \"CTX_LH\" \n",
    "- for adni some regions like orbiotfrontal gyrus, there are 3: orbiotfrontal gyrus, LEFT_ORBITOFRONTAL_GYRUS, and RIGHT_ etc so just take the one without left and right \n"
   ]
  },
  {
   "cell_type": "code",
   "execution_count": 67,
   "metadata": {},
   "outputs": [],
   "source": [
    "#find the adni brain regions list without \"RIGHT_**\" OR \"LEFT_*\" OR \"CTX_RH\" OR \"CTX_LH\" \n",
    "prefixes_to_remove = ['RIGHT_', 'LEFT_', 'CTX_RH', 'CTX_LH']\n",
    "for prefix in prefixes_to_remove:\n",
    "    adni_drop_cols = [col for col in merged_adni_at_amypos.columns if col.startswith(prefix)]\n",
    "    merged_adni_at_amypos = merged_adni_at_amypos.drop(columns=adni_drop_cols)"
   ]
  },
  {
   "cell_type": "code",
   "execution_count": 68,
   "metadata": {},
   "outputs": [
    {
     "name": "stdout",
     "output_type": "stream",
     "text": [
      "      RID TRACER_x  CENTILOIDS   LONIUID  SITEID        PTID    SCANDATE  \\\n",
      "0      31      FBP        97.0  I1596172      23  023-S-0031  2019-04-23   \n",
      "1     112      FBP        89.0  I1600753     127  127-S-0112  2018-08-13   \n",
      "2     120      FBP        32.0  I1596585      27  027-S-0120  2017-09-13   \n",
      "3     210      FBP        54.0  I1599039      68  068-S-0210  2018-03-13   \n",
      "4     377      FBP        85.0  I1598072      37  037-S-0377  2019-06-05   \n",
      "..    ...      ...         ...       ...     ...         ...         ...   \n",
      "393  6580      FBB       142.0  I1603427     941  941-S-6580  2020-10-09   \n",
      "394  6581      FBB        28.0  I1603410     941  941-S-6581  2018-09-21   \n",
      "395  6586      FBB        40.0  I1638643     135  135-S-6586  2022-10-26   \n",
      "396  7100      FBB        50.0  I1634248      33  033-S-7100  2022-10-19   \n",
      "397  7105      FBP       112.0  I1640013      35  035-S-7105  2022-10-25   \n",
      "\n",
      "    PROCESSDATE TRACER_y  META_TEMPORAL_SUVR  ...  AMYGDALA_SUVR  \\\n",
      "0    2022-09-02      FTP               1.299  ...          1.479   \n",
      "1    2022-09-02      FTP               1.875  ...          2.350   \n",
      "2    2022-09-02      FTP               1.228  ...          1.213   \n",
      "3    2022-09-02      FTP               1.480  ...          1.134   \n",
      "4    2022-09-02      FTP               1.781  ...          1.515   \n",
      "..          ...      ...                 ...  ...            ...   \n",
      "393  2022-11-18      FTP               1.423  ...          1.599   \n",
      "394  2022-09-02      FTP               1.185  ...          1.057   \n",
      "395  2023-03-14      FTP               1.130  ...          1.040   \n",
      "396  2023-02-15      FTP               1.135  ...          1.101   \n",
      "397  2023-05-26      FTP               2.069  ...          1.274   \n",
      "\n",
      "     CAUDATE_SUVR  CEREBELLUM_CORTEX_SUVR  CEREBELLUM_WHITE_MATTER_SUVR  \\\n",
      "0           1.276                   1.056                         1.029   \n",
      "1           1.198                   1.042                         1.195   \n",
      "2           1.337                   1.005                         1.047   \n",
      "3           1.363                   0.980                         1.013   \n",
      "4           1.589                   1.030                         1.206   \n",
      "..            ...                     ...                           ...   \n",
      "393         1.280                   0.978                         1.040   \n",
      "394         1.392                   0.990                         1.105   \n",
      "395         1.425                   1.018                         0.958   \n",
      "396         1.068                   1.030                         1.028   \n",
      "397         1.439                   1.039                         1.067   \n",
      "\n",
      "     HIPPOCAMPUS_SUVR  PALLIDUM_SUVR  PUTAMEN_SUVR  THALAMUS_PROPER_SUVR  \\\n",
      "0               1.596          1.702         1.461                 1.096   \n",
      "1               1.562          1.844         1.951                 1.430   \n",
      "2               1.169          1.470         1.524                 1.193   \n",
      "3               1.145          1.772         1.482                 1.218   \n",
      "4               1.328          2.289         2.034                 1.528   \n",
      "..                ...            ...           ...                   ...   \n",
      "393             1.296          1.686         1.669                 1.239   \n",
      "394             1.338          1.918         1.648                 1.165   \n",
      "395             0.971          1.756         1.876                 1.009   \n",
      "396             1.311          1.408         1.211                 1.072   \n",
      "397             1.042          1.901         1.805                 1.096   \n",
      "\n",
      "     VENTRALDC_SUVR           update_stamp  \n",
      "0             1.538  2023-07-25 09:32:18.0  \n",
      "1             1.475  2023-07-25 09:32:18.0  \n",
      "2             1.263  2023-07-25 09:32:18.0  \n",
      "3             1.385  2023-07-25 09:32:18.0  \n",
      "4             1.668  2023-07-25 09:32:18.0  \n",
      "..              ...                    ...  \n",
      "393           1.356  2023-07-25 09:32:18.0  \n",
      "394           1.372  2023-07-25 09:32:18.0  \n",
      "395           1.313  2023-07-25 09:32:18.0  \n",
      "396           1.298  2023-07-25 09:32:18.0  \n",
      "397           1.461  2023-07-25 09:32:18.0  \n",
      "\n",
      "[398 rows x 66 columns]\n"
     ]
    }
   ],
   "source": [
    "merged_adni_at_amypos_bi = merged_adni_at_amypos\n",
    "# merged_adni_at_amypos_bi.to_csv(\"/home/mlauber/jad2024/data_paths_and_cleaning/data/intermediate_data/adni/merged_adni_at_amy_pos_bi.csv\")\n",
    "print(merged_adni_at_amypos_bi)"
   ]
  },
  {
   "cell_type": "code",
   "execution_count": 69,
   "metadata": {},
   "outputs": [
    {
     "name": "stdout",
     "output_type": "stream",
     "text": [
      "           BID       ligand  centiloid  Mean_Brain_Stem  Mean_CC_Anterior  \\\n",
      "0    B10423472  Florbetapir    80.8687         0.911925          0.857168   \n",
      "1    B10693248  Florbetapir   113.8210         1.000662          0.908223   \n",
      "2    B10709603  Florbetapir    40.5933         1.007361          0.853996   \n",
      "3    B10904689  Florbetapir   126.6360         0.920387          0.971428   \n",
      "4    B11089276  Florbetapir    35.1012         1.035534          0.875824   \n",
      "..         ...          ...        ...              ...               ...   \n",
      "368  B92372599  Florbetapir    40.5933         0.919593          0.696205   \n",
      "369  B97841288  Florbetapir    71.7152         0.837669          0.714328   \n",
      "370  B98032541  Florbetapir    55.2389         1.046703          0.694822   \n",
      "371  B99033399  Florbetapir    53.4082         0.940477          0.921984   \n",
      "372  B99860801  Florbetapir    35.1012         0.924592          0.844704   \n",
      "\n",
      "     Mean_CC_Central  Mean_CC_Mid_Anterior  Mean_CC_Mid_Posterior  \\\n",
      "0           0.733042              0.748900               0.663917   \n",
      "1           0.862122              0.873952               0.837348   \n",
      "2           0.872356              0.826985               0.782240   \n",
      "3           0.823842              0.924871               0.792009   \n",
      "4           0.751278              0.736648               0.804294   \n",
      "..               ...                   ...                    ...   \n",
      "368         0.754464              0.687262               0.620278   \n",
      "369         0.892816              0.857996               0.848363   \n",
      "370         0.912663              0.761793               0.785953   \n",
      "371         0.862013              0.859376               0.818269   \n",
      "372         0.925383              0.809274               0.864723   \n",
      "\n",
      "     Mean_CC_Posterior  bi_Accumbens_area  ...  bi_precentral  bi_precuneus  \\\n",
      "0             0.866686           1.252307  ...       0.955041      1.079061   \n",
      "1             0.964523           1.306233  ...       0.958097      1.114343   \n",
      "2             0.966260           1.394560  ...       0.920471      1.039841   \n",
      "3             0.918345           1.221196  ...       0.912223      1.217753   \n",
      "4             0.880089           1.425629  ...       1.049212      1.160123   \n",
      "..                 ...                ...  ...            ...           ...   \n",
      "368           0.825615           1.324560  ...       1.008765      1.071886   \n",
      "369           1.179848           1.240441  ...       1.006039      1.321353   \n",
      "370           0.889976           1.046083  ...       1.061295      1.384344   \n",
      "371           0.932453           1.189288  ...       0.958616      1.109726   \n",
      "372           0.885088           1.143089  ...       0.851282      0.976283   \n",
      "\n",
      "     bi_rostralanteriorcingulate  bi_rostralmiddlefrontal  bi_superiorfrontal  \\\n",
      "0                       1.170967                 1.084401            1.046561   \n",
      "1                       1.062407                 1.174429            0.979405   \n",
      "2                       1.029535                 0.987615            0.897984   \n",
      "3                       1.065679                 0.993498            1.011460   \n",
      "4                       1.158528                 1.085493            1.048737   \n",
      "..                           ...                      ...                 ...   \n",
      "368                     0.928695                 1.095746            0.997771   \n",
      "369                     1.060927                 1.168246            1.151136   \n",
      "370                     1.041259                 1.635588            1.237379   \n",
      "371                     1.063435                 0.921026            0.994262   \n",
      "372                     0.909094                 0.843470            0.889596   \n",
      "\n",
      "     bi_superiorparietal  bi_superiortemporal  bi_supramarginal  \\\n",
      "0               0.904519             1.056903          0.986939   \n",
      "1               0.958415             1.093653          1.146316   \n",
      "2               0.900524             1.055535          1.035770   \n",
      "3               1.141170             1.077074          1.141837   \n",
      "4               1.015478             1.092743          1.098332   \n",
      "..                   ...                  ...               ...   \n",
      "368             1.130347             1.037639          1.122645   \n",
      "369             1.190718             1.055261          1.113416   \n",
      "370             1.178553             1.106055          1.319375   \n",
      "371             0.962612             1.016614          1.041210   \n",
      "372             0.875090             0.927802          0.936068   \n",
      "\n",
      "     bi_temporalpole  bi_transversetemporal  \n",
      "0           1.098317               0.949163  \n",
      "1           1.118879               1.065898  \n",
      "2           1.069306               0.981632  \n",
      "3           1.087700               0.963342  \n",
      "4           1.040324               1.066399  \n",
      "..               ...                    ...  \n",
      "368         1.031807               0.859354  \n",
      "369         1.074650               0.891608  \n",
      "370         1.063425               0.829076  \n",
      "371         1.010308               1.067383  \n",
      "372         0.962584               0.929429  \n",
      "\n",
      "[373 rows x 52 columns]\n"
     ]
    }
   ],
   "source": [
    "#drop a4 columns that have the string \"lh\" \"rh\" or \"Right\" or \"Left\"\n",
    "pattern = r'(_lh_|_rh_|Left|Right)'\n",
    "lr_cols = merged_a4_at_amypos.filter(regex=pattern, axis=1)\n",
    "merged_a4_at_amypos_bi = merged_a4_at_amypos.drop(columns=lr_cols)\n",
    "print(merged_a4_at_amypos_bi)"
   ]
  },
  {
   "attachments": {},
   "cell_type": "markdown",
   "metadata": {},
   "source": [
    "#### make all the a4 col names uppercase "
   ]
  },
  {
   "cell_type": "code",
   "execution_count": 71,
   "metadata": {},
   "outputs": [
    {
     "name": "stdout",
     "output_type": "stream",
     "text": [
      "Index(['BID', 'LIGAND', 'CENTILOID', 'MEAN_BRAIN_STEM', 'MEAN_CC_ANTERIOR',\n",
      "       'MEAN_CC_CENTRAL', 'MEAN_CC_MID_ANTERIOR', 'MEAN_CC_MID_POSTERIOR',\n",
      "       'MEAN_CC_POSTERIOR', 'BI_ACCUMBENS_AREA', 'BI_AMYGDALA', 'BI_CAUDATE',\n",
      "       'BI_CEREBELLUM_CORTEX', 'BI_HIPPOCAMPUS', 'BI_PALLIDUM', 'BI_PUTAMEN',\n",
      "       'BI_THALAMUS', 'BI_VENTRALDC', 'BI_BANKSSTS',\n",
      "       'BI_CAUDALANTERIORCINGULATE', 'BI_CAUDALMIDDLEFRONTAL', 'BI_CUNEUS',\n",
      "       'BI_ENTORHINAL', 'BI_FRONTALPOLE', 'BI_FUSIFORM', 'BI_INFERIORPARIETAL',\n",
      "       'BI_INFERIORTEMPORAL', 'BI_INSULA', 'BI_ISTHMUSCINGULATE',\n",
      "       'BI_LATERALOCCIPITAL', 'BI_LATERALORBITOFRONTAL', 'BI_LINGUAL',\n",
      "       'BI_MEDIALORBITOFRONTAL', 'BI_MIDDLETEMPORAL', 'BI_PARACENTRAL',\n",
      "       'BI_PARAHIPPOCAMPAL', 'BI_PARSOPERCULARIS', 'BI_PARSORBITALIS',\n",
      "       'BI_PARSTRIANGULARIS', 'BI_PERICALCARINE', 'BI_POSTCENTRAL',\n",
      "       'BI_POSTERIORCINGULATE', 'BI_PRECENTRAL', 'BI_PRECUNEUS',\n",
      "       'BI_ROSTRALANTERIORCINGULATE', 'BI_ROSTRALMIDDLEFRONTAL',\n",
      "       'BI_SUPERIORFRONTAL', 'BI_SUPERIORPARIETAL', 'BI_SUPERIORTEMPORAL',\n",
      "       'BI_SUPRAMARGINAL', 'BI_TEMPORALPOLE', 'BI_TRANSVERSETEMPORAL'],\n",
      "      dtype='object')\n"
     ]
    }
   ],
   "source": [
    "merged_a4_at_amypos_bi.columns = [col.upper() for col in merged_a4_at_amypos_bi.columns]\n",
    "print(merged_a4_at_amypos_bi.columns)"
   ]
  },
  {
   "cell_type": "code",
   "execution_count": 72,
   "metadata": {},
   "outputs": [],
   "source": [
    "#drop the mean columns from a4\n",
    "a4_mean_drop_cols = [col for col in merged_a4_at_amypos_bi.columns if col.startswith('MEAN')]\n",
    "merged_a4_at_amypos_bi = merged_a4_at_amypos_bi.drop(columns=a4_mean_drop_cols)"
   ]
  },
  {
   "cell_type": "code",
   "execution_count": 73,
   "metadata": {},
   "outputs": [],
   "source": [
    "#remove the BI prefix from A4 \n",
    "merged_a4_at_amypos_bi.columns = merged_a4_at_amypos_bi.columns.str.replace(\"BI_\",'')"
   ]
  },
  {
   "cell_type": "code",
   "execution_count": 74,
   "metadata": {},
   "outputs": [
    {
     "name": "stdout",
     "output_type": "stream",
     "text": [
      "Index(['BID', 'LIGAND', 'CENTILOID', 'ACCUMBENS_AREA', 'AMYGDALA', 'CAUDATE',\n",
      "       'CEREBELLUM_CORTEX', 'HIPPOCAMPUS', 'PALLIDUM', 'PUTAMEN', 'THALAMUS',\n",
      "       'VENTRALDC', 'BANKSSTS', 'CAUDALANTERIORCINGULATE',\n",
      "       'CAUDALMIDDLEFRONTAL', 'CUNEUS', 'ENTORHINAL', 'FRONTALPOLE',\n",
      "       'FUSIFORM', 'INFERIORPARIETAL', 'INFERIORTEMPORAL', 'INSULA',\n",
      "       'ISTHMUSCINGULATE', 'LATERALOCCIPITAL', 'LATERALORBITOFRONTAL',\n",
      "       'LINGUAL', 'MEDIALORBITOFRONTAL', 'MIDDLETEMPORAL', 'PARACENTRAL',\n",
      "       'PARAHIPPOCAMPAL', 'PARSOPERCULARIS', 'PARSORBITALIS',\n",
      "       'PARSTRIANGULARIS', 'PERICALCARINE', 'POSTCENTRAL',\n",
      "       'POSTERIORCINGULATE', 'PRECENTRAL', 'PRECUNEUS',\n",
      "       'ROSTRALANTERIORCINGULATE', 'ROSTRALMIDDLEFRONTAL', 'SUPERIORFRONTAL',\n",
      "       'SUPERIORPARIETAL', 'SUPERIORTEMPORAL', 'SUPRAMARGINAL', 'TEMPORALPOLE',\n",
      "       'TRANSVERSETEMPORAL'],\n",
      "      dtype='object')\n"
     ]
    }
   ],
   "source": [
    "print(merged_a4_at_amypos_bi.columns)"
   ]
  },
  {
   "cell_type": "code",
   "execution_count": 75,
   "metadata": {},
   "outputs": [],
   "source": [
    "#drop CTX prefix and drop SUVR suffix\n",
    "merged_adni_at_amypos_bi.columns = merged_adni_at_amypos_bi.columns.str.replace(\"CTX_\",'').str.replace('_SUVR','')"
   ]
  },
  {
   "cell_type": "code",
   "execution_count": 76,
   "metadata": {},
   "outputs": [
    {
     "name": "stdout",
     "output_type": "stream",
     "text": [
      "Index(['RID', 'TRACER_x', 'CENTILOIDS', 'LONIUID', 'SITEID', 'PTID',\n",
      "       'SCANDATE', 'PROCESSDATE', 'TRACER_y', 'META_TEMPORAL', 'ENTORHINAL',\n",
      "       'INFERIORCEREBELLUM', 'CEREBRAL_WHITE_MATTER', 'BRAINSTEM',\n",
      "       'CC_ANTERIOR', 'CC_CENTRAL', 'CC_MID_ANTERIOR', 'CC_MID_POSTERIOR',\n",
      "       'CC_POSTERIOR', 'CSF', 'VENTRICLE_3RD', 'VENTRICLE_4TH', 'BANKSSTS',\n",
      "       'CAUDALANTERIORCINGULATE', 'CAUDALMIDDLEFRONTAL', 'CUNEUS',\n",
      "       'FRONTALPOLE', 'FUSIFORM', 'INFERIORPARIETAL', 'INFERIORTEMPORAL',\n",
      "       'INSULA', 'ISTHMUSCINGULATE', 'LATERALOCCIPITAL',\n",
      "       'LATERALORBITOFRONTAL', 'LINGUAL', 'MEDIALORBITOFRONTAL',\n",
      "       'MIDDLETEMPORAL', 'PARACENTRAL', 'PARAHIPPOCAMPAL', 'PARSOPERCULARIS',\n",
      "       'PARSORBITALIS', 'PARSTRIANGULARIS', 'PERICALCARINE', 'POSTCENTRAL',\n",
      "       'POSTERIORCINGULATE', 'PRECENTRAL', 'PRECUNEUS',\n",
      "       'ROSTRALANTERIORCINGULATE', 'ROSTRALMIDDLEFRONTAL', 'SUPERIORFRONTAL',\n",
      "       'SUPERIORPARIETAL', 'SUPERIORTEMPORAL', 'SUPRAMARGINAL', 'TEMPORALPOLE',\n",
      "       'TRANSVERSETEMPORAL', 'ACCUMBENS_AREA', 'AMYGDALA', 'CAUDATE',\n",
      "       'CEREBELLUM_CORTEX', 'CEREBELLUM_WHITE_MATTER', 'HIPPOCAMPUS',\n",
      "       'PALLIDUM', 'PUTAMEN', 'THALAMUS_PROPER', 'VENTRALDC', 'update_stamp'],\n",
      "      dtype='object')\n"
     ]
    }
   ],
   "source": [
    "print(merged_adni_at_amypos_bi.columns) #in adni it's thalamus_proper so need to drop the proper for it to match "
   ]
  },
  {
   "cell_type": "code",
   "execution_count": 77,
   "metadata": {},
   "outputs": [],
   "source": [
    "merged_adni_at_amypos_bi= merged_adni_at_amypos_bi.rename(columns={'THALAMUS_PROPER': 'THALAMUS'})"
   ]
  },
  {
   "cell_type": "code",
   "execution_count": 78,
   "metadata": {},
   "outputs": [
    {
     "name": "stdout",
     "output_type": "stream",
     "text": [
      "Index(['BID', 'LIGAND', 'CENTILOID', 'ACCUMBENS_AREA', 'AMYGDALA', 'CAUDATE',\n",
      "       'CEREBELLUM_CORTEX', 'HIPPOCAMPUS', 'PALLIDUM', 'PUTAMEN', 'THALAMUS',\n",
      "       'VENTRALDC', 'BANKSSTS', 'CAUDALANTERIORCINGULATE',\n",
      "       'CAUDALMIDDLEFRONTAL', 'CUNEUS', 'ENTORHINAL', 'FRONTALPOLE',\n",
      "       'FUSIFORM', 'INFERIORPARIETAL', 'INFERIORTEMPORAL', 'INSULA',\n",
      "       'ISTHMUSCINGULATE', 'LATERALOCCIPITAL', 'LATERALORBITOFRONTAL',\n",
      "       'LINGUAL', 'MEDIALORBITOFRONTAL', 'MIDDLETEMPORAL', 'PARACENTRAL',\n",
      "       'PARAHIPPOCAMPAL', 'PARSOPERCULARIS', 'PARSORBITALIS',\n",
      "       'PARSTRIANGULARIS', 'PERICALCARINE', 'POSTCENTRAL',\n",
      "       'POSTERIORCINGULATE', 'PRECENTRAL', 'PRECUNEUS',\n",
      "       'ROSTRALANTERIORCINGULATE', 'ROSTRALMIDDLEFRONTAL', 'SUPERIORFRONTAL',\n",
      "       'SUPERIORPARIETAL', 'SUPERIORTEMPORAL', 'SUPRAMARGINAL', 'TEMPORALPOLE',\n",
      "       'TRANSVERSETEMPORAL'],\n",
      "      dtype='object')\n"
     ]
    }
   ],
   "source": [
    "print(merged_a4_at_amypos_bi.columns)"
   ]
  },
  {
   "attachments": {},
   "cell_type": "markdown",
   "metadata": {},
   "source": [
    "#### now find over lapping regions (with same name)"
   ]
  },
  {
   "cell_type": "code",
   "execution_count": 79,
   "metadata": {},
   "outputs": [],
   "source": [
    "#rename BID to rid in a4 to make it consistent with adni \n",
    "merged_a4_at_amypos_bi = merged_a4_at_amypos_bi.rename(columns={'BID':'RID'})\n",
    "#rename ligand col to tracer \n",
    "merged_a4_at_amypos_bi = merged_a4_at_amypos_bi.rename(columns={'LIGAND':'TRACER'})\n",
    "merged_a4_at_amypos_bi = merged_a4_at_amypos_bi.rename(columns={'CENTILOID':'CENTILOIDS'})\n"
   ]
  },
  {
   "cell_type": "code",
   "execution_count": 80,
   "metadata": {},
   "outputs": [
    {
     "name": "stdout",
     "output_type": "stream",
     "text": [
      "45\n"
     ]
    }
   ],
   "source": [
    "#get a list of regions in both dataframes (44 common regions)\n",
    "common_regions = list(set(merged_adni_at_amypos_bi.columns)& set(merged_a4_at_amypos_bi.columns))\n",
    "print(len(common_regions))\n",
    "#now filter dfs based on common regions \n",
    "merged_a4_at_amypos_bi_harm = merged_a4_at_amypos_bi[common_regions]\n",
    "merged_adni_at_amypos_bi_harm = merged_adni_at_amypos_bi[common_regions]\n",
    "merged_a4_at_amypos_bi_harm = merged_a4_at_amypos_bi_harm.set_index('RID')\n",
    "merged_adni_at_amypos_bi_harm = merged_adni_at_amypos_bi_harm.set_index('RID')\n"
   ]
  },
  {
   "cell_type": "code",
   "execution_count": 81,
   "metadata": {},
   "outputs": [
    {
     "name": "stdout",
     "output_type": "stream",
     "text": [
      "           LATERALOCCIPITAL  PARSOPERCULARIS  LATERALORBITOFRONTAL  PUTAMEN  \\\n",
      "RID                                                                           \n",
      "B10423472             0.896            1.106                 1.232    1.341   \n",
      "B10693248             1.105            1.140                 1.187    1.419   \n",
      "B10709603             1.054            1.064                 1.167    1.583   \n",
      "B10904689             1.195            1.081                 1.176    1.214   \n",
      "B11089276             1.066            1.175                 1.270    1.679   \n",
      "...                     ...              ...                   ...      ...   \n",
      "B92372599             1.237            0.997                 1.125    1.453   \n",
      "B97841288             1.200            1.135                 1.345    1.651   \n",
      "B98032541             1.041            1.223                 1.229    1.308   \n",
      "B99033399             1.016            1.023                 1.123    1.315   \n",
      "B99860801             0.938            0.873                 1.000    1.331   \n",
      "\n",
      "           PARSORBITALIS  ISTHMUSCINGULATE  AMYGDALA  INFERIORTEMPORAL  \\\n",
      "RID                                                                      \n",
      "B10423472          1.143             1.139     1.328             1.226   \n",
      "B10693248          1.255             1.215     1.660             1.300   \n",
      "B10709603          1.082             1.055     1.276             1.184   \n",
      "B10904689          1.165             1.170     1.436             1.349   \n",
      "B11089276          1.118             1.097     1.238             1.158   \n",
      "...                  ...               ...       ...               ...   \n",
      "B92372599          1.157             0.985     1.116             1.249   \n",
      "B97841288          1.340             1.112     1.185             1.405   \n",
      "B98032541          1.127             1.140     1.477             1.346   \n",
      "B99033399          0.990             1.051     1.110             1.037   \n",
      "B99860801          0.985             1.030     1.063             1.031   \n",
      "\n",
      "           CENTILOIDS  ENTORHINAL  ...  POSTERIORCINGULATE  SUPERIORFRONTAL  \\\n",
      "RID                                ...                                        \n",
      "B10423472      80.869       1.394  ...               1.096            1.047   \n",
      "B10693248     113.821       1.360  ...               1.124            0.979   \n",
      "B10709603      40.593       1.209  ...               0.962            0.898   \n",
      "B10904689     126.636       1.356  ...               1.016            1.011   \n",
      "B11089276      35.101       1.093  ...               1.128            1.049   \n",
      "...               ...         ...  ...                 ...              ...   \n",
      "B92372599      40.593       1.014  ...               1.052            0.998   \n",
      "B97841288      71.715       1.312  ...               1.335            1.151   \n",
      "B98032541      55.239       1.277  ...               1.307            1.237   \n",
      "B99033399      53.408       0.999  ...               1.163            0.994   \n",
      "B99860801      35.101       1.070  ...               1.040            0.890   \n",
      "\n",
      "           CAUDALMIDDLEFRONTAL  PRECENTRAL  CAUDALANTERIORCINGULATE  \\\n",
      "RID                                                                   \n",
      "B10423472                1.035       0.955                    1.061   \n",
      "B10693248                1.134       0.958                    1.053   \n",
      "B10709603                0.925       0.920                    0.932   \n",
      "B10904689                1.065       0.912                    1.049   \n",
      "B11089276                1.087       1.049                    1.089   \n",
      "...                        ...         ...                      ...   \n",
      "B92372599                1.089       1.009                    0.982   \n",
      "B97841288                1.136       1.006                    1.191   \n",
      "B98032541                1.197       1.061                    1.155   \n",
      "B99033399                0.958       0.959                    1.120   \n",
      "B99860801                0.875       0.851                    1.013   \n",
      "\n",
      "           FRONTALPOLE  SUPRAMARGINAL  PARSTRIANGULARIS  TEMPORALPOLE  \\\n",
      "RID                                                                     \n",
      "B10423472        0.957          0.987             1.157         1.098   \n",
      "B10693248        1.104          1.146             1.169         1.119   \n",
      "B10709603        0.916          1.036             1.080         1.069   \n",
      "B10904689        0.908          1.142             1.103         1.088   \n",
      "B11089276        0.951          1.098             1.159         1.040   \n",
      "...                ...            ...               ...           ...   \n",
      "B92372599        1.024          1.123             1.079         1.032   \n",
      "B97841288        1.161          1.113             1.247         1.075   \n",
      "B98032541        1.155          1.319             1.253         1.063   \n",
      "B99033399        0.931          1.041             0.995         1.010   \n",
      "B99860801        0.869          0.936             0.891         0.963   \n",
      "\n",
      "           VENTRALDC  \n",
      "RID                   \n",
      "B10423472      1.158  \n",
      "B10693248      1.365  \n",
      "B10709603      1.400  \n",
      "B10904689      1.179  \n",
      "B11089276      1.312  \n",
      "...              ...  \n",
      "B92372599      1.158  \n",
      "B97841288      1.181  \n",
      "B98032541      1.155  \n",
      "B99033399      1.165  \n",
      "B99860801      1.153  \n",
      "\n",
      "[373 rows x 44 columns]\n"
     ]
    }
   ],
   "source": [
    "#round to 3 decimal points so its like the adni \n",
    "merged_a4_at_amypos_bi_harm = merged_a4_at_amypos_bi_harm.round(3)\n",
    "print(merged_a4_at_amypos_bi_harm)"
   ]
  },
  {
   "cell_type": "code",
   "execution_count": 82,
   "metadata": {},
   "outputs": [
    {
     "name": "stdout",
     "output_type": "stream",
     "text": [
      "      LATERALOCCIPITAL  PARSOPERCULARIS  LATERALORBITOFRONTAL  PUTAMEN  \\\n",
      "RID                                                                      \n",
      "31               1.270            1.158                 1.157    1.461   \n",
      "112              1.194            1.687                 1.583    1.951   \n",
      "120              1.257            1.088                 1.062    1.524   \n",
      "210              1.681            1.381                 1.222    1.482   \n",
      "377              1.520            1.456                 1.557    2.034   \n",
      "...                ...              ...                   ...      ...   \n",
      "6580             1.384            1.244                 1.316    1.669   \n",
      "6581             1.220            1.145                 1.056    1.648   \n",
      "6586             1.179            1.108                 1.105    1.876   \n",
      "7100             1.111            1.015                 1.062    1.211   \n",
      "7105             2.742            1.163                 1.175    1.805   \n",
      "\n",
      "      PARSORBITALIS  ISTHMUSCINGULATE  AMYGDALA  INFERIORTEMPORAL  CENTILOIDS  \\\n",
      "RID                                                                             \n",
      "31            1.225             1.321     1.479             1.326        97.0   \n",
      "112           1.483             1.536     2.350             2.077        89.0   \n",
      "120           1.059             1.071     1.213             1.306        32.0   \n",
      "210           1.462             1.223     1.134             1.582        54.0   \n",
      "377           1.582             1.565     1.515             1.890        85.0   \n",
      "...             ...               ...       ...               ...         ...   \n",
      "6580          1.497             1.146     1.599             1.517       142.0   \n",
      "6581          1.110             1.032     1.057             1.260        28.0   \n",
      "6586          1.024             0.953     1.040             1.164        40.0   \n",
      "7100          1.132             1.036     1.101             1.188        50.0   \n",
      "7105          1.241             1.179     1.274             1.698       112.0   \n",
      "\n",
      "      ENTORHINAL  ...  POSTERIORCINGULATE  SUPERIORFRONTAL  \\\n",
      "RID               ...                                        \n",
      "31         1.409  ...               1.303            1.318   \n",
      "112        2.164  ...               1.363            1.799   \n",
      "120        1.173  ...               1.107            1.163   \n",
      "210        1.501  ...               1.267            1.254   \n",
      "377        1.655  ...               1.485            1.517   \n",
      "...          ...  ...                 ...              ...   \n",
      "6580       1.565  ...               1.135            1.283   \n",
      "6581       1.212  ...               1.049            1.081   \n",
      "6586       1.175  ...               0.969            1.053   \n",
      "7100       1.252  ...               1.032            1.027   \n",
      "7105       1.980  ...               1.385            1.205   \n",
      "\n",
      "      CAUDALMIDDLEFRONTAL  PRECENTRAL  CAUDALANTERIORCINGULATE  FRONTALPOLE  \\\n",
      "RID                                                                           \n",
      "31                  1.293       1.193                    1.151        1.368   \n",
      "112                 2.094       1.277                    1.170        1.290   \n",
      "120                 1.161       1.056                    0.867        1.306   \n",
      "210                 1.365       1.219                    1.091        1.384   \n",
      "377                 1.546       1.378                    1.331        1.370   \n",
      "...                   ...         ...                      ...          ...   \n",
      "6580                1.289       1.212                    1.101        1.282   \n",
      "6581                1.134       1.020                    0.947        1.231   \n",
      "6586                1.079       0.873                    0.961        1.190   \n",
      "7100                1.015       0.925                    1.035        1.198   \n",
      "7105                1.225       1.084                    1.165        1.339   \n",
      "\n",
      "      SUPRAMARGINAL  PARSTRIANGULARIS  TEMPORALPOLE  VENTRALDC  \n",
      "RID                                                             \n",
      "31            1.259             1.246         1.286      1.538  \n",
      "112           1.538             1.596         1.397      1.475  \n",
      "120           1.205             1.073         1.081      1.263  \n",
      "210           1.513             1.365         1.254      1.385  \n",
      "377           1.603             1.486         1.637      1.668  \n",
      "...             ...               ...           ...        ...  \n",
      "6580          1.363             1.310         1.318      1.356  \n",
      "6581          1.135             1.082         1.139      1.372  \n",
      "6586          1.062             1.079         1.159      1.313  \n",
      "7100          1.118             1.124         1.175      1.298  \n",
      "7105          1.336             1.113         1.295      1.461  \n",
      "\n",
      "[398 rows x 44 columns]\n"
     ]
    }
   ],
   "source": [
    "print(merged_adni_at_amypos_bi_harm)"
   ]
  },
  {
   "cell_type": "code",
   "execution_count": 83,
   "metadata": {},
   "outputs": [],
   "source": [
    "#save the new csvs that have the same regions across both \n",
    "merged_a4_at_amypos_bi_harm.to_csv('/home/mlauber/jad2024/data_paths_and_cleaning/data/intermediate_data/a4/merged_a4_at_amy_pos_bi_harm.csv')\n",
    "merged_adni_at_amypos_bi_harm.to_csv('/home/mlauber/jad2024/data_paths_and_cleaning/data/intermediate_data/adni/merged_adni_at_amy_pos_bi_harm.csv')"
   ]
  },
  {
   "attachments": {},
   "cell_type": "markdown",
   "metadata": {},
   "source": [
    "check they both have the same number of regions "
   ]
  },
  {
   "cell_type": "code",
   "execution_count": 84,
   "metadata": {},
   "outputs": [
    {
     "name": "stdout",
     "output_type": "stream",
     "text": [
      "(373, 44)\n",
      "(398, 44)\n"
     ]
    }
   ],
   "source": [
    "print(merged_a4_at_amypos_bi_harm.shape)\n",
    "print(merged_adni_at_amypos_bi_harm.shape)"
   ]
  }
 ],
 "metadata": {
  "kernelspec": {
   "display_name": "graph_env",
   "language": "python",
   "name": "python3"
  },
  "language_info": {
   "codemirror_mode": {
    "name": "ipython",
    "version": 3
   },
   "file_extension": ".py",
   "mimetype": "text/x-python",
   "name": "python",
   "nbconvert_exporter": "python",
   "pygments_lexer": "ipython3",
   "version": "3.10.13"
  },
  "orig_nbformat": 4
 },
 "nbformat": 4,
 "nbformat_minor": 2
}
