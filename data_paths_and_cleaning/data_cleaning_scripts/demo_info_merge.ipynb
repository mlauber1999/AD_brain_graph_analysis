{
 "cells": [
  {
   "cell_type": "code",
   "execution_count": 122,
   "metadata": {},
   "outputs": [],
   "source": [
    "import numpy as np\n",
    "import pandas as pd\n",
    "import matplotlib.pyplot as plt\n",
    "import os\n",
    "import warnings\n",
    "import networkx as nx\n",
    "import matplotlib.colors as mcolors\n",
    "# warnings.simplefilter(action='ignore', category=FutureWarning)\n",
    "# pd.set_option('display.max_rows', None)  # To display all rows\n",
    "# pd.set_option('display.max_columns', None)  # To display all columns\n",
    "import glob as glob\n",
    "import math\n",
    "from datetime import datetime "
   ]
  },
  {
   "attachments": {},
   "cell_type": "markdown",
   "metadata": {},
   "source": [
    "I. Creating a dataframe with demographic information (age, education, gender, race)"
   ]
  },
  {
   "attachments": {},
   "cell_type": "markdown",
   "metadata": {},
   "source": [
    "* Basically just need to get the demographic csvs, then only include ones that have the RIDs from my dataset sheets, and then  "
   ]
  },
  {
   "attachments": {},
   "cell_type": "markdown",
   "metadata": {},
   "source": [
    "II. A4 demo sheet \n",
    "* A4_PTDEMOG_PRV2_07Mar2024 has age, racial, ethnic, education, marriage, \n",
    "* A4_SUBJINFO_PRV2_07Mar2024_age_apoe\n"
   ]
  },
  {
   "cell_type": "code",
   "execution_count": 123,
   "metadata": {},
   "outputs": [],
   "source": [
    "a4_demo = pd.read_csv('../../data_paths_and_cleaning/data/demographic_csvs/A4/A4_PTDEMOG_PRV2_07Mar2024.csv')"
   ]
  },
  {
   "cell_type": "code",
   "execution_count": 124,
   "metadata": {},
   "outputs": [],
   "source": [
    "a4_pet_suvrs = pd.read_csv('../../data_paths_and_cleaning/data/intermediate_data/a4/merged_a4_at_amy_pos_bi_harm.csv')"
   ]
  },
  {
   "cell_type": "code",
   "execution_count": 125,
   "metadata": {},
   "outputs": [],
   "source": [
    "#need to change BID in a4_demo to be RID to be consistent \n",
    "a4_demo.rename(columns={'BID':'RID'}, inplace=True)"
   ]
  },
  {
   "cell_type": "code",
   "execution_count": 126,
   "metadata": {},
   "outputs": [
    {
     "name": "stdout",
     "output_type": "stream",
     "text": [
      "            RID  VISCODE  EXAMDAY  PTGENDER  PTAGE  PTETHNIC PTRACE  PTLANG  \\\n",
      "0     B10018169        1      0.0         1  69.93         2      5       1   \n",
      "1     B10021023        1      0.0         2  68.26         2      5       1   \n",
      "2     B10048838        1      0.0         1  78.96         2      5       1   \n",
      "3     B10081264        1      0.0         2  67.79         2      5       1   \n",
      "4     B10082310        1      0.0         1  82.68         2      5       1   \n",
      "...         ...      ...      ...       ...    ...       ...    ...     ...   \n",
      "6940  B99957366        1      0.0         1  83.13         2      5       1   \n",
      "6941  B99968206        1      0.0         1  70.45         2      5       1   \n",
      "6942  B99971727        1      0.0         1  65.63         2      5       1   \n",
      "6943  B99980935        1      0.0         2  73.84         2      5       1   \n",
      "6944  B99987993        1      0.0         2  73.28         2      5       1   \n",
      "\n",
      "      PTPLANG  PTEDUCAT  PTMARRY  PTNOTRT  PTHOME           update_stamp  \n",
      "0           1      11.0      1.0      1.0     1.0  2021-03-29 11:45:35.0  \n",
      "1           1      20.0      3.0      1.0     1.0  2021-03-29 11:45:35.0  \n",
      "2           1      17.0      1.0      1.0     1.0  2021-03-29 11:45:35.0  \n",
      "3           1      16.0      3.0      1.0     1.0  2021-03-29 11:45:35.0  \n",
      "4           1      18.0      1.0      1.0     1.0  2021-03-29 11:45:35.0  \n",
      "...       ...       ...      ...      ...     ...                    ...  \n",
      "6940        1      17.0      1.0      1.0     1.0  2021-03-29 11:45:39.0  \n",
      "6941        1      18.0      1.0      1.0     1.0  2021-03-29 11:45:39.0  \n",
      "6942        1      16.0      5.0      1.0     1.0  2021-03-29 11:45:39.0  \n",
      "6943        1      16.0      1.0      1.0     1.0  2021-03-29 11:45:39.0  \n",
      "6944        1      18.0      2.0      1.0     1.0  2021-03-29 11:45:39.0  \n",
      "\n",
      "[6945 rows x 14 columns]\n"
     ]
    }
   ],
   "source": [
    "print(a4_demo)"
   ]
  },
  {
   "cell_type": "code",
   "execution_count": 127,
   "metadata": {},
   "outputs": [],
   "source": [
    "#a4_pet_suvrs has RID, use these RIDS to filter the a4_demo df to only the rows we need \n",
    "a4_demo_filtered = a4_demo.merge(a4_pet_suvrs[['RID']],on='RID',how='inner')"
   ]
  },
  {
   "cell_type": "code",
   "execution_count": 128,
   "metadata": {},
   "outputs": [
    {
     "name": "stdout",
     "output_type": "stream",
     "text": [
      "           RID  VISCODE  EXAMDAY  PTGENDER  PTAGE  PTETHNIC PTRACE  PTLANG  \\\n",
      "0    B10423472        1      0.0         2  78.25         2      5       1   \n",
      "1    B10693248        1      0.0         2  65.94         2      5       1   \n",
      "2    B10709603        1      0.0         1  74.15         2      5       1   \n",
      "3    B10795731        1      0.0         1  69.23         2      5       1   \n",
      "4    B10904689        1      0.0         2  68.21         2      5       1   \n",
      "..         ...      ...      ...       ...    ...       ...    ...     ...   \n",
      "368  B99525373        1      0.0         2  67.00         2      5       1   \n",
      "369  B99649691        1      0.0         2  65.31         2      5       1   \n",
      "370  B99696480        1      0.0         2  74.41         2      5       1   \n",
      "371  B99860801        1      0.0         1  71.56         2      2       3   \n",
      "372  B99870985        1      0.0         1  71.32         2      5       1   \n",
      "\n",
      "     PTPLANG  PTEDUCAT  PTMARRY  PTNOTRT  PTHOME           update_stamp  \n",
      "0          1      19.0      3.0      1.0     1.0  2021-03-29 11:45:35.0  \n",
      "1          1      16.0      1.0      1.0     1.0  2021-03-29 11:45:35.0  \n",
      "2          1      18.0      1.0      1.0     1.0  2021-03-29 11:45:35.0  \n",
      "3          1      18.0      1.0      0.0     1.0  2021-03-29 11:45:35.0  \n",
      "4          1      13.0      1.0      1.0     1.0  2021-03-29 11:45:35.0  \n",
      "..       ...       ...      ...      ...     ...                    ...  \n",
      "368        1      20.0      4.0      1.0     1.0  2021-03-29 11:45:39.0  \n",
      "369        1      16.0      1.0      1.0     1.0  2021-03-29 11:45:39.0  \n",
      "370        1      12.0      1.0      1.0     1.0  2021-03-29 11:45:39.0  \n",
      "371        1      18.0      1.0      1.0     1.0  2021-03-29 11:45:39.0  \n",
      "372        1      14.0      1.0      1.0     1.0  2021-03-29 11:45:39.0  \n",
      "\n",
      "[373 rows x 14 columns]\n"
     ]
    }
   ],
   "source": [
    "print(a4_demo_filtered) #looks good "
   ]
  },
  {
   "cell_type": "code",
   "execution_count": 129,
   "metadata": {},
   "outputs": [],
   "source": [
    "#pull out age, education, gender, race \n",
    "keep_cols = ['RID','PTGENDER','PTAGE','PTETHNIC','PTEDUCAT','PTRACE']\n",
    "a4_demo_filtered=a4_demo_filtered[keep_cols]"
   ]
  },
  {
   "cell_type": "code",
   "execution_count": 130,
   "metadata": {},
   "outputs": [],
   "source": [
    "#first match IDS from tau suvr data sheet "
   ]
  },
  {
   "cell_type": "code",
   "execution_count": 131,
   "metadata": {},
   "outputs": [
    {
     "name": "stdout",
     "output_type": "stream",
     "text": [
      "           RID  PTGENDER  PTAGE  PTETHNIC  PTEDUCAT PTRACE\n",
      "0    B10423472         2  78.25         2      19.0      5\n",
      "1    B10693248         2  65.94         2      16.0      5\n",
      "2    B10709603         1  74.15         2      18.0      5\n",
      "3    B10795731         1  69.23         2      18.0      5\n",
      "4    B10904689         2  68.21         2      13.0      5\n",
      "..         ...       ...    ...       ...       ...    ...\n",
      "368  B99525373         2  67.00         2      20.0      5\n",
      "369  B99649691         2  65.31         2      16.0      5\n",
      "370  B99696480         2  74.41         2      12.0      5\n",
      "371  B99860801         1  71.56         2      18.0      2\n",
      "372  B99870985         1  71.32         2      14.0      5\n",
      "\n",
      "[373 rows x 6 columns]\n"
     ]
    }
   ],
   "source": [
    "print(a4_demo_filtered)"
   ]
  },
  {
   "cell_type": "code",
   "execution_count": 155,
   "metadata": {},
   "outputs": [
    {
     "name": "stdout",
     "output_type": "stream",
     "text": [
      "There are no NaN values in the DataFrame.\n"
     ]
    }
   ],
   "source": [
    "#check that there are no nans in the dataframe \n",
    "# Check if there are any NaN values in the entire DataFrame\n",
    "has_nans = a4_demo_filtered.isna().any().any()\n",
    "\n",
    "if has_nans:\n",
    "    print(\"There are NaN values in the DataFrame.\")\n",
    "else:\n",
    "    print(\"There are no NaN values in the DataFrame.\")\n"
   ]
  },
  {
   "attachments": {},
   "cell_type": "markdown",
   "metadata": {},
   "source": [
    "III. ADNI demo sheet \n",
    "* PTDEMOG_07Mar2024 has no age but has visit date and date of birth so can use this to calc age, also has gender, education and race [PTRACCAT]\n",
    "* can't immediately find apoe status so wait on that \n",
    "* this also has ADNI trial phase so in the manuscript it might be helpful to know list out which adni pahses these all came from"
   ]
  },
  {
   "cell_type": "code",
   "execution_count": 132,
   "metadata": {},
   "outputs": [],
   "source": [
    "adni_demo = pd.read_csv('../../data_paths_and_cleaning/data/demographic_csvs/ADNI/PTDEMOG_07Mar2024.csv')"
   ]
  },
  {
   "cell_type": "code",
   "execution_count": 133,
   "metadata": {},
   "outputs": [],
   "source": [
    "adni_pet_suvrs = pd.read_csv(\"../../data_paths_and_cleaning/data/intermediate_data/adni/merged_adni_at_amy_pos_bi_harm.csv\")"
   ]
  },
  {
   "cell_type": "code",
   "execution_count": 134,
   "metadata": {},
   "outputs": [
    {
     "name": "stdout",
     "output_type": "stream",
     "text": [
      "Index(['PHASE', 'PTID', 'RID', 'VISCODE', 'VISCODE2', 'VISDATE', 'PTSOURCE',\n",
      "       'PTGENDER', 'PTDOB', 'PTDOBYY', 'PTHAND', 'PTMARRY', 'PTEDUCAT',\n",
      "       'PTWORKHS', 'PTWORK', 'PTNOTRT', 'PTRTYR', 'PTHOME', 'PTTLANG',\n",
      "       'PTPLANG', 'PTADBEG', 'PTCOGBEG', 'PTADDX', 'PTETHCAT', 'PTRACCAT',\n",
      "       'PTIDENT', 'PTENGSPK', 'PTNLANG', 'PTENGSPKAGE', 'PTCLANG', 'PTLANGSP',\n",
      "       'PTLANGWR', 'PTSPTIM', 'PTSPOTTIM', 'PTLANGPR1', 'PTLANGSP1',\n",
      "       'PTLANGRD1', 'PTLANGWR1', 'PTLANGUN1', 'PTLANGPR2', 'PTLANGSP2',\n",
      "       'PTLANGRD2', 'PTLANGWR2', 'PTLANGUN2', 'PTLANGPR3', 'PTLANGSP3',\n",
      "       'PTLANGRD3', 'PTLANGWR3', 'PTLANGUN3', 'PTLANGPR4', 'PTLANGSP4',\n",
      "       'PTLANGRD4', 'PTLANGWR4', 'PTLANGUN4', 'PTLANGPR5', 'PTLANGSP5',\n",
      "       'PTLANGRD5', 'PTLANGWR5', 'PTLANGUN5', 'PTLANGPR6', 'PTLANGSP6',\n",
      "       'PTLANGRD6', 'PTLANGWR6', 'PTLANGUN6', 'PTLANGTTL', 'PTETHCATH',\n",
      "       'PTBORN', 'PTBIRPL', 'PTIMMAGE', 'PTIMMWHY', 'PTBIRPR', 'PTBIRGR', 'ID',\n",
      "       'SITEID', 'USERDATE', 'USERDATE2', 'DD_CRF_VERSION_LABEL',\n",
      "       'LANGUAGE_CODE', 'HAS_QC_ERROR', 'update_stamp'],\n",
      "      dtype='object')\n"
     ]
    }
   ],
   "source": [
    "print(adni_demo.columns)"
   ]
  },
  {
   "cell_type": "code",
   "execution_count": 135,
   "metadata": {},
   "outputs": [],
   "source": [
    "#a4_pet_suvrs has RID, use these RIDS to filter the a4_demo df to only the rows we need \n",
    "adni_demo_filtered = adni_demo.merge(adni_pet_suvrs[['RID']],on='RID',how='inner')"
   ]
  },
  {
   "cell_type": "code",
   "execution_count": 136,
   "metadata": {},
   "outputs": [
    {
     "name": "stdout",
     "output_type": "stream",
     "text": [
      "PHASE                                   ADNI2\n",
      "PTID                               130_S_2403\n",
      "RID                                      2403\n",
      "VISCODE                                   v06\n",
      "VISCODE2                                  m12\n",
      "                                ...          \n",
      "USERDATE2                                 NaN\n",
      "DD_CRF_VERSION_LABEL                      NaN\n",
      "LANGUAGE_CODE                             NaN\n",
      "HAS_QC_ERROR                              NaN\n",
      "update_stamp            2013-05-30 10:05:05.0\n",
      "Name: 98, Length: 80, dtype: object\n"
     ]
    }
   ],
   "source": [
    "print(adni_demo_filtered.iloc[98])"
   ]
  },
  {
   "attachments": {},
   "cell_type": "markdown",
   "metadata": {},
   "source": [
    "* there's not age, just visit date and dob, so need to calculate age using datetime "
   ]
  },
  {
   "cell_type": "code",
   "execution_count": 137,
   "metadata": {},
   "outputs": [],
   "source": [
    "adni_demo_filtered['VISDATE'] = pd.to_datetime(adni_demo_filtered['VISDATE'])"
   ]
  },
  {
   "cell_type": "code",
   "execution_count": 139,
   "metadata": {},
   "outputs": [],
   "source": [
    "#check if birth year has nans "
   ]
  },
  {
   "cell_type": "code",
   "execution_count": 140,
   "metadata": {},
   "outputs": [
    {
     "name": "stdout",
     "output_type": "stream",
     "text": [
      "      PHASE        PTID   RID VISCODE VISCODE2    VISDATE  PTSOURCE  PTGENDER  \\\n",
      "0     ADNI1  023_S_0031    31      sc       sc 2005-10-03       1.0       2.0   \n",
      "1    ADNIGO  023_S_0031    31      sc       sc 2010-12-01       1.0       2.0   \n",
      "2    ADNIGO  023_S_0031    31     m60      m60 2010-12-01       1.0       NaN   \n",
      "3     ADNI2  023_S_0031    31     v06      m72 2011-10-20       1.0       2.0   \n",
      "4     ADNI1  127_S_0112   112      sc       sc 2006-01-04       1.0       1.0   \n",
      "..      ...         ...   ...     ...      ...        ...       ...       ...   \n",
      "476   ADNI3  033_S_7079  7079      sc       sc 2022-05-23       1.0       2.0   \n",
      "477   ADNI3  033_S_7088  7088      sc       sc 2022-06-17       1.0       1.0   \n",
      "478   ADNI3  033_S_7100  7100      sc       sc 2022-08-08       1.0       1.0   \n",
      "479   ADNI4  033_S_7100  7100  4_init      NaN 2023-09-11       1.0       1.0   \n",
      "480   ADNI3  035_S_7105  7105      sc       sc 2022-08-22       1.0       1.0   \n",
      "\n",
      "       PTDOB  PTDOBYY  ...  PTBIRPR  PTBIRGR      ID  SITEID    USERDATE  \\\n",
      "0    01/1928   1928.0  ...      NaN      NaN      72      11  2005-10-03   \n",
      "1    01/1928   1928.0  ...      NaN      NaN     682      17  2010-12-06   \n",
      "2        NaN      NaN  ...      NaN      NaN     702      17  2010-12-08   \n",
      "3    01/1928   1928.0  ...      NaN      NaN     818      17  2011-10-20   \n",
      "4    05/1935   1935.0  ...      NaN      NaN     212     114  2006-01-04   \n",
      "..       ...      ...  ...      ...      ...     ...     ...         ...   \n",
      "476  08/1935   1935.0  ...      NaN      NaN  157347      24  2022-05-25   \n",
      "477  06/1952   1952.0  ...      NaN      NaN  159658      24  2022-06-30   \n",
      "478  09/1949   1949.0  ...      NaN      NaN  163015      24  2022-08-09   \n",
      "479  09/1949   1949.0  ...      1.0      1.0     552      33  2023-09-14   \n",
      "480  02/1945   1945.0  ...      NaN      NaN  163982      25  2022-08-23   \n",
      "\n",
      "      USERDATE2  DD_CRF_VERSION_LABEL  LANGUAGE_CODE  HAS_QC_ERROR  \\\n",
      "0           NaN                   NaN            NaN           NaN   \n",
      "1    2014-01-15                   NaN            NaN           NaN   \n",
      "2           NaN                   NaN            NaN           NaN   \n",
      "3    2014-01-15                   NaN            NaN           NaN   \n",
      "4           NaN                   NaN            NaN           NaN   \n",
      "..          ...                   ...            ...           ...   \n",
      "476  2022-05-25                   NaN            NaN           NaN   \n",
      "477  2022-06-30                   NaN            NaN           NaN   \n",
      "478  2022-08-09                   NaN            NaN           NaN   \n",
      "479  2023-09-14                    v1              e           0.0   \n",
      "480  2023-05-19                   NaN            NaN           NaN   \n",
      "\n",
      "              update_stamp  \n",
      "0    2005-10-03 00:00:00.0  \n",
      "1    2014-01-15 19:03:02.0  \n",
      "2    2012-11-16 09:42:47.0  \n",
      "3    2014-01-15 19:19:47.0  \n",
      "4    2006-01-04 00:00:00.0  \n",
      "..                     ...  \n",
      "476  2022-05-26 04:20:32.0  \n",
      "477  2022-07-01 04:21:37.0  \n",
      "478  2022-08-12 04:20:26.0  \n",
      "479  2023-10-24 01:17:13.0  \n",
      "480  2023-05-20 04:21:29.0  \n",
      "\n",
      "[481 rows x 80 columns]\n"
     ]
    }
   ],
   "source": [
    "print(adni_demo_filtered)"
   ]
  },
  {
   "cell_type": "code",
   "execution_count": 141,
   "metadata": {},
   "outputs": [],
   "source": [
    "#check for nans that might be causing errors "
   ]
  },
  {
   "cell_type": "code",
   "execution_count": 142,
   "metadata": {},
   "outputs": [],
   "source": [
    "import pandas as pd\n",
    "from datetime import datetime\n",
    "#double check this \n",
    "\n",
    "\n",
    "# correcting the 'PTDOB' processing\n",
    "# ensure that the 'PTDOB' column contains strings, and handle NaN values by skipping them\n",
    "adni_demo_filtered['PTDOB'] = adni_demo_filtered['PTDOB'].apply(lambda x: datetime.strptime(x, \"%m/%Y\") if pd.notnull(x) and isinstance(x, str) else x)\n",
    "\n",
    "# # replace NaN values with a NaT (Not a Time) in 'PTDOB' to maintain datetime type consistency\n",
    "# adni_demo_filtered['PTDOB'] = pd.to_datetime(adni_demo_filtered['PTDOB'], errors='coerce')\n",
    "\n",
    "# # for those rows where 'PTDOB' is not NaT, set the day to 1 (check if this is neccesary)\n",
    "# adni_demo_filtered.loc[adni_demo_filtered['PTDOB'].notnull(), 'PTDOB'] = adni_demo_filtered['PTDOB'][adni_demo_filtered['PTDOB'].notnull()].apply(lambda x: x.replace(day=1))\n",
    "\n",
    "# # now you can calculate the age, ensuring that 'PTDOB' is not NaT\n",
    "# adni_demo_filtered['AGE'] = adni_demo_filtered.apply(\n",
    "#     lambda row: (row['VISDATE'].year - row['PTDOB'].year - ((row['VISDATE'].month, row['VISDATE'].day) < (row['PTDOB'].month, row['PTDOB'].day))) if pd.notnull(row['PTDOB']) else None, axis=1\n",
    "# )\n",
    "#account for fractional ages \n",
    "# Now calculate the age more precisely with months as fractions of the year\n",
    "adni_demo_filtered['AGE'] = adni_demo_filtered.apply(\n",
    "    lambda row: (\n",
    "        row['VISDATE'].year - row['PTDOB'].year +\n",
    "        ((row['VISDATE'].month - row['PTDOB'].month) / 12) - \n",
    "        ((row['VISDATE'].month == row['PTDOB'].month) and (row['VISDATE'].day < row['PTDOB'].day) / 12)\n",
    "    ) if pd.notnull(row['PTDOB']) else None, axis=1\n",
    ")\n"
   ]
  },
  {
   "cell_type": "code",
   "execution_count": 143,
   "metadata": {},
   "outputs": [
    {
     "name": "stdout",
     "output_type": "stream",
     "text": [
      "<bound method Series.unique of 0      77.750000\n",
      "1      82.916667\n",
      "2            NaN\n",
      "3      83.750000\n",
      "4      70.666667\n",
      "         ...    \n",
      "476    86.750000\n",
      "477    70.000000\n",
      "478    72.916667\n",
      "479    74.000000\n",
      "480    77.500000\n",
      "Name: AGE, Length: 481, dtype: float64>\n"
     ]
    }
   ],
   "source": [
    "print(adni_demo_filtered['AGE'].unique)"
   ]
  },
  {
   "cell_type": "code",
   "execution_count": 144,
   "metadata": {},
   "outputs": [],
   "source": [
    "#pull out age, education, gender, race \n",
    "keep_cols_adni = ['RID','PTGENDER','AGE','PTETHCAT','PTEDUCAT','PTRACCAT']\n",
    "adni_demo_filtered=adni_demo_filtered[keep_cols_adni]"
   ]
  },
  {
   "attachments": {},
   "cell_type": "markdown",
   "metadata": {},
   "source": [
    "* Now only keep the latest visit row to make sure that each patient only has one row in the df "
   ]
  },
  {
   "cell_type": "code",
   "execution_count": 145,
   "metadata": {},
   "outputs": [],
   "source": [
    "#function to filter the latest visit of a df \n",
    "def filter_latest_visit(df):\n",
    "    last_visit_df = df.groupby('RID').tail(1) #get the last occurance of that RID value \n",
    "    last_visit_df = last_visit_df.reset_index(drop=True)\n",
    "    return last_visit_df"
   ]
  },
  {
   "cell_type": "code",
   "execution_count": 146,
   "metadata": {},
   "outputs": [],
   "source": [
    "adni_demo_filtered = filter_latest_visit(adni_demo_filtered)"
   ]
  },
  {
   "cell_type": "code",
   "execution_count": 151,
   "metadata": {},
   "outputs": [
    {
     "name": "stdout",
     "output_type": "stream",
     "text": [
      "RID               112\n",
      "PTGENDER          1.0\n",
      "AGE         76.666667\n",
      "PTETHCAT          2.0\n",
      "PTEDUCAT         18.0\n",
      "PTRACCAT            5\n",
      "Name: 1, dtype: object\n"
     ]
    }
   ],
   "source": [
    "print(adni_demo_filtered.iloc[1])"
   ]
  },
  {
   "cell_type": "code",
   "execution_count": 147,
   "metadata": {},
   "outputs": [
    {
     "name": "stdout",
     "output_type": "stream",
     "text": [
      "Rows with NaN values in the 'AGE' column:\n",
      "      RID  PTGENDER  AGE  PTETHCAT  PTEDUCAT PTRACCAT\n",
      "98   4620       NaN  NaN       NaN       NaN      NaN\n",
      "108  4767       NaN  NaN       NaN       NaN      NaN\n"
     ]
    }
   ],
   "source": [
    "#check age for nans \n",
    "# Check if there are any NaN values in the 'AGE' column\n",
    "# Identify rows where the 'AGE' column has NaN values\n",
    "rows_with_nans = adni_demo_filtered[adni_demo_filtered['AGE'].isna()]\n",
    "\n",
    "# Display the rows with NaN values in 'AGE'\n",
    "if not rows_with_nans.empty:\n",
    "    print(\"Rows with NaN values in the 'AGE' column:\")\n",
    "    print(rows_with_nans)\n",
    "else:\n",
    "    print(\"No NaN values found in the 'AGE' column.\")\n",
    "\n"
   ]
  },
  {
   "attachments": {},
   "cell_type": "markdown",
   "metadata": {},
   "source": [
    "Data dictionary codes for demo data adni dictionary \n",
    "* Gender codes: male = 1 , female = 2 \n",
    "* Race codes: 1=American Indian or Alaskan Native; 2=Asian; 3=Native Hawaiian or Other Pacific Islander; 4=Black or African American; 5=White; 6=More than one race; 7=Unknown\n",
    "* Ethnicity codes: 1=Hispanic or Latino; 2=Not Hispanic or Latino; 3=Unknown\n",
    "* Education codes: not sure \n"
   ]
  },
  {
   "attachments": {},
   "cell_type": "markdown",
   "metadata": {},
   "source": [
    "Manually add in the demographic data for 4620 and 4767 from the dx csv (this only has ethnicity not race)\n",
    "* 4620 edu = 19 \n",
    "* 4620 dx = nc \n",
    "* 4620 sex/gender = male (figure out the data dictionar code for male)\n",
    "* 4620 age = 77 \n",
    "* 4620 race = white (need to make sure the values match with the A4 values)\n",
    "* 4620 eth = not hispanic "
   ]
  },
  {
   "attachments": {},
   "cell_type": "markdown",
   "metadata": {},
   "source": [
    "* 4767 edu = 18\n",
    "* 4767 dx = MCI \n",
    "* 4767 sex/gender = female\n",
    "* 4767 age = 66 \n",
    "* 4767 race = white \n",
    "* 4767 eth = not hispanic \n"
   ]
  },
  {
   "cell_type": "code",
   "execution_count": 152,
   "metadata": {},
   "outputs": [
    {
     "name": "stdout",
     "output_type": "stream",
     "text": [
      "PTGENDER     2.0\n",
      "AGE         66.0\n",
      "PTETHCAT     2.0\n",
      "PTEDUCAT    18.0\n",
      "PTRACCAT       5\n",
      "Name: 98, dtype: object\n"
     ]
    }
   ],
   "source": [
    "#add in missing data for 4767\n",
    "correct_values_4767 = {\n",
    "    'PTGENDER': 2,  #female \n",
    "    'AGE': 66,  \n",
    "    'PTETHCAT': 2,  #not hs \n",
    "    'PTEDUCAT': 18,  \n",
    "    'PTRACCAT': 5  # white\n",
    "}\n",
    "\n",
    "# Replace NaN values at index 98 with the correct values\n",
    "for column, value in correct_values_4767.items():\n",
    "    adni_demo_filtered.loc[98, column] = value\n",
    "\n",
    "# Verify the changes\n",
    "print(adni_demo_filtered.loc[98, ['PTGENDER', 'AGE', 'PTETHCAT', 'PTEDUCAT', 'PTRACCAT']])\n"
   ]
  },
  {
   "cell_type": "code",
   "execution_count": 153,
   "metadata": {},
   "outputs": [
    {
     "name": "stdout",
     "output_type": "stream",
     "text": [
      "PTGENDER     1.0\n",
      "AGE         77.0\n",
      "PTETHCAT     2.0\n",
      "PTEDUCAT    19.0\n",
      "PTRACCAT       5\n",
      "Name: 108, dtype: object\n"
     ]
    }
   ],
   "source": [
    "#add in missing data for 4620 \n",
    "correct_values_4620 = {\n",
    "    'PTGENDER': 1,  #male\n",
    "    'AGE': 77,  \n",
    "    'PTETHCAT': 2,  #not hs \n",
    "    'PTEDUCAT': 19, \n",
    "    'PTRACCAT': 5  # white\n",
    "}\n",
    "\n",
    "# Replace NaN values at index 108 with the correct values\n",
    "for column, value in correct_values_4620.items():\n",
    "    adni_demo_filtered.loc[108, column] = value\n",
    "\n",
    "# Verify the changes\n",
    "print(adni_demo_filtered.loc[108, ['PTGENDER', 'AGE', 'PTETHCAT', 'PTEDUCAT', 'PTRACCAT']])"
   ]
  },
  {
   "cell_type": "code",
   "execution_count": 154,
   "metadata": {},
   "outputs": [
    {
     "name": "stdout",
     "output_type": "stream",
     "text": [
      "There are no NaN values in the DataFrame.\n"
     ]
    }
   ],
   "source": [
    "#check that there are no nans in the dataframe \n",
    "# Check if there are any NaN values in the entire DataFrame\n",
    "has_nans = adni_demo_filtered.isna().any().any()\n",
    "\n",
    "if has_nans:\n",
    "    print(\"There are NaN values in the DataFrame.\")\n",
    "else:\n",
    "    print(\"There are no NaN values in the DataFrame.\")\n"
   ]
  },
  {
   "cell_type": "code",
   "execution_count": 148,
   "metadata": {},
   "outputs": [
    {
     "name": "stdout",
     "output_type": "stream",
     "text": [
      "      RID  PTGENDER        AGE  PTETHCAT  PTEDUCAT PTRACCAT\n",
      "0      31       2.0  83.750000       2.0      18.0        5\n",
      "1     112       1.0  76.666667       2.0      18.0        5\n",
      "2     120       1.0  79.083333       2.0      20.0        5\n",
      "3     210       2.0  78.500000       2.0      13.0        5\n",
      "4     377       1.0  85.166667       2.0      16.0        5\n",
      "..    ...       ...        ...       ...       ...      ...\n",
      "393  7054       2.0  72.250000       2.0      18.0        5\n",
      "394  7079       2.0  86.750000       2.0      18.0        4\n",
      "395  7088       1.0  70.000000       2.0      16.0        5\n",
      "396  7100       1.0  74.000000       2.0      16.0        4\n",
      "397  7105       1.0  77.500000       1.0      18.0        6\n",
      "\n",
      "[398 rows x 6 columns]\n"
     ]
    }
   ],
   "source": [
    "print(adni_demo_filtered)"
   ]
  },
  {
   "attachments": {},
   "cell_type": "markdown",
   "metadata": {},
   "source": [
    "IV. Now add in dx information:\n",
    "* All of A4 data is CN (which is 1 in the adni data dictionary so add in a new row and just fill in rows with 1)\n",
    "* For ADNI just load in dx_medhis.csv and take the diagnosis from there (1=NL;2=MCI;3=AD)"
   ]
  },
  {
   "cell_type": "code",
   "execution_count": 156,
   "metadata": {},
   "outputs": [],
   "source": [
    "#all a4 is CN (1) \n",
    "a4_demo_filtered['DX']=1"
   ]
  },
  {
   "cell_type": "code",
   "execution_count": 157,
   "metadata": {},
   "outputs": [
    {
     "name": "stdout",
     "output_type": "stream",
     "text": [
      "           RID  PTGENDER  PTAGE  PTETHNIC  PTEDUCAT PTRACE  DX\n",
      "0    B10423472         2  78.25         2      19.0      5   1\n",
      "1    B10693248         2  65.94         2      16.0      5   1\n",
      "2    B10709603         1  74.15         2      18.0      5   1\n",
      "3    B10795731         1  69.23         2      18.0      5   1\n",
      "4    B10904689         2  68.21         2      13.0      5   1\n",
      "..         ...       ...    ...       ...       ...    ...  ..\n",
      "368  B99525373         2  67.00         2      20.0      5   1\n",
      "369  B99649691         2  65.31         2      16.0      5   1\n",
      "370  B99696480         2  74.41         2      12.0      5   1\n",
      "371  B99860801         1  71.56         2      18.0      2   1\n",
      "372  B99870985         1  71.32         2      14.0      5   1\n",
      "\n",
      "[373 rows x 7 columns]\n"
     ]
    }
   ],
   "source": [
    "print(a4_demo_filtered)"
   ]
  },
  {
   "cell_type": "code",
   "execution_count": 163,
   "metadata": {},
   "outputs": [],
   "source": [
    "adni_dx = pd.read_csv('../../data_paths_and_cleaning/data/demographic_csvs/ADNI/adni_dx_and_medhis.csv')"
   ]
  },
  {
   "cell_type": "code",
   "execution_count": 164,
   "metadata": {},
   "outputs": [
    {
     "name": "stdout",
     "output_type": "stream",
     "text": [
      "      NC  MCI  DE  AD  LBD  DLB  PDD   VD  FTD  faq_EVENTS  ...  faq_TRAVEL  \\\n",
      "0      0    1   0   0  0.0  0.0  0.0  0.0  0.0         2.0  ...         0.0   \n",
      "1      1    0   0   0  0.0  0.0  0.0  0.0  0.0         0.0  ...         0.0   \n",
      "2      0    1   0   0  0.0  0.0  0.0  0.0  0.0         2.0  ...         1.0   \n",
      "3      0    1   0   0  0.0  0.0  0.0  0.0  0.0         0.0  ...         1.0   \n",
      "4      0    1   0   0  0.0  0.0  0.0  0.0  0.0         0.0  ...         0.0   \n",
      "...   ..  ...  ..  ..  ...  ...  ...  ...  ...         ...  ...         ...   \n",
      "1816   0    1   0   0  0.0  0.0  0.0  0.0  0.0         0.0  ...         0.0   \n",
      "1817   0    1   0   0  0.0  0.0  0.0  0.0  0.0         0.0  ...         1.0   \n",
      "1818   0    1   0   0  0.0  0.0  0.0  0.0  0.0         0.0  ...         0.0   \n",
      "1819   0    1   0   0  0.0  0.0  0.0  0.0  0.0         1.0  ...         0.0   \n",
      "1820   0    1   0   0  0.0  0.0  0.0  0.0  0.0         0.0  ...         0.0   \n",
      "\n",
      "      bat_DIGIF  his_HYPERTEN  bat_ANIMALS  faq_GAMES npiq_APP  his_NACCAGE  \\\n",
      "0           8.0             1         19.0        0.0      0.0         82.0   \n",
      "1           9.0             0         23.0        0.0      0.0         81.0   \n",
      "2          12.0             0         10.0        1.0      1.0         80.0   \n",
      "3           8.0             1         13.0        0.0      0.0         73.0   \n",
      "4          10.0             0         15.0        0.0      0.0         62.0   \n",
      "...         ...           ...          ...        ...      ...          ...   \n",
      "1816        NaN             1         17.0        0.0      0.0         83.0   \n",
      "1817        NaN             0         22.0        2.0      0.0         75.0   \n",
      "1818        NaN             0         22.0        0.0      0.0         55.0   \n",
      "1819        NaN             1         21.0        0.0      0.0         83.0   \n",
      "1820        NaN             1         21.0        0.0      0.0         62.0   \n",
      "\n",
      "      gds_NACCGDS  his_DEPOTHR  his_NACCFAM  \n",
      "0             5.0          0.0            1  \n",
      "1             1.0          0.0            0  \n",
      "2             0.0          0.0            1  \n",
      "3             0.0          0.0            1  \n",
      "4             2.0          0.0            1  \n",
      "...           ...          ...          ...  \n",
      "1816          5.0          NaN            1  \n",
      "1817          0.0          NaN            1  \n",
      "1818          1.0          NaN            1  \n",
      "1819          3.0          NaN            1  \n",
      "1820          1.0          NaN            1  \n",
      "\n",
      "[1821 rows x 61 columns]\n"
     ]
    }
   ],
   "source": [
    "print(adni_dx)"
   ]
  },
  {
   "cell_type": "code",
   "execution_count": 166,
   "metadata": {},
   "outputs": [],
   "source": [
    "dx_cols = ['NC','MCI','DE','AD']\n",
    "adni_dx=adni_dx[dx_cols]\n"
   ]
  },
  {
   "cell_type": "code",
   "execution_count": 169,
   "metadata": {},
   "outputs": [
    {
     "name": "stdout",
     "output_type": "stream",
     "text": [
      "There are no NaN values in the DataFrame.\n"
     ]
    }
   ],
   "source": [
    "#check for nans \n",
    "has_nans = adni_dx.isna().any().any()\n",
    "\n",
    "if has_nans:\n",
    "    print(\"There are NaN values in the DataFrame.\")\n",
    "else:\n",
    "    print(\"There are no NaN values in the DataFrame.\")"
   ]
  },
  {
   "cell_type": "code",
   "execution_count": 170,
   "metadata": {},
   "outputs": [],
   "source": [
    "#replace the dx info from dx csv on demo filtered csv in single dx col \n",
    "def set_dx(row):\n",
    "    if row['NC'] == 1:\n",
    "        return 1\n",
    "    elif row['MCI'] == 1:\n",
    "        return 2\n",
    "    elif row['AD'] == 1 or row['DE'] == 1:  # 3 for if they are ad or de = 1 \n",
    "        return 3\n",
    "    return None \n",
    "\n",
    "#fill in the values \n",
    "adni_demo_filtered['DX'] = adni_dx.apply(set_dx, axis=1)\n"
   ]
  },
  {
   "cell_type": "code",
   "execution_count": 174,
   "metadata": {},
   "outputs": [
    {
     "name": "stdout",
     "output_type": "stream",
     "text": [
      "The range of values in the 'DX' column is from 1 to 3.\n"
     ]
    }
   ],
   "source": [
    "# Calculate the minimum and maximum values in the 'DX' column\n",
    "min_value = adni_demo_filtered['DX'].min()\n",
    "max_value = adni_demo_filtered['DX'].max()\n",
    "\n",
    "# Print the range of values in the 'DX' column\n",
    "print(f\"The range of values in the 'DX' column is from {min_value} to {max_value}.\")"
   ]
  },
  {
   "cell_type": "code",
   "execution_count": null,
   "metadata": {},
   "outputs": [],
   "source": [
    "#something like if ['NC']=1 then ['DX']=1, if \n",
    "for row in adni_dx:\n",
    "    if adni_dx['NC']==1:\n",
    "        adni_demo_filtered['DX']=1\n",
    "    if adni_dx['MCI']==1:\n",
    "        adni_demo_filtered['DX']=2\n",
    "    if adni_dx['AD']==1:\n",
    "        adni_demo_filtered['DX']=3\n",
    "    if adni_dx['DE']==1:\n",
    "        adni_demo_filtered['DX']=3"
   ]
  },
  {
   "attachments": {},
   "cell_type": "markdown",
   "metadata": {},
   "source": [
    "All good! The size of the demo dfs match so should be all good. Now save the demo csvs "
   ]
  },
  {
   "cell_type": "code",
   "execution_count": 149,
   "metadata": {},
   "outputs": [],
   "source": [
    "adni_demo_filtered.to_csv('../data/demographic_csvs/ADNI/adni_filtered_demo.csv')\n",
    "a4_demo_filtered.to_csv('../data/demographic_csvs/A4/a4_filtered_demo.csv')"
   ]
  }
 ],
 "metadata": {
  "kernelspec": {
   "display_name": "graph_env",
   "language": "python",
   "name": "python3"
  },
  "language_info": {
   "codemirror_mode": {
    "name": "ipython",
    "version": 3
   },
   "file_extension": ".py",
   "mimetype": "text/x-python",
   "name": "python",
   "nbconvert_exporter": "python",
   "pygments_lexer": "ipython3",
   "version": "3.8.10"
  },
  "orig_nbformat": 4
 },
 "nbformat": 4,
 "nbformat_minor": 2
}
