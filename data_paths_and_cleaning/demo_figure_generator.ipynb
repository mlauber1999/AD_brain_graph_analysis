{
 "cells": [
  {
   "cell_type": "code",
   "execution_count": 5,
   "metadata": {},
   "outputs": [],
   "source": [
    "import numpy as np\n",
    "import pandas as pd\n",
    "import matplotlib.pyplot as plt\n",
    "import os\n",
    "import warnings\n",
    "import networkx as nx\n",
    "import matplotlib.colors as mcolors\n",
    "# warnings.simplefilter(action='ignore', category=FutureWarning)\n",
    "# pd.set_option('display.max_rows', None)  # To display all rows\n",
    "# pd.set_option('display.max_columns', None)  # To display all columns\n",
    "import glob as glob\n",
    "import math\n",
    "from datetime import datetime "
   ]
  },
  {
   "attachments": {},
   "cell_type": "markdown",
   "metadata": {},
   "source": [
    "I. DX codes: \n",
    "* All of A4 data is CN (1)\n",
    "* For ADNI (1=NL;2=MCI;3=AD)"
   ]
  },
  {
   "attachments": {},
   "cell_type": "markdown",
   "metadata": {},
   "source": [
    "II. Data dictionary codes for demo data adni dictionary \n",
    "* Gender codes: male = 1 , female = 2 \n",
    "* Race codes: 1=American Indian or Alaskan Native; 2=Asian; 3=Native Hawaiian or Other Pacific Islander; 4=Black or African American; 5=White; 6=More than one race; 7=Unknown\n",
    "* Ethnicity codes: 1=Hispanic or Latino; 2=Not Hispanic or Latino; 3=Unknown\n",
    "* Education codes: not sure "
   ]
  },
  {
   "cell_type": "code",
   "execution_count": 6,
   "metadata": {},
   "outputs": [],
   "source": [
    "a4_demo = pd.read_csv('../../mci_mri_graph/data_paths_and_cleaning/data/demographic_csvs/A4/a4_filtered_demo.csv')\n",
    "adni_demo = pd.read_csv('../../mci_mri_graph/data_paths_and_cleaning/data/demographic_csvs/ADNI/adni_filtered_demo.csv')"
   ]
  },
  {
   "cell_type": "code",
   "execution_count": 7,
   "metadata": {},
   "outputs": [
    {
     "name": "stdout",
     "output_type": "stream",
     "text": [
      "           RID  PTGENDER  PTAGE  PTETHNIC  PTEDUCAT PTRACE  DX\n",
      "0    B10423472         2  78.25         2      19.0      5   1\n",
      "1    B10693248         2  65.94         2      16.0      5   1\n",
      "2    B10709603         1  74.15         2      18.0      5   1\n",
      "3    B10795731         1  69.23         2      18.0      5   1\n",
      "4    B10904689         2  68.21         2      13.0      5   1\n",
      "..         ...       ...    ...       ...       ...    ...  ..\n",
      "368  B99525373         2  67.00         2      20.0      5   1\n",
      "369  B99649691         2  65.31         2      16.0      5   1\n",
      "370  B99696480         2  74.41         2      12.0      5   1\n",
      "371  B99860801         1  71.56         2      18.0      2   1\n",
      "372  B99870985         1  71.32         2      14.0      5   1\n",
      "\n",
      "[373 rows x 7 columns]\n"
     ]
    }
   ],
   "source": [
    "print(a4_demo)"
   ]
  },
  {
   "cell_type": "code",
   "execution_count": 8,
   "metadata": {},
   "outputs": [
    {
     "name": "stdout",
     "output_type": "stream",
     "text": [
      "      RID  PTGENDER        AGE  PTETHCAT  PTEDUCAT  PTRACCAT  DX\n",
      "0      31       2.0  83.750000       2.0      18.0         5   2\n",
      "1     112       1.0  76.666667       2.0      18.0         5   1\n",
      "2     120       1.0  79.083333       2.0      20.0         5   2\n",
      "3     210       2.0  78.500000       2.0      13.0         5   2\n",
      "4     377       1.0  85.166667       2.0      16.0         5   2\n",
      "..    ...       ...        ...       ...       ...       ...  ..\n",
      "393  7054       2.0  72.250000       2.0      18.0         5   2\n",
      "394  7079       2.0  86.750000       2.0      18.0         4   1\n",
      "395  7088       1.0  70.000000       2.0      16.0         5   1\n",
      "396  7100       1.0  74.000000       2.0      16.0         4   3\n",
      "397  7105       1.0  77.500000       1.0      18.0         6   2\n",
      "\n",
      "[398 rows x 7 columns]\n"
     ]
    }
   ],
   "source": [
    "print(adni_demo)"
   ]
  },
  {
   "cell_type": "code",
   "execution_count": null,
   "metadata": {},
   "outputs": [],
   "source": [
    "#A4 demographic summary table"
   ]
  },
  {
   "cell_type": "code",
   "execution_count": null,
   "metadata": {},
   "outputs": [],
   "source": [
    "#ADNI demographic summary table"
   ]
  }
 ],
 "metadata": {
  "kernelspec": {
   "display_name": "graph_env",
   "language": "python",
   "name": "python3"
  },
  "language_info": {
   "codemirror_mode": {
    "name": "ipython",
    "version": 3
   },
   "file_extension": ".py",
   "mimetype": "text/x-python",
   "name": "python",
   "nbconvert_exporter": "python",
   "pygments_lexer": "ipython3",
   "version": "3.8.10"
  },
  "orig_nbformat": 4
 },
 "nbformat": 4,
 "nbformat_minor": 2
}
