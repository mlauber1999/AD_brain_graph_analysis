{
 "cells": [
  {
   "cell_type": "code",
   "execution_count": 1,
   "metadata": {},
   "outputs": [],
   "source": [
    "import os \n",
    "import glob #used to search for files in dir that match specific pattern \n",
    "import nibabel as nib \n",
    "from nibabel.processing import conform\n",
    "import re #regular expression to match digit \n",
    "import numpy as np"
   ]
  },
  {
   "cell_type": "code",
   "execution_count": null,
   "metadata": {},
   "outputs": [],
   "source": [
    "one = np.load('/data2/MRI_PET_DATA/graph/NACC/Morph/mri_atlas/morph/roi/NACC000511/001.npy')\n",
    "print(one)"
   ]
  },
  {
   "cell_type": "code",
   "execution_count": null,
   "metadata": {},
   "outputs": [],
   "source": [
    "#check if in mni space\n",
    "#must be aligned in mni space or q/sform amtrix must match with the binary masks \n",
    "file = nib.load('/data2/MRI_PET_DATA/graph/ADNI/mri_atlas/wneuromorphometrics_0173_mri.nii')\n",
    "print(file.header)"
   ]
  },
  {
   "cell_type": "code",
   "execution_count": 2,
   "metadata": {},
   "outputs": [
    {
     "name": "stdout",
     "output_type": "stream",
     "text": [
      "/home/mlauber/fft_automate.ipynb\n"
     ]
    }
   ],
   "source": [
    "#os.path.join() concatenates path components with one / separator following each non empty part \n",
    "dir = \"/home/mlauber\"\n",
    "file = 'fft_automate.ipynb'\n",
    "\n",
    "new_path = os.path.join(dir, file)\n",
    "print(new_path) #/home/mlauber/fft_automate.ipynb\n",
    "\n",
    "#f strings \n",
    "#mri_file_path = os.path.join(mri_dir, f\"{patient_id}_mri.nii\") \n",
    "#tells it that whatever patient_id is equal to for current iteration, join the mri_dir /data2/MRI_PET_DATA/graph/ADNI/ADNI_MRI_nii_recentered_cat12_cox_noqc with the patient id so that its /data2/MRI_PET_DATA/graph/ADNI/ADNI_MRI_nii_recentered_cat12_cox_noqc/6652_mri.nii\n"
   ]
  },
  {
   "cell_type": "code",
   "execution_count": 3,
   "metadata": {},
   "outputs": [],
   "source": [
    "#ADNI \n",
    "# #location of the bin masks for each segment \n",
    "# mask_dir=\"/data2/MRI_PET_DATA/graph/ADNI/mri_atlas/roi\"  #subfolders wneuromorphometrics_####_mri.nii each with rois 142.nii\n",
    "\n",
    "# #location of the og mri aligned in the mni space \n",
    "# mri_dir=\"/data2/MRI_PET_DATA/graph/ADNI/ADNI_MRI_nii_recentered_cat12_cox_noqc\"  #files ####_mri.nii \n",
    "\n",
    "#NACC \n",
    "#location of the bin masks for each segment \n",
    "mask_dir=\"/data2/MRI_PET_DATA/graph/NACC/Morph/mri_atlas/morph/roi\"  #subfolders wneuromorphometrics_####_mri.nii each with rois 142.nii\n",
    "\n",
    "#location of the og mri aligned in the mni space \n",
    "mri_dir=\"/data2/MRI_PET_DATA/graph/NACC/ADNI_MRI_NACC_recenter_cox_test\"  #files ####_mri.nii \n"
   ]
  },
  {
   "cell_type": "code",
   "execution_count": 7,
   "metadata": {},
   "outputs": [
    {
     "name": "stdout",
     "output_type": "stream",
     "text": [
      "(160, 240, 256)\n"
     ]
    }
   ],
   "source": [
    "#testing .gz files loading \n",
    "\n",
    "file = nib.load(\"/data2/MRI_PET_DATA/graph/ADNI/mri_atlas/roi/wneuromorphometrics_0173/masked_133.nii.gz\").get_fdata()\n",
    "print(file.shape)"
   ]
  },
  {
   "cell_type": "code",
   "execution_count": 11,
   "metadata": {},
   "outputs": [
    {
     "name": "stdout",
     "output_type": "stream",
     "text": [
      "/data2/MRI_PET_DATA/graph/NACC/Morph/mri_atlas/morph/roi/NACC000511\n",
      "Converting masks for 000511......\n",
      "Mask files saved for 000511\n",
      "/data2/MRI_PET_DATA/graph/NACC/Morph/mri_atlas/morph/roi/NACC000531\n",
      "Converting masks for 000531......\n",
      "Mask files saved for 000531\n",
      "/data2/MRI_PET_DATA/graph/NACC/Morph/mri_atlas/morph/roi/NACC003196\n",
      "Converting masks for 003196......\n",
      "Mask files saved for 003196\n",
      "/data2/MRI_PET_DATA/graph/NACC/Morph/mri_atlas/morph/roi/NACC006009\n",
      "Converting masks for 006009......\n",
      "Mask files saved for 006009\n",
      "/data2/MRI_PET_DATA/graph/NACC/Morph/mri_atlas/morph/roi/NACC006420\n",
      "Converting masks for 006420......\n",
      "Mask files saved for 006420\n",
      "/data2/MRI_PET_DATA/graph/NACC/Morph/mri_atlas/morph/roi/NACC007377\n",
      "Converting masks for 007377......\n",
      "Mask files saved for 007377\n",
      "/data2/MRI_PET_DATA/graph/NACC/Morph/mri_atlas/morph/roi/NACC008987\n",
      "Converting masks for 008987......\n",
      "Mask files saved for 008987\n",
      "/data2/MRI_PET_DATA/graph/NACC/Morph/mri_atlas/morph/roi/NACC011143\n",
      "Converting masks for 011143......\n",
      "Mask files saved for 011143\n",
      "/data2/MRI_PET_DATA/graph/NACC/Morph/mri_atlas/morph/roi/NACC012666\n",
      "Converting masks for 012666......\n",
      "Mask files saved for 012666\n",
      "/data2/MRI_PET_DATA/graph/NACC/Morph/mri_atlas/morph/roi/NACC013585\n",
      "Converting masks for 013585......\n",
      "Mask files saved for 013585\n",
      "/data2/MRI_PET_DATA/graph/NACC/Morph/mri_atlas/morph/roi/NACC015412\n",
      "Converting masks for 015412......\n",
      "Mask files saved for 015412\n",
      "/data2/MRI_PET_DATA/graph/NACC/Morph/mri_atlas/morph/roi/NACC015899\n",
      "Converting masks for 015899......\n",
      "Mask files saved for 015899\n",
      "/data2/MRI_PET_DATA/graph/NACC/Morph/mri_atlas/morph/roi/NACC016502\n",
      "Converting masks for 016502......\n",
      "Mask files saved for 016502\n",
      "/data2/MRI_PET_DATA/graph/NACC/Morph/mri_atlas/morph/roi/NACC018906\n",
      "Converting masks for 018906......\n",
      "Mask files saved for 018906\n",
      "/data2/MRI_PET_DATA/graph/NACC/Morph/mri_atlas/morph/roi/NACC019767\n",
      "Converting masks for 019767......\n"
     ]
    }
   ],
   "source": [
    "#NACC signal masks \n",
    "\n",
    "\n",
    "#for each directory that matches the pattern NACC[0-9][0-9][0-9][0-9][0-9], os.path.join joins \"/data2/MRI_PET_DATA/graph/NACC/Morph/mri_atlas/morph/roi\"  with NACC[0-9][0-9][0-9][0-9][0-9] and iterates over each directory \n",
    "for dir_path in sorted(glob.glob(os.path.join(mask_dir,\"NACC[0-9][2-9][0-9][0-9][0-9][0-9]\"))): \n",
    "    #assign patient ID based on the original mri instead since its having trouble \n",
    "    print(dir_path)\n",
    "    #dir_path = /data2/MRI_PET_DATA/graph/ADNI/mri_atlas/roi/wneuromorphometrics_6652\n",
    "\n",
    "    #its going into dir, looping through and resaving each mask as masked_nii.nii \n",
    "\n",
    "    #the nacc bin mask folders are NACC###### (6 digit id)\n",
    "    patient_id = dir_path[-6:]\n",
    "    print(f\"Converting masks for {patient_id}......\")\n",
    "    # print(patient_id) #6652 so it's extracting all the ids \n",
    "\n",
    "#just finished 019767\n",
    "#pick up from one after it \n",
    "\n",
    "    #instead of searching for all .nii files, only search for '[0-9][0-9][0-9].nii' files so it doesn't keep looping over same folder \n",
    "    for bin_mask_file_path in sorted(glob.glob(os.path.join(dir_path, '[0-9][0-9][0-9].nii.gz'))): #specifies bin mask file paths /data2/MRI_PET_DATA/graph/NACC/Morph/mri_atlas/morph/roi\n",
    "\n",
    "        mri_file_path = os.path.join(mri_dir, f\"NACC{patient_id}_mri.nii\") #change this to nacc filepath /data2/MRI_PET_DATA/graph/NACC/ADNI_MRI_NACC_recenter_cox_test\n",
    "        #naming convention of mri images NACC######_mri.nii\n",
    "\n",
    "        # print(mri_file_path) \n",
    "        # print(bin_mask_file_path)\n",
    "    \n",
    "    #check if mri exists for the patient id \n",
    "    #not finding mri file \n",
    "        if os.path.isfile(mri_file_path):\n",
    "            # print(f\"Converting mask file: {bin_mask_file_path}\") \n",
    "            # print(f\"Using MRI file: {mri_file_path}\") #ex #mri path is /data2/MRI_PET_DATA/graph/ADNI/ADNI_MRI_nii_recentered_cat12_cox_noqc/6652_mri.nii\n",
    "\n",
    "            #get 3 digit region number from bin mask file name \n",
    "            #os.path.basename returns the basename of the file path whic is filename itself with extension 001.nii\n",
    "            #os.path.splittext()[0] #splittext splits file base name into tuple of the file name iteself and the extension (001, .nii) so [0] tells it to access the first element of the tuple which is 001 \n",
    "            reg_num = (os.path.splitext(os.path.join(bin_mask_file_path)))[0][-7:-4:] #extract last 3 elements \n",
    "            # print(reg_num)\n",
    "            sig_mask_file_path = os.path.join(dir_path, f\"masked_{reg_num}.nii\")\n",
    "            # print(f\"converting region {reg_num}\")\n",
    "            #reg_num var is set as .nii because its the last 3 before the extension \n",
    "            # print(sig_mask_file_path) #/data2/MRI_PET_DATA/graph/ADNI/mri_atlas/roi/wneuromorphometrics_6652/014.nii\n",
    "\n",
    "            mri_img = nib.load(mri_file_path)\n",
    "            # print(mri_img.shape)\n",
    "            mask_img = nib.load(bin_mask_file_path)\n",
    "            # print(mask_img.shape)\n",
    "\n",
    "            #resize \n",
    "            resize_mask_img = nib.processing.conform(mask_img, out_shape = mri_img.shape)\n",
    "            # print(resize_mask_img.shape)\n",
    "\n",
    "            mri_array = mri_img.get_fdata()\n",
    "            # print(patient_id,mri_array.shape)\n",
    "            resize_mask_array = resize_mask_img.get_fdata()\n",
    "            # print(patient_id,resize_mask_array.shape)\n",
    "\n",
    "            #multiply roi by original mri to get signal mask\n",
    "            sig_mask = mri_array * resize_mask_array  #files are different shapes so need to add in line to convert the images \n",
    "            # print(sig_mask.shape)\n",
    "\n",
    "            #save output as nifti file\n",
    "            nib.save(nib.Nifti2Image(sig_mask,nib.load(mri_file_path).affine), sig_mask_file_path)\n",
    "            # print(f\"Mask file saved for {bin_mask_file_path[-12:]}\")\n",
    "            # print(f\"Mask files saved for {bin_mask_file_path}\") #Mask file saved for 0173/001.nii\n",
    "        else:\n",
    "            print(f\"Error: MRI file not found for: {patient_id}\")\n",
    "\n",
    "    print(f\"Mask files saved for {patient_id}\")\n",
    "    continue"
   ]
  },
  {
   "cell_type": "code",
   "execution_count": 4,
   "metadata": {},
   "outputs": [
    {
     "name": "stdout",
     "output_type": "stream",
     "text": [
      "Converting masks for 4743......\n",
      "Mask files saved for 4743\n"
     ]
    }
   ],
   "source": [
    "\n",
    "#ADNI signal masks \n",
    "#4743 is missinh signal masks for 58-114, so I need to go back and reprocess those and then process and compress them \n",
    "for dir_path in sorted(glob.glob(os.path.join(mask_dir,\"wneuromorphometrics_[4][7][4][3]\"))): #for each directory that matches the pattern wneuromorphometrics_[0-9][0-9][0-9][0-9, os.path.join joins \"/data2/MRI_PET_DATA/graph/ADNI/mri_atlas/roi\"  with /wneuromorphometrics_#### and iterates over each directory \n",
    "    #assign patient ID based on the original mri instead since its having trouble \n",
    "    # print(dir_path)\n",
    "    #dir_path = /data2/MRI_PET_DATA/graph/ADNI/mri_atlas/roi/wneuromorphometrics_6652\n",
    "\n",
    "    #its going into dir, looping through and resaving each mask as masked_nii.nii \n",
    "    #fix it because it used to \n",
    "    #without .gz though it just loops throiugh without converting bc nothing matches pattern \n",
    "    #2363 start \n",
    "\n",
    "    patient_id = dir_path[-4:]\n",
    "    print(f\"Converting masks for {patient_id}......\")\n",
    "    # print(patient_id) #6652 so it's extracting all the ids \n",
    "\n",
    "    #instead of searching for all .nii files, only search for '[0-9][0-9][0-9].nii' files so it doesn't keep looping over same folder \n",
    "    for bin_mask_file_path in sorted(glob.glob(os.path.join(dir_path, '[0-9][0-9][0-9].nii.gz'))): #specifies mask file paths are /data2/MRI_PET_DATA/graph/ADNI/mri_atlas/roi/wneuromorphometrics_6652/*.nii \n",
    "        mri_file_path = os.path.join(mri_dir, f\"{patient_id}_mri.nii\") #mri path is /data2/MRI_PET_DATA/graph/ADNI/ADNI_MRI_nii_recentered_cat12_cox_noqc/6652_mri.nii\n",
    "        # print(mri_file_path) \n",
    "        # print(bin_mask_file_path)\n",
    "    \n",
    "    #check if mri exists for the patient id \n",
    "        if os.path.isfile(mri_file_path):\n",
    "            # print(f\"Converting mask file: {bin_mask_file_path}\") #ex /data2/MRI_PET_DATA/graph/ADNI/mri_atlas/roi/wneuromorphometrics_6652/044.nii \n",
    "            # print(f\"Using MRI file: {mri_file_path}\") #ex #mri path is /data2/MRI_PET_DATA/graph/ADNI/ADNI_MRI_nii_recentered_cat12_cox_noqc/6652_mri.nii\n",
    "\n",
    "            #for 2363 might have to go back and delete the duplicate .nii files where there are already .gz files \n",
    "            #they're saved as .nii so have to go back and unzip them \n",
    "\n",
    "            #get 3 digit region number from bin mask file name \n",
    "            #os.path.basename returns the basename of the file path whic is filename itself with extension 001.nii\n",
    "            #os.path.splittext()[0] #splittext splits file base name into tuple of the file name iteself and the extension (001, .nii) so [0] tells it to access the first element of the tuple which is 001 \n",
    "            reg_num = (os.path.splitext(os.path.join(bin_mask_file_path)))[0][-7:-4:] #extract last 3 elements \n",
    "            # print(reg_num)\n",
    "            sig_mask_file_path = os.path.join(dir_path, f\"masked_{reg_num}.nii\")\n",
    "            # print(f\"converting region {reg_num}\")\n",
    "            #reg_num var is set as .nii because its the last 3 before the extension \n",
    "            # print(sig_mask_file_path) #/data2/MRI_PET_DATA/graph/ADNI/mri_atlas/roi/wneuromorphometrics_6652/014.nii\n",
    "\n",
    "            mri_img = nib.load(mri_file_path)\n",
    "            # print(mri_img.shape)\n",
    "            mask_img = nib.load(bin_mask_file_path)\n",
    "            # print(mask_img.shape)\n",
    "\n",
    "            #resize \n",
    "            resize_mask_img = nib.processing.conform(mask_img, out_shape = mri_img.shape)\n",
    "            # print(resize_mask_img.shape)\n",
    "\n",
    "            mri_array = mri_img.get_fdata()\n",
    "            # print(patient_id,mri_array.shape)\n",
    "            resize_mask_array = resize_mask_img.get_fdata()\n",
    "            # print(patient_id,resize_mask_array.shape)\n",
    "\n",
    "            #multiply roi by original mri to get signal mask\n",
    "            sig_mask = mri_array * resize_mask_array  #files are different shapes so need to add in line to convert the images \n",
    "            # print(sig_mask.shape)\n",
    "\n",
    "            #save output as nifti file\n",
    "            nib.save(nib.Nifti2Image(sig_mask,nib.load(mri_file_path).affine), sig_mask_file_path)\n",
    "            # print(f\"Mask file saved for {bin_mask_file_path[-12:]}\")\n",
    "            # print(f\"Mask files saved for {bin_mask_file_path}\") #Mask file saved for 0173/001.nii\n",
    "        else:\n",
    "            print(f\"Error: MRI file not found for: {patient_id}\")\n",
    "\n",
    "    print(f\"Mask files saved for {patient_id}\")\n",
    "    continue"
   ]
  }
 ],
 "metadata": {
  "kernelspec": {
   "display_name": "graph_env",
   "language": "python",
   "name": "python3"
  },
  "language_info": {
   "codemirror_mode": {
    "name": "ipython",
    "version": 3
   },
   "file_extension": ".py",
   "mimetype": "text/x-python",
   "name": "python",
   "nbconvert_exporter": "python",
   "pygments_lexer": "ipython3",
   "version": "3.8.10"
  },
  "orig_nbformat": 4,
  "vscode": {
   "interpreter": {
    "hash": "3f92c1c541c642a613962b5b6ff0dc3b5c22792af994e63054619307fd9da051"
   }
  }
 },
 "nbformat": 4,
 "nbformat_minor": 2
}
