{
 "cells": [
  {
   "cell_type": "code",
   "execution_count": 10,
   "metadata": {},
   "outputs": [],
   "source": [
    "import numpy as np\n",
    "import pandas as pd\n",
    "import matplotlib.pyplot as plt\n",
    "import os\n",
    "import warnings\n",
    "import seaborn as sns\n",
    "import networkx as nx\n",
    "import matplotlib.colors as mcolors\n",
    "from scipy import stats\n",
    "from scipy.stats import f_oneway, kruskal\n",
    "from statsmodels.stats.multicomp import MultiComparison\n",
    "from scikit_posthocs import posthoc_dunn\n",
    "# pd.options.display.max_rows = None\n",
    "# pd.options.display.max_columns = None\n",
    "import glob as glob\n",
    "import math\n",
    "pd.set_option('display.max_rows', None)  # To display all rows\n",
    "pd.set_option('display.max_columns', None)  # To display all columns\n",
    "from scipy.stats import shapiro"
   ]
  },
  {
   "cell_type": "code",
   "execution_count": 11,
   "metadata": {},
   "outputs": [
    {
     "name": "stdout",
     "output_type": "stream",
     "text": [
      "[0 1 2]\n"
     ]
    }
   ],
   "source": [
    "#load in master dataset csv \n",
    "gm_3q = pd.read_csv('graph_metrics_adni_a4_bootstrapped_3quant.csv')\n",
    "print(gm_3q['Centiloid Quantile'].unique())"
   ]
  },
  {
   "cell_type": "code",
   "execution_count": 12,
   "metadata": {},
   "outputs": [
    {
     "name": "stdout",
     "output_type": "stream",
     "text": [
      "1\n",
      "1\n"
     ]
    }
   ],
   "source": [
    "adni_gm = gm_3q[gm_3q['Dataset']=='ADNI']\n",
    "a4_gm = gm_3q[gm_3q['Dataset']=='A4']\n",
    "print(adni_gm['Dataset'].nunique()) #looks good\n",
    "print(a4_gm['Dataset'].nunique())"
   ]
  },
  {
   "cell_type": "code",
   "execution_count": 13,
   "metadata": {},
   "outputs": [
    {
     "name": "stdout",
     "output_type": "stream",
     "text": [
      "  Dataset  Centiloid Quantile  Weighted Clustering Coefficient  \\\n",
      "0    ADNI                   0                         0.068934   \n",
      "1    ADNI                   0                         0.083235   \n",
      "2    ADNI                   0                         0.058079   \n",
      "3    ADNI                   0                         0.070969   \n",
      "4    ADNI                   0                         0.067504   \n",
      "\n",
      "   Weighted Avg. Shortest Path Length  Weighted Small World  \n",
      "0                            1.842079              0.325390  \n",
      "1                            2.203289              0.329465  \n",
      "2                            2.307050              0.207186  \n",
      "3                            2.092218              0.308219  \n",
      "4                            2.123366              0.281602  \n"
     ]
    }
   ],
   "source": [
    "print(adni_gm.head())"
   ]
  },
  {
   "attachments": {},
   "cell_type": "markdown",
   "metadata": {},
   "source": [
    "Need to determine why effect size is NAN "
   ]
  },
  {
   "cell_type": "code",
   "execution_count": 15,
   "metadata": {},
   "outputs": [],
   "source": [
    "#new code with eta squared forr anova and epsilon squared for ks\n",
    "def perform_anova_kruskal_bonferroni(df1, df2, metrics, group_column):\n",
    "    anova_results = []\n",
    "    \n",
    "    for df, name in [(df1, 'ADNI'), (df2, 'A4')]:\n",
    "        for metric in metrics:\n",
    "            groups = df[group_column].unique()\n",
    "            group_data = [df[df[group_column] == group][metric].dropna() for group in groups]\n",
    "            num_comparisons = len(group_data)\n",
    "            total_n = sum([len(group) for group in group_data])\n",
    "            \n",
    "            if metric != 'Weighted Small World':\n",
    "                # ANOVA Test\n",
    "                result = f_oneway(*group_data)\n",
    "                p_adjusted = round(result.pvalue * num_comparisons, 3)\n",
    "                significant = 'Yes' if p_adjusted < 0.05 else 'No'\n",
    "                \n",
    "                # Eta squared calculation\n",
    "                ss_between = sum([(group.mean() - df[metric].mean())**2 * len(group) for group in group_data])\n",
    "                ss_total = sum([(value - df[metric].mean())**2 for value in df[metric].dropna()])\n",
    "                eta_squared = ss_between / ss_total if ss_total != 0 else np.nan  # Avoid division by zero\n",
    "                \n",
    "                effect_size = eta_squared\n",
    "            else:\n",
    "                # Kruskal-Wallis Test\n",
    "                result = kruskal(*group_data)\n",
    "                p_adjusted = round(result.pvalue * num_comparisons, 3)\n",
    "                significant = 'Yes' if p_adjusted < 0.05 else 'No'\n",
    "                \n",
    "                # Epsilon squared calculation for non-parametric test\n",
    "                epsilon_squared = result.statistic / (total_n - 1) if total_n > 1 else np.nan  # Avoid division by zero\n",
    "                \n",
    "                effect_size = epsilon_squared\n",
    "            \n",
    "            anova_results.append({\n",
    "                'Dataset': name,\n",
    "                'Metric': metric,\n",
    "                'Test': result.__class__.__name__,\n",
    "                'Statistic': round(result.statistic, 3),\n",
    "                'p-value': result.pvalue,\n",
    "                'Bonferroni_p-value': p_adjusted,\n",
    "                'Significant': significant,\n",
    "                'Effect Size': round(effect_size, 3) if not np.isnan(effect_size) else np.nan\n",
    "            })\n",
    "    \n",
    "    return pd.DataFrame(anova_results)\n",
    "\n",
    "\n"
   ]
  },
  {
   "cell_type": "code",
   "execution_count": 16,
   "metadata": {},
   "outputs": [
    {
     "name": "stdout",
     "output_type": "stream",
     "text": [
      "  Dataset                              Metric            Test  Statistic  \\\n",
      "0    ADNI     Weighted Clustering Coefficient  F_onewayResult    567.442   \n",
      "1    ADNI  Weighted Avg. Shortest Path Length  F_onewayResult    598.081   \n",
      "2    ADNI                Weighted Small World   KruskalResult   1528.090   \n",
      "3      A4     Weighted Clustering Coefficient  F_onewayResult    570.450   \n",
      "4      A4  Weighted Avg. Shortest Path Length  F_onewayResult   2085.018   \n",
      "5      A4                Weighted Small World   KruskalResult   1954.486   \n",
      "\n",
      "         p-value  Bonferroni_p-value Significant  Effect Size  \n",
      "0  1.040341e-209                 0.0         Yes        0.275  \n",
      "1  2.732263e-219                 0.0         Yes        0.285  \n",
      "2   0.000000e+00                 0.0         Yes        0.510  \n",
      "3  1.175259e-210                 0.0         Yes        0.276  \n",
      "4   0.000000e+00                 0.0         Yes        0.582  \n",
      "5   0.000000e+00                 0.0         Yes        0.652  \n"
     ]
    }
   ],
   "source": [
    "#testing functions \n",
    "metrics = ['Weighted Clustering Coefficient', 'Weighted Avg. Shortest Path Length', 'Weighted Small World']\n",
    "anova_results = perform_anova_kruskal_bonferroni(adni_gm, a4_gm, metrics, 'Centiloid Quantile')\n",
    "print(anova_results)\n",
    "\n"
   ]
  },
  {
   "attachments": {},
   "cell_type": "markdown",
   "metadata": {},
   "source": [
    "Do One Way ANOVA test between the quartile groups for weighted clustering coefficent and shortest path leng, do KS for small world \n",
    "- only do bonferroni because it's the most strict so don't need tukey or dunn"
   ]
  },
  {
   "cell_type": "code",
   "execution_count": 17,
   "metadata": {},
   "outputs": [],
   "source": [
    "def split_results_by_dataset(df):\n",
    "    adni_results = df[df['Dataset'] == 'ADNI']\n",
    "    a4_results = df[df['Dataset'] == 'A4']\n",
    "    return adni_results, a4_results\n",
    "\n",
    "adni_anova_results, a4_anova_results = split_results_by_dataset(anova_results)\n",
    "\n"
   ]
  },
  {
   "cell_type": "code",
   "execution_count": 18,
   "metadata": {},
   "outputs": [
    {
     "name": "stdout",
     "output_type": "stream",
     "text": [
      "  Dataset                              Metric            Test  Statistic  \\\n",
      "0    ADNI     Weighted Clustering Coefficient  F_onewayResult    567.442   \n",
      "1    ADNI  Weighted Avg. Shortest Path Length  F_onewayResult    598.081   \n",
      "2    ADNI                Weighted Small World   KruskalResult   1528.090   \n",
      "\n",
      "         p-value  Bonferroni_p-value Significant  Effect Size  \n",
      "0  1.040341e-209                 0.0         Yes        0.275  \n",
      "1  2.732263e-219                 0.0         Yes        0.285  \n",
      "2   0.000000e+00                 0.0         Yes        0.510  \n"
     ]
    }
   ],
   "source": [
    "print(adni_anova_results)"
   ]
  },
  {
   "cell_type": "code",
   "execution_count": 19,
   "metadata": {},
   "outputs": [
    {
     "name": "stdout",
     "output_type": "stream",
     "text": [
      "  Dataset                              Metric            Test  Statistic  \\\n",
      "3      A4     Weighted Clustering Coefficient  F_onewayResult    570.450   \n",
      "4      A4  Weighted Avg. Shortest Path Length  F_onewayResult   2085.018   \n",
      "5      A4                Weighted Small World   KruskalResult   1954.486   \n",
      "\n",
      "         p-value  Bonferroni_p-value Significant  Effect Size  \n",
      "3  1.175259e-210                 0.0         Yes        0.276  \n",
      "4   0.000000e+00                 0.0         Yes        0.582  \n",
      "5   0.000000e+00                 0.0         Yes        0.652  \n"
     ]
    }
   ],
   "source": [
    "print(a4_anova_results)"
   ]
  }
 ],
 "metadata": {
  "kernelspec": {
   "display_name": "mci_mri_graph",
   "language": "python",
   "name": "python3"
  },
  "language_info": {
   "codemirror_mode": {
    "name": "ipython",
    "version": 3
   },
   "file_extension": ".py",
   "mimetype": "text/x-python",
   "name": "python",
   "nbconvert_exporter": "python",
   "pygments_lexer": "ipython3",
   "version": "3.10.13"
  },
  "orig_nbformat": 4
 },
 "nbformat": 4,
 "nbformat_minor": 2
}
