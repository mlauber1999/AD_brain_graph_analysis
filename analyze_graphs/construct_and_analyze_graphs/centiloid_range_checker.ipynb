{
 "cells": [
  {
   "cell_type": "code",
   "execution_count": 1,
   "metadata": {},
   "outputs": [],
   "source": [
    "import numpy as np\n",
    "import pandas as pd\n",
    "import matplotlib.pyplot as plt\n",
    "import os\n",
    "import warnings\n",
    "import seaborn as sns\n",
    "import networkx as nx\n",
    "import matplotlib.colors as mcolors\n",
    "from scipy import stats"
   ]
  },
  {
   "cell_type": "code",
   "execution_count": 9,
   "metadata": {},
   "outputs": [],
   "source": [
    "#checking centiloid ranges for each quantile \n",
    "a4 = pd.read_csv(\"../analyze_graphs/graph_metrics_adni_a4_bootstrapped_3quant.csv\")"
   ]
  },
  {
   "cell_type": "code",
   "execution_count": 13,
   "metadata": {},
   "outputs": [
    {
     "name": "stdout",
     "output_type": "stream",
     "text": [
      "Index(['Dataset', 'Centiloid Quantile', 'Weighted Clustering Coefficient',\n",
      "       'Weighted Avg. Shortest Path Length', 'Weighted Small World'],\n",
      "      dtype='object')\n"
     ]
    }
   ],
   "source": [
    "print(a4.columns)"
   ]
  },
  {
   "cell_type": "code",
   "execution_count": 12,
   "metadata": {},
   "outputs": [
    {
     "name": "stderr",
     "output_type": "stream",
     "text": [
      "<>:1: SyntaxWarning: 'int' object is not callable; perhaps you missed a comma?\n",
      "<>:2: SyntaxWarning: 'int' object is not callable; perhaps you missed a comma?\n",
      "<>:1: SyntaxWarning: 'int' object is not callable; perhaps you missed a comma?\n",
      "<>:2: SyntaxWarning: 'int' object is not callable; perhaps you missed a comma?\n",
      "/tmp/ipykernel_679608/671223229.py:1: SyntaxWarning: 'int' object is not callable; perhaps you missed a comma?\n",
      "  print(a4['Centiloid Quantile']==0(min()))\n",
      "/tmp/ipykernel_679608/671223229.py:1: SyntaxWarning: 'int' object is not callable; perhaps you missed a comma?\n",
      "  print(a4['Centiloid Quantile']==0(min()))\n",
      "/tmp/ipykernel_679608/671223229.py:1: SyntaxWarning: 'int' object is not callable; perhaps you missed a comma?\n",
      "  print(a4['Centiloid Quantile']==0(min()))\n",
      "/tmp/ipykernel_679608/671223229.py:1: SyntaxWarning: 'int' object is not callable; perhaps you missed a comma?\n",
      "  print(a4['Centiloid Quantile']==0(min()))\n",
      "/tmp/ipykernel_679608/671223229.py:1: SyntaxWarning: 'int' object is not callable; perhaps you missed a comma?\n",
      "  print(a4['Centiloid Quantile']==0(min()))\n"
     ]
    },
    {
     "ename": "TypeError",
     "evalue": "min expected at least 1 argument, got 0",
     "output_type": "error",
     "traceback": [
      "\u001b[0;31m---------------------------------------------------------------------------\u001b[0m",
      "\u001b[0;31mTypeError\u001b[0m                                 Traceback (most recent call last)",
      "Cell \u001b[0;32mIn[12], line 1\u001b[0m\n\u001b[0;32m----> 1\u001b[0m \u001b[39mprint\u001b[39m(a4[\u001b[39m'\u001b[39m\u001b[39mCentiloid Quantile\u001b[39m\u001b[39m'\u001b[39m]\u001b[39m==\u001b[39m\u001b[39m0\u001b[39m(\u001b[39mmin\u001b[39;49m()))\n\u001b[1;32m      2\u001b[0m \u001b[39mprint\u001b[39m(a4[\u001b[39m'\u001b[39m\u001b[39mCentiloid Quantile\u001b[39m\u001b[39m'\u001b[39m]\u001b[39m==\u001b[39m\u001b[39m0\u001b[39m(\u001b[39mmax\u001b[39m()))\n",
      "\u001b[0;31mTypeError\u001b[0m: min expected at least 1 argument, got 0"
     ]
    }
   ],
   "source": [
    "print(a4['Centiloid Quantile']==0(min()))\n",
    "print(a4['Centiloid Quantile']==0(max()))"
   ]
  }
 ],
 "metadata": {
  "kernelspec": {
   "display_name": "graph_env",
   "language": "python",
   "name": "python3"
  },
  "language_info": {
   "codemirror_mode": {
    "name": "ipython",
    "version": 3
   },
   "file_extension": ".py",
   "mimetype": "text/x-python",
   "name": "python",
   "nbconvert_exporter": "python",
   "pygments_lexer": "ipython3",
   "version": "3.10.13"
  },
  "orig_nbformat": 4
 },
 "nbformat": 4,
 "nbformat_minor": 2
}
