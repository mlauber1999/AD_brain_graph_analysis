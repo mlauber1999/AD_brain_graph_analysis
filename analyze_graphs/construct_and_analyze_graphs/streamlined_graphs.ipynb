{
 "cells": [
  {
   "cell_type": "markdown",
   "metadata": {},
   "source": [
    "# Graph Analysis   \n",
    "In this notebook we load the processed tau PET data for ADNI and A4, construct the partial correlation graphs and run the statistical analysis of graph level metrics.\n",
    "\n",
    "## Imports"
   ]
  },
  {
   "cell_type": "code",
   "execution_count": 28,
   "metadata": {
    "metadata": {}
   },
   "outputs": [],
   "source": [
    "import marimo\n",
    "import marimo as mo\n",
    "import pandas as pd\n",
    "import networkx as nx\n",
    "import multiprocessing\n",
    "import numpy as np\n",
    "import matplotlib.pyplot as plt\n",
    "import plotly.express as px\n",
    "import altair as alt\n",
    "\n",
    "from functools import partial\n",
    "\n",
    "import seaborn as sns\n",
    "\n",
    "plt.style.use(\"ggplot\")\n",
    "\n",
    "pd.set_option(\"display.max_columns\", 100)\n",
    "\n",
    "from sklearn.preprocessing import PowerTransformer\n",
    "from sklearn.covariance import GraphicalLasso\n",
    "from sklearn.pipeline import make_pipeline"
   ]
  },
  {
   "cell_type": "markdown",
   "metadata": {},
   "source": [
    "## Utility functions\n",
    "The core of the analysis goes like this:\n",
    "\n",
    "1. Load a table with the regional tau SUVr for a given cohort\n",
    "2. Estimate the precision matrix using `GraphicalLasso` from scikit-learn\n",
    "3. Compute the partial correlation matrix from the precision matrix\n",
    "4. Create a Networkx `Graph` from the partial correlation matrix and compute some graph metrics\n",
    "5. Bootstrap: resample the table, and repeat steps 1-4 to estimate the confidence interval on the graph metrics.\n",
    "\n",
    "The functions in this section roughly correspond to the steps just described."
   ]
  },
  {
   "cell_type": "code",
   "execution_count": 29,
   "metadata": {
    "metadata": {}
   },
   "outputs": [],
   "source": [
    "def small_world_coeff(G, niter=1, nrand=10):\n",
    "    \"\"\"Compute the small world coefficient of a weighted graph G. Average over `nrand` samples of the randomized graph.\"\"\"\n",
    "    Crand = 0\n",
    "    Lrand = 0\n",
    "\n",
    "    for _ in range(nrand):\n",
    "        G_rand = nx.random_reference(G, niter)\n",
    "\n",
    "        Crand += nx.average_clustering(G_rand, weight=\"correlation\")\n",
    "        Lrand += nx.average_shortest_path_length(G_rand, weight=\"distance\")\n",
    "\n",
    "    C = nx.average_clustering(G, weight=\"correlation\")\n",
    "    L = nx.average_shortest_path_length(G, weight=\"distance\")\n",
    "\n",
    "    return (C / Crand) / (L / Lrand)\n",
    "\n",
    "\n",
    "def unweighted_small_world_coeff(G, niter=1, nrand=10):\n",
    "    \"\"\"Compute the small world coefficient of a weighted graph. Average over `nrand` samples of the randomized graph.\"\"\"\n",
    "    Crand = 0\n",
    "    Lrand = 0\n",
    "\n",
    "    for _ in range(nrand):\n",
    "        G_rand = nx.random_reference(G, niter)\n",
    "\n",
    "        Crand += nx.average_clustering(G_rand)\n",
    "        Lrand += nx.average_shortest_path_length(G_rand)\n",
    "\n",
    "    C = nx.average_clustering(G)\n",
    "    L = nx.average_shortest_path_length(G)\n",
    "\n",
    "    return (C / Crand) / (L / Lrand)\n",
    "\n",
    "\n",
    "def partial_correlation(precision):\n",
    "    \"\"\"Compute the partial correlation from a given precision matrix\"\"\"\n",
    "\n",
    "    diag = precision.values.diagonal()\n",
    "\n",
    "    # The - sign is correct, but the diagonal should have 1 instead of -1,\n",
    "    # so we fill it explicitly with ones. The formula on wikipedia only applies\n",
    "    # to off-diagonal elements\n",
    "    partial_correl = -precision.copy() / np.sqrt(diag[:, None] * diag[None, :])\n",
    "\n",
    "    np.fill_diagonal(partial_correl.values, 1)\n",
    "\n",
    "    return partial_correl\n",
    "\n",
    "\n",
    "def pcorr_to_distance(pcorr):\n",
    "    \"\"\"Compute the distance matrix associated to a given partial correlation\n",
    "    matrix: disconnected nodes should stay disconnected, nodes with high\n",
    "    correlation should be close to each other. We also drop connections associated with negative weights\n",
    "    \"\"\"\n",
    "\n",
    "    # return (1 / np.abs(pcorr) - 1).replace({np.inf: 0, -np.inf: 0})\n",
    "\n",
    "    # return (pcorr != 0) * (1 - np.abs(pcorr)) # same as Dyrba 2020, but removing connections set to 0 by lasso\n",
    "\n",
    "    # As explained in the main text, we use arctanh to convert partial correlations into distances\n",
    "    if pcorr <= 0:\n",
    "        return 0\n",
    "    else:\n",
    "        return -np.arctanh(np.abs(pcorr) - 1)\n",
    "\n",
    "    # return 1 - np.abs(pcorr) # this is what Dyrba 2020 uses, it makes fully connected graphs\n",
    "\n",
    "    # return -np.log(np.abs(pcorr)).replace({np.inf: 0, -np.inf: 0, np.nan:0})\n",
    "\n",
    "\n",
    "def compute_precision(data, params, return_covariance=False):\n",
    "    \"\"\"Takes a dataframe and computes the precision matrix via sklearn.covariance.GraphicalLasso. The data is first transformed via PowerTransformer to ensure normality.\n",
    "\n",
    "    Arguments:\n",
    "    data: dataframe\n",
    "    params: dictionary of paramters passed to GraphicaLasso.\n",
    "    return_covariance: if True, also return the covariance matrix. By default only return precision\n",
    "    \"\"\"\n",
    "\n",
    "    glasso = make_pipeline(PowerTransformer(), GraphicalLasso(**params))\n",
    "\n",
    "    glasso.fit(data)\n",
    "\n",
    "    if return_covariance:\n",
    "        labels = glasso.feature_names_in_\n",
    "        return (\n",
    "            pd.DataFrame(\n",
    "                glasso.named_steps[\"graphicallasso\"].precision_,\n",
    "                index=labels,\n",
    "                columns=labels,\n",
    "            ),\n",
    "            pd.DataFrame(\n",
    "                glasso.named_steps[\"graphicallasso\"].covariance_,\n",
    "                index=labels,\n",
    "                columns=labels,\n",
    "            ),\n",
    "        )\n",
    "    else:\n",
    "        # GraphicalLasso does not support working natively with dataframes\n",
    "        # we have to restore the column names by hand\n",
    "        labels = glasso.feature_names_in_\n",
    "        return pd.DataFrame(\n",
    "            glasso.named_steps[\"graphicallasso\"].precision_,\n",
    "            index=labels,\n",
    "            columns=labels,\n",
    "        )\n",
    "\n",
    "\n",
    "def compute_partial_correlation(data, params):\n",
    "    \"\"\"Convenience function to compute the partial correlation matrix from data\"\"\"\n",
    "\n",
    "    return partial_correlation(compute_precision(data, params))\n",
    "\n",
    "\n",
    "def precision_to_graph(precision):\n",
    "    \"\"\"Convert the provided precision matrix into a networkx graph.\n",
    "\n",
    "    Arguments:\n",
    "    precision: dataframe, column names will become node labels\n",
    "    allow_self_connections: bool, if False zero out the diagonal\"\"\"\n",
    "\n",
    "    # Adjacency matrix\n",
    "    adj = partial_correlation(precision)\n",
    "\n",
    "    graph = nx.from_pandas_adjacency(adj)\n",
    "\n",
    "    # we only included age to control for it, we remove it from the graph before computing graph metrics\n",
    "    graph.remove_node(\"PTAGE\")\n",
    "\n",
    "    # remove self loops\n",
    "    graph.remove_edges_from([(u, v) for u, v in graph.edges() if u == v])\n",
    "\n",
    "    # rename weight to correlation\n",
    "    nx.set_edge_attributes(\n",
    "        graph,\n",
    "        {\n",
    "            (u, v): {\"correlation\": d[\"weight\"]}\n",
    "            for u, v, d in graph.edges(data=True)\n",
    "        },\n",
    "    )\n",
    "\n",
    "    # convenience: absolute value of correlation\n",
    "    nx.set_edge_attributes(\n",
    "        graph,\n",
    "        {\n",
    "            (u, v): {\"abs(correlation)\": np.abs(d[\"weight\"])}\n",
    "            for u, v, d in graph.edges(data=True)\n",
    "        },\n",
    "    )\n",
    "\n",
    "    # compute distances from partial correlations\n",
    "    nx.set_edge_attributes(\n",
    "        graph,\n",
    "        name=\"distance\",\n",
    "        values={\n",
    "            (u, v): pcorr_to_distance(weight)\n",
    "            for u, v, weight in graph.edges(data=\"weight\")\n",
    "        },\n",
    "    )\n",
    "\n",
    "    return graph\n",
    "\n",
    "\n",
    "def compute_metrics(graph, metrics):\n",
    "    \"\"\"Compute graph metrics for a networks graph.\n",
    "\n",
    "    Arguments:\n",
    "    graph: networkx graph\n",
    "    metrics: dictionary of metric names and callables\n",
    "\n",
    "    Returns:\n",
    "    res: dictionary of metric names and metric values\"\"\"\n",
    "\n",
    "    return {metric: metrics[metric](graph) for metric in metrics}\n",
    "\n",
    "\n",
    "def data_to_metrics(data, params, metrics, randomize_graph=False):\n",
    "    # Convenience function, wrapping all steps into one\n",
    "    precision = compute_precision(data, params=params)\n",
    "\n",
    "    if randomize_graph:\n",
    "        graph = nx.random_reference(precision_to_graph(precision))\n",
    "    else:\n",
    "        graph = precision_to_graph(precision)\n",
    "\n",
    "    return compute_metrics(graph, metrics)\n",
    "\n",
    "\n",
    "def boostrap_graph_metrics(\n",
    "    data, params, metrics, n_samples=8, randomize_graph=False\n",
    "):\n",
    "    \"\"\"Resample the datframe data, generate graph and compute metrics. Returns a dataframe with the bootstrapped metrics\"\"\"\n",
    "\n",
    "    bootstrap_samples = [\n",
    "        data.sample(frac=1, replace=True) for _ in range(n_samples)\n",
    "    ]\n",
    "\n",
    "    with multiprocessing.Pool() as pool:\n",
    "        res = pool.map(\n",
    "            partial(\n",
    "                data_to_metrics,\n",
    "                params=params,\n",
    "                metrics=metrics,\n",
    "                randomize_graph=randomize_graph,\n",
    "            ),\n",
    "            bootstrap_samples,\n",
    "        )\n",
    "\n",
    "    return pd.DataFrame(res)\n",
    "\n",
    "\n",
    "def bootstrap(data, func, n_samples=8):\n",
    "    # Resample from data and apply fun to each sample\n",
    "    # use this version for general functions rather than graph metrics\n",
    "\n",
    "    bootstrap_samples = [\n",
    "        data.sample(frac=1, replace=True) for _ in range(n_samples)\n",
    "    ]\n",
    "\n",
    "    with multiprocessing.Pool() as pool:\n",
    "        res = pool.map(func, bootstrap_samples)\n",
    "\n",
    "    return res"
   ]
  },
  {
   "cell_type": "code",
   "execution_count": 30,
   "metadata": {
    "metadata": {}
   },
   "outputs": [],
   "source": [
    "adni = pd.read_csv(\n",
    "        \"../../data_paths_and_cleaning/data/intermediate_data/adni/merged_adni_at_amy_pos_bi_harm.csv\",\n",
    "        dtype={\"RID\": str},\n",
    "    )\n",
    "\n",
    "# Normalize the adni values by cerebellum cortex values for better comparison to A4\n",
    "adni = pd.concat(\n",
    "        (\n",
    "            adni[[\"RID\", \"CENTILOIDS\"]],\n",
    "            adni.drop(columns=[\"RID\", \"CENTILOIDS\"]).div(\n",
    "                adni[\"CEREBELLUM_CORTEX\"], axis=0\n",
    "            ),\n",
    "        ),\n",
    "        axis=1,\n",
    "    ).drop(columns=\"CEREBELLUM_CORTEX\")\n",
    "\n",
    "a4 = pd.read_csv(\n",
    "        \"../../data_paths_and_cleaning/data/intermediate_data/a4/merged_a4_at_amy_pos_bi_harm.csv\",\n",
    "        dtype={\"RID\": str},\n",
    "    ).drop(columns=\"CEREBELLUM_CORTEX\")\n",
    "\n",
    "# The demographics data is in a separate file from the regional tau, we will merge them later\n",
    "\n",
    "demo_a4 = pd.read_csv(\n",
    "        \"../../data_paths_and_cleaning/data/demographic_csvs/A4/a4_filtered_demo.csv\",\n",
    "        dtype={\"RID\": str},\n",
    "    )\n",
    "\n",
    "demo_adni = pd.read_csv(\n",
    "        \"../../data_paths_and_cleaning/data/demographic_csvs/ADNI/adni_filtered_demo.csv\",\n",
    "        dtype={\"RID\": str},\n",
    "    )\n",
    "\n",
    "demog = pd.concat([demo_adni, demo_a4], keys=[\"ADNI\", \"A4\"]).reset_index(\n",
    "        level=0, names=\"Dataset\"\n",
    "    )\n",
    "\n",
    "\n",
    "adni_with_demo = pd.merge(adni, demo_adni[[\"RID\", \"PTAGE\"]], on=\"RID\")\n",
    "a4_with_demo = pd.merge(a4, demo_a4[[\"RID\", \"PTAGE\"]], on=\"RID\")\n",
    "\n",
    "# For the next examples, we use the \"high amyloid\" group from ADNI\n",
    "data = adni_with_demo[adni_with_demo[\"CENTILOIDS\"] > 54].drop(\n",
    "        columns=[\"RID\", \"CENTILOIDS\"]\n",
    "    )"
   ]
  },
  {
   "cell_type": "markdown",
   "metadata": {},
   "source": [
    "## Example: estimate the partial correlation graph for one group"
   ]
  },
  {
   "cell_type": "code",
   "execution_count": 31,
   "metadata": {
    "metadata": {}
   },
   "outputs": [
    {
     "data": {
      "application/vnd.plotly.v1+json": {
       "config": {
        "plotlyServerURL": "https://plot.ly"
       },
       "data": [
        {
         "coloraxis": "coloraxis",
         "hovertemplate": "x: %{x}<br>y: %{y}<br>color: %{z}<extra></extra>",
         "name": "0",
         "texttemplate": "%{z}",
         "type": "heatmap",
         "x": [
          "LATERALOCCIPITAL",
          "PARSOPERCULARIS",
          "LATERALORBITOFRONTAL",
          "PUTAMEN",
          "PARSORBITALIS",
          "ISTHMUSCINGULATE",
          "AMYGDALA",
          "INFERIORTEMPORAL",
          "ENTORHINAL",
          "PRECUNEUS",
          "POSTCENTRAL",
          "TRANSVERSETEMPORAL",
          "SUPERIORTEMPORAL",
          "PALLIDUM",
          "MIDDLETEMPORAL",
          "LINGUAL",
          "PARACENTRAL",
          "CUNEUS",
          "MEDIALORBITOFRONTAL",
          "SUPERIORPARIETAL",
          "HIPPOCAMPUS",
          "PERICALCARINE",
          "PARAHIPPOCAMPAL",
          "THALAMUS",
          "FUSIFORM",
          "INFERIORPARIETAL",
          "INSULA",
          "ROSTRALANTERIORCINGULATE",
          "ROSTRALMIDDLEFRONTAL",
          "ACCUMBENS_AREA",
          "CAUDATE",
          "BANKSSTS",
          "POSTERIORCINGULATE",
          "SUPERIORFRONTAL",
          "CAUDALMIDDLEFRONTAL",
          "PRECENTRAL",
          "CAUDALANTERIORCINGULATE",
          "FRONTALPOLE",
          "SUPRAMARGINAL",
          "PARSTRIANGULARIS",
          "TEMPORALPOLE",
          "VENTRALDC",
          "PTAGE"
         ],
         "xaxis": "x",
         "y": [
          "LATERALOCCIPITAL",
          "PARSOPERCULARIS",
          "LATERALORBITOFRONTAL",
          "PUTAMEN",
          "PARSORBITALIS",
          "ISTHMUSCINGULATE",
          "AMYGDALA",
          "INFERIORTEMPORAL",
          "ENTORHINAL",
          "PRECUNEUS",
          "POSTCENTRAL",
          "TRANSVERSETEMPORAL",
          "SUPERIORTEMPORAL",
          "PALLIDUM",
          "MIDDLETEMPORAL",
          "LINGUAL",
          "PARACENTRAL",
          "CUNEUS",
          "MEDIALORBITOFRONTAL",
          "SUPERIORPARIETAL",
          "HIPPOCAMPUS",
          "PERICALCARINE",
          "PARAHIPPOCAMPAL",
          "THALAMUS",
          "FUSIFORM",
          "INFERIORPARIETAL",
          "INSULA",
          "ROSTRALANTERIORCINGULATE",
          "ROSTRALMIDDLEFRONTAL",
          "ACCUMBENS_AREA",
          "CAUDATE",
          "BANKSSTS",
          "POSTERIORCINGULATE",
          "SUPERIORFRONTAL",
          "CAUDALMIDDLEFRONTAL",
          "PRECENTRAL",
          "CAUDALANTERIORCINGULATE",
          "FRONTALPOLE",
          "SUPRAMARGINAL",
          "PARSTRIANGULARIS",
          "TEMPORALPOLE",
          "VENTRALDC",
          "PTAGE"
         ],
         "yaxis": "y",
         "z": [
          [
           null,
           null,
           null,
           null,
           null,
           null,
           null,
           null,
           null,
           null,
           null,
           null,
           null,
           null,
           null,
           null,
           null,
           null,
           null,
           null,
           null,
           null,
           null,
           null,
           null,
           null,
           null,
           null,
           null,
           null,
           null,
           null,
           null,
           null,
           null,
           null,
           null,
           null,
           null,
           null,
           null,
           null,
           null
          ],
          [
           0,
           null,
           null,
           null,
           null,
           null,
           null,
           null,
           null,
           null,
           null,
           null,
           null,
           null,
           null,
           null,
           null,
           null,
           null,
           null,
           null,
           null,
           null,
           null,
           null,
           null,
           null,
           null,
           null,
           null,
           null,
           null,
           null,
           null,
           null,
           null,
           null,
           null,
           null,
           null,
           null,
           null,
           null
          ],
          [
           0,
           0.07,
           null,
           null,
           null,
           null,
           null,
           null,
           null,
           null,
           null,
           null,
           null,
           null,
           null,
           null,
           null,
           null,
           null,
           null,
           null,
           null,
           null,
           null,
           null,
           null,
           null,
           null,
           null,
           null,
           null,
           null,
           null,
           null,
           null,
           null,
           null,
           null,
           null,
           null,
           null,
           null,
           null
          ],
          [
           0,
           0,
           0.04,
           null,
           null,
           null,
           null,
           null,
           null,
           null,
           null,
           null,
           null,
           null,
           null,
           null,
           null,
           null,
           null,
           null,
           null,
           null,
           null,
           null,
           null,
           null,
           null,
           null,
           null,
           null,
           null,
           null,
           null,
           null,
           null,
           null,
           null,
           null,
           null,
           null,
           null,
           null,
           null
          ],
          [
           0,
           0.04,
           0.21,
           0,
           null,
           null,
           null,
           null,
           null,
           null,
           null,
           null,
           null,
           null,
           null,
           null,
           null,
           null,
           null,
           null,
           null,
           null,
           null,
           null,
           null,
           null,
           null,
           null,
           null,
           null,
           null,
           null,
           null,
           null,
           null,
           null,
           null,
           null,
           null,
           null,
           null,
           null,
           null
          ],
          [
           0,
           0,
           0.04,
           0,
           0,
           null,
           null,
           null,
           null,
           null,
           null,
           null,
           null,
           null,
           null,
           null,
           null,
           null,
           null,
           null,
           null,
           null,
           null,
           null,
           null,
           null,
           null,
           null,
           null,
           null,
           null,
           null,
           null,
           null,
           null,
           null,
           null,
           null,
           null,
           null,
           null,
           null,
           null
          ],
          [
           0,
           0,
           0,
           0,
           0,
           0.01,
           null,
           null,
           null,
           null,
           null,
           null,
           null,
           null,
           null,
           null,
           null,
           null,
           null,
           null,
           null,
           null,
           null,
           null,
           null,
           null,
           null,
           null,
           null,
           null,
           null,
           null,
           null,
           null,
           null,
           null,
           null,
           null,
           null,
           null,
           null,
           null,
           null
          ],
          [
           0,
           0,
           0.02,
           0,
           0,
           0,
           0.03,
           null,
           null,
           null,
           null,
           null,
           null,
           null,
           null,
           null,
           null,
           null,
           null,
           null,
           null,
           null,
           null,
           null,
           null,
           null,
           null,
           null,
           null,
           null,
           null,
           null,
           null,
           null,
           null,
           null,
           null,
           null,
           null,
           null,
           null,
           null,
           null
          ],
          [
           0,
           0,
           0,
           0,
           0,
           0,
           0.34,
           0.03,
           null,
           null,
           null,
           null,
           null,
           null,
           null,
           null,
           null,
           null,
           null,
           null,
           null,
           null,
           null,
           null,
           null,
           null,
           null,
           null,
           null,
           null,
           null,
           null,
           null,
           null,
           null,
           null,
           null,
           null,
           null,
           null,
           null,
           null,
           null
          ],
          [
           0,
           0.01,
           0.01,
           0,
           0,
           0.25,
           0,
           0,
           0,
           null,
           null,
           null,
           null,
           null,
           null,
           null,
           null,
           null,
           null,
           null,
           null,
           null,
           null,
           null,
           null,
           null,
           null,
           null,
           null,
           null,
           null,
           null,
           null,
           null,
           null,
           null,
           null,
           null,
           null,
           null,
           null,
           null,
           null
          ],
          [
           0,
           0,
           0,
           0,
           0,
           0,
           0,
           0,
           0,
           0,
           null,
           null,
           null,
           null,
           null,
           null,
           null,
           null,
           null,
           null,
           null,
           null,
           null,
           null,
           null,
           null,
           null,
           null,
           null,
           null,
           null,
           null,
           null,
           null,
           null,
           null,
           null,
           null,
           null,
           null,
           null,
           null,
           null
          ],
          [
           0,
           0,
           0,
           0,
           0,
           0,
           0,
           0,
           0,
           0,
           0,
           null,
           null,
           null,
           null,
           null,
           null,
           null,
           null,
           null,
           null,
           null,
           null,
           null,
           null,
           null,
           null,
           null,
           null,
           null,
           null,
           null,
           null,
           null,
           null,
           null,
           null,
           null,
           null,
           null,
           null,
           null,
           null
          ],
          [
           0,
           0.08,
           0.01,
           0,
           0,
           0,
           0,
           0.07,
           0,
           0,
           0,
           0,
           null,
           null,
           null,
           null,
           null,
           null,
           null,
           null,
           null,
           null,
           null,
           null,
           null,
           null,
           null,
           null,
           null,
           null,
           null,
           null,
           null,
           null,
           null,
           null,
           null,
           null,
           null,
           null,
           null,
           null,
           null
          ],
          [
           0,
           0,
           0,
           0.18,
           0,
           0,
           0,
           0,
           0,
           0,
           0,
           0,
           0,
           null,
           null,
           null,
           null,
           null,
           null,
           null,
           null,
           null,
           null,
           null,
           null,
           null,
           null,
           null,
           null,
           null,
           null,
           null,
           null,
           null,
           null,
           null,
           null,
           null,
           null,
           null,
           null,
           null,
           null
          ],
          [
           0,
           0,
           0.04,
           0,
           0,
           0.04,
           0,
           0.35,
           0,
           0,
           0,
           0,
           0.19,
           0,
           null,
           null,
           null,
           null,
           null,
           null,
           null,
           null,
           null,
           null,
           null,
           null,
           null,
           null,
           null,
           null,
           null,
           null,
           null,
           null,
           null,
           null,
           null,
           null,
           null,
           null,
           null,
           null,
           null
          ],
          [
           0.23,
           0,
           0,
           0,
           0,
           0.01,
           0,
           0,
           0,
           0.02,
           0,
           0.06,
           0,
           0,
           0,
           null,
           null,
           null,
           null,
           null,
           null,
           null,
           null,
           null,
           null,
           null,
           null,
           null,
           null,
           null,
           null,
           null,
           null,
           null,
           null,
           null,
           null,
           null,
           null,
           null,
           null,
           null,
           null
          ],
          [
           0,
           0,
           0,
           0,
           0,
           0,
           0,
           0,
           0,
           0,
           0.25,
           0,
           0,
           0,
           0,
           0.02,
           null,
           null,
           null,
           null,
           null,
           null,
           null,
           null,
           null,
           null,
           null,
           null,
           null,
           null,
           null,
           null,
           null,
           null,
           null,
           null,
           null,
           null,
           null,
           null,
           null,
           null,
           null
          ],
          [
           0.13,
           0,
           0,
           0,
           0,
           0,
           0,
           0,
           0,
           0,
           0.01,
           0.1,
           0,
           0,
           0,
           0.36,
           0.04,
           null,
           null,
           null,
           null,
           null,
           null,
           null,
           null,
           null,
           null,
           null,
           null,
           null,
           null,
           null,
           null,
           null,
           null,
           null,
           null,
           null,
           null,
           null,
           null,
           null,
           null
          ],
          [
           0,
           0,
           0.28,
           0.01,
           0.04,
           0,
           0,
           0,
           0,
           0,
           0,
           0,
           0.04,
           0,
           0,
           0,
           0,
           0,
           null,
           null,
           null,
           null,
           null,
           null,
           null,
           null,
           null,
           null,
           null,
           null,
           null,
           null,
           null,
           null,
           null,
           null,
           null,
           null,
           null,
           null,
           null,
           null,
           null
          ],
          [
           0.29,
           0,
           0,
           0,
           0,
           0,
           0,
           0,
           0,
           0.11,
           0.14,
           0,
           0,
           0,
           0,
           0.04,
           0,
           0.03,
           0,
           null,
           null,
           null,
           null,
           null,
           null,
           null,
           null,
           null,
           null,
           null,
           null,
           null,
           null,
           null,
           null,
           null,
           null,
           null,
           null,
           null,
           null,
           null,
           null
          ],
          [
           0,
           0,
           0,
           0,
           0,
           0.02,
           0.3,
           0,
           0.17,
           0,
           0,
           0,
           0,
           0,
           0,
           0,
           0,
           0,
           0,
           0,
           null,
           null,
           null,
           null,
           null,
           null,
           null,
           null,
           null,
           null,
           null,
           null,
           null,
           null,
           null,
           null,
           null,
           null,
           null,
           null,
           null,
           null,
           null
          ],
          [
           0,
           0,
           0,
           0,
           0,
           0,
           0,
           0,
           0,
           0,
           0,
           0.19,
           0,
           0,
           0,
           0.04,
           0.04,
           0.36,
           0,
           0,
           0,
           null,
           null,
           null,
           null,
           null,
           null,
           null,
           null,
           null,
           null,
           null,
           null,
           null,
           null,
           null,
           null,
           null,
           null,
           null,
           null,
           null,
           null
          ],
          [
           0,
           0,
           0,
           0,
           0,
           0.07,
           0.01,
           0.15,
           0.29,
           0,
           0,
           0,
           0,
           0,
           0.02,
           0,
           0,
           0,
           0.01,
           0,
           0,
           0,
           null,
           null,
           null,
           null,
           null,
           null,
           null,
           null,
           null,
           null,
           null,
           null,
           null,
           null,
           null,
           null,
           null,
           null,
           null,
           null,
           null
          ],
          [
           0,
           0,
           0,
           0.04,
           0,
           0,
           0,
           0,
           0,
           0,
           0,
           0,
           0,
           0,
           0,
           0,
           0.11,
           0,
           0,
           0,
           0.14,
           0,
           0,
           null,
           null,
           null,
           null,
           null,
           null,
           null,
           null,
           null,
           null,
           null,
           null,
           null,
           null,
           null,
           null,
           null,
           null,
           null,
           null
          ],
          [
           0.2,
           0,
           0,
           0,
           0,
           0.04,
           0.01,
           0.21,
           0.03,
           0,
           0,
           0,
           0.08,
           0,
           0.05,
           0.11,
           0,
           0,
           0,
           0.06,
           0,
           0,
           0.14,
           0,
           null,
           null,
           null,
           null,
           null,
           null,
           null,
           null,
           null,
           null,
           null,
           null,
           null,
           null,
           null,
           null,
           null,
           null,
           null
          ],
          [
           0.07,
           0,
           0,
           0,
           0,
           0.07,
           0,
           0.07,
           0,
           0.13,
           0,
           0,
           0,
           -0.02,
           0.16,
           0,
           0,
           0,
           0,
           0.13,
           0,
           0,
           0,
           0,
           0.07,
           null,
           null,
           null,
           null,
           null,
           null,
           null,
           null,
           null,
           null,
           null,
           null,
           null,
           null,
           null,
           null,
           null,
           null
          ],
          [
           0,
           0.04,
           0.11,
           0.01,
           0,
           0,
           0.07,
           0.03,
           0.01,
           0,
           0,
           0,
           0.08,
           0,
           0.02,
           0,
           0,
           0,
           0.13,
           0,
           0.08,
           0,
           0.15,
           0.03,
           0,
           0,
           null,
           null,
           null,
           null,
           null,
           null,
           null,
           null,
           null,
           null,
           null,
           null,
           null,
           null,
           null,
           null,
           null
          ],
          [
           0,
           0,
           0,
           0,
           0,
           0,
           0,
           0,
           0,
           0,
           0,
           0,
           0,
           0,
           0,
           0,
           0,
           0,
           0.26,
           0,
           0.02,
           0,
           0,
           0.01,
           0,
           0,
           0.19,
           null,
           null,
           null,
           null,
           null,
           null,
           null,
           null,
           null,
           null,
           null,
           null,
           null,
           null,
           null,
           null
          ],
          [
           0,
           0.12,
           0.13,
           0,
           0.06,
           0,
           0,
           0,
           0,
           0.07,
           0,
           0,
           0,
           0,
           0,
           0,
           0,
           0,
           0,
           0,
           0,
           0,
           0,
           0,
           0,
           0,
           0,
           0,
           null,
           null,
           null,
           null,
           null,
           null,
           null,
           null,
           null,
           null,
           null,
           null,
           null,
           null,
           null
          ],
          [
           0,
           0,
           0,
           0.14,
           0,
           0,
           0.01,
           0,
           0,
           0,
           0,
           0,
           0,
           0.04,
           0,
           0,
           0,
           0,
           0,
           0,
           0.09,
           0,
           0,
           0.05,
           0,
           0,
           0.01,
           0.08,
           0,
           null,
           null,
           null,
           null,
           null,
           null,
           null,
           null,
           null,
           null,
           null,
           null,
           null,
           null
          ],
          [
           0,
           0,
           0,
           0.45,
           0,
           0,
           0,
           0,
           0,
           0,
           0,
           0,
           0,
           0.15,
           0,
           0,
           0,
           0,
           0,
           0,
           0,
           0,
           0,
           0,
           0,
           0,
           0,
           0.09,
           0,
           0.03,
           null,
           null,
           null,
           null,
           null,
           null,
           null,
           null,
           null,
           null,
           null,
           null,
           null
          ],
          [
           0,
           0.03,
           0,
           0,
           0,
           0.04,
           0,
           0,
           0,
           0.13,
           0,
           0,
           0.21,
           0,
           0.05,
           0.03,
           0,
           0,
           0,
           0,
           0,
           0,
           0,
           0,
           0.04,
           0.19,
           0,
           0,
           0,
           0,
           0,
           null,
           null,
           null,
           null,
           null,
           null,
           null,
           null,
           null,
           null,
           null,
           null
          ],
          [
           0,
           0,
           0.03,
           0,
           0,
           0.23,
           0,
           0,
           0,
           0.24,
           0,
           0,
           0,
           -0.02,
           0.06,
           0,
           0,
           0,
           0.02,
           0,
           0,
           0,
           0,
           0,
           0,
           0.05,
           0.01,
           0,
           0.07,
           0,
           0,
           0,
           null,
           null,
           null,
           null,
           null,
           null,
           null,
           null,
           null,
           null,
           null
          ],
          [
           0,
           0.12,
           0.06,
           0,
           0.01,
           0,
           0,
           0,
           0,
           0.01,
           0.05,
           0,
           0,
           0,
           0,
           0,
           0,
           0,
           0.06,
           0,
           0,
           0,
           0,
           0.03,
           0,
           0,
           0.04,
           0,
           0.18,
           0,
           0,
           0,
           0.06,
           null,
           null,
           null,
           null,
           null,
           null,
           null,
           null,
           null,
           null
          ],
          [
           0,
           0.16,
           0,
           0,
           0,
           0.06,
           0,
           0,
           0,
           0.09,
           0,
           0,
           0,
           0,
           0.01,
           0,
           0,
           0,
           0,
           0.06,
           0,
           0,
           0,
           0,
           0,
           0.03,
           0,
           0,
           0.06,
           0,
           0,
           0,
           0.06,
           0.18,
           null,
           null,
           null,
           null,
           null,
           null,
           null,
           null,
           null
          ],
          [
           0,
           0.06,
           0,
           0,
           0,
           0,
           0,
           0,
           0,
           0,
           0.4,
           0,
           0,
           0,
           0,
           0.02,
           0.17,
           0,
           0,
           0.04,
           0,
           0,
           0,
           0,
           0,
           0,
           0,
           0,
           0,
           0,
           0,
           0,
           0,
           0.16,
           0.12,
           null,
           null,
           null,
           null,
           null,
           null,
           null,
           null
          ],
          [
           0,
           0,
           0,
           0,
           0,
           0,
           0,
           0,
           0,
           0,
           0.02,
           0,
           0,
           0,
           0,
           0,
           0.04,
           0,
           0.11,
           0,
           0,
           0,
           0,
           0,
           0,
           0,
           0.09,
           0.2,
           0,
           0,
           0,
           0,
           0.02,
           0.05,
           0,
           0,
           null,
           null,
           null,
           null,
           null,
           null,
           null
          ],
          [
           0,
           0,
           0,
           0,
           0.12,
           0,
           0,
           0,
           0,
           0,
           0,
           0,
           0,
           0,
           0,
           0,
           0,
           0,
           0.1,
           0,
           0,
           0,
           0,
           0,
           0,
           0,
           0,
           0,
           0.18,
           0,
           0,
           0,
           0,
           0.09,
           0,
           0,
           0.12,
           null,
           null,
           null,
           null,
           null,
           null
          ],
          [
           0,
           0.09,
           0,
           0,
           0,
           0,
           0,
           0.09,
           0,
           0.04,
           0.04,
           0,
           0.05,
           0,
           0.08,
           0,
           0,
           0,
           0,
           0.13,
           0,
           0,
           0,
           0,
           0,
           0.16,
           0,
           0,
           0.05,
           0,
           0,
           0.1,
           0.08,
           0,
           0.15,
           0.01,
           0,
           0,
           null,
           null,
           null,
           null,
           null
          ],
          [
           0,
           0.22,
           0.05,
           0,
           0.31,
           0,
           0,
           0,
           0,
           0,
           0.03,
           0,
           0.07,
           0,
           0,
           0,
           0,
           0,
           0.02,
           0,
           0,
           0,
           0,
           0,
           0,
           0,
           0,
           0,
           0.2,
           0,
           0,
           0,
           0,
           0.04,
           0,
           0.04,
           0,
           0,
           0,
           null,
           null,
           null,
           null
          ],
          [
           0,
           0,
           0,
           0.05,
           0,
           0,
           0.11,
           0.04,
           0.18,
           0,
           0,
           0,
           0.1,
           0,
           0.02,
           0,
           0,
           0,
           0.11,
           0,
           0,
           0,
           0.12,
           0,
           0,
           0,
           0.11,
           0,
           0,
           0.14,
           0,
           0,
           0,
           0,
           0,
           0,
           0,
           0,
           0,
           0,
           null,
           null,
           null
          ],
          [
           0,
           0,
           0,
           0,
           0,
           0,
           0,
           0,
           0,
           0,
           0,
           0,
           0,
           0.38,
           0,
           0,
           0,
           0,
           0,
           0,
           0,
           0,
           0,
           0.37,
           0,
           0,
           0,
           0.01,
           0,
           0.13,
           0.06,
           0,
           0,
           0,
           0,
           0,
           0,
           0.03,
           0,
           0,
           0,
           null,
           null
          ],
          [
           0,
           0,
           0,
           0.14,
           0,
           -0.04,
           0,
           0,
           0,
           0,
           0,
           0,
           0,
           0,
           0,
           0,
           0,
           0,
           0,
           0,
           0,
           0,
           0,
           -0.01,
           0,
           -0.02,
           0,
           0,
           -0.04,
           0.04,
           0,
           -0.02,
           -0.02,
           0,
           0,
           0,
           0,
           0,
           0,
           0,
           0.01,
           0,
           null
          ]
         ]
        }
       ],
       "layout": {
        "coloraxis": {
         "cmid": 0,
         "colorscale": [
          [
           0,
           "rgb(142,1,82)"
          ],
          [
           0.1,
           "rgb(197,27,125)"
          ],
          [
           0.2,
           "rgb(222,119,174)"
          ],
          [
           0.3,
           "rgb(241,182,218)"
          ],
          [
           0.4,
           "rgb(253,224,239)"
          ],
          [
           0.5,
           "rgb(247,247,247)"
          ],
          [
           0.6,
           "rgb(230,245,208)"
          ],
          [
           0.7,
           "rgb(184,225,134)"
          ],
          [
           0.8,
           "rgb(127,188,65)"
          ],
          [
           0.9,
           "rgb(77,146,33)"
          ],
          [
           1,
           "rgb(39,100,25)"
          ]
         ]
        },
        "height": 1000,
        "plot_bgcolor": "white",
        "template": {
         "data": {
          "bar": [
           {
            "error_x": {
             "color": "#2a3f5f"
            },
            "error_y": {
             "color": "#2a3f5f"
            },
            "marker": {
             "line": {
              "color": "#E5ECF6",
              "width": 0.5
             },
             "pattern": {
              "fillmode": "overlay",
              "size": 10,
              "solidity": 0.2
             }
            },
            "type": "bar"
           }
          ],
          "barpolar": [
           {
            "marker": {
             "line": {
              "color": "#E5ECF6",
              "width": 0.5
             },
             "pattern": {
              "fillmode": "overlay",
              "size": 10,
              "solidity": 0.2
             }
            },
            "type": "barpolar"
           }
          ],
          "carpet": [
           {
            "aaxis": {
             "endlinecolor": "#2a3f5f",
             "gridcolor": "white",
             "linecolor": "white",
             "minorgridcolor": "white",
             "startlinecolor": "#2a3f5f"
            },
            "baxis": {
             "endlinecolor": "#2a3f5f",
             "gridcolor": "white",
             "linecolor": "white",
             "minorgridcolor": "white",
             "startlinecolor": "#2a3f5f"
            },
            "type": "carpet"
           }
          ],
          "choropleth": [
           {
            "colorbar": {
             "outlinewidth": 0,
             "ticks": ""
            },
            "type": "choropleth"
           }
          ],
          "contour": [
           {
            "colorbar": {
             "outlinewidth": 0,
             "ticks": ""
            },
            "colorscale": [
             [
              0,
              "#0d0887"
             ],
             [
              0.1111111111111111,
              "#46039f"
             ],
             [
              0.2222222222222222,
              "#7201a8"
             ],
             [
              0.3333333333333333,
              "#9c179e"
             ],
             [
              0.4444444444444444,
              "#bd3786"
             ],
             [
              0.5555555555555556,
              "#d8576b"
             ],
             [
              0.6666666666666666,
              "#ed7953"
             ],
             [
              0.7777777777777778,
              "#fb9f3a"
             ],
             [
              0.8888888888888888,
              "#fdca26"
             ],
             [
              1,
              "#f0f921"
             ]
            ],
            "type": "contour"
           }
          ],
          "contourcarpet": [
           {
            "colorbar": {
             "outlinewidth": 0,
             "ticks": ""
            },
            "type": "contourcarpet"
           }
          ],
          "heatmap": [
           {
            "colorbar": {
             "outlinewidth": 0,
             "ticks": ""
            },
            "colorscale": [
             [
              0,
              "#0d0887"
             ],
             [
              0.1111111111111111,
              "#46039f"
             ],
             [
              0.2222222222222222,
              "#7201a8"
             ],
             [
              0.3333333333333333,
              "#9c179e"
             ],
             [
              0.4444444444444444,
              "#bd3786"
             ],
             [
              0.5555555555555556,
              "#d8576b"
             ],
             [
              0.6666666666666666,
              "#ed7953"
             ],
             [
              0.7777777777777778,
              "#fb9f3a"
             ],
             [
              0.8888888888888888,
              "#fdca26"
             ],
             [
              1,
              "#f0f921"
             ]
            ],
            "type": "heatmap"
           }
          ],
          "heatmapgl": [
           {
            "colorbar": {
             "outlinewidth": 0,
             "ticks": ""
            },
            "colorscale": [
             [
              0,
              "#0d0887"
             ],
             [
              0.1111111111111111,
              "#46039f"
             ],
             [
              0.2222222222222222,
              "#7201a8"
             ],
             [
              0.3333333333333333,
              "#9c179e"
             ],
             [
              0.4444444444444444,
              "#bd3786"
             ],
             [
              0.5555555555555556,
              "#d8576b"
             ],
             [
              0.6666666666666666,
              "#ed7953"
             ],
             [
              0.7777777777777778,
              "#fb9f3a"
             ],
             [
              0.8888888888888888,
              "#fdca26"
             ],
             [
              1,
              "#f0f921"
             ]
            ],
            "type": "heatmapgl"
           }
          ],
          "histogram": [
           {
            "marker": {
             "pattern": {
              "fillmode": "overlay",
              "size": 10,
              "solidity": 0.2
             }
            },
            "type": "histogram"
           }
          ],
          "histogram2d": [
           {
            "colorbar": {
             "outlinewidth": 0,
             "ticks": ""
            },
            "colorscale": [
             [
              0,
              "#0d0887"
             ],
             [
              0.1111111111111111,
              "#46039f"
             ],
             [
              0.2222222222222222,
              "#7201a8"
             ],
             [
              0.3333333333333333,
              "#9c179e"
             ],
             [
              0.4444444444444444,
              "#bd3786"
             ],
             [
              0.5555555555555556,
              "#d8576b"
             ],
             [
              0.6666666666666666,
              "#ed7953"
             ],
             [
              0.7777777777777778,
              "#fb9f3a"
             ],
             [
              0.8888888888888888,
              "#fdca26"
             ],
             [
              1,
              "#f0f921"
             ]
            ],
            "type": "histogram2d"
           }
          ],
          "histogram2dcontour": [
           {
            "colorbar": {
             "outlinewidth": 0,
             "ticks": ""
            },
            "colorscale": [
             [
              0,
              "#0d0887"
             ],
             [
              0.1111111111111111,
              "#46039f"
             ],
             [
              0.2222222222222222,
              "#7201a8"
             ],
             [
              0.3333333333333333,
              "#9c179e"
             ],
             [
              0.4444444444444444,
              "#bd3786"
             ],
             [
              0.5555555555555556,
              "#d8576b"
             ],
             [
              0.6666666666666666,
              "#ed7953"
             ],
             [
              0.7777777777777778,
              "#fb9f3a"
             ],
             [
              0.8888888888888888,
              "#fdca26"
             ],
             [
              1,
              "#f0f921"
             ]
            ],
            "type": "histogram2dcontour"
           }
          ],
          "mesh3d": [
           {
            "colorbar": {
             "outlinewidth": 0,
             "ticks": ""
            },
            "type": "mesh3d"
           }
          ],
          "parcoords": [
           {
            "line": {
             "colorbar": {
              "outlinewidth": 0,
              "ticks": ""
             }
            },
            "type": "parcoords"
           }
          ],
          "pie": [
           {
            "automargin": true,
            "type": "pie"
           }
          ],
          "scatter": [
           {
            "fillpattern": {
             "fillmode": "overlay",
             "size": 10,
             "solidity": 0.2
            },
            "type": "scatter"
           }
          ],
          "scatter3d": [
           {
            "line": {
             "colorbar": {
              "outlinewidth": 0,
              "ticks": ""
             }
            },
            "marker": {
             "colorbar": {
              "outlinewidth": 0,
              "ticks": ""
             }
            },
            "type": "scatter3d"
           }
          ],
          "scattercarpet": [
           {
            "marker": {
             "colorbar": {
              "outlinewidth": 0,
              "ticks": ""
             }
            },
            "type": "scattercarpet"
           }
          ],
          "scattergeo": [
           {
            "marker": {
             "colorbar": {
              "outlinewidth": 0,
              "ticks": ""
             }
            },
            "type": "scattergeo"
           }
          ],
          "scattergl": [
           {
            "marker": {
             "colorbar": {
              "outlinewidth": 0,
              "ticks": ""
             }
            },
            "type": "scattergl"
           }
          ],
          "scattermapbox": [
           {
            "marker": {
             "colorbar": {
              "outlinewidth": 0,
              "ticks": ""
             }
            },
            "type": "scattermapbox"
           }
          ],
          "scatterpolar": [
           {
            "marker": {
             "colorbar": {
              "outlinewidth": 0,
              "ticks": ""
             }
            },
            "type": "scatterpolar"
           }
          ],
          "scatterpolargl": [
           {
            "marker": {
             "colorbar": {
              "outlinewidth": 0,
              "ticks": ""
             }
            },
            "type": "scatterpolargl"
           }
          ],
          "scatterternary": [
           {
            "marker": {
             "colorbar": {
              "outlinewidth": 0,
              "ticks": ""
             }
            },
            "type": "scatterternary"
           }
          ],
          "surface": [
           {
            "colorbar": {
             "outlinewidth": 0,
             "ticks": ""
            },
            "colorscale": [
             [
              0,
              "#0d0887"
             ],
             [
              0.1111111111111111,
              "#46039f"
             ],
             [
              0.2222222222222222,
              "#7201a8"
             ],
             [
              0.3333333333333333,
              "#9c179e"
             ],
             [
              0.4444444444444444,
              "#bd3786"
             ],
             [
              0.5555555555555556,
              "#d8576b"
             ],
             [
              0.6666666666666666,
              "#ed7953"
             ],
             [
              0.7777777777777778,
              "#fb9f3a"
             ],
             [
              0.8888888888888888,
              "#fdca26"
             ],
             [
              1,
              "#f0f921"
             ]
            ],
            "type": "surface"
           }
          ],
          "table": [
           {
            "cells": {
             "fill": {
              "color": "#EBF0F8"
             },
             "line": {
              "color": "white"
             }
            },
            "header": {
             "fill": {
              "color": "#C8D4E3"
             },
             "line": {
              "color": "white"
             }
            },
            "type": "table"
           }
          ]
         },
         "layout": {
          "annotationdefaults": {
           "arrowcolor": "#2a3f5f",
           "arrowhead": 0,
           "arrowwidth": 1
          },
          "autotypenumbers": "strict",
          "coloraxis": {
           "colorbar": {
            "outlinewidth": 0,
            "ticks": ""
           }
          },
          "colorscale": {
           "diverging": [
            [
             0,
             "#8e0152"
            ],
            [
             0.1,
             "#c51b7d"
            ],
            [
             0.2,
             "#de77ae"
            ],
            [
             0.3,
             "#f1b6da"
            ],
            [
             0.4,
             "#fde0ef"
            ],
            [
             0.5,
             "#f7f7f7"
            ],
            [
             0.6,
             "#e6f5d0"
            ],
            [
             0.7,
             "#b8e186"
            ],
            [
             0.8,
             "#7fbc41"
            ],
            [
             0.9,
             "#4d9221"
            ],
            [
             1,
             "#276419"
            ]
           ],
           "sequential": [
            [
             0,
             "#0d0887"
            ],
            [
             0.1111111111111111,
             "#46039f"
            ],
            [
             0.2222222222222222,
             "#7201a8"
            ],
            [
             0.3333333333333333,
             "#9c179e"
            ],
            [
             0.4444444444444444,
             "#bd3786"
            ],
            [
             0.5555555555555556,
             "#d8576b"
            ],
            [
             0.6666666666666666,
             "#ed7953"
            ],
            [
             0.7777777777777778,
             "#fb9f3a"
            ],
            [
             0.8888888888888888,
             "#fdca26"
            ],
            [
             1,
             "#f0f921"
            ]
           ],
           "sequentialminus": [
            [
             0,
             "#0d0887"
            ],
            [
             0.1111111111111111,
             "#46039f"
            ],
            [
             0.2222222222222222,
             "#7201a8"
            ],
            [
             0.3333333333333333,
             "#9c179e"
            ],
            [
             0.4444444444444444,
             "#bd3786"
            ],
            [
             0.5555555555555556,
             "#d8576b"
            ],
            [
             0.6666666666666666,
             "#ed7953"
            ],
            [
             0.7777777777777778,
             "#fb9f3a"
            ],
            [
             0.8888888888888888,
             "#fdca26"
            ],
            [
             1,
             "#f0f921"
            ]
           ]
          },
          "colorway": [
           "#636efa",
           "#EF553B",
           "#00cc96",
           "#ab63fa",
           "#FFA15A",
           "#19d3f3",
           "#FF6692",
           "#B6E880",
           "#FF97FF",
           "#FECB52"
          ],
          "font": {
           "color": "#2a3f5f"
          },
          "geo": {
           "bgcolor": "white",
           "lakecolor": "white",
           "landcolor": "#E5ECF6",
           "showlakes": true,
           "showland": true,
           "subunitcolor": "white"
          },
          "hoverlabel": {
           "align": "left"
          },
          "hovermode": "closest",
          "mapbox": {
           "style": "light"
          },
          "paper_bgcolor": "white",
          "plot_bgcolor": "#E5ECF6",
          "polar": {
           "angularaxis": {
            "gridcolor": "white",
            "linecolor": "white",
            "ticks": ""
           },
           "bgcolor": "#E5ECF6",
           "radialaxis": {
            "gridcolor": "white",
            "linecolor": "white",
            "ticks": ""
           }
          },
          "scene": {
           "xaxis": {
            "backgroundcolor": "#E5ECF6",
            "gridcolor": "white",
            "gridwidth": 2,
            "linecolor": "white",
            "showbackground": true,
            "ticks": "",
            "zerolinecolor": "white"
           },
           "yaxis": {
            "backgroundcolor": "#E5ECF6",
            "gridcolor": "white",
            "gridwidth": 2,
            "linecolor": "white",
            "showbackground": true,
            "ticks": "",
            "zerolinecolor": "white"
           },
           "zaxis": {
            "backgroundcolor": "#E5ECF6",
            "gridcolor": "white",
            "gridwidth": 2,
            "linecolor": "white",
            "showbackground": true,
            "ticks": "",
            "zerolinecolor": "white"
           }
          },
          "shapedefaults": {
           "line": {
            "color": "#2a3f5f"
           }
          },
          "ternary": {
           "aaxis": {
            "gridcolor": "white",
            "linecolor": "white",
            "ticks": ""
           },
           "baxis": {
            "gridcolor": "white",
            "linecolor": "white",
            "ticks": ""
           },
           "bgcolor": "#E5ECF6",
           "caxis": {
            "gridcolor": "white",
            "linecolor": "white",
            "ticks": ""
           }
          },
          "title": {
           "x": 0.05
          },
          "xaxis": {
           "automargin": true,
           "gridcolor": "white",
           "linecolor": "white",
           "ticks": "",
           "title": {
            "standoff": 15
           },
           "zerolinecolor": "white",
           "zerolinewidth": 2
          },
          "yaxis": {
           "automargin": true,
           "gridcolor": "white",
           "linecolor": "white",
           "ticks": "",
           "title": {
            "standoff": 15
           },
           "zerolinecolor": "white",
           "zerolinewidth": 2
          }
         }
        },
        "title": {
         "text": "Partial Correlation"
        },
        "width": 1000,
        "xaxis": {
         "anchor": "y",
         "constrain": "domain",
         "domain": [
          0,
          1
         ],
         "scaleanchor": "y"
        },
        "yaxis": {
         "anchor": "x",
         "autorange": "reversed",
         "constrain": "domain",
         "domain": [
          0,
          1
         ]
        }
       }
      }
     },
     "metadata": {},
     "output_type": "display_data"
    }
   ],
   "source": [
    "# parameters for the graphical lasso\n",
    "_params = {\n",
    "        \"alpha\": 0.15,\n",
    "        \"max_iter\": 1000,\n",
    "        \"tol\": 1e-3,\n",
    "        \"mode\": \"cd\",\n",
    "        \"eps\": 1e-12,\n",
    "        \"enet_tol\": 1e-7,\n",
    "    }\n",
    "\n",
    "precision, covariance = compute_precision(\n",
    "        data, _params, return_covariance=True\n",
    "    )\n",
    "\n",
    "pcorr = partial_correlation(precision)\n",
    "\n",
    "graph = precision_to_graph(precision)\n",
    "\n",
    "pcorr_tall = (\n",
    "        pcorr[(pcorr < 1) & (pcorr != 0)]\n",
    "        .unstack()\n",
    "        .dropna()\n",
    "        .reset_index()\n",
    "        .rename(columns={0: \"Partial Correlation\"})\n",
    "    )\n",
    "\n",
    "_mask = np.triu(np.ones_like(pcorr, dtype=bool))\n",
    "_pcorr_masked = pcorr.copy()\n",
    "_pcorr_masked[_mask] = np.nan\n",
    "\n",
    "_fig = px.imshow(\n",
    "        _pcorr_masked.round(2),\n",
    "        width=1000,\n",
    "        height=1000,\n",
    "        color_continuous_scale=\"PiYG\",\n",
    "        color_continuous_midpoint=0,\n",
    "        title=\"Partial Correlation\",\n",
    "        text_auto=True,\n",
    "    )\n",
    "\n",
    "_fig.update_layout(\n",
    "        {\n",
    "            \"plot_bgcolor\": \"white\",\n",
    "        }\n",
    "    )"
   ]
  },
  {
   "cell_type": "markdown",
   "metadata": {},
   "source": [
    "## Example: Visualize one graph\n",
    "For graphical clarity we use the partial correlation squared as edge thickness, but all metrics are computed using the partial correlation directly."
   ]
  },
  {
   "cell_type": "code",
   "execution_count": 32,
   "metadata": {
    "metadata": {}
   },
   "outputs": [
    {
     "data": {
      "image/png": "[encoded data removed]",
      "text/plain": [
       "<Figure size 2000x1000 with 1 Axes>"
      ]
     },
     "metadata": {},
     "output_type": "display_data"
    }
   ],
   "source": [
    "_edge_weights = [\n",
    "        1.5 * (2.22 * graph[u][v][\"abs(correlation)\"]) ** 2\n",
    "        for u, v in graph.edges()\n",
    "    ]\n",
    "\n",
    "_fig, _ax = plt.subplots(1, 1, figsize=(20, 10))\n",
    "\n",
    "nx.set_edge_attributes(\n",
    "        graph,\n",
    "        {\n",
    "            (u, v): {\"plot_weight\": 0.75 * (2.22 * d[\"abs(correlation)\"]) ** 2}\n",
    "            for u, v, d in graph.edges(data=True)\n",
    "        },\n",
    "    )\n",
    "\n",
    "pos = nx.spectral_layout(graph, weight=\"distance\")\n",
    "pos = nx.spring_layout(graph, pos=pos, weight=\"plot_weight\", iterations=100)\n",
    "\n",
    "nx.draw_networkx_edges(graph, pos, width=_edge_weights, ax=_ax)\n",
    "\n",
    "nx.draw_networkx_labels(\n",
    "        graph,\n",
    "        pos,\n",
    "        ax=_ax,\n",
    "        font_size=8,\n",
    "        bbox=dict(facecolor=\"white\", alpha=1, edgecolor=\"white\", pad=0),\n",
    "    )\n",
    "\n",
    "    # Draw edge labels\n",
    "    # edge_labels = nx.get_edge_attributes(graph, 'correlation')\n",
    "    # nx.draw_networkx_edge_labels(graph, pos, edge_labels=edge_labels)\n",
    "\n",
    "plt.axis(\"off\")\n",
    "_fig.tight_layout()"
   ]
  },
  {
   "cell_type": "markdown",
   "metadata": {},
   "source": [
    "## Partial correlation sparsity with $L_1$ regularization\n",
    "Here we recompute the precision matrix as a function of regularization strength $\\alpha$. We end up selecting $\\alpha = 0.15$ as the optimal value (by BIC)."
   ]
  },
  {
   "cell_type": "code",
   "execution_count": 33,
   "metadata": {
    "metadata": {}
   },
   "outputs": [
    {
     "data": {
      "text/plain": [
       "Text(0, 0.5, 'Partial correlation matrix nonzero fraction')"
      ]
     },
     "execution_count": 33,
     "metadata": {},
     "output_type": "execute_result"
    },
    {
     "data": {
      "image/png": "[encoded data removed]",
      "text/plain": [
       "<Figure size 640x480 with 1 Axes>"
      ]
     },
     "metadata": {},
     "output_type": "display_data"
    }
   ],
   "source": [
    "alphas = np.linspace(0.05, 1, 16)\n",
    "\n",
    "_nz = []\n",
    "\n",
    "_df = data\n",
    "\n",
    "for alpha in alphas:\n",
    "    _params = {\n",
    "        \"alpha\": alpha,\n",
    "        \"max_iter\": 1000,\n",
    "        \"tol\": 1e-3,\n",
    "        \"mode\": \"cd\",\n",
    "        \"eps\": 1e-12,\n",
    "        \"enet_tol\": 1e-7,\n",
    "    }\n",
    "\n",
    "    _fun = partial(compute_precision, params=_params)\n",
    "\n",
    "    # this is a list, one per bootstrap samples\n",
    "    _nonzero_counts = np.array(\n",
    "        list(\n",
    "            map(np.count_nonzero, bootstrap(_df, _fun, n_samples=8))\n",
    "        )  # about 60s with n = 128\n",
    "    )\n",
    "\n",
    "    _nz.append(\n",
    "        {\n",
    "            \"alpha\": alpha,\n",
    "            \"Median\": np.median(_nonzero_counts) / len(_df.columns) ** 2,\n",
    "            \"CI_low\": np.quantile(_nonzero_counts, 0.025)\n",
    "            / len(_df.columns) ** 2,\n",
    "            \"CI_high\": np.quantile(_nonzero_counts, 0.975)\n",
    "            / len(_df.columns) ** 2,\n",
    "        }\n",
    "    )\n",
    "\n",
    "partial_corr_nz = pd.DataFrame(_nz)  # fraction of nonzero entries\n",
    "\n",
    "partial_corr_nz.plot(x=\"alpha\", y=\"Median\")\n",
    "plt.fill_between(\n",
    "    partial_corr_nz.alpha,\n",
    "    partial_corr_nz[\"CI_low\"],\n",
    "    partial_corr_nz[\"CI_high\"],\n",
    "    alpha=0.3,\n",
    ")\n",
    "\n",
    "plt.xlabel(r\"$L_1$ regularization $\\alpha$\")\n",
    "plt.ylabel(\"Partial correlation matrix nonzero fraction\")"
   ]
  },
  {
   "cell_type": "markdown",
   "metadata": {},
   "source": [
    "## Amyloid quantiles\n",
    "We split both datasets in tertiles using the ADNI distribution as reference."
   ]
  },
  {
   "cell_type": "code",
   "execution_count": 34,
   "metadata": {
    "metadata": {}
   },
   "outputs": [
    {
     "data": {
      "text/plain": [
       "192.541"
      ]
     },
     "execution_count": 34,
     "metadata": {},
     "output_type": "execute_result"
    }
   ],
   "source": [
    "n_quantiles = 3\n",
    "\n",
    "adni_quantile_labels, adni_amy_bins = pd.qcut(\n",
    "    adni_with_demo[\"CENTILOIDS\"], q=n_quantiles, retbins=True, labels=False\n",
    ")\n",
    "\n",
    "adni_amy_bins\n",
    "\n",
    "a4[\n",
    "    \"CENTILOIDS\"\n",
    "].max()  # this should be less than the adni maximum, which it is"
   ]
  },
  {
   "cell_type": "code",
   "execution_count": 35,
   "metadata": {
    "metadata": {}
   },
   "outputs": [
    {
     "data": {
      "text/plain": [
       "Dataset  Centiloid quantile\n",
       "A4       0                     159\n",
       "         1                     144\n",
       "         2                      70\n",
       "ADNI     0                     139\n",
       "         1                     129\n",
       "         2                     130\n",
       "Name: count, dtype: int64"
      ]
     },
     "execution_count": 35,
     "metadata": {},
     "output_type": "execute_result"
    }
   ],
   "source": [
    "a4_quantile_labels = pd.cut(a4[\"CENTILOIDS\"], adni_amy_bins, labels=False)\n",
    "\n",
    "\n",
    "pd.concat(\n",
    "    (a4_quantile_labels, adni_quantile_labels), keys=(\"A4\", \"ADNI\")\n",
    ").reset_index(level=0).rename(\n",
    "    columns={\"level_0\": \"Dataset\", \"CENTILOIDS\": \"Centiloid quantile\"}\n",
    ").value_counts().sort_index()"
   ]
  },
  {
   "cell_type": "markdown",
   "metadata": {},
   "source": [
    "## Statistical analysis of graph metrics\n",
    "For each cohort and amyloid tertile, we construct the partial correlation graph and estimate the corresponding graph metrics. The confidence intervals are estimated via boostrap."
   ]
  },
  {
   "cell_type": "code",
   "execution_count": 36,
   "metadata": {
    "metadata": {}
   },
   "outputs": [],
   "source": [
    "metrics = {\n",
    "    \"Weighted Clustering Coefficient\": partial(\n",
    "        nx.average_clustering, weight=\"correlation\"\n",
    "    ),\n",
    "    \"Weighted Avg. Shortest Path Length\": partial(\n",
    "        nx.average_shortest_path_length, weight=\"distance\"\n",
    "    ),\n",
    "    \"Weighted Small World\": partial(small_world_coeff, niter=1, nrand=10),\n",
    "}\n",
    "\n",
    "_params = {\n",
    "    \"alpha\": 0.15,\n",
    "    \"max_iter\": 1000,\n",
    "    \"tol\": 1e-3,\n",
    "    \"mode\": \"cd\",\n",
    "    \"eps\": 1e-12,\n",
    "    \"enet_tol\": 1e-7,\n",
    "}\n",
    "\n",
    "# in the paper we use 1000 bootstrap samples, this is just to showcase the method\n",
    "_n_boot = 3\n",
    "\n",
    "adni_boot_metrics_results = []\n",
    "a4_boot_metrics_results = []\n",
    "\n",
    "for quantile in range(n_quantiles):\n",
    "    adni_boot_metrics_results.append(\n",
    "        boostrap_graph_metrics(\n",
    "            adni_with_demo[adni_quantile_labels == quantile]\n",
    "            .drop(columns=[\"RID\", \"CENTILOIDS\"])\n",
    "            .dropna(),\n",
    "            _params,\n",
    "            metrics,\n",
    "            n_samples=_n_boot,\n",
    "            randomize_graph=False,\n",
    "        )\n",
    "    )\n",
    "\n",
    "for quantile in range(n_quantiles):\n",
    "    a4_boot_metrics_results.append(\n",
    "        boostrap_graph_metrics(\n",
    "            a4_with_demo[a4_quantile_labels == quantile]\n",
    "            .drop(columns=[\"RID\", \"CENTILOIDS\"])\n",
    "            .dropna(),\n",
    "            _params,\n",
    "            metrics,\n",
    "            n_samples=_n_boot,\n",
    "            randomize_graph=False,\n",
    "        )\n",
    "    )\n",
    "\n",
    "graph_metrics_by_quantile = (\n",
    "    pd.concat(\n",
    "        [\n",
    "            pd.concat(adni_boot_metrics_results, keys=range(n_quantiles))\n",
    "            .reset_index(level=0)\n",
    "            .rename(columns={\"level_0\": \"Centiloid Quantile\"}),\n",
    "            pd.concat(a4_boot_metrics_results, keys=range(n_quantiles))\n",
    "            .reset_index(level=0)\n",
    "            .rename(columns={\"level_0\": \"Centiloid Quantile\"}),\n",
    "        ],\n",
    "        keys=[\"ADNI\", \"A4\"],\n",
    "    )\n",
    "    .reset_index(level=0)\n",
    "    .rename(columns={\"level_0\": \"Dataset\"})\n",
    ")"
   ]
  },
  {
   "cell_type": "code",
   "execution_count": 37,
   "metadata": {
    "metadata": {}
   },
   "outputs": [
    {
     "data": {
      "image/png": "[encoded data removed]",
      "text/plain": [
       "<Figure size 1200x400 with 3 Axes>"
      ]
     },
     "metadata": {},
     "output_type": "display_data"
    }
   ],
   "source": [
    "_fig, _ax = plt.subplots(1, 3, figsize=(12, 4), sharex=True)\n",
    "\n",
    "for _i, _metric in enumerate(metrics):\n",
    "    sns.boxplot(\n",
    "        graph_metrics_by_quantile,\n",
    "        x=\"Centiloid Quantile\",\n",
    "        y=_metric,\n",
    "        hue=\"Dataset\",\n",
    "        ax=_ax.flat[_i],\n",
    "    )\n",
    "\n",
    "_fig.tight_layout()\n",
    "_ax[0].legend().set_visible(False)\n",
    "_ax[1].legend().set_visible(False)"
   ]
  },
  {
   "cell_type": "code",
   "execution_count": null,
   "metadata": {},
   "outputs": [],
   "source": []
  }
 ],
 "metadata": {
  "kernelspec": {
   "display_name": "multisensor311",
   "language": "python",
   "name": "python3"
  },
  "language_info": {
   "codemirror_mode": {
    "name": "ipython",
    "version": 3
   },
   "file_extension": ".py",
   "mimetype": "text/x-python",
   "name": "python",
   "nbconvert_exporter": "python",
   "pygments_lexer": "ipython3",
   "version": "3.11.7"
  }
 },
 "nbformat": 4,
 "nbformat_minor": 2
}
