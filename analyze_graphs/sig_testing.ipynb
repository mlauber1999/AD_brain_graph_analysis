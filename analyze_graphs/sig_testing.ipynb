{
 "cells": [
  {
   "cell_type": "code",
   "execution_count": 1,
   "metadata": {},
   "outputs": [],
   "source": [
    "import numpy as np\n",
    "import pandas as pd\n",
    "import matplotlib.pyplot as plt\n",
    "import os\n",
    "import warnings\n",
    "import seaborn as sns\n",
    "import networkx as nx\n",
    "import matplotlib.colors as mcolors\n",
    "from scipy import stats\n",
    "from scipy.stats import f_oneway, kruskal\n",
    "from statsmodels.stats.multicomp import MultiComparison\n",
    "from scikit_posthocs import posthoc_dunn\n",
    "# pd.options.display.max_rows = None\n",
    "# pd.options.display.max_columns = None\n",
    "import glob as glob\n",
    "import math\n",
    "pd.set_option('display.max_rows', None)  # To display all rows\n",
    "pd.set_option('display.max_columns', None)  # To display all columns\n",
    "from scipy.stats import shapiro"
   ]
  },
  {
   "cell_type": "code",
   "execution_count": 2,
   "metadata": {},
   "outputs": [
    {
     "name": "stdout",
     "output_type": "stream",
     "text": [
      "[0 1 2]\n"
     ]
    }
   ],
   "source": [
    "#load in master dataset csv \n",
    "gm_3q = pd.read_csv('graph_metrics_adni_a4_bootstrapped_3quant.csv')\n",
    "print(gm_3q['Centiloid Quantile'].unique())"
   ]
  },
  {
   "cell_type": "code",
   "execution_count": 3,
   "metadata": {},
   "outputs": [
    {
     "name": "stdout",
     "output_type": "stream",
     "text": [
      "1\n",
      "1\n"
     ]
    }
   ],
   "source": [
    "adni_gm = gm_3q[gm_3q['Dataset']=='ADNI']\n",
    "a4_gm = gm_3q[gm_3q['Dataset']=='A4']\n",
    "print(adni_gm['Dataset'].nunique()) #looks good\n",
    "print(a4_gm['Dataset'].nunique())"
   ]
  },
  {
   "cell_type": "code",
   "execution_count": 4,
   "metadata": {},
   "outputs": [
    {
     "name": "stdout",
     "output_type": "stream",
     "text": [
      "  Dataset  Centiloid Quantile  Weighted Clustering Coefficient  \\\n",
      "0    ADNI                   0                         0.068934   \n",
      "1    ADNI                   0                         0.083235   \n",
      "2    ADNI                   0                         0.058079   \n",
      "3    ADNI                   0                         0.070969   \n",
      "4    ADNI                   0                         0.067504   \n",
      "\n",
      "   Weighted Avg. Shortest Path Length  Weighted Small World  \n",
      "0                            1.842079              0.325390  \n",
      "1                            2.203289              0.329465  \n",
      "2                            2.307050              0.207186  \n",
      "3                            2.092218              0.308219  \n",
      "4                            2.123366              0.281602  \n"
     ]
    }
   ],
   "source": [
    "print(adni_gm.head())"
   ]
  },
  {
   "attachments": {},
   "cell_type": "markdown",
   "metadata": {},
   "source": [
    "Do One Way ANOVA test between the quartile groups for weighted clustering coefficent and shortest path leng, do KS for small world "
   ]
  },
  {
   "cell_type": "code",
   "execution_count": 6,
   "metadata": {},
   "outputs": [
    {
     "name": "stdout",
     "output_type": "stream",
     "text": [
      "  Dataset                              Metric            Test    Statistic  \\\n",
      "0    ADNI     Weighted Clustering Coefficient           ANOVA   567.441841   \n",
      "1    ADNI  Weighted Avg. Shortest Path Length           ANOVA   598.080717   \n",
      "2      A4     Weighted Clustering Coefficient           ANOVA   570.450427   \n",
      "3      A4  Weighted Avg. Shortest Path Length           ANOVA  2085.018052   \n",
      "0    ADNI                Weighted Small World  Kruskal-Wallis  1528.089792   \n",
      "1      A4                Weighted Small World  Kruskal-Wallis  1954.486242   \n",
      "\n",
      "         p-value  p-value (adjusted) Significant Tukey_Mean_Difference  \\\n",
      "0  1.040341e-209       3.121024e-209         Yes                     2   \n",
      "1  2.732263e-219       8.196789e-219         Yes                     2   \n",
      "2  1.175259e-210       3.525778e-210         Yes                     2   \n",
      "3   0.000000e+00        0.000000e+00         Yes                     2   \n",
      "0   0.000000e+00        0.000000e+00         Yes                     2   \n",
      "1   0.000000e+00        0.000000e+00         Yes                     2   \n",
      "\n",
      "  Tukey_Confidence_Interval Tukey_P-value (adjusted) Dunn_p-value (adjusted)  \n",
      "0                    0.0098                      0.0                     NaN  \n",
      "1                    -0.349                      0.0                     NaN  \n",
      "2                    0.0053                      0.0                    None  \n",
      "3                   -0.8566                      0.0                    None  \n",
      "0                    0.0098                      0.0                     NaN  \n",
      "1                    -0.349                      0.0                     NaN  \n"
     ]
    }
   ],
   "source": [
    "from scipy.stats import f_oneway, kruskal\n",
    "from statsmodels.stats.multicomp import MultiComparison\n",
    "# from scikit_posthocs import posthoc_dunn\n",
    "import numpy as np\n",
    "import pandas as pd\n",
    "\n",
    "def perform_anova_kruskal_dunn(df1, df2, metrics, group_column):\n",
    "    anova_results = []\n",
    "    tukey_results = []\n",
    "    dunn_results = []\n",
    "    \n",
    "    for df, name in [(df1, 'ADNI'), (df2, 'A4')]:\n",
    "        for metric in metrics:\n",
    "            group_data = [df[df[group_column] == group][metric] for group in df[group_column].unique()]\n",
    "            num_comparisons = len(group_data)\n",
    "            \n",
    "            # ANOVA\n",
    "            if metric != 'Weighted Small World':\n",
    "                result = f_oneway(*group_data)\n",
    "                p_adjusted_anova = result.pvalue * num_comparisons  # Applying Bonferroni Correction\n",
    "                significant_anova = 'Yes' if p_adjusted_anova < 0.05 else 'No'\n",
    "                \n",
    "                mc = MultiComparison(df[metric], df[group_column])\n",
    "                tukey_result = mc.tukeyhsd()\n",
    "                tukey_summary = tukey_result.summary()\n",
    "                \n",
    "                anova_results.append({\n",
    "                    'Dataset': name,\n",
    "                    'Metric': metric,\n",
    "                    'Test': 'ANOVA',\n",
    "                    'Statistic': result.statistic,\n",
    "                    'p-value': result.pvalue,\n",
    "                    'p-value (adjusted)': p_adjusted_anova,  # Including adjusted p-value\n",
    "                    'Significant': significant_anova,\n",
    "                    'Tukey_HSD': tukey_summary\n",
    "                })\n",
    "                \n",
    "            # Kruskal-Wallis\n",
    "            else:\n",
    "                result = kruskal(*group_data)\n",
    "                p_adjusted_kw = result.pvalue * num_comparisons  # Applying Bonferroni Correction\n",
    "                significant_kw = 'Yes' if p_adjusted_kw < 0.05 else 'No'\n",
    "                \n",
    "                dunn_result = posthoc_dunn(df, val_col=metric, group_col=group_column)\n",
    "                \n",
    "                dunn_results.append({\n",
    "                    'Dataset': name,\n",
    "                    'Metric': metric,\n",
    "                    'Test': 'Kruskal-Wallis',\n",
    "                    'Statistic': result.statistic,\n",
    "                    'p-value': result.pvalue,\n",
    "                    'p-value (adjusted)': p_adjusted_kw,  # Including adjusted p-value\n",
    "                    'Significant': significant_kw,\n",
    "                    'Dunn_HSD': dunn_result\n",
    "                })\n",
    "                \n",
    "    return pd.DataFrame(anova_results), pd.DataFrame(dunn_results)\n",
    "\n",
    "\n",
    "def extract_tukey_results(tukey_summary):\n",
    "    \"\"\"\n",
    "    Extracts relevant information from Tukey's HSD test summary.\n",
    "    Returns a dictionary containing mean differences, confidence intervals,\n",
    "    and p-values for each pairwise comparison.\n",
    "    \"\"\"\n",
    "    tukey_results = {}\n",
    "    for line in tukey_summary.data:\n",
    "        groups, meandiff, _, p_adj = line[:4]\n",
    "        tukey_results[groups] = {'Mean Difference': meandiff,\n",
    "                                 'Confidence Interval': line[4],\n",
    "                                 'P-value (adjusted)': p_adj}\n",
    "    return tukey_results\n",
    "\n",
    "def modify_results_df_with_tukey_and_dunn(results):\n",
    "    results['Tukey_Mean_Difference'] = None\n",
    "    results['Tukey_Confidence_Interval'] = None\n",
    "    results['Tukey_P-value (adjusted)'] = None\n",
    "    results['Dunn_p-value (adjusted)'] = None\n",
    "    \n",
    "    for i, row in results.iterrows():\n",
    "        if row['Test'] == 'ANOVA':\n",
    "            tukey_summary = row['Tukey_HSD']\n",
    "            if tukey_summary:\n",
    "                tukey_results = extract_tukey_results(tukey_summary)\n",
    "                for groups, data in tukey_results.items():\n",
    "                    results.at[i, 'Tukey_Mean_Difference'] = data['Mean Difference']\n",
    "                    results.at[i, 'Tukey_Confidence_Interval'] = data['Confidence Interval']\n",
    "                    results.at[i, 'Tukey_P-value (adjusted)'] = data['P-value (adjusted)']\n",
    "                    \n",
    "        elif row['Test'] == 'Kruskal-Wallis':\n",
    "            dunn_result = row['Dunn_HSD']\n",
    "            if dunn_result is not None:\n",
    "                dunn_p_adjusted = dunn_result * len(results)  # Bonferroni correction\n",
    "                results.at[i, 'Dunn_p-value (adjusted)'] = dunn_p_adjusted\n",
    "    \n",
    "    # Drop the 'Tukey_HSD' and 'Dunn_HSD' columns as they're no longer needed\n",
    "    results.drop(columns=['Tukey_HSD', 'Dunn_HSD'], inplace=True)\n",
    "    \n",
    "    return results\n",
    "\n",
    "\n",
    "# Test\n",
    "metrics = ['Weighted Clustering Coefficient', 'Weighted Avg. Shortest Path Length', 'Weighted Small World']\n",
    "anova_results, dunn_results = perform_anova_kruskal_dunn(adni_gm, a4_gm, metrics, 'Centiloid Quantile')\n",
    "final_results = modify_results_df_with_tukey_and_dunn(pd.concat([anova_results, dunn_results]))\n",
    "print(final_results)\n"
   ]
  },
  {
   "cell_type": "code",
   "execution_count": 7,
   "metadata": {},
   "outputs": [
    {
     "name": "stdout",
     "output_type": "stream",
     "text": [
      "  Dataset                              Metric   Test    Statistic  \\\n",
      "0    ADNI     Weighted Clustering Coefficient  ANOVA   567.441841   \n",
      "1    ADNI  Weighted Avg. Shortest Path Length  ANOVA   598.080717   \n",
      "2      A4     Weighted Clustering Coefficient  ANOVA   570.450427   \n",
      "3      A4  Weighted Avg. Shortest Path Length  ANOVA  2085.018052   \n",
      "\n",
      "         p-value  p-value (adjusted) Significant  \\\n",
      "0  1.040341e-209       3.121024e-209         Yes   \n",
      "1  2.732263e-219       8.196789e-219         Yes   \n",
      "2  1.175259e-210       3.525778e-210         Yes   \n",
      "3   0.000000e+00        0.000000e+00         Yes   \n",
      "\n",
      "                                           Tukey_HSD  \n",
      "0  [[group1, group2, meandiff, p-adj, lower, uppe...  \n",
      "1  [[group1, group2, meandiff, p-adj, lower, uppe...  \n",
      "2  [[group1, group2, meandiff, p-adj, lower, uppe...  \n",
      "3  [[group1, group2, meandiff, p-adj, lower, uppe...  \n"
     ]
    }
   ],
   "source": [
    "print(anova_results)"
   ]
  },
  {
   "attachments": {},
   "cell_type": "markdown",
   "metadata": {},
   "source": [
    "split into adni and a4 in case"
   ]
  },
  {
   "cell_type": "code",
   "execution_count": 8,
   "metadata": {},
   "outputs": [
    {
     "ename": "NameError",
     "evalue": "name 'tukey_results' is not defined",
     "output_type": "error",
     "traceback": [
      "\u001b[0;31m---------------------------------------------------------------------------\u001b[0m",
      "\u001b[0;31mNameError\u001b[0m                                 Traceback (most recent call last)",
      "Cell \u001b[0;32mIn[8], line 7\u001b[0m\n\u001b[1;32m      4\u001b[0m     \u001b[39mreturn\u001b[39;00m adni_results, a4_results\n\u001b[1;32m      6\u001b[0m adni_anova_results, a4_anova_results \u001b[39m=\u001b[39m split_results_by_dataset(anova_results)\n\u001b[0;32m----> 7\u001b[0m adni_tukey_results, a4_tukey_results \u001b[39m=\u001b[39m split_results_by_dataset(tukey_results)\n",
      "\u001b[0;31mNameError\u001b[0m: name 'tukey_results' is not defined"
     ]
    }
   ],
   "source": [
    "def split_results_by_dataset(df):\n",
    "    adni_results = df[df['Dataset'] == 'ADNI']\n",
    "    a4_results = df[df['Dataset'] == 'A4']\n",
    "    return adni_results, a4_results\n",
    "\n",
    "adni_anova_results, a4_anova_results = split_results_by_dataset(anova_results)\n",
    "adni_tukey_results, a4_tukey_results = split_results_by_dataset(tukey_results)\n"
   ]
  },
  {
   "cell_type": "code",
   "execution_count": null,
   "metadata": {},
   "outputs": [
    {
     "name": "stdout",
     "output_type": "stream",
     "text": [
      "  Dataset                              Metric            Test    Statistic  \\\n",
      "0    ADNI     Weighted Clustering Coefficient           ANOVA   567.441841   \n",
      "1    ADNI  Weighted Avg. Shortest Path Length           ANOVA   598.080717   \n",
      "2    ADNI                Weighted Small World  Kruskal-Wallis  1528.089792   \n",
      "\n",
      "         p-value  p-value (adjusted) Significant  \n",
      "0  1.040341e-209       3.121024e-209         Yes  \n",
      "1  2.732263e-219       8.196789e-219         Yes  \n",
      "2   0.000000e+00        0.000000e+00         Yes  \n"
     ]
    }
   ],
   "source": [
    "print(adni_anova_results)"
   ]
  },
  {
   "cell_type": "code",
   "execution_count": null,
   "metadata": {},
   "outputs": [
    {
     "name": "stdout",
     "output_type": "stream",
     "text": [
      "  Dataset                              Metric            Test    Statistic  \\\n",
      "3      A4     Weighted Clustering Coefficient           ANOVA   570.450427   \n",
      "4      A4  Weighted Avg. Shortest Path Length           ANOVA  2085.018052   \n",
      "5      A4                Weighted Small World  Kruskal-Wallis  1954.486242   \n",
      "\n",
      "         p-value  p-value (adjusted) Significant  \n",
      "3  1.175259e-210       3.525778e-210         Yes  \n",
      "4   0.000000e+00        0.000000e+00         Yes  \n",
      "5   0.000000e+00        0.000000e+00         Yes  \n"
     ]
    }
   ],
   "source": [
    "print(a4_anova_results)"
   ]
  },
  {
   "cell_type": "code",
   "execution_count": null,
   "metadata": {},
   "outputs": [
    {
     "name": "stdout",
     "output_type": "stream",
     "text": [
      "  Dataset                              Metric Tukey_Mean_Difference  \\\n",
      "0    ADNI     Weighted Clustering Coefficient                     2   \n",
      "1    ADNI  Weighted Avg. Shortest Path Length                     2   \n",
      "2    ADNI                Weighted Small World                  None   \n",
      "\n",
      "  Tukey_Confidence_Interval Tukey_P-value (adjusted)  \n",
      "0                    0.0098                      0.0  \n",
      "1                    -0.349                      0.0  \n",
      "2                      None                     None  \n"
     ]
    }
   ],
   "source": [
    "print(adni_tukey_results)"
   ]
  },
  {
   "cell_type": "code",
   "execution_count": null,
   "metadata": {},
   "outputs": [
    {
     "name": "stdout",
     "output_type": "stream",
     "text": [
      "  Dataset                              Metric Tukey_Mean_Difference  \\\n",
      "3      A4     Weighted Clustering Coefficient                     2   \n",
      "4      A4  Weighted Avg. Shortest Path Length                     2   \n",
      "5      A4                Weighted Small World                  None   \n",
      "\n",
      "  Tukey_Confidence_Interval Tukey_P-value (adjusted)  \n",
      "3                    0.0053                      0.0  \n",
      "4                   -0.8566                      0.0  \n",
      "5                      None                     None  \n"
     ]
    }
   ],
   "source": [
    "print(a4_tukey_results)"
   ]
  },
  {
   "attachments": {},
   "cell_type": "markdown",
   "metadata": {},
   "source": [
    "Interpretation of A4 Tukey: "
   ]
  }
 ],
 "metadata": {
  "kernelspec": {
   "display_name": "mci_mri_graph",
   "language": "python",
   "name": "python3"
  },
  "language_info": {
   "codemirror_mode": {
    "name": "ipython",
    "version": 3
   },
   "file_extension": ".py",
   "mimetype": "text/x-python",
   "name": "python",
   "nbconvert_exporter": "python",
   "pygments_lexer": "ipython3",
   "version": "3.10.13"
  },
  "orig_nbformat": 4
 },
 "nbformat": 4,
 "nbformat_minor": 2
}
