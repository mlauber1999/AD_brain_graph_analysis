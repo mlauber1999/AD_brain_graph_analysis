{
 "cells": [
  {
   "cell_type": "code",
   "execution_count": 18,
   "metadata": {},
   "outputs": [],
   "source": [
    "import numpy as np\n",
    "import pandas as pd\n",
    "import matplotlib.pyplot as plt\n",
    "import os\n",
    "import warnings\n",
    "import seaborn as sns\n",
    "import networkx as nx\n",
    "import matplotlib.colors as mcolors\n",
    "from scipy import stats\n",
    "from scipy.stats import f_oneway, kruskal\n",
    "# pd.options.display.max_rows = None\n",
    "# pd.options.display.max_columns = None\n",
    "import glob as glob\n",
    "import math\n",
    "pd.set_option('display.max_rows', None)  # To display all rows\n",
    "pd.set_option('display.max_columns', None)  # To display all columns\n",
    "from scipy.stats import shapiro"
   ]
  },
  {
   "cell_type": "code",
   "execution_count": 19,
   "metadata": {},
   "outputs": [
    {
     "name": "stdout",
     "output_type": "stream",
     "text": [
      "[0 1 2]\n"
     ]
    }
   ],
   "source": [
    "#load in master dataset csv \n",
    "gm_3q = pd.read_csv('graph_metrics_adni_a4_bootstrapped_3quant.csv')\n",
    "print(gm_3q['Centiloid Quantile'].unique())"
   ]
  },
  {
   "cell_type": "code",
   "execution_count": 20,
   "metadata": {},
   "outputs": [
    {
     "name": "stdout",
     "output_type": "stream",
     "text": [
      "1\n",
      "1\n"
     ]
    }
   ],
   "source": [
    "adni_gm = gm_3q[gm_3q['Dataset']=='ADNI']\n",
    "a4_gm = gm_3q[gm_3q['Dataset']=='A4']\n",
    "print(adni_gm['Dataset'].nunique()) #looks good\n",
    "print(a4_gm['Dataset'].nunique())"
   ]
  },
  {
   "cell_type": "code",
   "execution_count": 21,
   "metadata": {},
   "outputs": [
    {
     "name": "stdout",
     "output_type": "stream",
     "text": [
      "  Dataset  Centiloid Quantile  Weighted Clustering Coefficient  \\\n",
      "0    ADNI                   0                         0.068934   \n",
      "1    ADNI                   0                         0.083235   \n",
      "2    ADNI                   0                         0.058079   \n",
      "3    ADNI                   0                         0.070969   \n",
      "4    ADNI                   0                         0.067504   \n",
      "\n",
      "   Weighted Avg. Shortest Path Length  Weighted Small World  \n",
      "0                            1.842079              0.325390  \n",
      "1                            2.203289              0.329465  \n",
      "2                            2.307050              0.207186  \n",
      "3                            2.092218              0.308219  \n",
      "4                            2.123366              0.281602  \n"
     ]
    }
   ],
   "source": [
    "print(adni_gm.head())"
   ]
  },
  {
   "attachments": {},
   "cell_type": "markdown",
   "metadata": {},
   "source": [
    "Do One Way ANOVA test between the quartile groups for weighted clustering coefficent and shortest path leng, do KS for small world "
   ]
  },
  {
   "cell_type": "code",
   "execution_count": 24,
   "metadata": {},
   "outputs": [
    {
     "name": "stdout",
     "output_type": "stream",
     "text": [
      "  Dataset                              Metric            Test    Statistic  \\\n",
      "1    ADNI  Weighted Avg. Shortest Path Length           ANOVA   598.080717   \n",
      "4      A4  Weighted Avg. Shortest Path Length           ANOVA  2085.018052   \n",
      "0    ADNI     Weighted Clustering Coefficient           ANOVA   567.441841   \n",
      "3      A4     Weighted Clustering Coefficient           ANOVA   570.450427   \n",
      "2    ADNI                Weighted Small World  Kruskal-Wallis  1528.089792   \n",
      "5      A4                Weighted Small World  Kruskal-Wallis  1954.486242   \n",
      "\n",
      "         p-value Significant  \n",
      "1  2.732263e-219         Yes  \n",
      "4   0.000000e+00         Yes  \n",
      "0  1.040341e-209         Yes  \n",
      "3  1.175259e-210         Yes  \n",
      "2   0.000000e+00         Yes  \n",
      "5   0.000000e+00         Yes  \n"
     ]
    }
   ],
   "source": [
    "#run sig test \n",
    "#anova for clus coeff and spl \n",
    "#kruskil wallis for small world \n",
    "#default alpha sig is .05\n",
    "\n",
    "def perform_anova_kruskal(df1, df2, metrics, group_column):\n",
    "    results = []\n",
    "    \n",
    "    for df, name in [(df1, 'ADNI'), (df2, 'A4')]:\n",
    "        for metric in metrics:\n",
    "            group_data = [df[df[group_column] == group][metric] for group in df[group_column].unique()]\n",
    "            if metric == 'Weighted Small World':\n",
    "                result = kruskal(*group_data)\n",
    "            else:\n",
    "                result = f_oneway(*group_data)\n",
    "            significant = 'Yes' if result.pvalue < 0.05 else 'No'\n",
    "            results.append({\n",
    "                'Dataset': name,\n",
    "                'Metric': metric,\n",
    "                'Test': 'Kruskal-Wallis' if metric == 'Weighted Small World' else 'ANOVA',\n",
    "                'Statistic': result.statistic,\n",
    "                'p-value': result.pvalue,\n",
    "                'Significant': significant\n",
    "            })\n",
    "                \n",
    "    return pd.DataFrame(results)\n",
    "\n",
    "#test\n",
    "metrics = ['Weighted Clustering Coefficient', 'Weighted Avg. Shortest Path Length', 'Weighted Small World']\n",
    "results = perform_anova_kruskal(adni_gm, a4_gm, metrics, 'Centiloid Quantile')\n",
    "results = results.sort_values(by='Metric')\n",
    "print(results)\n"
   ]
  },
  {
   "attachments": {},
   "cell_type": "markdown",
   "metadata": {},
   "source": [
    "export it in latex table format "
   ]
  },
  {
   "cell_type": "code",
   "execution_count": 28,
   "metadata": {},
   "outputs": [
    {
     "name": "stdout",
     "output_type": "stream",
     "text": [
      "\n",
      "\\begin{table}[htbp]\n",
      "\\centering\n",
      "\\caption{Your table caption goes here}\n",
      "\\label{tab:your_table_label}\n",
      "\\begin{tabular}{llllll}\n",
      "\\toprule\n",
      "\\begin{tabular}{lllrrl}\n",
      "\\toprule\n",
      "Dataset & Metric & Test & Statistic & p-value & Significant \\\\\n",
      "\\midrule\n",
      "ADNI & Weighted Avg. Shortest Path Length & ANOVA & 598.080717 & 0.000000 & Yes \\\\\n",
      "A4 & Weighted Avg. Shortest Path Length & ANOVA & 2085.018052 & 0.000000 & Yes \\\\\n",
      "ADNI & Weighted Clustering Coefficient & ANOVA & 567.441841 & 0.000000 & Yes \\\\\n",
      "A4 & Weighted Clustering Coefficient & ANOVA & 570.450427 & 0.000000 & Yes \\\\\n",
      "ADNI & Weighted Small World & Kruskal-Wallis & 1528.089792 & 0.000000 & Yes \\\\\n",
      "A4 & Weighted Small World & Kruskal-Wallis & 1954.486242 & 0.000000 & Yes \\\\\n",
      "\\bottomrule\n",
      "\\end{tabular}\n",
      "\n",
      "\\bottomrule\n",
      "\\end{tabular}\n",
      "\\end{table}\n",
      "\n"
     ]
    }
   ],
   "source": [
    "# Convert DataFrame to LaTeX\n",
    "latex_table = results.to_latex(index=False, escape=False)\n",
    "\n",
    "# Complete LaTeX code for the table\n",
    "latex_complete = \"\"\"\n",
    "\\\\begin{table}[htbp]\n",
    "\\\\centering\n",
    "\\\\caption{Your table caption goes here}\n",
    "\\\\label{tab:your_table_label}\n",
    "\\\\begin{tabular}{llllll}\n",
    "\\\\toprule\n",
    "%s\n",
    "\\\\bottomrule\n",
    "\\\\end{tabular}\n",
    "\\\\end{table}\n",
    "\"\"\" % latex_table\n",
    "\n",
    "# Print complete LaTeX code\n",
    "print(latex_complete)"
   ]
  },
  {
   "cell_type": "code",
   "execution_count": 29,
   "metadata": {},
   "outputs": [
    {
     "name": "stdout",
     "output_type": "stream",
     "text": [
      "\n",
      "\\begin{table}[htbp]\n",
      "\\centering\n",
      "\\caption{Your table caption goes here}\n",
      "\\label{tab:your_table_label}\n",
      "\\begin{tabular}{llllll}\n",
      "\\toprule\n",
      "  \\begin{tabular}{lllrrl}\n",
      "  \\toprule\n",
      "  Dataset & Metric & Test & Statistic & p-value & Significant \\\\\n",
      "  \\midrule\n",
      "  ADNI & Weighted Avg. Shortest Path Length & ANOVA & 598.080717 & 0.000000 & Yes \\\\\n",
      "  A4 & Weighted Avg. Shortest Path Length & ANOVA & 2085.018052 & 0.000000 & Yes \\\\\n",
      "  ADNI & Weighted Clustering Coefficient & ANOVA & 567.441841 & 0.000000 & Yes \\\\\n",
      "  A4 & Weighted Clustering Coefficient & ANOVA & 570.450427 & 0.000000 & Yes \\\\\n",
      "  ADNI & Weighted Small World & Kruskal-Wallis & 1528.089792 & 0.000000 & Yes \\\\\n",
      "  A4 & Weighted Small World & Kruskal-Wallis & 1954.486242 & 0.000000 & Yes \\\\\n",
      "  \\bottomrule\n",
      "  \\end{tabular}\n",
      "\n",
      "\\bottomrule\n",
      "\\end{tabular}\n",
      "\\end{table}\n",
      "\n"
     ]
    }
   ],
   "source": [
    "import pandas as pd\n",
    "import textwrap\n",
    "\n",
    "# # Example DataFrame\n",
    "# data = {\n",
    "#     'Dataset': ['ADNI', 'A4', 'ADNI', 'A4', 'ADNI', 'A4'],\n",
    "#     'Metric': ['Weighted Avg. Shortest Path Length', 'Weighted Avg. Shortest Path Length',\n",
    "#                'Weighted Clustering Coefficient', 'Weighted Clustering Coefficient',\n",
    "#                'Weighted Small World', 'Weighted Small World'],\n",
    "#     'Test': ['ANOVA', 'ANOVA', 'ANOVA', 'ANOVA', 'Kruskal-Wallis', 'Kruskal-Wallis'],\n",
    "#     'Statistic': [598.080717, 2085.018052, 567.441841, 570.450427, 1528.089792, 1954.486242],\n",
    "#     'p-value': [0.000000, 0.000000, 0.000000, 0.000000, 0.000000, 0.000000],\n",
    "#     'Significant': ['Yes', 'Yes', 'Yes', 'Yes', 'Yes', 'Yes']\n",
    "# }\n",
    "\n",
    "# Convert DataFrame to LaTeX\n",
    "latex_table = results.to_latex(index=False, escape=False)\n",
    "\n",
    "# Complete LaTeX code for the table\n",
    "latex_complete = \"\"\"\n",
    "\\\\begin{table}[htbp]\n",
    "\\\\centering\n",
    "\\\\caption{Your table caption goes here}\n",
    "\\\\label{tab:your_table_label}\n",
    "\\\\begin{tabular}{llllll}\n",
    "\\\\toprule\n",
    "%s\n",
    "\\\\bottomrule\n",
    "\\\\end{tabular}\n",
    "\\\\end{table}\n",
    "\"\"\" % textwrap.indent(latex_table, '  ')  # Adjust the indentation as needed\n",
    "\n",
    "# Print complete LaTeX code\n",
    "print(latex_complete)\n"
   ]
  },
  {
   "cell_type": "code",
   "execution_count": 30,
   "metadata": {},
   "outputs": [
    {
     "name": "stdout",
     "output_type": "stream",
     "text": [
      "ADNI Table:\n",
      "\\begin{tabular}{lllrrl}\n",
      "\\toprule\n",
      "Dataset & Metric & Test & Statistic & p-value & Significant \\\\\n",
      "\\midrule\n",
      "ADNI & Weighted Avg. Shortest Path Length & ANOVA & 598.080717 & 0.000000 & Yes \\\\\n",
      "ADNI & Weighted Clustering Coefficient & ANOVA & 567.441841 & 0.000000 & Yes \\\\\n",
      "ADNI & Weighted Small World & Kruskal-Wallis & 1528.089792 & 0.000000 & Yes \\\\\n",
      "\\bottomrule\n",
      "\\end{tabular}\n",
      "\n",
      "\n",
      "A4 Table:\n",
      "\\begin{tabular}{lllrrl}\n",
      "\\toprule\n",
      "Dataset & Metric & Test & Statistic & p-value & Significant \\\\\n",
      "\\midrule\n",
      "A4 & Weighted Avg. Shortest Path Length & ANOVA & 2085.018052 & 0.000000 & Yes \\\\\n",
      "A4 & Weighted Clustering Coefficient & ANOVA & 570.450427 & 0.000000 & Yes \\\\\n",
      "A4 & Weighted Small World & Kruskal-Wallis & 1954.486242 & 0.000000 & Yes \\\\\n",
      "\\bottomrule\n",
      "\\end{tabular}\n",
      "\n"
     ]
    }
   ],
   "source": [
    "#separate for andi and a4\n",
    "\n",
    "# Filter DataFrame for ADNI and A4 datasets\n",
    "df_adni = results[results['Dataset'] == 'ADNI']\n",
    "df_a4 =results[results['Dataset'] == 'A4']\n",
    "\n",
    "# Convert DataFrames to LaTeX tables\n",
    "latex_table_adni = df_adni.to_latex(index=False, escape=False)\n",
    "latex_table_a4 = df_a4.to_latex(index=False, escape=False)\n",
    "\n",
    "# Print LaTeX code for ADNI table\n",
    "print(\"ADNI Table:\")\n",
    "print(latex_table_adni)\n",
    "\n",
    "# Print LaTeX code for A4 table\n",
    "print(\"\\nA4 Table:\")\n",
    "print(latex_table_a4)"
   ]
  }
 ],
 "metadata": {
  "kernelspec": {
   "display_name": "mci_mri_graph",
   "language": "python",
   "name": "python3"
  },
  "language_info": {
   "codemirror_mode": {
    "name": "ipython",
    "version": 3
   },
   "file_extension": ".py",
   "mimetype": "text/x-python",
   "name": "python",
   "nbconvert_exporter": "python",
   "pygments_lexer": "ipython3",
   "version": "3.10.13"
  },
  "orig_nbformat": 4
 },
 "nbformat": 4,
 "nbformat_minor": 2
}
