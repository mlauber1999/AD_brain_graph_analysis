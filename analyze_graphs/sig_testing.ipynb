{
 "cells": [
  {
   "cell_type": "code",
   "execution_count": 306,
   "metadata": {},
   "outputs": [],
   "source": [
    "import numpy as np\n",
    "import pandas as pd\n",
    "import matplotlib.pyplot as plt\n",
    "import os\n",
    "import warnings\n",
    "import seaborn as sns\n",
    "import networkx as nx\n",
    "import matplotlib.colors as mcolors\n",
    "from scipy import stats\n",
    "from scipy.stats import f_oneway, kruskal\n",
    "from statsmodels.stats.multicomp import MultiComparison\n",
    "from scikit_posthocs import posthoc_dunn\n",
    "# pd.options.display.max_rows = None\n",
    "# pd.options.display.max_columns = None\n",
    "import glob as glob\n",
    "import math\n",
    "pd.set_option('display.max_rows', None)  # To display all rows\n",
    "pd.set_option('display.max_columns', None)  # To display all columns\n",
    "from scipy.stats import shapiro"
   ]
  },
  {
   "cell_type": "code",
   "execution_count": 307,
   "metadata": {},
   "outputs": [
    {
     "name": "stdout",
     "output_type": "stream",
     "text": [
      "[0 1 2]\n"
     ]
    }
   ],
   "source": [
    "#load in master dataset csv \n",
    "gm_3q = pd.read_csv('graph_metrics_adni_a4_bootstrapped_3quant.csv')\n",
    "print(gm_3q['Centiloid Quantile'].unique())"
   ]
  },
  {
   "cell_type": "code",
   "execution_count": 308,
   "metadata": {},
   "outputs": [
    {
     "name": "stdout",
     "output_type": "stream",
     "text": [
      "1\n",
      "1\n"
     ]
    }
   ],
   "source": [
    "adni_gm = gm_3q[gm_3q['Dataset']=='ADNI']\n",
    "a4_gm = gm_3q[gm_3q['Dataset']=='A4']\n",
    "print(adni_gm['Dataset'].nunique()) #looks good\n",
    "print(a4_gm['Dataset'].nunique())"
   ]
  },
  {
   "cell_type": "code",
   "execution_count": 309,
   "metadata": {},
   "outputs": [
    {
     "name": "stdout",
     "output_type": "stream",
     "text": [
      "  Dataset  Centiloid Quantile  Weighted Clustering Coefficient  \\\n",
      "0    ADNI                   0                         0.068934   \n",
      "1    ADNI                   0                         0.083235   \n",
      "2    ADNI                   0                         0.058079   \n",
      "3    ADNI                   0                         0.070969   \n",
      "4    ADNI                   0                         0.067504   \n",
      "\n",
      "   Weighted Avg. Shortest Path Length  Weighted Small World  \n",
      "0                            1.842079              0.325390  \n",
      "1                            2.203289              0.329465  \n",
      "2                            2.307050              0.207186  \n",
      "3                            2.092218              0.308219  \n",
      "4                            2.123366              0.281602  \n"
     ]
    }
   ],
   "source": [
    "print(adni_gm.head())"
   ]
  },
  {
   "cell_type": "code",
   "execution_count": 325,
   "metadata": {},
   "outputs": [],
   "source": [
    "def perform_anova_kruskal_bonferroni(df1, df2, metrics, group_column):\n",
    "    anova_results = []\n",
    "    \n",
    "    for df, name in [(df1, 'ADNI'), (df2, 'A4')]:\n",
    "        for metric in metrics:\n",
    "            group_data = [df[df[group_column] == group][metric] for group in df[group_column].unique()]\n",
    "            num_comparisons = len(group_data)\n",
    "            \n",
    "            # ANOVA\n",
    "            if metric != 'Weighted Small World':\n",
    "                result = f_oneway(*group_data)\n",
    "                p_adjusted_anova = round(result.pvalue * num_comparisons, 3)  # Round to 3 decimal places\n",
    "                significant_anova = 'Yes' if p_adjusted_anova < 0.05 else 'No'\n",
    "                \n",
    "                anova_results.append({\n",
    "                    'Dataset': name,\n",
    "                    'Metric': metric,\n",
    "                    'Test': 'ANOVA',\n",
    "                    'Statistic': round(result.statistic, 3),  # Round to 3 decimal places\n",
    "                    'p-value': result.pvalue,        # Round to 3 decimal places\n",
    "                    'Bonferroni_p-value': p_adjusted_anova,  # New column for Bonferroni-adjusted p-value\n",
    "                    'Significant': significant_anova\n",
    "                })\n",
    "                \n",
    "            # Kruskal-Wallis\n",
    "            else:\n",
    "                result = kruskal(*group_data)\n",
    "                p_adjusted_kw = round(result.pvalue * num_comparisons, 3)  # Round to 3 decimal places\n",
    "                significant_kw = 'Yes' if p_adjusted_kw < 0.05 else 'No'\n",
    "                \n",
    "                anova_results.append({\n",
    "                    'Dataset': name,\n",
    "                    'Metric': metric,\n",
    "                    'Test': 'Kruskal-Wallis',\n",
    "                    'Statistic': round(result.statistic, 3),  # Round to 3 decimal places\n",
    "                    'p-value': result.pvalue,     \n",
    "                    'Bonferroni_p-value': p_adjusted_kw,  # New column for Bonferroni-adjusted p-value\n",
    "                    'Significant': significant_kw\n",
    "                })\n",
    "                \n",
    "    return pd.DataFrame(anova_results)\n",
    "\n"
   ]
  },
  {
   "cell_type": "code",
   "execution_count": 326,
   "metadata": {},
   "outputs": [
    {
     "name": "stdout",
     "output_type": "stream",
     "text": [
      "  Dataset                              Metric            Test  Statistic  \\\n",
      "0    ADNI     Weighted Clustering Coefficient           ANOVA    567.442   \n",
      "1    ADNI  Weighted Avg. Shortest Path Length           ANOVA    598.081   \n",
      "2    ADNI                Weighted Small World  Kruskal-Wallis   1528.090   \n",
      "3      A4     Weighted Clustering Coefficient           ANOVA    570.450   \n",
      "4      A4  Weighted Avg. Shortest Path Length           ANOVA   2085.018   \n",
      "5      A4                Weighted Small World  Kruskal-Wallis   1954.486   \n",
      "\n",
      "         p-value  Bonferroni_p-value Significant  \n",
      "0  1.040341e-209                 0.0         Yes  \n",
      "1  2.732263e-219                 0.0         Yes  \n",
      "2   0.000000e+00                 0.0         Yes  \n",
      "3  1.175259e-210                 0.0         Yes  \n",
      "4   0.000000e+00                 0.0         Yes  \n",
      "5   0.000000e+00                 0.0         Yes  \n"
     ]
    }
   ],
   "source": [
    "#testing functions \n",
    "metrics = ['Weighted Clustering Coefficient', 'Weighted Avg. Shortest Path Length', 'Weighted Small World']\n",
    "anova_results = perform_anova_kruskal_bonferroni(adni_gm, a4_gm, metrics, 'Centiloid Quantile')\n",
    "print(anova_results)\n",
    "\n"
   ]
  },
  {
   "attachments": {},
   "cell_type": "markdown",
   "metadata": {},
   "source": [
    "Do One Way ANOVA test between the quartile groups for weighted clustering coefficent and shortest path leng, do KS for small world \n",
    "- only do bonferroni because it's the most strict so don't need tukey or dunn"
   ]
  },
  {
   "cell_type": "code",
   "execution_count": 327,
   "metadata": {},
   "outputs": [],
   "source": [
    "def split_results_by_dataset(df):\n",
    "    adni_results = df[df['Dataset'] == 'ADNI']\n",
    "    a4_results = df[df['Dataset'] == 'A4']\n",
    "    return adni_results, a4_results\n",
    "\n",
    "adni_anova_results, a4_anova_results = split_results_by_dataset(anova_results)\n",
    "\n"
   ]
  },
  {
   "cell_type": "code",
   "execution_count": 328,
   "metadata": {},
   "outputs": [
    {
     "name": "stdout",
     "output_type": "stream",
     "text": [
      "  Dataset                              Metric            Test  Statistic  \\\n",
      "0    ADNI     Weighted Clustering Coefficient           ANOVA    567.442   \n",
      "1    ADNI  Weighted Avg. Shortest Path Length           ANOVA    598.081   \n",
      "2    ADNI                Weighted Small World  Kruskal-Wallis   1528.090   \n",
      "\n",
      "         p-value  Bonferroni_p-value Significant  \n",
      "0  1.040341e-209                 0.0         Yes  \n",
      "1  2.732263e-219                 0.0         Yes  \n",
      "2   0.000000e+00                 0.0         Yes  \n"
     ]
    }
   ],
   "source": [
    "print(adni_anova_results)"
   ]
  },
  {
   "cell_type": "code",
   "execution_count": 329,
   "metadata": {},
   "outputs": [
    {
     "name": "stdout",
     "output_type": "stream",
     "text": [
      "  Dataset                              Metric            Test  Statistic  \\\n",
      "3      A4     Weighted Clustering Coefficient           ANOVA    570.450   \n",
      "4      A4  Weighted Avg. Shortest Path Length           ANOVA   2085.018   \n",
      "5      A4                Weighted Small World  Kruskal-Wallis   1954.486   \n",
      "\n",
      "         p-value  Bonferroni_p-value Significant  \n",
      "3  1.175259e-210                 0.0         Yes  \n",
      "4   0.000000e+00                 0.0         Yes  \n",
      "5   0.000000e+00                 0.0         Yes  \n"
     ]
    }
   ],
   "source": [
    "print(a4_anova_results)"
   ]
  },
  {
   "attachments": {},
   "cell_type": "markdown",
   "metadata": {},
   "source": [
    "Interpretation of A4 Tukey: "
   ]
  }
 ],
 "metadata": {
  "kernelspec": {
   "display_name": "mci_mri_graph",
   "language": "python",
   "name": "python3"
  },
  "language_info": {
   "codemirror_mode": {
    "name": "ipython",
    "version": 3
   },
   "file_extension": ".py",
   "mimetype": "text/x-python",
   "name": "python",
   "nbconvert_exporter": "python",
   "pygments_lexer": "ipython3",
   "version": "3.10.13"
  },
  "orig_nbformat": 4
 },
 "nbformat": 4,
 "nbformat_minor": 2
}
